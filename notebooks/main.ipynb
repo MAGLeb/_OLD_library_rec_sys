{
 "cells": [
  {
   "cell_type": "code",
   "execution_count": 121,
   "metadata": {
    "collapsed": true
   },
   "outputs": [],
   "source": [
    "import os\n",
    "from operator import itemgetter\n",
    "import json\n",
    "from tqdm import tqdm\n",
    "\n",
    "import pandas as pd\n",
    "import numpy as np"
   ]
  },
  {
   "cell_type": "code",
   "execution_count": 3,
   "outputs": [],
   "source": [
    "PROJECT_FOLDER = os.path.abspath('..')\n",
    "DATA_FOLDER = os.path.join(PROJECT_FOLDER, 'local', 'datasets_biblioteki', 'datasets_2')"
   ],
   "metadata": {
    "collapsed": false,
    "pycharm": {
     "name": "#%%\n"
    }
   }
  },
  {
   "cell_type": "code",
   "execution_count": 185,
   "outputs": [
    {
     "data": {
      "text/plain": "           id             bbk  \\\n0     1272541   84(2Рос=Рус)1   \n1     1960078        84(4Вел)   \n2       26991        84(7Сое)   \n3     1781433        84(7Сое)   \n4     1687060        84(7США)   \n...       ...             ...   \n4589   814384     26.89(2-2М)   \n4590   840090   26.89(2-2М)я2   \n4591   727406              84   \n4592   305891    85.118(2-2М)   \n4593   583359  63.3(2-2Мос)я2   \n\n                                                  title  year  \\\n0                                                  Бесы  2013   \n1                                 На службе зла : роман  2017   \n2     Жареные зеленые помидоры в кафе \"Полустанок\" :...  2004   \n3                                  Эмпайр Фоллз : роман  2020   \n4                                  Эмпайр Фоллз : роман  2019   \n...                                                 ...   ...   \n4589  Административные округа Москвы:Культура.Истори...  1998   \n4590    Путеводитель Москва 850:События в юбилейные дни  1997   \n4591                    Трое в лодке (не считая собаки)  1958   \n4592  Проспекты советской Москвы. История реконструк...  2014   \n4593                                     История Москвы  1997   \n\n                                           contribution  \\\n0                                     Федор Достоевский   \n1     Роберт Гэлбрейт ; перевод с английского Е. Пет...   \n2              Фэнни Флэгг ; [пер. с англ. Д. Крупской]   \n3     Ричард Руссо ; перевод с английского Елены Пол...   \n4                           Р. Руссо ; пер. Е. Полецкая   \n...                                                 ...   \n4589                                      Глушкова В.Г.   \n4590                                                NaN   \n4591                         Пер. М.Донского,Э.Линецкой   \n4592                                    Алексей Рогачев   \n4593                                                NaN   \n\n                                             annotation      keyword  \\\n0     \"Бесы\"- одно из наиболее трагических, загадочн...        роман   \n1     Робин Эллакотт получает с курьером таинственны...          NaN   \n2     Роман американской писательницы Ф.Флэгг расска...          NaN   \n3     Майлз Роби двадцать лет готовит бургеры в \"Имп...          NaN   \n4                                                   NaN          NaN   \n...                                                 ...          ...   \n4589  В книге дана обобщенная краеведческая и социал...  краеведение   \n4590  Путеводитель по Москве, рассказывающий о ее ис...       Москва   \n4591                                                NaN          NaN   \n4592  Лучами расходятся от центра города радиальные ...          NaN   \n4593                                                NaN      История   \n\n                                    titleAdditionalInfo  volume parallelTitle  \\\n0                                                   NaN     604           NaN   \n1                                                 роман     540           NaN   \n2                                                 роман     428           NaN   \n3                                                 роман     606           NaN   \n4                                                 роман     608           NaN   \n...                                                 ...     ...           ...   \n4589                                                NaN     248           NaN   \n4590                                                NaN     192           NaN   \n4591                                                NaN     258           NaN   \n4592  Проспект мира, улица Горького, Ленинградский п...     445           NaN   \n4593                                                NaN     350           NaN   \n\n     publicationType language_name material_name  ageRestriction_name  \\\n0               mono       Русский         Текст                  NaN   \n1               mono       Русский         Текст                 16.0   \n2               mono       Русский         Текст                  NaN   \n3               mono       Русский         Текст                 16.0   \n4               mono       Русский         Текст                  NaN   \n...              ...           ...           ...                  ...   \n4589            mono       Русский         Текст                  NaN   \n4590            mono       Русский         Текст                  NaN   \n4591            mono       Русский         Текст                  NaN   \n4592            mono       Русский         Текст                  NaN   \n4593            mono       Русский         Текст                  NaN   \n\n                                            rubric_name  author_id  \\\n0                             Художественная литература    45567.0   \n1                             Художественная литература    41515.0   \n2                             Художественная литература   116027.0   \n3                             Художественная литература   141830.0   \n4                             Художественная литература   141830.0   \n...                                                 ...        ...   \n4589  Краеведение. Страноведение. Путешествия. Путев...    36839.0   \n4590  Краеведение. Страноведение. Путешествия. Путев...        NaN   \n4591                          Художественная литература    43805.0   \n4592                    Архитектура. Градостроительство    96753.0   \n4593                                     История России    24754.0   \n\n                                       serial_name  \\\n0                                 Русская классика   \n1     Иностранная литература. Современная классика   \n2                                              NaN   \n3                                              NaN   \n4                                              NaN   \n...                                            ...   \n4589                                           NaN   \n4590                                           NaN   \n4591                                           NaN   \n4592                                           NaN   \n4593                             Словари школьника   \n\n                        collapse_field  \\\n0     8b7355ec9ebf6ae5fdb84f917be6cc54   \n1     0dc0c51c9949ae797a04f1622dffb0f9   \n2     63e4b98dbc52b93a8d52540c1bed7c15   \n3     3333ebc7e54b7aab6b8e65f30cb2b4f4   \n4     0f4b28cf531daa0af4662a85110fb249   \n...                                ...   \n4589  95d5498096f97f074ee2dd626c95b401   \n4590  b1a9dfc31d2deae62c43282df87d9d64   \n4591  cfaf33476aedc4c96d4d1a872c039ab2   \n4592  3a7b3c7762c2a8b9da53d33f4127d42d   \n4593  49daf2bba87a680d04d40360f9287e6a   \n\n                                             title_orig  available  \n0                                                  Бесы          2  \n1                                         На службе зла          1  \n2          Жареные зеленые помидоры в кафе \"Полустанок\"          7  \n3                                          Эмпайр Фоллз         11  \n4                                          Эмпайр Фоллз          1  \n...                                                 ...        ...  \n4589  Административные округа Москвы:Культура.Истори...          7  \n4590    Путеводитель Москва 850:События в юбилейные дни         14  \n4591                    Трое в лодке (не считая собаки)          3  \n4592  Проспекты советской Москвы. История реконструк...        108  \n4593                                     История Москвы        212  \n\n[4594 rows x 20 columns]",
      "text/html": "<div>\n<style scoped>\n    .dataframe tbody tr th:only-of-type {\n        vertical-align: middle;\n    }\n\n    .dataframe tbody tr th {\n        vertical-align: top;\n    }\n\n    .dataframe thead th {\n        text-align: right;\n    }\n</style>\n<table border=\"1\" class=\"dataframe\">\n  <thead>\n    <tr style=\"text-align: right;\">\n      <th></th>\n      <th>id</th>\n      <th>bbk</th>\n      <th>title</th>\n      <th>year</th>\n      <th>contribution</th>\n      <th>annotation</th>\n      <th>keyword</th>\n      <th>titleAdditionalInfo</th>\n      <th>volume</th>\n      <th>parallelTitle</th>\n      <th>publicationType</th>\n      <th>language_name</th>\n      <th>material_name</th>\n      <th>ageRestriction_name</th>\n      <th>rubric_name</th>\n      <th>author_id</th>\n      <th>serial_name</th>\n      <th>collapse_field</th>\n      <th>title_orig</th>\n      <th>available</th>\n    </tr>\n  </thead>\n  <tbody>\n    <tr>\n      <th>0</th>\n      <td>1272541</td>\n      <td>84(2Рос=Рус)1</td>\n      <td>Бесы</td>\n      <td>2013</td>\n      <td>Федор Достоевский</td>\n      <td>\"Бесы\"- одно из наиболее трагических, загадочн...</td>\n      <td>роман</td>\n      <td>NaN</td>\n      <td>604</td>\n      <td>NaN</td>\n      <td>mono</td>\n      <td>Русский</td>\n      <td>Текст</td>\n      <td>NaN</td>\n      <td>Художественная литература</td>\n      <td>45567.0</td>\n      <td>Русская классика</td>\n      <td>8b7355ec9ebf6ae5fdb84f917be6cc54</td>\n      <td>Бесы</td>\n      <td>2</td>\n    </tr>\n    <tr>\n      <th>1</th>\n      <td>1960078</td>\n      <td>84(4Вел)</td>\n      <td>На службе зла : роман</td>\n      <td>2017</td>\n      <td>Роберт Гэлбрейт ; перевод с английского Е. Пет...</td>\n      <td>Робин Эллакотт получает с курьером таинственны...</td>\n      <td>NaN</td>\n      <td>роман</td>\n      <td>540</td>\n      <td>NaN</td>\n      <td>mono</td>\n      <td>Русский</td>\n      <td>Текст</td>\n      <td>16.0</td>\n      <td>Художественная литература</td>\n      <td>41515.0</td>\n      <td>Иностранная литература. Современная классика</td>\n      <td>0dc0c51c9949ae797a04f1622dffb0f9</td>\n      <td>На службе зла</td>\n      <td>1</td>\n    </tr>\n    <tr>\n      <th>2</th>\n      <td>26991</td>\n      <td>84(7Сое)</td>\n      <td>Жареные зеленые помидоры в кафе \"Полустанок\" :...</td>\n      <td>2004</td>\n      <td>Фэнни Флэгг ; [пер. с англ. Д. Крупской]</td>\n      <td>Роман американской писательницы Ф.Флэгг расска...</td>\n      <td>NaN</td>\n      <td>роман</td>\n      <td>428</td>\n      <td>NaN</td>\n      <td>mono</td>\n      <td>Русский</td>\n      <td>Текст</td>\n      <td>NaN</td>\n      <td>Художественная литература</td>\n      <td>116027.0</td>\n      <td>NaN</td>\n      <td>63e4b98dbc52b93a8d52540c1bed7c15</td>\n      <td>Жареные зеленые помидоры в кафе \"Полустанок\"</td>\n      <td>7</td>\n    </tr>\n    <tr>\n      <th>3</th>\n      <td>1781433</td>\n      <td>84(7Сое)</td>\n      <td>Эмпайр Фоллз : роман</td>\n      <td>2020</td>\n      <td>Ричард Руссо ; перевод с английского Елены Пол...</td>\n      <td>Майлз Роби двадцать лет готовит бургеры в \"Имп...</td>\n      <td>NaN</td>\n      <td>роман</td>\n      <td>606</td>\n      <td>NaN</td>\n      <td>mono</td>\n      <td>Русский</td>\n      <td>Текст</td>\n      <td>16.0</td>\n      <td>Художественная литература</td>\n      <td>141830.0</td>\n      <td>NaN</td>\n      <td>3333ebc7e54b7aab6b8e65f30cb2b4f4</td>\n      <td>Эмпайр Фоллз</td>\n      <td>11</td>\n    </tr>\n    <tr>\n      <th>4</th>\n      <td>1687060</td>\n      <td>84(7США)</td>\n      <td>Эмпайр Фоллз : роман</td>\n      <td>2019</td>\n      <td>Р. Руссо ; пер. Е. Полецкая</td>\n      <td>NaN</td>\n      <td>NaN</td>\n      <td>роман</td>\n      <td>608</td>\n      <td>NaN</td>\n      <td>mono</td>\n      <td>Русский</td>\n      <td>Текст</td>\n      <td>NaN</td>\n      <td>Художественная литература</td>\n      <td>141830.0</td>\n      <td>NaN</td>\n      <td>0f4b28cf531daa0af4662a85110fb249</td>\n      <td>Эмпайр Фоллз</td>\n      <td>1</td>\n    </tr>\n    <tr>\n      <th>...</th>\n      <td>...</td>\n      <td>...</td>\n      <td>...</td>\n      <td>...</td>\n      <td>...</td>\n      <td>...</td>\n      <td>...</td>\n      <td>...</td>\n      <td>...</td>\n      <td>...</td>\n      <td>...</td>\n      <td>...</td>\n      <td>...</td>\n      <td>...</td>\n      <td>...</td>\n      <td>...</td>\n      <td>...</td>\n      <td>...</td>\n      <td>...</td>\n      <td>...</td>\n    </tr>\n    <tr>\n      <th>4589</th>\n      <td>814384</td>\n      <td>26.89(2-2М)</td>\n      <td>Административные округа Москвы:Культура.Истори...</td>\n      <td>1998</td>\n      <td>Глушкова В.Г.</td>\n      <td>В книге дана обобщенная краеведческая и социал...</td>\n      <td>краеведение</td>\n      <td>NaN</td>\n      <td>248</td>\n      <td>NaN</td>\n      <td>mono</td>\n      <td>Русский</td>\n      <td>Текст</td>\n      <td>NaN</td>\n      <td>Краеведение. Страноведение. Путешествия. Путев...</td>\n      <td>36839.0</td>\n      <td>NaN</td>\n      <td>95d5498096f97f074ee2dd626c95b401</td>\n      <td>Административные округа Москвы:Культура.Истори...</td>\n      <td>7</td>\n    </tr>\n    <tr>\n      <th>4590</th>\n      <td>840090</td>\n      <td>26.89(2-2М)я2</td>\n      <td>Путеводитель Москва 850:События в юбилейные дни</td>\n      <td>1997</td>\n      <td>NaN</td>\n      <td>Путеводитель по Москве, рассказывающий о ее ис...</td>\n      <td>Москва</td>\n      <td>NaN</td>\n      <td>192</td>\n      <td>NaN</td>\n      <td>mono</td>\n      <td>Русский</td>\n      <td>Текст</td>\n      <td>NaN</td>\n      <td>Краеведение. Страноведение. Путешествия. Путев...</td>\n      <td>NaN</td>\n      <td>NaN</td>\n      <td>b1a9dfc31d2deae62c43282df87d9d64</td>\n      <td>Путеводитель Москва 850:События в юбилейные дни</td>\n      <td>14</td>\n    </tr>\n    <tr>\n      <th>4591</th>\n      <td>727406</td>\n      <td>84</td>\n      <td>Трое в лодке (не считая собаки)</td>\n      <td>1958</td>\n      <td>Пер. М.Донского,Э.Линецкой</td>\n      <td>NaN</td>\n      <td>NaN</td>\n      <td>NaN</td>\n      <td>258</td>\n      <td>NaN</td>\n      <td>mono</td>\n      <td>Русский</td>\n      <td>Текст</td>\n      <td>NaN</td>\n      <td>Художественная литература</td>\n      <td>43805.0</td>\n      <td>NaN</td>\n      <td>cfaf33476aedc4c96d4d1a872c039ab2</td>\n      <td>Трое в лодке (не считая собаки)</td>\n      <td>3</td>\n    </tr>\n    <tr>\n      <th>4592</th>\n      <td>305891</td>\n      <td>85.118(2-2М)</td>\n      <td>Проспекты советской Москвы. История реконструк...</td>\n      <td>2014</td>\n      <td>Алексей Рогачев</td>\n      <td>Лучами расходятся от центра города радиальные ...</td>\n      <td>NaN</td>\n      <td>Проспект мира, улица Горького, Ленинградский п...</td>\n      <td>445</td>\n      <td>NaN</td>\n      <td>mono</td>\n      <td>Русский</td>\n      <td>Текст</td>\n      <td>NaN</td>\n      <td>Архитектура. Градостроительство</td>\n      <td>96753.0</td>\n      <td>NaN</td>\n      <td>3a7b3c7762c2a8b9da53d33f4127d42d</td>\n      <td>Проспекты советской Москвы. История реконструк...</td>\n      <td>108</td>\n    </tr>\n    <tr>\n      <th>4593</th>\n      <td>583359</td>\n      <td>63.3(2-2Мос)я2</td>\n      <td>История Москвы</td>\n      <td>1997</td>\n      <td>NaN</td>\n      <td>NaN</td>\n      <td>История</td>\n      <td>NaN</td>\n      <td>350</td>\n      <td>NaN</td>\n      <td>mono</td>\n      <td>Русский</td>\n      <td>Текст</td>\n      <td>NaN</td>\n      <td>История России</td>\n      <td>24754.0</td>\n      <td>Словари школьника</td>\n      <td>49daf2bba87a680d04d40360f9287e6a</td>\n      <td>История Москвы</td>\n      <td>212</td>\n    </tr>\n  </tbody>\n</table>\n<p>4594 rows × 20 columns</p>\n</div>"
     },
     "execution_count": 185,
     "metadata": {},
     "output_type": "execute_result"
    }
   ],
   "source": [
    "pd.read_csv(f'{PROJECT_FOLDER}/data/books.csv')"
   ],
   "metadata": {
    "collapsed": false,
    "pycharm": {
     "name": "#%%\n"
    }
   }
  },
  {
   "cell_type": "code",
   "execution_count": 186,
   "outputs": [
    {
     "data": {
      "text/plain": "       recId          aut                                         title  \\\n19731  26991  Флэгг Фэнни  Жареные зеленые помидоры в кафе \"Полустанок\"   \n\n        place   publ   yea  lan                    rubrics person serial  \\\n19731  Москва  Текст  2004  rus  Художественная литература    NaN    NaN   \n\n              material    biblevel ager  \n19731  Текст. материал  Монография  NaN  ",
      "text/html": "<div>\n<style scoped>\n    .dataframe tbody tr th:only-of-type {\n        vertical-align: middle;\n    }\n\n    .dataframe tbody tr th {\n        vertical-align: top;\n    }\n\n    .dataframe thead th {\n        text-align: right;\n    }\n</style>\n<table border=\"1\" class=\"dataframe\">\n  <thead>\n    <tr style=\"text-align: right;\">\n      <th></th>\n      <th>recId</th>\n      <th>aut</th>\n      <th>title</th>\n      <th>place</th>\n      <th>publ</th>\n      <th>yea</th>\n      <th>lan</th>\n      <th>rubrics</th>\n      <th>person</th>\n      <th>serial</th>\n      <th>material</th>\n      <th>biblevel</th>\n      <th>ager</th>\n    </tr>\n  </thead>\n  <tbody>\n    <tr>\n      <th>19731</th>\n      <td>26991</td>\n      <td>Флэгг Фэнни</td>\n      <td>Жареные зеленые помидоры в кафе \"Полустанок\"</td>\n      <td>Москва</td>\n      <td>Текст</td>\n      <td>2004</td>\n      <td>rus</td>\n      <td>Художественная литература</td>\n      <td>NaN</td>\n      <td>NaN</td>\n      <td>Текст. материал</td>\n      <td>Монография</td>\n      <td>NaN</td>\n    </tr>\n  </tbody>\n</table>\n</div>"
     },
     "execution_count": 186,
     "metadata": {},
     "output_type": "execute_result"
    }
   ],
   "source": [
    "cat_1[cat_1['recId'] == 26991]"
   ],
   "metadata": {
    "collapsed": false,
    "pycharm": {
     "name": "#%%\n"
    }
   }
  },
  {
   "cell_type": "code",
   "execution_count": 146,
   "outputs": [],
   "source": [
    "cat_1 = pd.read_csv(f'{DATA_FOLDER}/cat_1.csv', sep=';', encoding='cp1251')\n",
    "cat_2 = pd.read_csv(f'{DATA_FOLDER}/cat_2.csv', sep=';', encoding='cp1251')"
   ],
   "metadata": {
    "collapsed": false,
    "pycharm": {
     "name": "#%%\n"
    }
   }
  },
  {
   "cell_type": "code",
   "execution_count": 182,
   "outputs": [
    {
     "data": {
      "text/plain": "Собрание сочинений                                                                    14930\nСочинения                                                                              4022\nИзбранные произведения                                                                 2944\nПолное собрание сочинений                                                              2850\nИзбранное                                                                              2289\n                                                                                      ...  \nЦепная реакция идей                                                                       1\nЭллинизм. Рим                                                                             1\nДорога на родину                                                                          1\nКукловоды , Двойная звезда , Дверь в лето , Звездный десант , Чужак в стране чужой        1\nОтягощенные злом, или Град обреченный, Сорок лет спустя                                   1\nName: title, Length: 355710, dtype: int64"
     },
     "execution_count": 182,
     "metadata": {},
     "output_type": "execute_result"
    }
   ],
   "source": [
    "cat_2['title'].value_counts()"
   ],
   "metadata": {
    "collapsed": false,
    "pycharm": {
     "name": "#%%\n"
    }
   }
  },
  {
   "cell_type": "code",
   "execution_count": 183,
   "outputs": [
    {
     "data": {
      "text/plain": "          recId                                aut               title  \\\n204     1000316                                NaN  Собрание сочинений   \n377     1000595  Салтыков-Щедрин Михаил Евграфович  Собрание сочинений   \n382     1000602                    Сенкевич Генрик  Собрание сочинений   \n393     1000624                    Роббинс Гарольд  Собрание сочинений   \n403     1000635       Сурков Алексей Александрович  Собрание сочинений   \n...         ...                                ...                 ...   \n676054  1999652                       Кристи Агата  Собрание сочинений   \n676056  1999654                Андерсон Пол Уильям  Собрание сочинений   \n676260  1999874  Салтыков-Щедрин Михаил Евграфович  Собрание сочинений   \n676270  1999888  Салтыков-Щедрин Михаил Евграфович  Собрание сочинений   \n676287  1999905          Куприн Александр Иванович  Собрание сочинений   \n\n          place                       publ   yea  lan  \\\n204      Москва                      Терра  1994  rus   \n377      Москва                     Правда  1988  rus   \n382      Москва  Художественная литература  1985  rus   \n393      Москва                  АСТ-Пресс  1994  rus   \n403      Москва  Художественная литература  1979  rus   \n...         ...                        ...   ...  ...   \n676054   Москва  Художественная литература  1992  rus   \n676056  Ангарск                      Амбер  1995  rus   \n676260   Москва                     Правда  1951  rus   \n676270   Москва                     Правда  1951  rus   \n676287   Москва  Художественная литература  1994  rus   \n\n                                                  rubrics person  \\\n204                             Художественная литература    NaN   \n377                             Художественная литература    NaN   \n382                             Художественная литература    NaN   \n393                             Художественная литература    NaN   \n403                             Художественная литература    NaN   \n...                                                   ...    ...   \n676054                          Художественная литература    NaN   \n676056                          Художественная литература    NaN   \n676260                          Художественная литература    NaN   \n676270                          Художественная литература    NaN   \n676287  Художественная литература : Литература для дет...    NaN   \n\n                     serial         material    biblevel ager  \n204                     NaN  Текст. материал  Монография  NaN  \n377     Библиотека \"Огонек\"  Текст. материал  Монография  NaN  \n382                     NaN  Текст. материал  Монография  NaN  \n393                     NaN  Текст. материал  Монография  NaN  \n403                     NaN  Текст. материал    Подборка  NaN  \n...                     ...              ...         ...  ...  \n676054                  NaN  Текст. материал    Подборка  NaN  \n676056                  NaN  Текст. материал    Подборка  NaN  \n676260                  NaN  Текст. материал  Монография  NaN  \n676270                  NaN  Текст. материал  Монография  NaN  \n676287                  NaN  Текст. материал  Монография  NaN  \n\n[14930 rows x 13 columns]",
      "text/html": "<div>\n<style scoped>\n    .dataframe tbody tr th:only-of-type {\n        vertical-align: middle;\n    }\n\n    .dataframe tbody tr th {\n        vertical-align: top;\n    }\n\n    .dataframe thead th {\n        text-align: right;\n    }\n</style>\n<table border=\"1\" class=\"dataframe\">\n  <thead>\n    <tr style=\"text-align: right;\">\n      <th></th>\n      <th>recId</th>\n      <th>aut</th>\n      <th>title</th>\n      <th>place</th>\n      <th>publ</th>\n      <th>yea</th>\n      <th>lan</th>\n      <th>rubrics</th>\n      <th>person</th>\n      <th>serial</th>\n      <th>material</th>\n      <th>biblevel</th>\n      <th>ager</th>\n    </tr>\n  </thead>\n  <tbody>\n    <tr>\n      <th>204</th>\n      <td>1000316</td>\n      <td>NaN</td>\n      <td>Собрание сочинений</td>\n      <td>Москва</td>\n      <td>Терра</td>\n      <td>1994</td>\n      <td>rus</td>\n      <td>Художественная литература</td>\n      <td>NaN</td>\n      <td>NaN</td>\n      <td>Текст. материал</td>\n      <td>Монография</td>\n      <td>NaN</td>\n    </tr>\n    <tr>\n      <th>377</th>\n      <td>1000595</td>\n      <td>Салтыков-Щедрин Михаил Евграфович</td>\n      <td>Собрание сочинений</td>\n      <td>Москва</td>\n      <td>Правда</td>\n      <td>1988</td>\n      <td>rus</td>\n      <td>Художественная литература</td>\n      <td>NaN</td>\n      <td>Библиотека \"Огонек\"</td>\n      <td>Текст. материал</td>\n      <td>Монография</td>\n      <td>NaN</td>\n    </tr>\n    <tr>\n      <th>382</th>\n      <td>1000602</td>\n      <td>Сенкевич Генрик</td>\n      <td>Собрание сочинений</td>\n      <td>Москва</td>\n      <td>Художественная литература</td>\n      <td>1985</td>\n      <td>rus</td>\n      <td>Художественная литература</td>\n      <td>NaN</td>\n      <td>NaN</td>\n      <td>Текст. материал</td>\n      <td>Монография</td>\n      <td>NaN</td>\n    </tr>\n    <tr>\n      <th>393</th>\n      <td>1000624</td>\n      <td>Роббинс Гарольд</td>\n      <td>Собрание сочинений</td>\n      <td>Москва</td>\n      <td>АСТ-Пресс</td>\n      <td>1994</td>\n      <td>rus</td>\n      <td>Художественная литература</td>\n      <td>NaN</td>\n      <td>NaN</td>\n      <td>Текст. материал</td>\n      <td>Монография</td>\n      <td>NaN</td>\n    </tr>\n    <tr>\n      <th>403</th>\n      <td>1000635</td>\n      <td>Сурков Алексей Александрович</td>\n      <td>Собрание сочинений</td>\n      <td>Москва</td>\n      <td>Художественная литература</td>\n      <td>1979</td>\n      <td>rus</td>\n      <td>Художественная литература</td>\n      <td>NaN</td>\n      <td>NaN</td>\n      <td>Текст. материал</td>\n      <td>Подборка</td>\n      <td>NaN</td>\n    </tr>\n    <tr>\n      <th>...</th>\n      <td>...</td>\n      <td>...</td>\n      <td>...</td>\n      <td>...</td>\n      <td>...</td>\n      <td>...</td>\n      <td>...</td>\n      <td>...</td>\n      <td>...</td>\n      <td>...</td>\n      <td>...</td>\n      <td>...</td>\n      <td>...</td>\n    </tr>\n    <tr>\n      <th>676054</th>\n      <td>1999652</td>\n      <td>Кристи Агата</td>\n      <td>Собрание сочинений</td>\n      <td>Москва</td>\n      <td>Художественная литература</td>\n      <td>1992</td>\n      <td>rus</td>\n      <td>Художественная литература</td>\n      <td>NaN</td>\n      <td>NaN</td>\n      <td>Текст. материал</td>\n      <td>Подборка</td>\n      <td>NaN</td>\n    </tr>\n    <tr>\n      <th>676056</th>\n      <td>1999654</td>\n      <td>Андерсон Пол Уильям</td>\n      <td>Собрание сочинений</td>\n      <td>Ангарск</td>\n      <td>Амбер</td>\n      <td>1995</td>\n      <td>rus</td>\n      <td>Художественная литература</td>\n      <td>NaN</td>\n      <td>NaN</td>\n      <td>Текст. материал</td>\n      <td>Подборка</td>\n      <td>NaN</td>\n    </tr>\n    <tr>\n      <th>676260</th>\n      <td>1999874</td>\n      <td>Салтыков-Щедрин Михаил Евграфович</td>\n      <td>Собрание сочинений</td>\n      <td>Москва</td>\n      <td>Правда</td>\n      <td>1951</td>\n      <td>rus</td>\n      <td>Художественная литература</td>\n      <td>NaN</td>\n      <td>NaN</td>\n      <td>Текст. материал</td>\n      <td>Монография</td>\n      <td>NaN</td>\n    </tr>\n    <tr>\n      <th>676270</th>\n      <td>1999888</td>\n      <td>Салтыков-Щедрин Михаил Евграфович</td>\n      <td>Собрание сочинений</td>\n      <td>Москва</td>\n      <td>Правда</td>\n      <td>1951</td>\n      <td>rus</td>\n      <td>Художественная литература</td>\n      <td>NaN</td>\n      <td>NaN</td>\n      <td>Текст. материал</td>\n      <td>Монография</td>\n      <td>NaN</td>\n    </tr>\n    <tr>\n      <th>676287</th>\n      <td>1999905</td>\n      <td>Куприн Александр Иванович</td>\n      <td>Собрание сочинений</td>\n      <td>Москва</td>\n      <td>Художественная литература</td>\n      <td>1994</td>\n      <td>rus</td>\n      <td>Художественная литература : Литература для дет...</td>\n      <td>NaN</td>\n      <td>NaN</td>\n      <td>Текст. материал</td>\n      <td>Монография</td>\n      <td>NaN</td>\n    </tr>\n  </tbody>\n</table>\n<p>14930 rows × 13 columns</p>\n</div>"
     },
     "execution_count": 183,
     "metadata": {},
     "output_type": "execute_result"
    }
   ],
   "source": [
    "cat_2[cat_2['title'] == 'Собрание сочинений']"
   ],
   "metadata": {
    "collapsed": false,
    "pycharm": {
     "name": "#%%\n"
    }
   }
  },
  {
   "cell_type": "code",
   "execution_count": 163,
   "outputs": [
    {
     "data": {
      "text/plain": "         recId                            aut  \\\n0            1    Устинова Татьяна Витальевна   \n1            2                            NaN   \n2            3                            NaN   \n3            4                            NaN   \n4            5                            NaN   \n...        ...                            ...   \n660806  999991  Скляревская Галина Николаевна   \n660807  999992      Пришвин Михаил Михайлович   \n660808  999994     Дулькина Татьяна Иосифовна   \n660809  999995     Гаршин Всеволод Михайлович   \n660810  999999                  Холлис Джеймс   \n\n                                                    title  \\\n0                                           Призрак Канта   \n1                                           Наука и жизнь   \n2                                           Наука и жизнь   \n3                                           Наука и жизнь   \n4                                           Наука и жизнь   \n...                                                   ...   \n660806  Давайте говорить правильно! Новые и наиболее р...   \n660807                                           Рассказы   \n660808                     Керамика гжели XVIII-XIX веков   \n660809                                   Рассказы, Очерки   \n660810             Мифологемы. Воплощения невидимого мира   \n\n                           place  \\\n0                         Москва   \n1                         Москва   \n2                            NaN   \n3                            NaN   \n4                            NaN   \n...                          ...   \n660806  Москва : Санкт-Петербург   \n660807                      Киев   \n660808                 Ленинград   \n660809                    Москва   \n660810                    Москва   \n\n                                                     publ    yea  lan  \\\n0                                                   Эксмо   2018  rus   \n1                        Редакция журнала «Наука и жизнь»  1938-  rus   \n2                                                     NaN   2018  rus   \n3                                                     NaN   2018  rus   \n4                                                     NaN   2018  rus   \n...                                                   ...    ...  ...   \n660806  Академия , Издательство Санкт-Петербургского г...   2005  rus   \n660807                                            Веселка   1978  rus   \n660808                                           Художник   1988  rus   \n660809                                        Звонница-МГ   2000  rus   \n660810                                              Класс   2010  rus   \n\n                                                rubrics person  \\\n0       Художественная литература : Российский детектив    NaN   \n1                                   Наука. Науковедение    NaN   \n2                                   Наука. Науковедение    NaN   \n3                                   Наука. Науковедение    NaN   \n4                                   Наука. Науковедение    NaN   \n...                                                 ...    ...   \n660806                                     Русский язык    NaN   \n660807                        Художественная литература    NaN   \n660808                 Декоративно-прикладное искусство    NaN   \n660809                        Художественная литература    NaN   \n660810                              Психология личности    NaN   \n\n                                       serial         material    biblevel  \\\n0       Татьяна Устинова. Первая среди лучших  Текст. материал  Монография   \n1                                         NaN  Текст. материал   Периодика   \n2                                         NaN  Текст. материал  Монография   \n3                                         NaN  Текст. материал  Монография   \n4                                         NaN  Текст. материал  Монография   \n...                                       ...              ...         ...   \n660806                                    NaN  Текст. материал  Монография   \n660807                    Школьная библиотека  Текст. материал  Монография   \n660808                                    NaN  Текст. материал  Монография   \n660809             Библиотека мировой новеллы  Текст. материал  Монография   \n660810   Библиотека психологии и психотерапии  Текст. материал  Монография   \n\n       ager  \n0       16+  \n1       12+  \n2       12+  \n3       12+  \n4       12+  \n...     ...  \n660806  NaN  \n660807  NaN  \n660808  NaN  \n660809  NaN  \n660810  NaN  \n\n[660811 rows x 13 columns]",
      "text/html": "<div>\n<style scoped>\n    .dataframe tbody tr th:only-of-type {\n        vertical-align: middle;\n    }\n\n    .dataframe tbody tr th {\n        vertical-align: top;\n    }\n\n    .dataframe thead th {\n        text-align: right;\n    }\n</style>\n<table border=\"1\" class=\"dataframe\">\n  <thead>\n    <tr style=\"text-align: right;\">\n      <th></th>\n      <th>recId</th>\n      <th>aut</th>\n      <th>title</th>\n      <th>place</th>\n      <th>publ</th>\n      <th>yea</th>\n      <th>lan</th>\n      <th>rubrics</th>\n      <th>person</th>\n      <th>serial</th>\n      <th>material</th>\n      <th>biblevel</th>\n      <th>ager</th>\n    </tr>\n  </thead>\n  <tbody>\n    <tr>\n      <th>0</th>\n      <td>1</td>\n      <td>Устинова Татьяна Витальевна</td>\n      <td>Призрак Канта</td>\n      <td>Москва</td>\n      <td>Эксмо</td>\n      <td>2018</td>\n      <td>rus</td>\n      <td>Художественная литература : Российский детектив</td>\n      <td>NaN</td>\n      <td>Татьяна Устинова. Первая среди лучших</td>\n      <td>Текст. материал</td>\n      <td>Монография</td>\n      <td>16+</td>\n    </tr>\n    <tr>\n      <th>1</th>\n      <td>2</td>\n      <td>NaN</td>\n      <td>Наука и жизнь</td>\n      <td>Москва</td>\n      <td>Редакция журнала «Наука и жизнь»</td>\n      <td>1938-</td>\n      <td>rus</td>\n      <td>Наука. Науковедение</td>\n      <td>NaN</td>\n      <td>NaN</td>\n      <td>Текст. материал</td>\n      <td>Периодика</td>\n      <td>12+</td>\n    </tr>\n    <tr>\n      <th>2</th>\n      <td>3</td>\n      <td>NaN</td>\n      <td>Наука и жизнь</td>\n      <td>NaN</td>\n      <td>NaN</td>\n      <td>2018</td>\n      <td>rus</td>\n      <td>Наука. Науковедение</td>\n      <td>NaN</td>\n      <td>NaN</td>\n      <td>Текст. материал</td>\n      <td>Монография</td>\n      <td>12+</td>\n    </tr>\n    <tr>\n      <th>3</th>\n      <td>4</td>\n      <td>NaN</td>\n      <td>Наука и жизнь</td>\n      <td>NaN</td>\n      <td>NaN</td>\n      <td>2018</td>\n      <td>rus</td>\n      <td>Наука. Науковедение</td>\n      <td>NaN</td>\n      <td>NaN</td>\n      <td>Текст. материал</td>\n      <td>Монография</td>\n      <td>12+</td>\n    </tr>\n    <tr>\n      <th>4</th>\n      <td>5</td>\n      <td>NaN</td>\n      <td>Наука и жизнь</td>\n      <td>NaN</td>\n      <td>NaN</td>\n      <td>2018</td>\n      <td>rus</td>\n      <td>Наука. Науковедение</td>\n      <td>NaN</td>\n      <td>NaN</td>\n      <td>Текст. материал</td>\n      <td>Монография</td>\n      <td>12+</td>\n    </tr>\n    <tr>\n      <th>...</th>\n      <td>...</td>\n      <td>...</td>\n      <td>...</td>\n      <td>...</td>\n      <td>...</td>\n      <td>...</td>\n      <td>...</td>\n      <td>...</td>\n      <td>...</td>\n      <td>...</td>\n      <td>...</td>\n      <td>...</td>\n      <td>...</td>\n    </tr>\n    <tr>\n      <th>660806</th>\n      <td>999991</td>\n      <td>Скляревская Галина Николаевна</td>\n      <td>Давайте говорить правильно! Новые и наиболее р...</td>\n      <td>Москва : Санкт-Петербург</td>\n      <td>Академия , Издательство Санкт-Петербургского г...</td>\n      <td>2005</td>\n      <td>rus</td>\n      <td>Русский язык</td>\n      <td>NaN</td>\n      <td>NaN</td>\n      <td>Текст. материал</td>\n      <td>Монография</td>\n      <td>NaN</td>\n    </tr>\n    <tr>\n      <th>660807</th>\n      <td>999992</td>\n      <td>Пришвин Михаил Михайлович</td>\n      <td>Рассказы</td>\n      <td>Киев</td>\n      <td>Веселка</td>\n      <td>1978</td>\n      <td>rus</td>\n      <td>Художественная литература</td>\n      <td>NaN</td>\n      <td>Школьная библиотека</td>\n      <td>Текст. материал</td>\n      <td>Монография</td>\n      <td>NaN</td>\n    </tr>\n    <tr>\n      <th>660808</th>\n      <td>999994</td>\n      <td>Дулькина Татьяна Иосифовна</td>\n      <td>Керамика гжели XVIII-XIX веков</td>\n      <td>Ленинград</td>\n      <td>Художник</td>\n      <td>1988</td>\n      <td>rus</td>\n      <td>Декоративно-прикладное искусство</td>\n      <td>NaN</td>\n      <td>NaN</td>\n      <td>Текст. материал</td>\n      <td>Монография</td>\n      <td>NaN</td>\n    </tr>\n    <tr>\n      <th>660809</th>\n      <td>999995</td>\n      <td>Гаршин Всеволод Михайлович</td>\n      <td>Рассказы, Очерки</td>\n      <td>Москва</td>\n      <td>Звонница-МГ</td>\n      <td>2000</td>\n      <td>rus</td>\n      <td>Художественная литература</td>\n      <td>NaN</td>\n      <td>Библиотека мировой новеллы</td>\n      <td>Текст. материал</td>\n      <td>Монография</td>\n      <td>NaN</td>\n    </tr>\n    <tr>\n      <th>660810</th>\n      <td>999999</td>\n      <td>Холлис Джеймс</td>\n      <td>Мифологемы. Воплощения невидимого мира</td>\n      <td>Москва</td>\n      <td>Класс</td>\n      <td>2010</td>\n      <td>rus</td>\n      <td>Психология личности</td>\n      <td>NaN</td>\n      <td>Библиотека психологии и психотерапии</td>\n      <td>Текст. материал</td>\n      <td>Монография</td>\n      <td>NaN</td>\n    </tr>\n  </tbody>\n</table>\n<p>660811 rows × 13 columns</p>\n</div>"
     },
     "execution_count": 163,
     "metadata": {},
     "output_type": "execute_result"
    }
   ],
   "source": [
    "cat_1"
   ],
   "metadata": {
    "collapsed": false,
    "pycharm": {
     "name": "#%%\n"
    }
   }
  },
  {
   "cell_type": "code",
   "execution_count": 127,
   "outputs": [
    {
     "name": "stderr",
     "output_type": "stream",
     "text": [
      "/home/magleb/rec_sys_book/local/venv/lib/python3.8/site-packages/IPython/core/interactiveshell.py:3444: DtypeWarning: Columns (3,4) have mixed types.Specify dtype option on import or set low_memory=False.\n",
      "  exec(code_obj, self.user_global_ns, self.user_ns)\n"
     ]
    },
    {
     "data": {
      "text/plain": "   user_id  date_birth\n0   366670  14.10.1974\n1   175006  20.03.1978\n2   334805  03.12.1985\n3   364422  15.03.1992\n4    37574  18.11.1981",
      "text/html": "<div>\n<style scoped>\n    .dataframe tbody tr th:only-of-type {\n        vertical-align: middle;\n    }\n\n    .dataframe tbody tr th {\n        vertical-align: top;\n    }\n\n    .dataframe thead th {\n        text-align: right;\n    }\n</style>\n<table border=\"1\" class=\"dataframe\">\n  <thead>\n    <tr style=\"text-align: right;\">\n      <th></th>\n      <th>user_id</th>\n      <th>date_birth</th>\n    </tr>\n  </thead>\n  <tbody>\n    <tr>\n      <th>0</th>\n      <td>366670</td>\n      <td>14.10.1974</td>\n    </tr>\n    <tr>\n      <th>1</th>\n      <td>175006</td>\n      <td>20.03.1978</td>\n    </tr>\n    <tr>\n      <th>2</th>\n      <td>334805</td>\n      <td>03.12.1985</td>\n    </tr>\n    <tr>\n      <th>3</th>\n      <td>364422</td>\n      <td>15.03.1992</td>\n    </tr>\n    <tr>\n      <th>4</th>\n      <td>37574</td>\n      <td>18.11.1981</td>\n    </tr>\n  </tbody>\n</table>\n</div>"
     },
     "execution_count": 127,
     "metadata": {},
     "output_type": "execute_result"
    }
   ],
   "source": [
    "readers = pd.read_csv(f'{DATA_FOLDER}/readers.csv', sep=';', encoding='cp1251', header=None)\n",
    "readers.drop(axis=1, inplace=True, columns=[2, 3, 4])\n",
    "readers.columns = ['user_id', 'date_birth']\n",
    "readers.head()"
   ],
   "metadata": {
    "collapsed": false,
    "pycharm": {
     "name": "#%%\n"
    }
   }
  },
  {
   "cell_type": "code",
   "execution_count": 173,
   "outputs": [
    {
     "data": {
      "text/plain": "        book_id start_date finish_data  user_id             state\n0        155884 2019-03-11  2019-03-11   250471  Размещен в фонде\n1        195770 2019-03-11  2019-03-11   250471  Размещен в фонде\n2        758986 2019-03-11  2019-03-11   250471  Размещен в фонде\n3         61334 2019-03-11  2019-03-11   250471  Размещен в фонде\n4         85407 2019-03-11  2019-03-11   250471  Размещен в фонде\n...         ...        ...         ...      ...               ...\n999995   692397 2019-11-17  2020-01-21   127834      Переоформлен\n999996   452859 2019-11-30  2020-10-01    58840  Размещен в фонде\n999997   247915 2019-11-17  2020-01-21   127834      Переоформлен\n999998   245388 2019-11-17  2020-01-21   127834      Переоформлен\n999999   602754 2019-12-18  2019-12-18   290226  Размещен в фонде\n\n[1000000 rows x 5 columns]",
      "text/html": "<div>\n<style scoped>\n    .dataframe tbody tr th:only-of-type {\n        vertical-align: middle;\n    }\n\n    .dataframe tbody tr th {\n        vertical-align: top;\n    }\n\n    .dataframe thead th {\n        text-align: right;\n    }\n</style>\n<table border=\"1\" class=\"dataframe\">\n  <thead>\n    <tr style=\"text-align: right;\">\n      <th></th>\n      <th>book_id</th>\n      <th>start_date</th>\n      <th>finish_data</th>\n      <th>user_id</th>\n      <th>state</th>\n    </tr>\n  </thead>\n  <tbody>\n    <tr>\n      <th>0</th>\n      <td>155884</td>\n      <td>2019-03-11</td>\n      <td>2019-03-11</td>\n      <td>250471</td>\n      <td>Размещен в фонде</td>\n    </tr>\n    <tr>\n      <th>1</th>\n      <td>195770</td>\n      <td>2019-03-11</td>\n      <td>2019-03-11</td>\n      <td>250471</td>\n      <td>Размещен в фонде</td>\n    </tr>\n    <tr>\n      <th>2</th>\n      <td>758986</td>\n      <td>2019-03-11</td>\n      <td>2019-03-11</td>\n      <td>250471</td>\n      <td>Размещен в фонде</td>\n    </tr>\n    <tr>\n      <th>3</th>\n      <td>61334</td>\n      <td>2019-03-11</td>\n      <td>2019-03-11</td>\n      <td>250471</td>\n      <td>Размещен в фонде</td>\n    </tr>\n    <tr>\n      <th>4</th>\n      <td>85407</td>\n      <td>2019-03-11</td>\n      <td>2019-03-11</td>\n      <td>250471</td>\n      <td>Размещен в фонде</td>\n    </tr>\n    <tr>\n      <th>...</th>\n      <td>...</td>\n      <td>...</td>\n      <td>...</td>\n      <td>...</td>\n      <td>...</td>\n    </tr>\n    <tr>\n      <th>999995</th>\n      <td>692397</td>\n      <td>2019-11-17</td>\n      <td>2020-01-21</td>\n      <td>127834</td>\n      <td>Переоформлен</td>\n    </tr>\n    <tr>\n      <th>999996</th>\n      <td>452859</td>\n      <td>2019-11-30</td>\n      <td>2020-10-01</td>\n      <td>58840</td>\n      <td>Размещен в фонде</td>\n    </tr>\n    <tr>\n      <th>999997</th>\n      <td>247915</td>\n      <td>2019-11-17</td>\n      <td>2020-01-21</td>\n      <td>127834</td>\n      <td>Переоформлен</td>\n    </tr>\n    <tr>\n      <th>999998</th>\n      <td>245388</td>\n      <td>2019-11-17</td>\n      <td>2020-01-21</td>\n      <td>127834</td>\n      <td>Переоформлен</td>\n    </tr>\n    <tr>\n      <th>999999</th>\n      <td>602754</td>\n      <td>2019-12-18</td>\n      <td>2019-12-18</td>\n      <td>290226</td>\n      <td>Размещен в фонде</td>\n    </tr>\n  </tbody>\n</table>\n<p>1000000 rows × 5 columns</p>\n</div>"
     },
     "execution_count": 173,
     "metadata": {},
     "output_type": "execute_result"
    }
   ],
   "source": [
    "circulaton_1 = pd.read_csv(f'{DATA_FOLDER}/circulaton_2.csv', sep=';', encoding='cp1251')\n",
    "circulaton_1.drop(columns=['circulationID', 'barcode', 'bookpointID', 'Unnamed: 8', 'Unnamed: 9'], axis=1, inplace=True)\n",
    "circulaton_1.columns = ['book_id', 'start_date', 'finish_data', 'user_id', 'state']\n",
    "circulaton_1['start_date'] = pd.to_datetime(circulaton_1['start_date'])\n",
    "circulaton_1['finish_data'] = pd.to_datetime(circulaton_1['finish_data'])\n",
    "circulaton_1"
   ],
   "metadata": {
    "collapsed": false,
    "pycharm": {
     "name": "#%%\n"
    }
   }
  },
  {
   "cell_type": "code",
   "execution_count": 180,
   "outputs": [
    {
     "data": {
      "text/plain": "0         1000000\n1         1000001\n2         1000002\n3         1000003\n4         1000006\n           ...   \n676369    1999994\n676370    1999995\n676371    1999997\n676372    1999998\n676373    1999999\nName: recId, Length: 676374, dtype: int64"
     },
     "execution_count": 180,
     "metadata": {},
     "output_type": "execute_result"
    }
   ],
   "source": [
    "cat_2['recId']"
   ],
   "metadata": {
    "collapsed": false,
    "pycharm": {
     "name": "#%%\n"
    }
   }
  },
  {
   "cell_type": "code",
   "execution_count": 151,
   "outputs": [
    {
     "data": {
      "text/plain": "36525"
     },
     "execution_count": 151,
     "metadata": {},
     "output_type": "execute_result"
    }
   ],
   "source": [
    "len(set(circulaton_1['book_id']) - set(cat_1['recId']))"
   ],
   "metadata": {
    "collapsed": false,
    "pycharm": {
     "name": "#%%\n"
    }
   }
  },
  {
   "cell_type": "code",
   "execution_count": 162,
   "outputs": [
    {
     "data": {
      "text/plain": "209429"
     },
     "execution_count": 162,
     "metadata": {},
     "output_type": "execute_result"
    }
   ],
   "source": [
    "len(set(circulaton_1['book_id']))"
   ],
   "metadata": {
    "collapsed": false,
    "pycharm": {
     "name": "#%%\n"
    }
   }
  },
  {
   "cell_type": "code",
   "execution_count": 132,
   "outputs": [
    {
     "data": {
      "text/plain": "7775"
     },
     "execution_count": 132,
     "metadata": {},
     "output_type": "execute_result"
    }
   ],
   "source": [
    "len(set(circulaton_1['user_id']) - set(readers['user_id']))"
   ],
   "metadata": {
    "collapsed": false,
    "pycharm": {
     "name": "#%%\n"
    }
   }
  },
  {
   "cell_type": "code",
   "execution_count": 133,
   "outputs": [
    {
     "data": {
      "text/plain": "447298"
     },
     "execution_count": 133,
     "metadata": {},
     "output_type": "execute_result"
    }
   ],
   "source": [
    "len(set(readers['user_id']) - set(circulaton_1['user_id']))"
   ],
   "metadata": {
    "collapsed": false,
    "pycharm": {
     "name": "#%%\n"
    }
   }
  },
  {
   "cell_type": "code",
   "execution_count": null,
   "outputs": [],
   "source": [],
   "metadata": {
    "collapsed": false,
    "pycharm": {
     "name": "#%%\n"
    }
   }
  }
 ],
 "metadata": {
  "kernelspec": {
   "display_name": "Python 3",
   "language": "python",
   "name": "python3"
  },
  "language_info": {
   "codemirror_mode": {
    "name": "ipython",
    "version": 2
   },
   "file_extension": ".py",
   "mimetype": "text/x-python",
   "name": "python",
   "nbconvert_exporter": "python",
   "pygments_lexer": "ipython2",
   "version": "2.7.6"
  }
 },
 "nbformat": 4,
 "nbformat_minor": 0
}