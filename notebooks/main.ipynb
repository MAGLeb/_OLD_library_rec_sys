{
 "cells": [
  {
   "cell_type": "code",
   "execution_count": 1,
   "metadata": {
    "collapsed": true
   },
   "outputs": [],
   "source": [
    "import os\n",
    "\n",
    "import pandas as pd"
   ]
  },
  {
   "cell_type": "code",
   "execution_count": 4,
   "outputs": [],
   "source": [
    "PROJECT_FOLDER = os.path.abspath('..')\n",
    "DATA_FOLDER = os.path.join(PROJECT_FOLDER, 'local', 'datasets_biblioteki', 'datasets_2')"
   ],
   "metadata": {
    "collapsed": false,
    "pycharm": {
     "name": "#%%\n"
    }
   }
  },
  {
   "cell_type": "code",
   "execution_count": 9,
   "outputs": [
    {
     "name": "stderr",
     "output_type": "stream",
     "text": [
      "/home/magleb/rec_sys_book/local/venv/lib/python3.8/site-packages/IPython/core/interactiveshell.py:3444: DtypeWarning: Columns (3,4) have mixed types.Specify dtype option on import or set low_memory=False.\n",
      "  exec(code_obj, self.user_global_ns, self.user_ns)\n"
     ]
    },
    {
     "data": {
      "text/plain": "        0           1                                             2    3    4\n0  366670  14.10.1974                               Обручевский, 10  NaN  NaN\n1  175006  20.03.1978              г. Москва, ул. Саранская, д. 7,   NaN  NaN\n2  334805  03.12.1985     г. Москва, ул. Ясеневая, д. 12, корп. 1,   NaN  NaN\n3  364422  15.03.1992    г. Владивосток, ул. Анны Щетининой, д. 20   NaN  NaN\n4   37574  18.11.1981  г. Москва, ул. Менжинского, д. 28, корп. 2,   NaN  NaN",
      "text/html": "<div>\n<style scoped>\n    .dataframe tbody tr th:only-of-type {\n        vertical-align: middle;\n    }\n\n    .dataframe tbody tr th {\n        vertical-align: top;\n    }\n\n    .dataframe thead th {\n        text-align: right;\n    }\n</style>\n<table border=\"1\" class=\"dataframe\">\n  <thead>\n    <tr style=\"text-align: right;\">\n      <th></th>\n      <th>0</th>\n      <th>1</th>\n      <th>2</th>\n      <th>3</th>\n      <th>4</th>\n    </tr>\n  </thead>\n  <tbody>\n    <tr>\n      <th>0</th>\n      <td>366670</td>\n      <td>14.10.1974</td>\n      <td>Обручевский, 10</td>\n      <td>NaN</td>\n      <td>NaN</td>\n    </tr>\n    <tr>\n      <th>1</th>\n      <td>175006</td>\n      <td>20.03.1978</td>\n      <td>г. Москва, ул. Саранская, д. 7,</td>\n      <td>NaN</td>\n      <td>NaN</td>\n    </tr>\n    <tr>\n      <th>2</th>\n      <td>334805</td>\n      <td>03.12.1985</td>\n      <td>г. Москва, ул. Ясеневая, д. 12, корп. 1,</td>\n      <td>NaN</td>\n      <td>NaN</td>\n    </tr>\n    <tr>\n      <th>3</th>\n      <td>364422</td>\n      <td>15.03.1992</td>\n      <td>г. Владивосток, ул. Анны Щетининой, д. 20</td>\n      <td>NaN</td>\n      <td>NaN</td>\n    </tr>\n    <tr>\n      <th>4</th>\n      <td>37574</td>\n      <td>18.11.1981</td>\n      <td>г. Москва, ул. Менжинского, д. 28, корп. 2,</td>\n      <td>NaN</td>\n      <td>NaN</td>\n    </tr>\n  </tbody>\n</table>\n</div>"
     },
     "execution_count": 9,
     "metadata": {},
     "output_type": "execute_result"
    }
   ],
   "source": [
    "readers = pd.read_csv(f'{DATA_FOLDER}/readers.csv', sep=';', encoding='cp1251', header=None)\n",
    "readers.head()"
   ],
   "metadata": {
    "collapsed": false,
    "pycharm": {
     "name": "#%%\n"
    }
   }
  },
  {
   "cell_type": "code",
   "execution_count": 14,
   "outputs": [
    {
     "data": {
      "text/plain": "           dt  user_id  book_id\n0  2021-06-01        1  1163786\n1  2021-06-01        1    66612\n2  2021-06-01        1  1034596\n3  2021-06-01        1  1152760\n4  2021-06-01        1    16168",
      "text/html": "<div>\n<style scoped>\n    .dataframe tbody tr th:only-of-type {\n        vertical-align: middle;\n    }\n\n    .dataframe tbody tr th {\n        vertical-align: top;\n    }\n\n    .dataframe thead th {\n        text-align: right;\n    }\n</style>\n<table border=\"1\" class=\"dataframe\">\n  <thead>\n    <tr style=\"text-align: right;\">\n      <th></th>\n      <th>dt</th>\n      <th>user_id</th>\n      <th>book_id</th>\n    </tr>\n  </thead>\n  <tbody>\n    <tr>\n      <th>0</th>\n      <td>2021-06-01</td>\n      <td>1</td>\n      <td>1163786</td>\n    </tr>\n    <tr>\n      <th>1</th>\n      <td>2021-06-01</td>\n      <td>1</td>\n      <td>66612</td>\n    </tr>\n    <tr>\n      <th>2</th>\n      <td>2021-06-01</td>\n      <td>1</td>\n      <td>1034596</td>\n    </tr>\n    <tr>\n      <th>3</th>\n      <td>2021-06-01</td>\n      <td>1</td>\n      <td>1152760</td>\n    </tr>\n    <tr>\n      <th>4</th>\n      <td>2021-06-01</td>\n      <td>1</td>\n      <td>16168</td>\n    </tr>\n  </tbody>\n</table>\n</div>"
     },
     "execution_count": 14,
     "metadata": {},
     "output_type": "execute_result"
    }
   ],
   "source": [
    "user_book_interactions = pd.read_csv(f'{PROJECT_FOLDER}/local/raw_data/user_book_interaction_full.csv')\n",
    "user_book_interactions.head()"
   ],
   "metadata": {
    "collapsed": false,
    "pycharm": {
     "name": "#%%\n"
    }
   }
  },
  {
   "cell_type": "code",
   "execution_count": 15,
   "outputs": [
    {
     "data": {
      "text/plain": "        id            bbk  year             author  \\\n0  1272541  84(2Рос=Рус)1  2013  Федор Достоевский   \n1  1960078       84(4Вел)  2017    Роберт Гэлбрейт   \n2    26991       84(7Сое)  2004        Фэнни Флэгг   \n3  1781433       84(7Сое)  2020       Ричард Руссо   \n4  1687060       84(7США)  2019           Р. Руссо   \n\n                                          annotation  volume title_additional  \\\n0  \"Бесы\"- одно из наиболее трагических, загадочн...     604              NaN   \n1  Робин Эллакотт получает с курьером таинственны...     540              NaN   \n2  Роман американской писательницы Ф.Флэгг расска...     428              NaN   \n3  Майлз Роби двадцать лет готовит бургеры в \"Имп...     606              NaN   \n4                                                NaN     608              NaN   \n\n   age_restriction                    rubrics  author_id  \\\n0              NaN  Художественная литература    45567.0   \n1             16.0  Художественная литература    41515.0   \n2              NaN  Художественная литература   116027.0   \n3             16.0  Художественная литература   141830.0   \n4              NaN  Художественная литература   141830.0   \n\n                                          title  available  \n0                                          Бесы          2  \n1                                 На службе зла          1  \n2  Жареные зеленые помидоры в кафе \"Полустанок\"          7  \n3                                  Эмпайр Фоллз         11  \n4                                  Эмпайр Фоллз          1  ",
      "text/html": "<div>\n<style scoped>\n    .dataframe tbody tr th:only-of-type {\n        vertical-align: middle;\n    }\n\n    .dataframe tbody tr th {\n        vertical-align: top;\n    }\n\n    .dataframe thead th {\n        text-align: right;\n    }\n</style>\n<table border=\"1\" class=\"dataframe\">\n  <thead>\n    <tr style=\"text-align: right;\">\n      <th></th>\n      <th>id</th>\n      <th>bbk</th>\n      <th>year</th>\n      <th>author</th>\n      <th>annotation</th>\n      <th>volume</th>\n      <th>title_additional</th>\n      <th>age_restriction</th>\n      <th>rubrics</th>\n      <th>author_id</th>\n      <th>title</th>\n      <th>available</th>\n    </tr>\n  </thead>\n  <tbody>\n    <tr>\n      <th>0</th>\n      <td>1272541</td>\n      <td>84(2Рос=Рус)1</td>\n      <td>2013</td>\n      <td>Федор Достоевский</td>\n      <td>\"Бесы\"- одно из наиболее трагических, загадочн...</td>\n      <td>604</td>\n      <td>NaN</td>\n      <td>NaN</td>\n      <td>Художественная литература</td>\n      <td>45567.0</td>\n      <td>Бесы</td>\n      <td>2</td>\n    </tr>\n    <tr>\n      <th>1</th>\n      <td>1960078</td>\n      <td>84(4Вел)</td>\n      <td>2017</td>\n      <td>Роберт Гэлбрейт</td>\n      <td>Робин Эллакотт получает с курьером таинственны...</td>\n      <td>540</td>\n      <td>NaN</td>\n      <td>16.0</td>\n      <td>Художественная литература</td>\n      <td>41515.0</td>\n      <td>На службе зла</td>\n      <td>1</td>\n    </tr>\n    <tr>\n      <th>2</th>\n      <td>26991</td>\n      <td>84(7Сое)</td>\n      <td>2004</td>\n      <td>Фэнни Флэгг</td>\n      <td>Роман американской писательницы Ф.Флэгг расска...</td>\n      <td>428</td>\n      <td>NaN</td>\n      <td>NaN</td>\n      <td>Художественная литература</td>\n      <td>116027.0</td>\n      <td>Жареные зеленые помидоры в кафе \"Полустанок\"</td>\n      <td>7</td>\n    </tr>\n    <tr>\n      <th>3</th>\n      <td>1781433</td>\n      <td>84(7Сое)</td>\n      <td>2020</td>\n      <td>Ричард Руссо</td>\n      <td>Майлз Роби двадцать лет готовит бургеры в \"Имп...</td>\n      <td>606</td>\n      <td>NaN</td>\n      <td>16.0</td>\n      <td>Художественная литература</td>\n      <td>141830.0</td>\n      <td>Эмпайр Фоллз</td>\n      <td>11</td>\n    </tr>\n    <tr>\n      <th>4</th>\n      <td>1687060</td>\n      <td>84(7США)</td>\n      <td>2019</td>\n      <td>Р. Руссо</td>\n      <td>NaN</td>\n      <td>608</td>\n      <td>NaN</td>\n      <td>NaN</td>\n      <td>Художественная литература</td>\n      <td>141830.0</td>\n      <td>Эмпайр Фоллз</td>\n      <td>1</td>\n    </tr>\n  </tbody>\n</table>\n</div>"
     },
     "execution_count": 15,
     "metadata": {},
     "output_type": "execute_result"
    }
   ],
   "source": [
    "books_info = pd.read_csv(f'{PROJECT_FOLDER}/data/books.csv')\n",
    "books_info.head()"
   ],
   "metadata": {
    "collapsed": false,
    "pycharm": {
     "name": "#%%\n"
    }
   }
  },
  {
   "cell_type": "code",
   "execution_count": 16,
   "outputs": [],
   "source": [
    "cat_1 = pd.read_csv(f'{DATA_FOLDER}/cat_1.csv', sep=';', encoding='cp1251')\n",
    "cat_2 = pd.read_csv(f'{DATA_FOLDER}/cat_2.csv', sep=';', encoding='cp1251')"
   ],
   "metadata": {
    "collapsed": false,
    "pycharm": {
     "name": "#%%\n"
    }
   }
  },
  {
   "cell_type": "code",
   "execution_count": 99,
   "outputs": [
    {
     "data": {
      "text/plain": "     user_id book_id          dt\n756   118736    5186  01.09.2019\n757   118736  316682  01.09.2019\n1766  180893  751608  01.09.2019\n2070  201318  585605  01.09.2019\n2071  201318   41656  01.09.2019",
      "text/html": "<div>\n<style scoped>\n    .dataframe tbody tr th:only-of-type {\n        vertical-align: middle;\n    }\n\n    .dataframe tbody tr th {\n        vertical-align: top;\n    }\n\n    .dataframe thead th {\n        text-align: right;\n    }\n</style>\n<table border=\"1\" class=\"dataframe\">\n  <thead>\n    <tr style=\"text-align: right;\">\n      <th></th>\n      <th>user_id</th>\n      <th>book_id</th>\n      <th>dt</th>\n    </tr>\n  </thead>\n  <tbody>\n    <tr>\n      <th>756</th>\n      <td>118736</td>\n      <td>5186</td>\n      <td>01.09.2019</td>\n    </tr>\n    <tr>\n      <th>757</th>\n      <td>118736</td>\n      <td>316682</td>\n      <td>01.09.2019</td>\n    </tr>\n    <tr>\n      <th>1766</th>\n      <td>180893</td>\n      <td>751608</td>\n      <td>01.09.2019</td>\n    </tr>\n    <tr>\n      <th>2070</th>\n      <td>201318</td>\n      <td>585605</td>\n      <td>01.09.2019</td>\n    </tr>\n    <tr>\n      <th>2071</th>\n      <td>201318</td>\n      <td>41656</td>\n      <td>01.09.2019</td>\n    </tr>\n  </tbody>\n</table>\n</div>"
     },
     "execution_count": 99,
     "metadata": {},
     "output_type": "execute_result"
    }
   ],
   "source": [
    "cleared_columns = ['readerID', 'catalogueRecordID', 'startDate']\n",
    "books_circulations = set()\n",
    "user_circulations = set()\n",
    "cleared_circulations = pd.DataFrame(columns=cleared_columns)\n",
    "\n",
    "for i in range(1, 17):\n",
    "    circulation = pd.read_csv(f'{DATA_FOLDER}/circulaton_{i}.csv', sep=';', encoding='cp1251')\n",
    "    circulation = circulation[circulation['state'] == 'На руках']\n",
    "    cleared_circulations = cleared_circulations.append(circulation[circulation['state'] == 'На руках'][cleared_columns])\n",
    "    books_circulations.update(circulation['catalogueRecordID'])\n",
    "    user_circulations.update(circulation['readerID'])\n",
    "\n",
    "cleared_circulations.columns = ['user_id', 'book_id', 'dt']\n",
    "cleared_circulations.head()"
   ],
   "metadata": {
    "collapsed": false,
    "pycharm": {
     "name": "#%%\n"
    }
   }
  },
  {
   "cell_type": "code",
   "execution_count": null,
   "outputs": [],
   "source": [
    "cleared_circulations.to_csv(f'{PROJECT_FOLDER}/data/circulations.csv', index=False)"
   ],
   "metadata": {
    "collapsed": false,
    "pycharm": {
     "name": "#%%\n"
    }
   }
  },
  {
   "cell_type": "code",
   "execution_count": 6,
   "outputs": [],
   "source": [
    "cleared_circulations = pd.read_csv(f'{PROJECT_FOLDER}/data/train_interactions.csv')"
   ],
   "metadata": {
    "collapsed": false,
    "pycharm": {
     "name": "#%%\n"
    }
   }
  },
  {
   "cell_type": "code",
   "execution_count": 17,
   "outputs": [
    {
     "name": "stdout",
     "output_type": "stream",
     "text": [
      "569822 READERS\n",
      "569822 READERS - INTERACTIONS\n"
     ]
    },
    {
     "ename": "NameError",
     "evalue": "name 'user_circulations' is not defined",
     "output_type": "error",
     "traceback": [
      "\u001B[0;31m---------------------------------------------------------------------------\u001B[0m",
      "\u001B[0;31mNameError\u001B[0m                                 Traceback (most recent call last)",
      "\u001B[0;32m/tmp/ipykernel_83695/1071169216.py\u001B[0m in \u001B[0;36m<module>\u001B[0;34m\u001B[0m\n\u001B[1;32m      2\u001B[0m \u001B[0mprint\u001B[0m\u001B[0;34m(\u001B[0m\u001B[0mlen\u001B[0m\u001B[0;34m(\u001B[0m\u001B[0mset\u001B[0m\u001B[0;34m(\u001B[0m\u001B[0mreaders\u001B[0m\u001B[0;34m[\u001B[0m\u001B[0;36m0\u001B[0m\u001B[0;34m]\u001B[0m\u001B[0;34m)\u001B[0m\u001B[0;34m)\u001B[0m\u001B[0;34m,\u001B[0m \u001B[0;34m'READERS'\u001B[0m\u001B[0;34m)\u001B[0m\u001B[0;34m\u001B[0m\u001B[0;34m\u001B[0m\u001B[0m\n\u001B[1;32m      3\u001B[0m \u001B[0mprint\u001B[0m\u001B[0;34m(\u001B[0m\u001B[0mlen\u001B[0m\u001B[0;34m(\u001B[0m\u001B[0mset\u001B[0m\u001B[0;34m(\u001B[0m\u001B[0mreaders\u001B[0m\u001B[0;34m[\u001B[0m\u001B[0;36m0\u001B[0m\u001B[0;34m]\u001B[0m\u001B[0;34m)\u001B[0m \u001B[0;34m-\u001B[0m \u001B[0mset\u001B[0m\u001B[0;34m(\u001B[0m\u001B[0muser_book_interactions\u001B[0m\u001B[0;34m[\u001B[0m\u001B[0;34m'user_id'\u001B[0m\u001B[0;34m]\u001B[0m\u001B[0;34m)\u001B[0m\u001B[0;34m)\u001B[0m\u001B[0;34m,\u001B[0m \u001B[0;34m'READERS - INTERACTIONS'\u001B[0m\u001B[0;34m)\u001B[0m\u001B[0;34m\u001B[0m\u001B[0;34m\u001B[0m\u001B[0m\n\u001B[0;32m----> 4\u001B[0;31m \u001B[0mprint\u001B[0m\u001B[0;34m(\u001B[0m\u001B[0mlen\u001B[0m\u001B[0;34m(\u001B[0m\u001B[0mset\u001B[0m\u001B[0;34m(\u001B[0m\u001B[0mreaders\u001B[0m\u001B[0;34m[\u001B[0m\u001B[0;36m0\u001B[0m\u001B[0;34m]\u001B[0m\u001B[0;34m)\u001B[0m \u001B[0;34m-\u001B[0m \u001B[0muser_circulations\u001B[0m\u001B[0;34m)\u001B[0m\u001B[0;34m,\u001B[0m \u001B[0;34m'READERS - CIRCULATIONS'\u001B[0m\u001B[0;34m)\u001B[0m\u001B[0;34m\u001B[0m\u001B[0;34m\u001B[0m\u001B[0m\n\u001B[0m\u001B[1;32m      5\u001B[0m \u001B[0mprint\u001B[0m\u001B[0;34m(\u001B[0m\u001B[0;34m'\\n'\u001B[0m\u001B[0;34m)\u001B[0m\u001B[0;34m\u001B[0m\u001B[0;34m\u001B[0m\u001B[0m\n\u001B[1;32m      6\u001B[0m \u001B[0mprint\u001B[0m\u001B[0;34m(\u001B[0m\u001B[0mlen\u001B[0m\u001B[0;34m(\u001B[0m\u001B[0muser_circulations\u001B[0m\u001B[0;34m)\u001B[0m\u001B[0;34m,\u001B[0m \u001B[0;34m'CIRCULATIONS'\u001B[0m\u001B[0;34m)\u001B[0m\u001B[0;34m\u001B[0m\u001B[0;34m\u001B[0m\u001B[0m\n",
      "\u001B[0;31mNameError\u001B[0m: name 'user_circulations' is not defined"
     ]
    }
   ],
   "source": [
    "# READERS\n",
    "print(len(set(readers[0])), 'READERS')\n",
    "print(len(set(readers[0]) - set(user_book_interactions['user_id'])), 'READERS - INTERACTIONS')\n",
    "print(len(set(readers[0]) - user_circulations), 'READERS - CIRCULATIONS')\n",
    "print('\\n')\n",
    "print(len(user_circulations), 'CIRCULATIONS')\n",
    "print(len(user_circulations - set(user_book_interactions['user_id'])), 'CIRCULATIONS - INTERACTIONS')\n"
   ],
   "metadata": {
    "collapsed": false,
    "pycharm": {
     "name": "#%%\n"
    }
   }
  },
  {
   "cell_type": "code",
   "execution_count": 23,
   "outputs": [
    {
     "name": "stdout",
     "output_type": "stream",
     "text": [
      "3943 INTERACTIONS\n",
      "\n",
      "\n",
      "4682 SMALL JSON\n",
      "\n",
      "\n",
      "193069 CIRCULATIONS\n",
      "188848 CIRCULATIONS - SMALL JSON\n",
      "189278 CIRCULATIONS - INTERACTIONS\n"
     ]
    }
   ],
   "source": [
    "# BOOKS\n",
    "print(len(set(user_book_interactions['book_id'])), 'INTERACTIONS')\n",
    "print('\\n')\n",
    "print(len(set(books_info['id'])), 'SMALL JSON')\n",
    "print('\\n')\n",
    "print(len(set(cleared_circulations['book_id'])), 'CIRCULATIONS')\n",
    "print(len(set(cleared_circulations['book_id']) - set(books_info['id'])), 'CIRCULATIONS - SMALL JSON')\n",
    "print(len(set(cleared_circulations['book_id']) - set(user_book_interactions['book_id'])), 'CIRCULATIONS - INTERACTIONS')"
   ],
   "metadata": {
    "collapsed": false,
    "pycharm": {
     "name": "#%%\n"
    }
   }
  },
  {
   "cell_type": "code",
   "execution_count": 181,
   "outputs": [
    {
     "data": {
      "text/plain": "   user_id book_id_1 book_id_2 book_id_3 book_id_4 book_id_5\n0       34   1866509   1882247   1812326   2523335   1205629\n1       23     80548    967568   1897994   2011853    734767\n2       51    318612     16371   1201809    313152    349614\n3       64   1824182    384273   1609359    836758   1824122\n4       30    331155      6532   1791079   2002568   1818924\n..     ...       ...       ...       ...       ...       ...\n84      68    814603    828096    118466   1624999   2088574\n85      28    139354    453682      9410      9481     13954\n86      73   1800154   1961841    322503    841969    218331\n87      88    374514    173502    346259    173584    458511\n88      13    210070    329956    429966    221246    386535\n\n[89 rows x 6 columns]",
      "text/html": "<div>\n<style scoped>\n    .dataframe tbody tr th:only-of-type {\n        vertical-align: middle;\n    }\n\n    .dataframe tbody tr th {\n        vertical-align: top;\n    }\n\n    .dataframe thead th {\n        text-align: right;\n    }\n</style>\n<table border=\"1\" class=\"dataframe\">\n  <thead>\n    <tr style=\"text-align: right;\">\n      <th></th>\n      <th>user_id</th>\n      <th>book_id_1</th>\n      <th>book_id_2</th>\n      <th>book_id_3</th>\n      <th>book_id_4</th>\n      <th>book_id_5</th>\n    </tr>\n  </thead>\n  <tbody>\n    <tr>\n      <th>0</th>\n      <td>34</td>\n      <td>1866509</td>\n      <td>1882247</td>\n      <td>1812326</td>\n      <td>2523335</td>\n      <td>1205629</td>\n    </tr>\n    <tr>\n      <th>1</th>\n      <td>23</td>\n      <td>80548</td>\n      <td>967568</td>\n      <td>1897994</td>\n      <td>2011853</td>\n      <td>734767</td>\n    </tr>\n    <tr>\n      <th>2</th>\n      <td>51</td>\n      <td>318612</td>\n      <td>16371</td>\n      <td>1201809</td>\n      <td>313152</td>\n      <td>349614</td>\n    </tr>\n    <tr>\n      <th>3</th>\n      <td>64</td>\n      <td>1824182</td>\n      <td>384273</td>\n      <td>1609359</td>\n      <td>836758</td>\n      <td>1824122</td>\n    </tr>\n    <tr>\n      <th>4</th>\n      <td>30</td>\n      <td>331155</td>\n      <td>6532</td>\n      <td>1791079</td>\n      <td>2002568</td>\n      <td>1818924</td>\n    </tr>\n    <tr>\n      <th>...</th>\n      <td>...</td>\n      <td>...</td>\n      <td>...</td>\n      <td>...</td>\n      <td>...</td>\n      <td>...</td>\n    </tr>\n    <tr>\n      <th>84</th>\n      <td>68</td>\n      <td>814603</td>\n      <td>828096</td>\n      <td>118466</td>\n      <td>1624999</td>\n      <td>2088574</td>\n    </tr>\n    <tr>\n      <th>85</th>\n      <td>28</td>\n      <td>139354</td>\n      <td>453682</td>\n      <td>9410</td>\n      <td>9481</td>\n      <td>13954</td>\n    </tr>\n    <tr>\n      <th>86</th>\n      <td>73</td>\n      <td>1800154</td>\n      <td>1961841</td>\n      <td>322503</td>\n      <td>841969</td>\n      <td>218331</td>\n    </tr>\n    <tr>\n      <th>87</th>\n      <td>88</td>\n      <td>374514</td>\n      <td>173502</td>\n      <td>346259</td>\n      <td>173584</td>\n      <td>458511</td>\n    </tr>\n    <tr>\n      <th>88</th>\n      <td>13</td>\n      <td>210070</td>\n      <td>329956</td>\n      <td>429966</td>\n      <td>221246</td>\n      <td>386535</td>\n    </tr>\n  </tbody>\n</table>\n<p>89 rows × 6 columns</p>\n</div>"
     },
     "execution_count": 181,
     "metadata": {},
     "output_type": "execute_result"
    }
   ],
   "source": [
    "test_ids = user_book_interactions['user_id'].value_counts().index.tolist()[:-8]\n",
    "user_book_interactions_train = pd.DataFrame(columns=user_book_interactions.columns)\n",
    "user_book_interactions_test = pd.DataFrame(columns=['user_id', 'book_id_1', 'book_id_2', 'book_id_3', 'book_id_4', 'book_id_5'])\n",
    "\n",
    "for user_id in test_ids:\n",
    "    inter_train_data = user_book_interactions[user_book_interactions['user_id'] == user_id].reset_index(drop=True)\n",
    "    inter_test_data = inter_train_data[-5:].reset_index(drop=True)\n",
    "    test_data = pd.DataFrame({'user_id': inter_test_data['user_id'][0],\n",
    "                              **{f'book_id_{i + 1}': book_id for (i, book_id) in enumerate(inter_test_data['book_id'])}}, index=[0])\n",
    "    train_data = inter_train_data.drop(index=list(range(len(inter_train_data) - 1, len(inter_train_data) - 6, -1)))\n",
    "    user_book_interactions_train = user_book_interactions_train.append(train_data)\n",
    "    user_book_interactions_test = user_book_interactions_test.append(test_data)\n",
    "\n",
    "user_book_interactions_train.reset_index(drop=True)\n",
    "user_book_interactions_test.reset_index(drop=True)"
   ],
   "metadata": {
    "collapsed": false,
    "pycharm": {
     "name": "#%%\n"
    }
   }
  },
  {
   "cell_type": "code",
   "execution_count": 185,
   "outputs": [],
   "source": [
    "user_book_interactions_train.to_csv(f'{PROJECT_FOLDER}/data/user_book_interaction_train.csv', index=False)\n",
    "user_book_interactions_test.to_csv(f'{PROJECT_FOLDER}/data/test.csv', index=False)"
   ],
   "metadata": {
    "collapsed": false,
    "pycharm": {
     "name": "#%%\n"
    }
   }
  },
  {
   "cell_type": "code",
   "execution_count": null,
   "outputs": [],
   "source": [],
   "metadata": {
    "collapsed": false,
    "pycharm": {
     "name": "#%%\n"
    }
   }
  }
 ],
 "metadata": {
  "kernelspec": {
   "display_name": "Python 3",
   "language": "python",
   "name": "python3"
  },
  "language_info": {
   "codemirror_mode": {
    "name": "ipython",
    "version": 2
   },
   "file_extension": ".py",
   "mimetype": "text/x-python",
   "name": "python",
   "nbconvert_exporter": "python",
   "pygments_lexer": "ipython2",
   "version": "2.7.6"
  }
 },
 "nbformat": 4,
 "nbformat_minor": 0
}