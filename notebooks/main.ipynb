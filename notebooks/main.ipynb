{
 "cells": [
  {
   "cell_type": "code",
   "execution_count": 3,
   "metadata": {
    "collapsed": true
   },
   "outputs": [],
   "source": [
    "import os\n",
    "import re\n",
    "\n",
    "import pandas as pd\n",
    "from tqdm import tqdm"
   ]
  },
  {
   "cell_type": "code",
   "execution_count": 180,
   "outputs": [],
   "source": [
    "PROJECT_FOLDER = os.path.abspath('..')\n",
    "DATA_FOLDER = os.path.join(PROJECT_FOLDER, 'local', 'prepared')"
   ],
   "metadata": {
    "collapsed": false,
    "pycharm": {
     "name": "#%%\n"
    }
   }
  },
  {
   "cell_type": "code",
   "execution_count": null,
   "outputs": [],
   "source": [
    "cleared_columns = ['readerID', 'catalogueRecordID', 'startDate']\n",
    "books_circulations = set()\n",
    "user_circulations = set()\n",
    "cleared_circulations = pd.DataFrame(columns=cleared_columns)\n",
    "\n",
    "for i in range(1, 17):\n",
    "    circulation = pd.read_csv(f'{DATA_FOLDER}/circulaton_{i}.csv', sep=';', encoding='cp1251')\n",
    "    circulation = circulation[circulation['state'] == 'На руках']\n",
    "    cleared_circulations = cleared_circulations.append(circulation[circulation['state'] == 'На руках'][cleared_columns])\n",
    "    books_circulations.update(circulation['catalogueRecordID'])\n",
    "    user_circulations.update(circulation['readerID'])\n",
    "\n",
    "cleared_circulations.columns = ['user_id', 'book_id', 'dt']\n",
    "cleared_circulations.head()\n",
    "\n",
    "cleared_circulations.to_csv(f'{PROJECT_FOLDER}/data/circulations.csv', index=False)"
   ],
   "metadata": {
    "collapsed": false,
    "pycharm": {
     "name": "#%%\n"
    }
   }
  },
  {
   "cell_type": "code",
   "execution_count": 141,
   "outputs": [
    {
     "name": "stdout",
     "output_type": "stream",
     "text": [
      "<class 'pandas.core.frame.DataFrame'>\n",
      "RangeIndex: 4186 entries, 0 to 4185\n",
      "Data columns (total 3 columns):\n",
      " #   Column   Non-Null Count  Dtype \n",
      "---  ------   --------------  ----- \n",
      " 0   dt       4186 non-null   object\n",
      " 1   user_id  4186 non-null   int64 \n",
      " 2   book_id  4186 non-null   int64 \n",
      "dtypes: int64(2), object(1)\n",
      "memory usage: 98.2+ KB\n"
     ]
    }
   ],
   "source": [
    "user_book_interactions = pd.read_csv(f'{DATA_FOLDER}/user_book_interaction_full.csv')\n",
    "user_book_interactions.info()"
   ],
   "metadata": {
    "collapsed": false,
    "pycharm": {
     "name": "#%%\n"
    }
   }
  },
  {
   "cell_type": "code",
   "execution_count": 142,
   "outputs": [
    {
     "name": "stdout",
     "output_type": "stream",
     "text": [
      "<class 'pandas.core.frame.DataFrame'>\n",
      "RangeIndex: 580305 entries, 0 to 580304\n",
      "Data columns (total 3 columns):\n",
      " #   Column   Non-Null Count   Dtype \n",
      "---  ------   --------------   ----- \n",
      " 0   user_id  580305 non-null  int64 \n",
      " 1   book_id  580305 non-null  int64 \n",
      " 2   dt       580305 non-null  object\n",
      "dtypes: int64(2), object(1)\n",
      "memory usage: 13.3+ MB\n"
     ]
    }
   ],
   "source": [
    "cleared_circulations = pd.read_csv(f'{DATA_FOLDER}/circulations.csv')\n",
    "cleared_circulations.info()"
   ],
   "metadata": {
    "collapsed": false,
    "pycharm": {
     "name": "#%%\n"
    }
   }
  },
  {
   "cell_type": "code",
   "execution_count": 143,
   "outputs": [
    {
     "name": "stdout",
     "output_type": "stream",
     "text": [
      "<class 'pandas.core.frame.DataFrame'>\n",
      "Int64Index: 583919 entries, 0 to 266675\n",
      "Data columns (total 3 columns):\n",
      " #   Column   Non-Null Count   Dtype         \n",
      "---  ------   --------------   -----         \n",
      " 0   user_id  583919 non-null  int64         \n",
      " 1   book_id  583919 non-null  int64         \n",
      " 2   dt       583919 non-null  datetime64[ns]\n",
      "dtypes: datetime64[ns](1), int64(2)\n",
      "memory usage: 17.8 MB\n"
     ]
    }
   ],
   "source": [
    "user_book_interactions = pd.concat([cleared_circulations, user_book_interactions])\n",
    "user_book_interactions['dt'] = pd.to_datetime(user_book_interactions['dt'])\n",
    "user_book_interactions.sort_values(by='dt', inplace=True)\n",
    "user_book_interactions.drop_duplicates(inplace=True)\n",
    "user_book_interactions.info()"
   ],
   "metadata": {
    "collapsed": false,
    "pycharm": {
     "name": "#%%\n"
    }
   }
  },
  {
   "cell_type": "code",
   "execution_count": 178,
   "outputs": [
    {
     "data": {
      "text/plain": "    user_id book_id_1 book_id_2 book_id_3 book_id_4 book_id_5\n0        34   1866509   1812326   1866509   2523335   1205629\n1        23    393777    393777    612654   1697148   2398298\n2        51    508164   1554620    269798    820431    777209\n3        64   1824182   1824122    237084   1942107   1609359\n4        30   1143317    757226      6532    316778    316778\n..      ...       ...       ...       ...       ...       ...\n995   93349     62659    325012    251134    403597    382214\n996  341588   1177013     75164     20815   1277551   1240811\n997  243259   2172326   2089907   2522575   1853331   2105936\n998  573560   1800029   1832712   1591474   1750522   1730614\n999  382192    844031   2101907   1411338     87511   1844951\n\n[1000 rows x 6 columns]",
      "text/html": "<div>\n<style scoped>\n    .dataframe tbody tr th:only-of-type {\n        vertical-align: middle;\n    }\n\n    .dataframe tbody tr th {\n        vertical-align: top;\n    }\n\n    .dataframe thead th {\n        text-align: right;\n    }\n</style>\n<table border=\"1\" class=\"dataframe\">\n  <thead>\n    <tr style=\"text-align: right;\">\n      <th></th>\n      <th>user_id</th>\n      <th>book_id_1</th>\n      <th>book_id_2</th>\n      <th>book_id_3</th>\n      <th>book_id_4</th>\n      <th>book_id_5</th>\n    </tr>\n  </thead>\n  <tbody>\n    <tr>\n      <th>0</th>\n      <td>34</td>\n      <td>1866509</td>\n      <td>1812326</td>\n      <td>1866509</td>\n      <td>2523335</td>\n      <td>1205629</td>\n    </tr>\n    <tr>\n      <th>1</th>\n      <td>23</td>\n      <td>393777</td>\n      <td>393777</td>\n      <td>612654</td>\n      <td>1697148</td>\n      <td>2398298</td>\n    </tr>\n    <tr>\n      <th>2</th>\n      <td>51</td>\n      <td>508164</td>\n      <td>1554620</td>\n      <td>269798</td>\n      <td>820431</td>\n      <td>777209</td>\n    </tr>\n    <tr>\n      <th>3</th>\n      <td>64</td>\n      <td>1824182</td>\n      <td>1824122</td>\n      <td>237084</td>\n      <td>1942107</td>\n      <td>1609359</td>\n    </tr>\n    <tr>\n      <th>4</th>\n      <td>30</td>\n      <td>1143317</td>\n      <td>757226</td>\n      <td>6532</td>\n      <td>316778</td>\n      <td>316778</td>\n    </tr>\n    <tr>\n      <th>...</th>\n      <td>...</td>\n      <td>...</td>\n      <td>...</td>\n      <td>...</td>\n      <td>...</td>\n      <td>...</td>\n    </tr>\n    <tr>\n      <th>995</th>\n      <td>93349</td>\n      <td>62659</td>\n      <td>325012</td>\n      <td>251134</td>\n      <td>403597</td>\n      <td>382214</td>\n    </tr>\n    <tr>\n      <th>996</th>\n      <td>341588</td>\n      <td>1177013</td>\n      <td>75164</td>\n      <td>20815</td>\n      <td>1277551</td>\n      <td>1240811</td>\n    </tr>\n    <tr>\n      <th>997</th>\n      <td>243259</td>\n      <td>2172326</td>\n      <td>2089907</td>\n      <td>2522575</td>\n      <td>1853331</td>\n      <td>2105936</td>\n    </tr>\n    <tr>\n      <th>998</th>\n      <td>573560</td>\n      <td>1800029</td>\n      <td>1832712</td>\n      <td>1591474</td>\n      <td>1750522</td>\n      <td>1730614</td>\n    </tr>\n    <tr>\n      <th>999</th>\n      <td>382192</td>\n      <td>844031</td>\n      <td>2101907</td>\n      <td>1411338</td>\n      <td>87511</td>\n      <td>1844951</td>\n    </tr>\n  </tbody>\n</table>\n<p>1000 rows × 6 columns</p>\n</div>"
     },
     "execution_count": 178,
     "metadata": {},
     "output_type": "execute_result"
    }
   ],
   "source": [
    "test_ids = user_book_interactions['user_id'].value_counts().index.tolist()[:1000]\n",
    "user_book_interactions_train = pd.DataFrame(columns=user_book_interactions.columns)\n",
    "user_book_interactions_test = pd.DataFrame(columns=['user_id', 'book_id_1', 'book_id_2', 'book_id_3', 'book_id_4', 'book_id_5'])\n",
    "\n",
    "for user_id in test_ids:\n",
    "    inter_train_data = user_book_interactions[user_book_interactions['user_id'] == user_id].reset_index(drop=True)\n",
    "    inter_test_data = inter_train_data[-5:].reset_index(drop=True)\n",
    "    test_data = pd.DataFrame({'user_id': inter_test_data['user_id'][0],\n",
    "                              **{f'book_id_{i + 1}': book_id for (i, book_id) in enumerate(inter_test_data['book_id'])}}, index=[0])\n",
    "    train_data = inter_train_data.drop(index=list(range(len(inter_train_data) - 1, len(inter_train_data) - 6, -1)))\n",
    "    user_book_interactions_train = user_book_interactions_train.append(train_data)\n",
    "    user_book_interactions_test = user_book_interactions_test.append(test_data)\n",
    "\n",
    "user_book_interactions_train.reset_index(drop=True)\n",
    "user_book_interactions_test.reset_index(drop=True)"
   ],
   "metadata": {
    "collapsed": false,
    "pycharm": {
     "name": "#%%\n"
    }
   }
  },
  {
   "cell_type": "code",
   "execution_count": 179,
   "outputs": [],
   "source": [
    "user_book_interactions_train.to_csv(f'{PROJECT_FOLDER}/local/prepared/train_interactions.csv', index=False)\n",
    "user_book_interactions_test.to_csv(f'{PROJECT_FOLDER}/local/prepared/test_interactions.csv', index=False)\n",
    "user_book_interactions.to_csv(f'{PROJECT_FOLDER}/local/prepared/interactions.csv', index=False)"
   ],
   "metadata": {
    "collapsed": false,
    "pycharm": {
     "name": "#%%\n"
    }
   }
  },
  {
   "cell_type": "code",
   "execution_count": null,
   "outputs": [],
   "source": [],
   "metadata": {
    "collapsed": false,
    "pycharm": {
     "name": "#%%\n"
    }
   }
  },
  {
   "cell_type": "code",
   "execution_count": null,
   "outputs": [],
   "source": [],
   "metadata": {
    "collapsed": false,
    "pycharm": {
     "name": "#%%\n"
    }
   }
  },
  {
   "cell_type": "code",
   "execution_count": null,
   "outputs": [],
   "source": [],
   "metadata": {
    "collapsed": false,
    "pycharm": {
     "name": "#%%\n"
    }
   }
  },
  {
   "cell_type": "code",
   "execution_count": null,
   "outputs": [],
   "source": [],
   "metadata": {
    "collapsed": false,
    "pycharm": {
     "name": "#%%\n"
    }
   }
  },
  {
   "cell_type": "code",
   "execution_count": 117,
   "outputs": [
    {
     "name": "stdout",
     "output_type": "stream",
     "text": [
      "<class 'pandas.core.frame.DataFrame'>\n",
      "RangeIndex: 993023 entries, 0 to 993022\n",
      "Data columns (total 12 columns):\n",
      " #   Column            Non-Null Count   Dtype  \n",
      "---  ------            --------------   -----  \n",
      " 0   id                993023 non-null  int64  \n",
      " 1   bbk               833572 non-null  object \n",
      " 2   year              862153 non-null  float64\n",
      " 3   author            660735 non-null  object \n",
      " 4   annotation        299376 non-null  object \n",
      " 5   volume            788456 non-null  float64\n",
      " 6   title_additional  42063 non-null   object \n",
      " 7   age_restriction   78098 non-null   float64\n",
      " 8   rubrics           823637 non-null  object \n",
      " 9   author_id         993023 non-null  uint16 \n",
      " 10  title             982677 non-null  object \n",
      " 11  available         993023 non-null  int64  \n",
      "dtypes: float64(3), int64(2), object(6), uint16(1)\n",
      "memory usage: 85.2+ MB\n"
     ]
    }
   ],
   "source": [
    "books = pd.read_csv(f'{PROJECT_FOLDER}/data/books.csv')\n",
    "books['author_id'] = books['author_id'].fillna(0).astype('uint16')\n",
    "books.info()"
   ],
   "metadata": {
    "collapsed": false,
    "pycharm": {
     "name": "#%%\n"
    }
   }
  },
  {
   "cell_type": "code",
   "execution_count": 118,
   "outputs": [],
   "source": [
    "books.drop_duplicates(inplace=True)\n",
    "books.drop_duplicates(subset=['id'], inplace=True)\n",
    "books.sort_values(by=['title', 'author_id'], inplace=True)\n",
    "books.reset_index(inplace=True, drop=True)"
   ],
   "metadata": {
    "collapsed": false,
    "pycharm": {
     "name": "#%%\n"
    }
   }
  },
  {
   "cell_type": "code",
   "execution_count": 119,
   "outputs": [
    {
     "name": "stdout",
     "output_type": "stream",
     "text": [
      "<class 'pandas.core.frame.DataFrame'>\n",
      "RangeIndex: 977271 entries, 0 to 977270\n",
      "Data columns (total 12 columns):\n",
      " #   Column            Non-Null Count   Dtype  \n",
      "---  ------            --------------   -----  \n",
      " 0   id                977271 non-null  int64  \n",
      " 1   bbk               818572 non-null  object \n",
      " 2   year              846413 non-null  float64\n",
      " 3   author            648910 non-null  object \n",
      " 4   annotation        293366 non-null  object \n",
      " 5   volume            773215 non-null  float64\n",
      " 6   title_additional  41732 non-null   object \n",
      " 7   age_restriction   75634 non-null   float64\n",
      " 8   rubrics           808703 non-null  object \n",
      " 9   author_id         977271 non-null  uint16 \n",
      " 10  title             967246 non-null  object \n",
      " 11  available         977271 non-null  int64  \n",
      "dtypes: float64(3), int64(2), object(6), uint16(1)\n",
      "memory usage: 83.9+ MB\n"
     ]
    }
   ],
   "source": [
    "books.info()"
   ],
   "metadata": {
    "collapsed": false,
    "pycharm": {
     "name": "#%%\n"
    }
   }
  },
  {
   "cell_type": "code",
   "execution_count": 120,
   "outputs": [
    {
     "data": {
      "text/plain": "382172"
     },
     "execution_count": 120,
     "metadata": {},
     "output_type": "execute_result"
    }
   ],
   "source": [
    "sum(books.duplicated(subset=['title', 'author_id']))"
   ],
   "metadata": {
    "collapsed": false,
    "pycharm": {
     "name": "#%%\n"
    }
   }
  },
  {
   "cell_type": "code",
   "execution_count": 121,
   "outputs": [],
   "source": [
    "books_small = books[['id', 'author_id', 'available', 'title']]"
   ],
   "metadata": {
    "collapsed": false,
    "pycharm": {
     "name": "#%%\n"
    }
   }
  },
  {
   "cell_type": "code",
   "execution_count": 122,
   "outputs": [
    {
     "name": "stdout",
     "output_type": "stream",
     "text": [
      "<class 'pandas.core.frame.DataFrame'>\n",
      "RangeIndex: 977271 entries, 0 to 977270\n",
      "Data columns (total 4 columns):\n",
      " #   Column     Non-Null Count   Dtype \n",
      "---  ------     --------------   ----- \n",
      " 0   id         977271 non-null  int64 \n",
      " 1   author_id  977271 non-null  uint16\n",
      " 2   available  977271 non-null  int64 \n",
      " 3   title      967246 non-null  object\n",
      "dtypes: int64(2), object(1), uint16(1)\n",
      "memory usage: 24.2+ MB\n"
     ]
    }
   ],
   "source": [
    "books_small.info()"
   ],
   "metadata": {
    "collapsed": false,
    "pycharm": {
     "name": "#%%\n"
    }
   }
  },
  {
   "cell_type": "code",
   "execution_count": 123,
   "outputs": [
    {
     "name": "stderr",
     "output_type": "stream",
     "text": [
      "100%|██████████| 977271/977271 [02:30<00:00, 6480.75it/s]\n"
     ]
    }
   ],
   "source": [
    "main_id_dict = {}\n",
    "index_to_delete = []\n",
    "curr_title = None\n",
    "curr_author_id = None\n",
    "curr_id = None\n",
    "curr_available = None\n",
    "\n",
    "for i in tqdm(range(len(books_small))):\n",
    "    id, author_id, available, title = books_small.loc[i, ].to_list()\n",
    "\n",
    "    if title == curr_title and author_id == curr_author_id:\n",
    "        index_to_delete.append(i)\n",
    "        if curr_id in main_id_dict:\n",
    "            main_id_dict[curr_id][0].append(id)\n",
    "            main_id_dict[curr_id][1].append(available)\n",
    "        else:\n",
    "            main_id_dict[curr_id] = ([id], [curr_available, available])\n",
    "    else:\n",
    "        curr_author_id = author_id\n",
    "        curr_title = title\n",
    "        curr_id = id\n",
    "        curr_available = available\n"
   ],
   "metadata": {
    "collapsed": false,
    "pycharm": {
     "name": "#%%\n"
    }
   }
  },
  {
   "cell_type": "code",
   "execution_count": 124,
   "outputs": [],
   "source": [
    "books.drop(index=index_to_delete, inplace=True)\n",
    "books.reset_index(drop=True, inplace=True)"
   ],
   "metadata": {
    "collapsed": false,
    "pycharm": {
     "name": "#%%\n"
    }
   }
  },
  {
   "cell_type": "code",
   "execution_count": 127,
   "outputs": [
    {
     "data": {
      "text/plain": "7232"
     },
     "execution_count": 127,
     "metadata": {},
     "output_type": "execute_result"
    }
   ],
   "source": [
    "sum(books.duplicated(subset=['title', 'author_id', 'rubrics']))"
   ],
   "metadata": {
    "collapsed": false,
    "pycharm": {
     "name": "#%%\n"
    }
   }
  },
  {
   "cell_type": "code",
   "execution_count": 182,
   "outputs": [
    {
     "data": {
      "text/plain": "             id            bbk    year  \\\n0       1875408       84(7Сое)  1937.0   \n1       1579386             84  1973.0   \n2       1619574       32.972.1  2008.0   \n3       1750954       84(2)6-5  1999.0   \n4        149372      83.32Рос6  1986.0   \n...         ...            ...     ...   \n602853    10115       84(4Вел)  2013.0   \n602854   610314  84(2Рос=Рус)6  2003.0   \n602855   644172  84(2Рос=Рус)6  2003.0   \n602856  1391565  84(2Рос=Рус)6  1984.0   \n602857  1374527  84(2Рос=Рус)6  1983.0   \n\n                                                   author annotation  volume  \\\n0                                           Э. Б. Синклер        NaN   159.0   \n1       Edited and translated by Marquez R. Drawings b...        NaN   223.0   \n2                                                     NaN        NaN     NaN   \n3       Упр. культуры Администрации Тамбов. обл. Тамбо...        NaN   109.0   \n4                                                     NaN        NaN   319.0   \n...                                                   ...        ...     ...   \n602853                                                NaN        NaN   416.0   \n602854                                                NaN        NaN   191.0   \n602855                                                NaN        NaN   287.0   \n602856                                                NaN        NaN   519.0   \n602857                                                NaN        NaN   527.0   \n\n       title_additional  age_restriction                    rubrics  \\\n0                   NaN              NaN  Художественная литература   \n1                   NaN              NaN  Художественная литература   \n2                   NaN              NaN    Программное обеспечение   \n3                   NaN              NaN  Художественная литература   \n4                   NaN              NaN  Художественная литература   \n...                 ...              ...                        ...   \n602853              NaN              NaN  Художественная литература   \n602854              NaN              NaN  Художественная литература   \n602855              NaN              NaN  Художественная литература   \n602856              NaN              NaN  Художественная литература   \n602857              NaN              NaN  Художественная литература   \n\n        author_id                                          title  available  \n0           37927                                   !NO PASARAN!          1  \n1               0                              !Patria o Muerte!          1  \n2               0  !С: Бухгалтерия 8.0: Практический самоучитель          1  \n3               0                             \" И славен буду я\"          1  \n4               0                \" И тебе я в песне отзовусь...\"          9  \n...           ...                                            ...        ...  \n602853      65356                                            NaN         57  \n602854      65376                                            NaN         13  \n602855      65376                                            NaN         13  \n602856      65454                                            NaN          8  \n602857      65454                                            NaN          6  \n\n[602858 rows x 12 columns]",
      "text/html": "<div>\n<style scoped>\n    .dataframe tbody tr th:only-of-type {\n        vertical-align: middle;\n    }\n\n    .dataframe tbody tr th {\n        vertical-align: top;\n    }\n\n    .dataframe thead th {\n        text-align: right;\n    }\n</style>\n<table border=\"1\" class=\"dataframe\">\n  <thead>\n    <tr style=\"text-align: right;\">\n      <th></th>\n      <th>id</th>\n      <th>bbk</th>\n      <th>year</th>\n      <th>author</th>\n      <th>annotation</th>\n      <th>volume</th>\n      <th>title_additional</th>\n      <th>age_restriction</th>\n      <th>rubrics</th>\n      <th>author_id</th>\n      <th>title</th>\n      <th>available</th>\n    </tr>\n  </thead>\n  <tbody>\n    <tr>\n      <th>0</th>\n      <td>1875408</td>\n      <td>84(7Сое)</td>\n      <td>1937.0</td>\n      <td>Э. Б. Синклер</td>\n      <td>NaN</td>\n      <td>159.0</td>\n      <td>NaN</td>\n      <td>NaN</td>\n      <td>Художественная литература</td>\n      <td>37927</td>\n      <td>!NO PASARAN!</td>\n      <td>1</td>\n    </tr>\n    <tr>\n      <th>1</th>\n      <td>1579386</td>\n      <td>84</td>\n      <td>1973.0</td>\n      <td>Edited and translated by Marquez R. Drawings b...</td>\n      <td>NaN</td>\n      <td>223.0</td>\n      <td>NaN</td>\n      <td>NaN</td>\n      <td>Художественная литература</td>\n      <td>0</td>\n      <td>!Patria o Muerte!</td>\n      <td>1</td>\n    </tr>\n    <tr>\n      <th>2</th>\n      <td>1619574</td>\n      <td>32.972.1</td>\n      <td>2008.0</td>\n      <td>NaN</td>\n      <td>NaN</td>\n      <td>NaN</td>\n      <td>NaN</td>\n      <td>NaN</td>\n      <td>Программное обеспечение</td>\n      <td>0</td>\n      <td>!С: Бухгалтерия 8.0: Практический самоучитель</td>\n      <td>1</td>\n    </tr>\n    <tr>\n      <th>3</th>\n      <td>1750954</td>\n      <td>84(2)6-5</td>\n      <td>1999.0</td>\n      <td>Упр. культуры Администрации Тамбов. обл. Тамбо...</td>\n      <td>NaN</td>\n      <td>109.0</td>\n      <td>NaN</td>\n      <td>NaN</td>\n      <td>Художественная литература</td>\n      <td>0</td>\n      <td>\" И славен буду я\"</td>\n      <td>1</td>\n    </tr>\n    <tr>\n      <th>4</th>\n      <td>149372</td>\n      <td>83.32Рос6</td>\n      <td>1986.0</td>\n      <td>NaN</td>\n      <td>NaN</td>\n      <td>319.0</td>\n      <td>NaN</td>\n      <td>NaN</td>\n      <td>Художественная литература</td>\n      <td>0</td>\n      <td>\" И тебе я в песне отзовусь...\"</td>\n      <td>9</td>\n    </tr>\n    <tr>\n      <th>...</th>\n      <td>...</td>\n      <td>...</td>\n      <td>...</td>\n      <td>...</td>\n      <td>...</td>\n      <td>...</td>\n      <td>...</td>\n      <td>...</td>\n      <td>...</td>\n      <td>...</td>\n      <td>...</td>\n      <td>...</td>\n    </tr>\n    <tr>\n      <th>602853</th>\n      <td>10115</td>\n      <td>84(4Вел)</td>\n      <td>2013.0</td>\n      <td>NaN</td>\n      <td>NaN</td>\n      <td>416.0</td>\n      <td>NaN</td>\n      <td>NaN</td>\n      <td>Художественная литература</td>\n      <td>65356</td>\n      <td>NaN</td>\n      <td>57</td>\n    </tr>\n    <tr>\n      <th>602854</th>\n      <td>610314</td>\n      <td>84(2Рос=Рус)6</td>\n      <td>2003.0</td>\n      <td>NaN</td>\n      <td>NaN</td>\n      <td>191.0</td>\n      <td>NaN</td>\n      <td>NaN</td>\n      <td>Художественная литература</td>\n      <td>65376</td>\n      <td>NaN</td>\n      <td>13</td>\n    </tr>\n    <tr>\n      <th>602855</th>\n      <td>644172</td>\n      <td>84(2Рос=Рус)6</td>\n      <td>2003.0</td>\n      <td>NaN</td>\n      <td>NaN</td>\n      <td>287.0</td>\n      <td>NaN</td>\n      <td>NaN</td>\n      <td>Художественная литература</td>\n      <td>65376</td>\n      <td>NaN</td>\n      <td>13</td>\n    </tr>\n    <tr>\n      <th>602856</th>\n      <td>1391565</td>\n      <td>84(2Рос=Рус)6</td>\n      <td>1984.0</td>\n      <td>NaN</td>\n      <td>NaN</td>\n      <td>519.0</td>\n      <td>NaN</td>\n      <td>NaN</td>\n      <td>Художественная литература</td>\n      <td>65454</td>\n      <td>NaN</td>\n      <td>8</td>\n    </tr>\n    <tr>\n      <th>602857</th>\n      <td>1374527</td>\n      <td>84(2Рос=Рус)6</td>\n      <td>1983.0</td>\n      <td>NaN</td>\n      <td>NaN</td>\n      <td>527.0</td>\n      <td>NaN</td>\n      <td>NaN</td>\n      <td>Художественная литература</td>\n      <td>65454</td>\n      <td>NaN</td>\n      <td>6</td>\n    </tr>\n  </tbody>\n</table>\n<p>602858 rows × 12 columns</p>\n</div>"
     },
     "execution_count": 182,
     "metadata": {},
     "output_type": "execute_result"
    }
   ],
   "source": [
    "books"
   ],
   "metadata": {
    "collapsed": false,
    "pycharm": {
     "name": "#%%\n"
    }
   }
  },
  {
   "cell_type": "code",
   "execution_count": 184,
   "outputs": [],
   "source": [
    "books.to_csv(f'{PROJECT_FOLDER}/data/books_new.csv', index=False)"
   ],
   "metadata": {
    "collapsed": false,
    "pycharm": {
     "name": "#%%\n"
    }
   }
  },
  {
   "cell_type": "code",
   "execution_count": null,
   "outputs": [],
   "source": [],
   "metadata": {
    "collapsed": false,
    "pycharm": {
     "name": "#%%\n"
    }
   }
  },
  {
   "cell_type": "code",
   "execution_count": null,
   "outputs": [],
   "source": [],
   "metadata": {
    "collapsed": false,
    "pycharm": {
     "name": "#%%\n"
    }
   }
  },
  {
   "cell_type": "code",
   "execution_count": null,
   "outputs": [],
   "source": [],
   "metadata": {
    "collapsed": false,
    "pycharm": {
     "name": "#%%\n"
    }
   }
  },
  {
   "cell_type": "code",
   "execution_count": 130,
   "outputs": [
    {
     "name": "stdout",
     "output_type": "stream",
     "text": [
      "<class 'pandas.core.frame.DataFrame'>\n",
      "RangeIndex: 602858 entries, 0 to 602857\n",
      "Data columns (total 12 columns):\n",
      " #   Column            Non-Null Count   Dtype  \n",
      "---  ------            --------------   -----  \n",
      " 0   id                602858 non-null  int64  \n",
      " 1   bbk               518424 non-null  object \n",
      " 2   year              527194 non-null  float64\n",
      " 3   author            420311 non-null  object \n",
      " 4   annotation        194681 non-null  object \n",
      " 5   volume            495596 non-null  float64\n",
      " 6   title_additional  33563 non-null   object \n",
      " 7   age_restriction   40516 non-null   float64\n",
      " 8   rubrics           513274 non-null  object \n",
      " 9   author_id         602858 non-null  uint16 \n",
      " 10  title             592833 non-null  object \n",
      " 11  available         602858 non-null  int64  \n",
      "dtypes: float64(3), int64(2), object(6), uint16(1)\n",
      "memory usage: 51.7+ MB\n"
     ]
    }
   ],
   "source": [
    "books.info()"
   ],
   "metadata": {
    "collapsed": false,
    "pycharm": {
     "name": "#%%\n"
    }
   }
  },
  {
   "cell_type": "code",
   "execution_count": 166,
   "outputs": [],
   "source": [
    "books_small = books[['id']]"
   ],
   "metadata": {
    "collapsed": false,
    "pycharm": {
     "name": "#%%\n"
    }
   }
  },
  {
   "cell_type": "code",
   "execution_count": 171,
   "outputs": [
    {
     "name": "stderr",
     "output_type": "stream",
     "text": [
      "100%|██████████| 602858/602858 [15:39<00:00, 641.49it/s] \n"
     ]
    }
   ],
   "source": [
    "reverse_main_id_dict = {}\n",
    "\n",
    "for i in tqdm(range(len(books_small))):\n",
    "    id = books_small.loc[i, ].to_list()[0]\n",
    "\n",
    "    if id in main_id_dict:\n",
    "        duplicated, available = main_id_dict[id]\n",
    "        books.loc[i, 'available'] = sum(available)\n",
    "\n",
    "        for dup_id in duplicated:\n",
    "            if dup_id in reverse_main_id_dict:\n",
    "                raise ValueError()\n",
    "\n",
    "            reverse_main_id_dict[dup_id] = id"
   ],
   "metadata": {
    "collapsed": false,
    "pycharm": {
     "name": "#%%\n"
    }
   }
  },
  {
   "cell_type": "code",
   "execution_count": 174,
   "outputs": [],
   "source": [
    "user_book_interactions.reset_index(drop=True, inplace=True)"
   ],
   "metadata": {
    "collapsed": false,
    "pycharm": {
     "name": "#%%\n"
    }
   }
  },
  {
   "cell_type": "code",
   "execution_count": 175,
   "outputs": [
    {
     "name": "stderr",
     "output_type": "stream",
     "text": [
      "583919it [11:26, 850.33it/s] \n"
     ]
    }
   ],
   "source": [
    "for i, book_id in tqdm(enumerate(user_book_interactions['book_id'])):\n",
    "    if book_id in reverse_main_id_dict:\n",
    "        user_book_interactions.loc[i, 'book_id'] = reverse_main_id_dict[book_id]"
   ],
   "metadata": {
    "collapsed": false,
    "pycharm": {
     "name": "#%%\n"
    }
   }
  },
  {
   "cell_type": "code",
   "execution_count": 173,
   "outputs": [
    {
     "data": {
      "text/plain": "193122"
     },
     "execution_count": 173,
     "metadata": {},
     "output_type": "execute_result"
    }
   ],
   "source": [
    "len(set(user_book_interactions['book_id']))"
   ],
   "metadata": {
    "collapsed": false,
    "pycharm": {
     "name": "#%%\n"
    }
   }
  },
  {
   "cell_type": "code",
   "execution_count": 177,
   "outputs": [
    {
     "data": {
      "text/plain": "166821"
     },
     "execution_count": 177,
     "metadata": {},
     "output_type": "execute_result"
    }
   ],
   "source": [
    "len(set(user_book_interactions['book_id']))"
   ],
   "metadata": {
    "collapsed": false,
    "pycharm": {
     "name": "#%%\n"
    }
   }
  },
  {
   "cell_type": "code",
   "execution_count": null,
   "outputs": [],
   "source": [],
   "metadata": {
    "collapsed": false,
    "pycharm": {
     "name": "#%%\n"
    }
   }
  },
  {
   "cell_type": "code",
   "execution_count": null,
   "outputs": [],
   "source": [],
   "metadata": {
    "collapsed": false,
    "pycharm": {
     "name": "#%%\n"
    }
   }
  },
  {
   "cell_type": "code",
   "execution_count": null,
   "outputs": [],
   "source": [],
   "metadata": {
    "collapsed": false,
    "pycharm": {
     "name": "#%%\n"
    }
   }
  },
  {
   "cell_type": "code",
   "execution_count": null,
   "outputs": [],
   "source": [],
   "metadata": {
    "collapsed": false,
    "pycharm": {
     "name": "#%%\n"
    }
   }
  },
  {
   "cell_type": "code",
   "execution_count": null,
   "outputs": [],
   "source": [],
   "metadata": {
    "collapsed": false,
    "pycharm": {
     "name": "#%%\n"
    }
   }
  },
  {
   "cell_type": "code",
   "execution_count": null,
   "outputs": [],
   "source": [],
   "metadata": {
    "collapsed": false,
    "pycharm": {
     "name": "#%%\n"
    }
   }
  }
 ],
 "metadata": {
  "kernelspec": {
   "display_name": "Python 3",
   "language": "python",
   "name": "python3"
  },
  "language_info": {
   "codemirror_mode": {
    "name": "ipython",
    "version": 2
   },
   "file_extension": ".py",
   "mimetype": "text/x-python",
   "name": "python",
   "nbconvert_exporter": "python",
   "pygments_lexer": "ipython2",
   "version": "2.7.6"
  }
 },
 "nbformat": 4,
 "nbformat_minor": 0
}