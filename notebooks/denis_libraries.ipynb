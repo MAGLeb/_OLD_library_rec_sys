{
 "nbformat": 4,
 "nbformat_minor": 5,
 "metadata": {
  "kernelspec": {
   "display_name": "Python 3",
   "language": "python",
   "name": "python3"
  },
  "language_info": {
   "codemirror_mode": {
    "name": "ipython",
    "version": 3
   },
   "file_extension": ".py",
   "mimetype": "text/x-python",
   "name": "python",
   "nbconvert_exporter": "python",
   "pygments_lexer": "ipython3",
   "version": "3.8.10"
  },
  "colab": {
   "name": "denis_libraries.ipynb",
   "provenance": [],
   "collapsed_sections": []
  }
 },
 "cells": [
  {
   "cell_type": "code",
   "metadata": {
    "id": "wicked-olympus"
   },
   "source": [
    "import pandas as pd"
   ],
   "id": "wicked-olympus",
   "execution_count": 2,
   "outputs": []
  },
  {
   "cell_type": "code",
   "metadata": {
    "colab": {
     "base_uri": "https://localhost:8080/",
     "height": 1000
    },
    "id": "sustained-maintenance",
    "outputId": "d50d20a4-e730-46af-fa6b-fc2460ed58d6"
   },
   "source": [
    "books = pd.read_json(\"../local/raw_data/books.jsn\")\n",
    "books[\"serial_name\"] = books[\"serial_name\"].apply(lambda x: x.lower() if x else \"\")\n",
    "books[\"material_name\"] = books[\"serial_name\"].apply(lambda x: x.lower() if x else \"\")\n",
    "books[\"rubric_name\"] = books[\"serial_name\"].apply(lambda x: x.lower() if x else \"\")\n",
    "books[\"main\"] = (books[\"author_fullName\"].str.lower() +\n",
    "                 \" [SEP] \" +\n",
    "                 books[\"title\"].apply(\n",
    "                     lambda x: x.lower().split(\":\")[0].strip()\n",
    "                 ))\n",
    "# group by author + book name\n",
    "books = (books.groupby([\"main\"])\n",
    "    .agg(\n",
    "        bbk=(\"bbk\", \"first\"),\n",
    "        title=(\"title\", \"first\"),\n",
    "        serial_name=(\"serial_name\", \"max\"),\n",
    "        material_name=(\"material_name\", \"max\"),\n",
    "        annotation=(\"annotation\", \"max\"),\n",
    "        rubric_name=(\"rubric_name\", \"max\"),\n",
    "        author_fullName=(\"author_fullName\", \"first\"),\n",
    "        id=(\n",
    "            \"id\",\n",
    "            lambda x: sorted(list(set(x))),\n",
    "        ),\n",
    "    )\n",
    "    .reset_index()\n",
    ")\n",
    "\n",
    "books[\"text\"] = (books[\"main\"] + \" [SEP] \" +\n",
    "                 books[\"rubric_name\"].str.lower() + \" [SEP] \" +\n",
    "                 books[\"serial_name\"].str.lower() + \" [SEP] \" +\n",
    "                 books[\"material_name\"].str.lower() + \" [SEP] \" +\n",
    "                 books[\"annotation\"].str.lower())\n",
    "books.to_csv(\"text_csv.csv\", index=None)\n",
    "books_dict = dict()\n",
    "for i, row in books.iterrows():\n",
    "    ids = row[\"id\"]\n",
    "    for book_id in ids:\n",
    "        books_dict[book_id] = row[\"text\"]\n",
    "books"
   ],
   "id": "sustained-maintenance",
   "execution_count": 3,
   "outputs": [
    {
     "data": {
      "text/plain": "                                                   main        bbk  \\\n0        clark mary higgins [SEP] weep no more, my lady         84   \n1     connelly michael [SEP] a darkness more than night   81.2Англ   \n2                  connelly michael [SEP] city of bones   81.2Англ   \n3                      connelly michael [SEP] echo park         84   \n4                       connelly michael [SEP] the drop         84   \n...                                                 ...        ...   \n3833  ярышевская елена николаевна [SEP] вышел пудель...          Д   \n3834  ясницкий леонид нахимович [SEP] современные пр...         72   \n3835              яхина гузель шамилевна [SEP] дети мои  84(2Рос)6   \n3836  яхина гузель шамилевна [SEP] зулейха открывает...  84(2Рос)6   \n3837   яхина гузель шамилевна [SEP] эшелон на самарканд  84(2Рос)6   \n\n                                                  title  \\\n0                                 Weep No More, My Lady   \n1     A Darkness More Than Night : a novel; [кн. на ...   \n2                    City of Bones : [кн. на англ. яз.]   \n3                                             Echo Park   \n4                                              The Drop   \n...                                                 ...   \n3833                              Вышел пудель погулять   \n3834       Современные проблемы науки : учебное пособие   \n3835                                   Дети мои : роман   \n3836                            Зулейха открывает глаза   \n3837                        Эшелон на Самарканд : роман   \n\n                               serial_name  \\\n0                                            \n1                                            \n2                                            \n3                                            \n4                                            \n...                                    ...   \n3833  строчка за строчкой с сыном и дочкой   \n3834                                         \n3835                   проза гузель яхиной   \n3836                   проза гузель яхиной   \n3837                   проза гузель яхиной   \n\n                             material_name  \\\n0                                            \n1                                            \n2                                            \n3                                            \n4                                            \n...                                    ...   \n3833  строчка за строчкой с сыном и дочкой   \n3834                                         \n3835                   проза гузель яхиной   \n3836                   проза гузель яхиной   \n3837                   проза гузель яхиной   \n\n                                             annotation  \\\n0                                                         \n1     A Darkness More Than Night is the tenth novel ...   \n2     On New Year's Day, Detective Harry Bosch field...   \n3                                                         \n4                                                         \n...                                                 ...   \n3833  Вы знаете, какие собаки считаются самыми мален...   \n3834  Рассмотрены вопросы становления и эволюции нау...   \n3835  Новый роман лауреата премий \"Большая книга\" и ...   \n3836  Гузель Яхина родилась и выросла в Казани, окон...   \n3837  Гузель Яхина - самая яркая дебютантка в истори...   \n\n                               rubric_name              author_fullName  \\\n0                                                    Clark Mary Higgins   \n1                                                      Connelly Michael   \n2                                                      Connelly Michael   \n3                                                      Connelly Michael   \n4                                                      Connelly Michael   \n...                                    ...                          ...   \n3833  строчка за строчкой с сыном и дочкой  Ярышевская Елена Николаевна   \n3834                                          Ясницкий Леонид Нахимович   \n3835                   проза гузель яхиной       Яхина Гузель Шамилевна   \n3836                   проза гузель яхиной       Яхина Гузель Шамилевна   \n3837                   проза гузель яхиной       Яхина Гузель Шамилевна   \n\n                      id                                               text  \n0              [1177634]  clark mary higgins [SEP] weep no more, my lady...  \n1              [1627543]  connelly michael [SEP] a darkness more than ni...  \n2              [1627533]  connelly michael [SEP] city of bones [SEP]  [S...  \n3              [1178414]  connelly michael [SEP] echo park [SEP]  [SEP] ...  \n4              [1028952]  connelly michael [SEP] the drop [SEP]  [SEP]  ...  \n...                  ...                                                ...  \n3833           [1951187]  ярышевская елена николаевна [SEP] вышел пудель...  \n3834           [1758200]  ясницкий леонид нахимович [SEP] современные пр...  \n3835   [324421, 1512269]  яхина гузель шамилевна [SEP] дети мои [SEP] пр...  \n3836  [1389555, 1814545]  яхина гузель шамилевна [SEP] зулейха открывает...  \n3837           [2001117]  яхина гузель шамилевна [SEP] эшелон на самарка...  \n\n[3838 rows x 10 columns]",
      "text/html": "<div>\n<style scoped>\n    .dataframe tbody tr th:only-of-type {\n        vertical-align: middle;\n    }\n\n    .dataframe tbody tr th {\n        vertical-align: top;\n    }\n\n    .dataframe thead th {\n        text-align: right;\n    }\n</style>\n<table border=\"1\" class=\"dataframe\">\n  <thead>\n    <tr style=\"text-align: right;\">\n      <th></th>\n      <th>main</th>\n      <th>bbk</th>\n      <th>title</th>\n      <th>serial_name</th>\n      <th>material_name</th>\n      <th>annotation</th>\n      <th>rubric_name</th>\n      <th>author_fullName</th>\n      <th>id</th>\n      <th>text</th>\n    </tr>\n  </thead>\n  <tbody>\n    <tr>\n      <th>0</th>\n      <td>clark mary higgins [SEP] weep no more, my lady</td>\n      <td>84</td>\n      <td>Weep No More, My Lady</td>\n      <td></td>\n      <td></td>\n      <td></td>\n      <td></td>\n      <td>Clark Mary Higgins</td>\n      <td>[1177634]</td>\n      <td>clark mary higgins [SEP] weep no more, my lady...</td>\n    </tr>\n    <tr>\n      <th>1</th>\n      <td>connelly michael [SEP] a darkness more than night</td>\n      <td>81.2Англ</td>\n      <td>A Darkness More Than Night : a novel; [кн. на ...</td>\n      <td></td>\n      <td></td>\n      <td>A Darkness More Than Night is the tenth novel ...</td>\n      <td></td>\n      <td>Connelly Michael</td>\n      <td>[1627543]</td>\n      <td>connelly michael [SEP] a darkness more than ni...</td>\n    </tr>\n    <tr>\n      <th>2</th>\n      <td>connelly michael [SEP] city of bones</td>\n      <td>81.2Англ</td>\n      <td>City of Bones : [кн. на англ. яз.]</td>\n      <td></td>\n      <td></td>\n      <td>On New Year's Day, Detective Harry Bosch field...</td>\n      <td></td>\n      <td>Connelly Michael</td>\n      <td>[1627533]</td>\n      <td>connelly michael [SEP] city of bones [SEP]  [S...</td>\n    </tr>\n    <tr>\n      <th>3</th>\n      <td>connelly michael [SEP] echo park</td>\n      <td>84</td>\n      <td>Echo Park</td>\n      <td></td>\n      <td></td>\n      <td></td>\n      <td></td>\n      <td>Connelly Michael</td>\n      <td>[1178414]</td>\n      <td>connelly michael [SEP] echo park [SEP]  [SEP] ...</td>\n    </tr>\n    <tr>\n      <th>4</th>\n      <td>connelly michael [SEP] the drop</td>\n      <td>84</td>\n      <td>The Drop</td>\n      <td></td>\n      <td></td>\n      <td></td>\n      <td></td>\n      <td>Connelly Michael</td>\n      <td>[1028952]</td>\n      <td>connelly michael [SEP] the drop [SEP]  [SEP]  ...</td>\n    </tr>\n    <tr>\n      <th>...</th>\n      <td>...</td>\n      <td>...</td>\n      <td>...</td>\n      <td>...</td>\n      <td>...</td>\n      <td>...</td>\n      <td>...</td>\n      <td>...</td>\n      <td>...</td>\n      <td>...</td>\n    </tr>\n    <tr>\n      <th>3833</th>\n      <td>ярышевская елена николаевна [SEP] вышел пудель...</td>\n      <td>Д</td>\n      <td>Вышел пудель погулять</td>\n      <td>строчка за строчкой с сыном и дочкой</td>\n      <td>строчка за строчкой с сыном и дочкой</td>\n      <td>Вы знаете, какие собаки считаются самыми мален...</td>\n      <td>строчка за строчкой с сыном и дочкой</td>\n      <td>Ярышевская Елена Николаевна</td>\n      <td>[1951187]</td>\n      <td>ярышевская елена николаевна [SEP] вышел пудель...</td>\n    </tr>\n    <tr>\n      <th>3834</th>\n      <td>ясницкий леонид нахимович [SEP] современные пр...</td>\n      <td>72</td>\n      <td>Современные проблемы науки : учебное пособие</td>\n      <td></td>\n      <td></td>\n      <td>Рассмотрены вопросы становления и эволюции нау...</td>\n      <td></td>\n      <td>Ясницкий Леонид Нахимович</td>\n      <td>[1758200]</td>\n      <td>ясницкий леонид нахимович [SEP] современные пр...</td>\n    </tr>\n    <tr>\n      <th>3835</th>\n      <td>яхина гузель шамилевна [SEP] дети мои</td>\n      <td>84(2Рос)6</td>\n      <td>Дети мои : роман</td>\n      <td>проза гузель яхиной</td>\n      <td>проза гузель яхиной</td>\n      <td>Новый роман лауреата премий \"Большая книга\" и ...</td>\n      <td>проза гузель яхиной</td>\n      <td>Яхина Гузель Шамилевна</td>\n      <td>[324421, 1512269]</td>\n      <td>яхина гузель шамилевна [SEP] дети мои [SEP] пр...</td>\n    </tr>\n    <tr>\n      <th>3836</th>\n      <td>яхина гузель шамилевна [SEP] зулейха открывает...</td>\n      <td>84(2Рос)6</td>\n      <td>Зулейха открывает глаза</td>\n      <td>проза гузель яхиной</td>\n      <td>проза гузель яхиной</td>\n      <td>Гузель Яхина родилась и выросла в Казани, окон...</td>\n      <td>проза гузель яхиной</td>\n      <td>Яхина Гузель Шамилевна</td>\n      <td>[1389555, 1814545]</td>\n      <td>яхина гузель шамилевна [SEP] зулейха открывает...</td>\n    </tr>\n    <tr>\n      <th>3837</th>\n      <td>яхина гузель шамилевна [SEP] эшелон на самарканд</td>\n      <td>84(2Рос)6</td>\n      <td>Эшелон на Самарканд : роман</td>\n      <td>проза гузель яхиной</td>\n      <td>проза гузель яхиной</td>\n      <td>Гузель Яхина - самая яркая дебютантка в истори...</td>\n      <td>проза гузель яхиной</td>\n      <td>Яхина Гузель Шамилевна</td>\n      <td>[2001117]</td>\n      <td>яхина гузель шамилевна [SEP] эшелон на самарка...</td>\n    </tr>\n  </tbody>\n</table>\n<p>3838 rows × 10 columns</p>\n</div>"
     },
     "execution_count": 3,
     "metadata": {},
     "output_type": "execute_result"
    }
   ]
  },
  {
   "cell_type": "code",
   "metadata": {
    "colab": {
     "base_uri": "https://localhost:8080/"
    },
    "id": "Retm9fcQKC3j",
    "outputId": "d775aa98-6f71-44fe-cf0c-5dbf065c859a"
   },
   "source": [
    "!iconv -f cp1251 < drive/MyDrive/libraries/datasets_biblioteki/datasets_2/siglas.csv | head"
   ],
   "id": "Retm9fcQKC3j",
   "execution_count": 20,
   "outputs": [
    {
     "output_type": "stream",
     "name": "stdout",
     "text": [
      "id;cbs;adress;name;eisk;;\r\n",
      "1;3;ул. Клары Цеткин, д. 11, корп. 1;21-1;284375696001;;\r\n",
      "2;3;ул. Космонавта Волкова, д. 3;21-2;284375229001;;\r\n",
      "3;3;Ленинградское ш., д. 114;22-1;284384346001;;\r\n",
      "4;3;Ленинградское ш., д. 120;22-2;284384353001;;\r\n",
      "5;3;ул. Астрадамская, д. 4;23-1;284385857001;;\r\n",
      "6;3;ул. Тимирязевская, д. 17, корп. 1;23-2;284385867001;;\r\n",
      "7;3;ул. Новопесчаная, д. 23 корп.7;24;284385847001;;\r\n",
      "8;3;ул. Врубеля, д. 13;25;284385826001;;\r\n",
      "9;3;ул. Зеленоградская, д. 27А;26;284385821001;;\r\n"
     ]
    }
   ]
  },
  {
   "cell_type": "code",
   "metadata": {
    "colab": {
     "base_uri": "https://localhost:8080/"
    },
    "id": "6GEqHnRaImah",
    "outputId": "60f0fa97-4296-4f3f-b1bf-35da8d28ed94"
   },
   "source": [
    "!iconv -f cp1251 < drive/MyDrive/libraries/datasets_biblioteki/datasets_2/cat_1.csv | head"
   ],
   "id": "6GEqHnRaImah",
   "execution_count": 21,
   "outputs": [
    {
     "output_type": "stream",
     "name": "stdout",
     "text": [
      "recId;aut;title;place;publ;yea;lan;rubrics;person;serial;material;biblevel;ager\r\n",
      "1;Устинова Татьяна Витальевна;Призрак Канта;Москва;Эксмо;2018;rus;Художественная литература : Российский детектив;;Татьяна Устинова. Первая среди лучших;Текст. материал;Монография;16+\r\n",
      "2;;Наука и жизнь;Москва;Редакция журнала «Наука и жизнь»;1938-;rus;Наука. Науковедение;;;Текст. материал;Периодика;12+\r\n",
      "3;;Наука и жизнь;;;2018;rus;Наука. Науковедение;;;Текст. материал;Монография;12+\r\n",
      "4;;Наука и жизнь;;;2018;rus;Наука. Науковедение;;;Текст. материал;Монография;12+\r\n",
      "5;;Наука и жизнь;;;2018;rus;Наука. Науковедение;;;Текст. материал;Монография;12+\r\n",
      "6;Тараканов Борис Игоревич;Кольцо времени;Москва;АиФ Принт;2001;rus;Художественная литература : Фэнтэзи;;Черная звезда;Текст. материал;Монография;\r\n",
      "8;;Фантастика-86;Москва;Молодая гвардия;1986;;Художественная литература;;;Текст. материал;Монография;\r\n",
      "9;;Фантастика-90;Москва;Молодая гвардия;1990;;Художественная литература : Фантастика;;;Текст. материал;Монография;\r\n",
      "10;Федотова Надежда Григорьевна;Вождей не выбирают;Москва;Армада , Альфа-книга;2005;rus;Художественная литература : Художественно-документальная проза. Мемуары;;;Текст. материал;Монография;\r\n"
     ]
    }
   ]
  },
  {
   "cell_type": "code",
   "metadata": {
    "colab": {
     "base_uri": "https://localhost:8080/",
     "height": 615
    },
    "id": "e-ojhQMVankh",
    "outputId": "e0bbbe7e-0768-4682-85ae-112c530a1ed7"
   },
   "source": [
    "interactions = pd.read_excel(\"../local/raw_data/dataset_knigi_1.xlsx\")\n",
    "interactions[\"book_id\"] = interactions[\"source_url\"].str.split(\"/\").str[-2].astype(int)\n",
    "interactions[\"book_str\"] = interactions[\"book_id\"].replace(books_dict)\n",
    "print(interactions[\"event\"].unique())\n",
    "interactions"
   ],
   "id": "e-ojhQMVankh",
   "execution_count": 10,
   "outputs": [
    {
     "name": "stdout",
     "output_type": "stream",
     "text": [
      "['add' 'create_order']\n"
     ]
    },
    {
     "data": {
      "text/plain": "                                  source_url         event         dt  \\\n0     https://www.mos.ru/knigi/book/1163786/           add 2021-06-01   \n1       https://www.mos.ru/knigi/book/66612/           add 2021-06-01   \n2     https://www.mos.ru/knigi/book/1034596/           add 2021-06-01   \n3     https://www.mos.ru/knigi/book/1152760/           add 2021-06-01   \n4       https://www.mos.ru/knigi/book/16168/           add 2021-06-01   \n...                                      ...           ...        ...   \n4181  https://www.mos.ru/knigi/book/1024959/  create_order 2021-03-30   \n4182   https://www.mos.ru/knigi/book/915148/  create_order 2021-03-30   \n4183  https://www.mos.ru/knigi/book/1859007/  create_order 2021-03-30   \n4184   https://www.mos.ru/knigi/book/218302/  create_order 2021-03-31   \n4185   https://www.mos.ru/knigi/book/962038/  create_order 2021-03-31   \n\n      user_id  book_id                                           book_str  \n0           1  1163786  бэйли гвен [SEP] о чем думает ваша собака? [SE...  \n1           1    66612  яковлев юрий яковлевич [SEP] у человека должна...  \n2           1  1034596  баранова марта петровна [SEP] тяпа, борька и р...  \n3           1  1152760  дункан дэвид дуглас [SEP] лумп - собака, котор...  \n4           1    16168  брюгген мария ван [SEP] почему собака лает и е...  \n...       ...      ...                                                ...  \n4181      103  1024959  носов николай [SEP] незнайка на луне [SEP]  [S...  \n4182      103   915148  поликарпова татьяна николаевна [SEP] листья бу...  \n4183      103  1859007  лабковский михаил александрович [SEP] про любо...  \n4184      103   218302  андерсон пол уильям [SEP] операция \"хаос\"; три...  \n4185      103   962038  хорост майкл [SEP] всемирный разум [SEP] мозг ...  \n\n[4186 rows x 6 columns]",
      "text/html": "<div>\n<style scoped>\n    .dataframe tbody tr th:only-of-type {\n        vertical-align: middle;\n    }\n\n    .dataframe tbody tr th {\n        vertical-align: top;\n    }\n\n    .dataframe thead th {\n        text-align: right;\n    }\n</style>\n<table border=\"1\" class=\"dataframe\">\n  <thead>\n    <tr style=\"text-align: right;\">\n      <th></th>\n      <th>source_url</th>\n      <th>event</th>\n      <th>dt</th>\n      <th>user_id</th>\n      <th>book_id</th>\n      <th>book_str</th>\n    </tr>\n  </thead>\n  <tbody>\n    <tr>\n      <th>0</th>\n      <td>https://www.mos.ru/knigi/book/1163786/</td>\n      <td>add</td>\n      <td>2021-06-01</td>\n      <td>1</td>\n      <td>1163786</td>\n      <td>бэйли гвен [SEP] о чем думает ваша собака? [SE...</td>\n    </tr>\n    <tr>\n      <th>1</th>\n      <td>https://www.mos.ru/knigi/book/66612/</td>\n      <td>add</td>\n      <td>2021-06-01</td>\n      <td>1</td>\n      <td>66612</td>\n      <td>яковлев юрий яковлевич [SEP] у человека должна...</td>\n    </tr>\n    <tr>\n      <th>2</th>\n      <td>https://www.mos.ru/knigi/book/1034596/</td>\n      <td>add</td>\n      <td>2021-06-01</td>\n      <td>1</td>\n      <td>1034596</td>\n      <td>баранова марта петровна [SEP] тяпа, борька и р...</td>\n    </tr>\n    <tr>\n      <th>3</th>\n      <td>https://www.mos.ru/knigi/book/1152760/</td>\n      <td>add</td>\n      <td>2021-06-01</td>\n      <td>1</td>\n      <td>1152760</td>\n      <td>дункан дэвид дуглас [SEP] лумп - собака, котор...</td>\n    </tr>\n    <tr>\n      <th>4</th>\n      <td>https://www.mos.ru/knigi/book/16168/</td>\n      <td>add</td>\n      <td>2021-06-01</td>\n      <td>1</td>\n      <td>16168</td>\n      <td>брюгген мария ван [SEP] почему собака лает и е...</td>\n    </tr>\n    <tr>\n      <th>...</th>\n      <td>...</td>\n      <td>...</td>\n      <td>...</td>\n      <td>...</td>\n      <td>...</td>\n      <td>...</td>\n    </tr>\n    <tr>\n      <th>4181</th>\n      <td>https://www.mos.ru/knigi/book/1024959/</td>\n      <td>create_order</td>\n      <td>2021-03-30</td>\n      <td>103</td>\n      <td>1024959</td>\n      <td>носов николай [SEP] незнайка на луне [SEP]  [S...</td>\n    </tr>\n    <tr>\n      <th>4182</th>\n      <td>https://www.mos.ru/knigi/book/915148/</td>\n      <td>create_order</td>\n      <td>2021-03-30</td>\n      <td>103</td>\n      <td>915148</td>\n      <td>поликарпова татьяна николаевна [SEP] листья бу...</td>\n    </tr>\n    <tr>\n      <th>4183</th>\n      <td>https://www.mos.ru/knigi/book/1859007/</td>\n      <td>create_order</td>\n      <td>2021-03-30</td>\n      <td>103</td>\n      <td>1859007</td>\n      <td>лабковский михаил александрович [SEP] про любо...</td>\n    </tr>\n    <tr>\n      <th>4184</th>\n      <td>https://www.mos.ru/knigi/book/218302/</td>\n      <td>create_order</td>\n      <td>2021-03-31</td>\n      <td>103</td>\n      <td>218302</td>\n      <td>андерсон пол уильям [SEP] операция \"хаос\"; три...</td>\n    </tr>\n    <tr>\n      <th>4185</th>\n      <td>https://www.mos.ru/knigi/book/962038/</td>\n      <td>create_order</td>\n      <td>2021-03-31</td>\n      <td>103</td>\n      <td>962038</td>\n      <td>хорост майкл [SEP] всемирный разум [SEP] мозг ...</td>\n    </tr>\n  </tbody>\n</table>\n<p>4186 rows × 6 columns</p>\n</div>"
     },
     "execution_count": 10,
     "metadata": {},
     "output_type": "execute_result"
    }
   ]
  },
  {
   "cell_type": "code",
   "metadata": {
    "colab": {
     "base_uri": "https://localhost:8080/",
     "height": 122
    },
    "id": "xe9a2oxWcHvg",
    "outputId": "1a8d9a1f-e846-47e8-d715-d2b6be7b741c"
   },
   "source": [
    "# interactions[interactions[\"event\"] == \"create_order\"]\n",
    "mos_user_book_dict = (\n",
    "    interactions.groupby(\"user_id\")\n",
    "                .apply(lambda x: set(\n",
    "                                 list(x[\"book_id\"])\n",
    "                                 )\n",
    "                )\n",
    "                .to_dict()\n",
    "                )\n",
    "str(list(mos_user_book_dict.items())[1])"
   ],
   "id": "xe9a2oxWcHvg",
   "execution_count": 11,
   "outputs": [
    {
     "data": {
      "text/plain": "'(2, {1224064, 1652993, 1648003, 1323524, 2097031, 1863048, 12556, 1653518, 42235, 2496376, 2522648, 735129, 1600025, 2496123, 2088604, 2113053, 1653149, 1429919, 2024605, 1445920, 2111270, 1588519, 1801641, 1650986, 1652011, 1055787, 1652350, 2005551, 266291, 1569973, 871094, 2111674, 1595834, 352956, 265277, 1594174, 274367, 1863356, 265283, 2111686, 1554631, 2510920, 1554632, 1610570, 871755, 1554637, 1554638, 2109774, 2107090, 1863382, 1954135, 1238, 2005595, 961371, 1565662, 267615, 1853920, 2522594, 1210981, 1001703, 2522473, 12651, 2119021, 1957742, 1962235, 6128, 1847411, 1818996, 906231, 6135, 2111224, 1721723, 1421694})'"
     },
     "execution_count": 11,
     "metadata": {},
     "output_type": "execute_result"
    }
   ]
  },
  {
   "cell_type": "code",
   "execution_count": 13,
   "outputs": [
    {
     "data": {
      "text/plain": "   user_id  book_id          dt\n0   118736     5186  01.09.2019\n1   118736   316682  01.09.2019\n2   180893   751608  01.09.2019\n3   201318   585605  01.09.2019\n4   201318    41656  01.09.2019",
      "text/html": "<div>\n<style scoped>\n    .dataframe tbody tr th:only-of-type {\n        vertical-align: middle;\n    }\n\n    .dataframe tbody tr th {\n        vertical-align: top;\n    }\n\n    .dataframe thead th {\n        text-align: right;\n    }\n</style>\n<table border=\"1\" class=\"dataframe\">\n  <thead>\n    <tr style=\"text-align: right;\">\n      <th></th>\n      <th>user_id</th>\n      <th>book_id</th>\n      <th>dt</th>\n    </tr>\n  </thead>\n  <tbody>\n    <tr>\n      <th>0</th>\n      <td>118736</td>\n      <td>5186</td>\n      <td>01.09.2019</td>\n    </tr>\n    <tr>\n      <th>1</th>\n      <td>118736</td>\n      <td>316682</td>\n      <td>01.09.2019</td>\n    </tr>\n    <tr>\n      <th>2</th>\n      <td>180893</td>\n      <td>751608</td>\n      <td>01.09.2019</td>\n    </tr>\n    <tr>\n      <th>3</th>\n      <td>201318</td>\n      <td>585605</td>\n      <td>01.09.2019</td>\n    </tr>\n    <tr>\n      <th>4</th>\n      <td>201318</td>\n      <td>41656</td>\n      <td>01.09.2019</td>\n    </tr>\n  </tbody>\n</table>\n</div>"
     },
     "execution_count": 13,
     "metadata": {},
     "output_type": "execute_result"
    }
   ],
   "source": [
    "circulaton_df = pd.read_csv('../local/raw_data/circulations.csv')\n",
    "circulaton_df.head()"
   ],
   "metadata": {
    "collapsed": false,
    "pycharm": {
     "name": "#%%\n"
    }
   }
  },
  {
   "cell_type": "code",
   "metadata": {
    "id": "QqikyjKxgpyc"
   },
   "source": [
    "circulation_reader_book_dict = (\n",
    "    circulaton_df.groupby(\"user_id\")\n",
    "                 .apply(lambda x: set(list(x[\"book_id\"])))\n",
    "                 .to_dict()\n",
    ")"
   ],
   "id": "QqikyjKxgpyc",
   "execution_count": 14,
   "outputs": []
  },
  {
   "cell_type": "code",
   "metadata": {
    "colab": {
     "base_uri": "https://localhost:8080/",
     "height": 461
    },
    "id": "JUNvzNyDhWWe",
    "outputId": "fda6d60d-fe17-45ed-fc04-5d39f4cb8812"
   },
   "source": [
    "# матчи пользователей из циркулатона\n",
    "# с пользователями мос.ру по айдишникам книжек\n",
    "mos_circ_user = dict()\n",
    "for user, user_books in mos_user_book_dict.items():\n",
    "    max_intersect = 0\n",
    "    max_circ_user = None\n",
    "    circ_books_total = 0\n",
    "    for circ_reader, circ_books in circulation_reader_book_dict.items():\n",
    "        intersection = len(user_books.intersection(circ_books))\n",
    "        if intersection > max_intersect:\n",
    "            max_intersect = intersection\n",
    "            max_circ_user = circ_reader\n",
    "            circ_books_total = len(circ_books)\n",
    "    if max_intersect > 0:\n",
    "        mos_circ_user[user] = {\"circ_user\": max_circ_user,\n",
    "                            \"intersection\": max_intersect,\n",
    "                            \"circ_books_total\": circ_books_total,\n",
    "                            \"mos_perc\": max_intersect / len(user_books),\n",
    "                            \"circ_perc\": max_intersect / circ_books_total,\n",
    "                            \"mos_books\": len(user_books)\n",
    "                            }\n",
    "        print(f\"\\r{user}: {str(mos_circ_user[user])}\", end=\"\")\n",
    "mos_circ_user_df = pd.DataFrame(mos_circ_user).T\n",
    "mos_circ_user_df"
   ],
   "id": "JUNvzNyDhWWe",
   "execution_count": 16,
   "outputs": [
    {
     "name": "stdout",
     "output_type": "stream",
     "text": [
      "103: {'circ_user': 539903, 'intersection': 2, 'circ_books_total': 7, 'mos_perc': 0.03076923076923077, 'circ_perc': 0.2857142857142857, 'mos_books': 65}}3}"
     ]
    },
    {
     "data": {
      "text/plain": "     circ_user  intersection  circ_books_total  mos_perc  circ_perc  mos_books\n1     647497.0           9.0              11.0  0.067669   0.818182      133.0\n2     135729.0           4.0               8.0  0.054795   0.500000       73.0\n3       6336.0           1.0               7.0  0.071429   0.142857       14.0\n4      14613.0           1.0               7.0  0.076923   0.142857       13.0\n5      18394.0           2.0               6.0  0.023810   0.333333       84.0\n..         ...           ...               ...       ...        ...        ...\n99     39853.0           1.0               4.0  0.090909   0.250000       11.0\n100   425231.0           1.0               5.0  0.052632   0.200000       19.0\n101   219058.0           5.0              12.0  0.131579   0.416667       38.0\n102    16352.0           2.0              10.0  0.090909   0.200000       22.0\n103   539903.0           2.0               7.0  0.030769   0.285714       65.0\n\n[97 rows x 6 columns]",
      "text/html": "<div>\n<style scoped>\n    .dataframe tbody tr th:only-of-type {\n        vertical-align: middle;\n    }\n\n    .dataframe tbody tr th {\n        vertical-align: top;\n    }\n\n    .dataframe thead th {\n        text-align: right;\n    }\n</style>\n<table border=\"1\" class=\"dataframe\">\n  <thead>\n    <tr style=\"text-align: right;\">\n      <th></th>\n      <th>circ_user</th>\n      <th>intersection</th>\n      <th>circ_books_total</th>\n      <th>mos_perc</th>\n      <th>circ_perc</th>\n      <th>mos_books</th>\n    </tr>\n  </thead>\n  <tbody>\n    <tr>\n      <th>1</th>\n      <td>647497.0</td>\n      <td>9.0</td>\n      <td>11.0</td>\n      <td>0.067669</td>\n      <td>0.818182</td>\n      <td>133.0</td>\n    </tr>\n    <tr>\n      <th>2</th>\n      <td>135729.0</td>\n      <td>4.0</td>\n      <td>8.0</td>\n      <td>0.054795</td>\n      <td>0.500000</td>\n      <td>73.0</td>\n    </tr>\n    <tr>\n      <th>3</th>\n      <td>6336.0</td>\n      <td>1.0</td>\n      <td>7.0</td>\n      <td>0.071429</td>\n      <td>0.142857</td>\n      <td>14.0</td>\n    </tr>\n    <tr>\n      <th>4</th>\n      <td>14613.0</td>\n      <td>1.0</td>\n      <td>7.0</td>\n      <td>0.076923</td>\n      <td>0.142857</td>\n      <td>13.0</td>\n    </tr>\n    <tr>\n      <th>5</th>\n      <td>18394.0</td>\n      <td>2.0</td>\n      <td>6.0</td>\n      <td>0.023810</td>\n      <td>0.333333</td>\n      <td>84.0</td>\n    </tr>\n    <tr>\n      <th>...</th>\n      <td>...</td>\n      <td>...</td>\n      <td>...</td>\n      <td>...</td>\n      <td>...</td>\n      <td>...</td>\n    </tr>\n    <tr>\n      <th>99</th>\n      <td>39853.0</td>\n      <td>1.0</td>\n      <td>4.0</td>\n      <td>0.090909</td>\n      <td>0.250000</td>\n      <td>11.0</td>\n    </tr>\n    <tr>\n      <th>100</th>\n      <td>425231.0</td>\n      <td>1.0</td>\n      <td>5.0</td>\n      <td>0.052632</td>\n      <td>0.200000</td>\n      <td>19.0</td>\n    </tr>\n    <tr>\n      <th>101</th>\n      <td>219058.0</td>\n      <td>5.0</td>\n      <td>12.0</td>\n      <td>0.131579</td>\n      <td>0.416667</td>\n      <td>38.0</td>\n    </tr>\n    <tr>\n      <th>102</th>\n      <td>16352.0</td>\n      <td>2.0</td>\n      <td>10.0</td>\n      <td>0.090909</td>\n      <td>0.200000</td>\n      <td>22.0</td>\n    </tr>\n    <tr>\n      <th>103</th>\n      <td>539903.0</td>\n      <td>2.0</td>\n      <td>7.0</td>\n      <td>0.030769</td>\n      <td>0.285714</td>\n      <td>65.0</td>\n    </tr>\n  </tbody>\n</table>\n<p>97 rows × 6 columns</p>\n</div>"
     },
     "execution_count": 16,
     "metadata": {},
     "output_type": "execute_result"
    }
   ]
  },
  {
   "cell_type": "code",
   "metadata": {
    "colab": {
     "base_uri": "https://localhost:8080/",
     "height": 424
    },
    "id": "s0Tp_A2smz-J",
    "outputId": "a3ed9f86-4072-42ae-9b09-b6d2aafa3230"
   },
   "source": [
    "mos_circ_user_df[mos_circ_user_df['circ_perc'] == 1]"
   ],
   "id": "s0Tp_A2smz-J",
   "execution_count": 18,
   "outputs": [
    {
     "data": {
      "text/plain": "    circ_user  intersection  circ_books_total  mos_perc  circ_perc  mos_books\n29     6434.0           1.0               1.0  0.090909        1.0       11.0\n61     4209.0           2.0               2.0  0.068966        1.0       29.0",
      "text/html": "<div>\n<style scoped>\n    .dataframe tbody tr th:only-of-type {\n        vertical-align: middle;\n    }\n\n    .dataframe tbody tr th {\n        vertical-align: top;\n    }\n\n    .dataframe thead th {\n        text-align: right;\n    }\n</style>\n<table border=\"1\" class=\"dataframe\">\n  <thead>\n    <tr style=\"text-align: right;\">\n      <th></th>\n      <th>circ_user</th>\n      <th>intersection</th>\n      <th>circ_books_total</th>\n      <th>mos_perc</th>\n      <th>circ_perc</th>\n      <th>mos_books</th>\n    </tr>\n  </thead>\n  <tbody>\n    <tr>\n      <th>29</th>\n      <td>6434.0</td>\n      <td>1.0</td>\n      <td>1.0</td>\n      <td>0.090909</td>\n      <td>1.0</td>\n      <td>11.0</td>\n    </tr>\n    <tr>\n      <th>61</th>\n      <td>4209.0</td>\n      <td>2.0</td>\n      <td>2.0</td>\n      <td>0.068966</td>\n      <td>1.0</td>\n      <td>29.0</td>\n    </tr>\n  </tbody>\n</table>\n</div>"
     },
     "execution_count": 18,
     "metadata": {},
     "output_type": "execute_result"
    }
   ]
  },
  {
   "cell_type": "code",
   "execution_count": 19,
   "outputs": [
    {
     "data": {
      "text/plain": "    circ_user  intersection  circ_books_total  mos_perc  circ_perc  mos_books\n98   648840.0           5.0               9.0       1.0   0.555556        5.0",
      "text/html": "<div>\n<style scoped>\n    .dataframe tbody tr th:only-of-type {\n        vertical-align: middle;\n    }\n\n    .dataframe tbody tr th {\n        vertical-align: top;\n    }\n\n    .dataframe thead th {\n        text-align: right;\n    }\n</style>\n<table border=\"1\" class=\"dataframe\">\n  <thead>\n    <tr style=\"text-align: right;\">\n      <th></th>\n      <th>circ_user</th>\n      <th>intersection</th>\n      <th>circ_books_total</th>\n      <th>mos_perc</th>\n      <th>circ_perc</th>\n      <th>mos_books</th>\n    </tr>\n  </thead>\n  <tbody>\n    <tr>\n      <th>98</th>\n      <td>648840.0</td>\n      <td>5.0</td>\n      <td>9.0</td>\n      <td>1.0</td>\n      <td>0.555556</td>\n      <td>5.0</td>\n    </tr>\n  </tbody>\n</table>\n</div>"
     },
     "execution_count": 19,
     "metadata": {},
     "output_type": "execute_result"
    }
   ],
   "source": [
    "mos_circ_user_df[mos_circ_user_df['mos_perc'] == 1]"
   ],
   "metadata": {
    "collapsed": false,
    "pycharm": {
     "name": "#%%\n"
    }
   }
  }
 ]
}