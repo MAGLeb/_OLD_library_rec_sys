{
 "cells": [
  {
   "cell_type": "code",
   "execution_count": 2,
   "metadata": {
    "collapsed": true
   },
   "outputs": [],
   "source": [
    "import os\n",
    "import re\n",
    "import numbers\n",
    "\n",
    "import pandas as pd\n",
    "import numpy as np"
   ]
  },
  {
   "cell_type": "code",
   "execution_count": 3,
   "outputs": [],
   "source": [
    "PROJECT_FOLDER = os.path.abspath('..')"
   ],
   "metadata": {
    "collapsed": false,
    "pycharm": {
     "name": "#%%\n"
    }
   }
  },
  {
   "cell_type": "markdown",
   "source": [
    "# 1. Watching files:\n",
    "### 1.1 data/result_task3.csv"
   ],
   "metadata": {
    "collapsed": false,
    "pycharm": {
     "name": "#%% md\n"
    }
   }
  },
  {
   "cell_type": "code",
   "execution_count": 3,
   "outputs": [
    {
     "data": {
      "text/plain": "   user_id  book_id_1  book_id_2  book_id_3  book_id_4  book_id_5\n0   111000         12         16      10232       2342        234\n1   777333        123        754        232     234243       2323\n2     8888       1223       2334       2335     234545     111222",
      "text/html": "<div>\n<style scoped>\n    .dataframe tbody tr th:only-of-type {\n        vertical-align: middle;\n    }\n\n    .dataframe tbody tr th {\n        vertical-align: top;\n    }\n\n    .dataframe thead th {\n        text-align: right;\n    }\n</style>\n<table border=\"1\" class=\"dataframe\">\n  <thead>\n    <tr style=\"text-align: right;\">\n      <th></th>\n      <th>user_id</th>\n      <th>book_id_1</th>\n      <th>book_id_2</th>\n      <th>book_id_3</th>\n      <th>book_id_4</th>\n      <th>book_id_5</th>\n    </tr>\n  </thead>\n  <tbody>\n    <tr>\n      <th>0</th>\n      <td>111000</td>\n      <td>12</td>\n      <td>16</td>\n      <td>10232</td>\n      <td>2342</td>\n      <td>234</td>\n    </tr>\n    <tr>\n      <th>1</th>\n      <td>777333</td>\n      <td>123</td>\n      <td>754</td>\n      <td>232</td>\n      <td>234243</td>\n      <td>2323</td>\n    </tr>\n    <tr>\n      <th>2</th>\n      <td>8888</td>\n      <td>1223</td>\n      <td>2334</td>\n      <td>2335</td>\n      <td>234545</td>\n      <td>111222</td>\n    </tr>\n  </tbody>\n</table>\n</div>"
     },
     "execution_count": 3,
     "metadata": {},
     "output_type": "execute_result"
    }
   ],
   "source": [
    "result_example = pd.read_csv(f'{PROJECT_FOLDER}/data/result_task3.csv', sep=';')\n",
    "result_example"
   ],
   "metadata": {
    "collapsed": false,
    "pycharm": {
     "name": "#%%\n"
    }
   }
  },
  {
   "cell_type": "markdown",
   "source": [
    "### 1.2 data/dataset_knigi_1.xlsx"
   ],
   "metadata": {
    "collapsed": false,
    "pycharm": {
     "name": "#%% md\n"
    }
   }
  },
  {
   "cell_type": "code",
   "execution_count": 19,
   "outputs": [
    {
     "data": {
      "text/plain": "  event         dt  user_id       id\n0   add 2021-06-01        1  1163786\n1   add 2021-06-01        1    66612\n2   add 2021-06-01        1  1034596\n3   add 2021-06-01        1  1152760\n4   add 2021-06-01        1    16168",
      "text/html": "<div>\n<style scoped>\n    .dataframe tbody tr th:only-of-type {\n        vertical-align: middle;\n    }\n\n    .dataframe tbody tr th {\n        vertical-align: top;\n    }\n\n    .dataframe thead th {\n        text-align: right;\n    }\n</style>\n<table border=\"1\" class=\"dataframe\">\n  <thead>\n    <tr style=\"text-align: right;\">\n      <th></th>\n      <th>event</th>\n      <th>dt</th>\n      <th>user_id</th>\n      <th>id</th>\n    </tr>\n  </thead>\n  <tbody>\n    <tr>\n      <th>0</th>\n      <td>add</td>\n      <td>2021-06-01</td>\n      <td>1</td>\n      <td>1163786</td>\n    </tr>\n    <tr>\n      <th>1</th>\n      <td>add</td>\n      <td>2021-06-01</td>\n      <td>1</td>\n      <td>66612</td>\n    </tr>\n    <tr>\n      <th>2</th>\n      <td>add</td>\n      <td>2021-06-01</td>\n      <td>1</td>\n      <td>1034596</td>\n    </tr>\n    <tr>\n      <th>3</th>\n      <td>add</td>\n      <td>2021-06-01</td>\n      <td>1</td>\n      <td>1152760</td>\n    </tr>\n    <tr>\n      <th>4</th>\n      <td>add</td>\n      <td>2021-06-01</td>\n      <td>1</td>\n      <td>16168</td>\n    </tr>\n  </tbody>\n</table>\n</div>"
     },
     "execution_count": 19,
     "metadata": {},
     "output_type": "execute_result"
    }
   ],
   "source": [
    "books_data = pd.read_excel(f'{PROJECT_FOLDER}/data/dataset_knigi_1.xlsx', sheet_name=None)\n",
    "books_data = books_data['Лист1']\n",
    "books_data['id'] = books_data['source_url'].apply(lambda x: int(x.split('/')[-2]))\n",
    "books_data.drop(columns=['source_url'], inplace=True, axis=1)\n",
    "books_data.head()"
   ],
   "metadata": {
    "collapsed": false,
    "pycharm": {
     "name": "#%%\n"
    }
   }
  },
  {
   "cell_type": "code",
   "execution_count": 23,
   "outputs": [],
   "source": [
    "books_data.to_csv(f'{PROJECT_FOLDER}/data/user_book_interaction.csv', index=False)"
   ],
   "metadata": {
    "collapsed": false,
    "pycharm": {
     "name": "#%%\n"
    }
   }
  },
  {
   "cell_type": "code",
   "execution_count": 24,
   "outputs": [],
   "source": [
    "unique_books_ids = np.unique(books_data['id'])\n",
    "create_order__unique_books_id = list(books_data[books_data['event'] == 'create_order']['id'].value_counts().index)\n",
    "add__unique_books_id = list(books_data[books_data['event'] == 'add']['id'].value_counts().index)"
   ],
   "metadata": {
    "collapsed": false,
    "pycharm": {
     "name": "#%%\n"
    }
   }
  },
  {
   "cell_type": "markdown",
   "source": [
    "### 1.3 data/books.jsn"
   ],
   "metadata": {
    "collapsed": false,
    "pycharm": {
     "name": "#%% md\n"
    }
   }
  },
  {
   "cell_type": "code",
   "execution_count": 4,
   "outputs": [
    {
     "data": {
      "text/plain": "           id  parentId             bbk  \\\n0     1272541         0   84(2Рос=Рус)1   \n1     1960078         0        84(4Вел)   \n2       26991         0        84(7Сое)   \n3     1781433         0        84(7Сое)   \n4     1687060         0        84(7США)   \n...       ...       ...             ...   \n4677   814384         0     26.89(2-2М)   \n4678   840090         0   26.89(2-2М)я2   \n4679   727406         0              84   \n4680   305891         0    85.118(2-2М)   \n4681   583359         0  63.3(2-2Мос)я2   \n\n                                                  title  year  parentAuthor  \\\n0                                                  Бесы  2013             0   \n1                                 На службе зла : роман  2017             0   \n2     Жареные зеленые помидоры в кафе \"Полустанок\" :...  2004             0   \n3                                  Эмпайр Фоллз : роман  2020             0   \n4                                  Эмпайр Фоллз : роман  2019             0   \n...                                                 ...   ...           ...   \n4677  Административные округа Москвы:Культура.Истори...  1998             0   \n4678    Путеводитель Москва 850:События в юбилейные дни  1997             0   \n4679                    Трое в лодке (не считая собаки)  1958             0   \n4680  Проспекты советской Москвы. История реконструк...  2014             0   \n4681                                     История Москвы  1997             0   \n\n                                           contribution parentNumberOfPart  \\\n0                                     Федор Достоевский                      \n1     Роберт Гэлбрейт ; перевод с английского Е. Пет...                      \n2              Фэнни Флэгг ; [пер. с англ. Д. Крупской]                      \n3     Ричард Руссо ; перевод с английского Елены Пол...                      \n4                           Р. Руссо ; пер. Е. Полецкая                      \n...                                                 ...                ...   \n4677                                      Глушкова В.Г.                      \n4678                                                                         \n4679                         Пер. М.Донского,Э.Линецкой                      \n4680                                    Алексей Рогачев                      \n4681                                                                         \n\n                   isbn                                         annotation  \\\n0     978-5-17-063255-8  \"Бесы\"- одно из наиболее трагических, загадочн...   \n1     978-5-389-12682-4  Робин Эллакотт получает с курьером таинственны...   \n2         5-7516-0310-9  Роман американской писательницы Ф.Флэгг расска...   \n3     978-5-86471-807-0  Майлз Роби двадцать лет готовит бургеры в \"Имп...   \n4     978-5-86471-807-0                                                      \n...                 ...                                                ...   \n4677      5-691-00168-X  В книге дана обобщенная краеведческая и социал...   \n4678                     Путеводитель по Москве, рассказывающий о ее ис...   \n4679                                                                         \n4680  978-5-227-05721-1  Лучами расходятся от центра города радиальные ...   \n4681      5-270-01645-1                                                      \n\n      ... rubric author publisher place  serial f_deleted libraryId  \\\n0     ...      0      0         0     0       0     False         0   \n1     ...      0      0         0     0       0     False         0   \n2     ...      0      0         0     0       0     False         0   \n3     ...      0      0         0     0       0     False         0   \n4     ...      0      0         0     0       0     False         0   \n...   ...    ...    ...       ...   ...     ...       ...       ...   \n4677  ...      0      0         0     0       0     False         0   \n4678  ...      0      0         0     0       0     False         0   \n4679  ...      0      0         0     0       0     False         0   \n4680  ...      0      0         0     0       0     False         0   \n4681  ...      0      0         0     0       0     False         0   \n\n      catalogueId start_timestamp end_timestamp  \n0               0               0             0  \n1               0               0             0  \n2               0               0             0  \n3               0               0             0  \n4               0               0             0  \n...           ...             ...           ...  \n4677            0               0             0  \n4678            0               0             0  \n4679            0               0             0  \n4680            0               0             0  \n4681            0               0             0  \n\n[4682 rows x 98 columns]",
      "text/html": "<div>\n<style scoped>\n    .dataframe tbody tr th:only-of-type {\n        vertical-align: middle;\n    }\n\n    .dataframe tbody tr th {\n        vertical-align: top;\n    }\n\n    .dataframe thead th {\n        text-align: right;\n    }\n</style>\n<table border=\"1\" class=\"dataframe\">\n  <thead>\n    <tr style=\"text-align: right;\">\n      <th></th>\n      <th>id</th>\n      <th>parentId</th>\n      <th>bbk</th>\n      <th>title</th>\n      <th>year</th>\n      <th>parentAuthor</th>\n      <th>contribution</th>\n      <th>parentNumberOfPart</th>\n      <th>isbn</th>\n      <th>annotation</th>\n      <th>...</th>\n      <th>rubric</th>\n      <th>author</th>\n      <th>publisher</th>\n      <th>place</th>\n      <th>serial</th>\n      <th>f_deleted</th>\n      <th>libraryId</th>\n      <th>catalogueId</th>\n      <th>start_timestamp</th>\n      <th>end_timestamp</th>\n    </tr>\n  </thead>\n  <tbody>\n    <tr>\n      <th>0</th>\n      <td>1272541</td>\n      <td>0</td>\n      <td>84(2Рос=Рус)1</td>\n      <td>Бесы</td>\n      <td>2013</td>\n      <td>0</td>\n      <td>Федор Достоевский</td>\n      <td></td>\n      <td>978-5-17-063255-8</td>\n      <td>\"Бесы\"- одно из наиболее трагических, загадочн...</td>\n      <td>...</td>\n      <td>0</td>\n      <td>0</td>\n      <td>0</td>\n      <td>0</td>\n      <td>0</td>\n      <td>False</td>\n      <td>0</td>\n      <td>0</td>\n      <td>0</td>\n      <td>0</td>\n    </tr>\n    <tr>\n      <th>1</th>\n      <td>1960078</td>\n      <td>0</td>\n      <td>84(4Вел)</td>\n      <td>На службе зла : роман</td>\n      <td>2017</td>\n      <td>0</td>\n      <td>Роберт Гэлбрейт ; перевод с английского Е. Пет...</td>\n      <td></td>\n      <td>978-5-389-12682-4</td>\n      <td>Робин Эллакотт получает с курьером таинственны...</td>\n      <td>...</td>\n      <td>0</td>\n      <td>0</td>\n      <td>0</td>\n      <td>0</td>\n      <td>0</td>\n      <td>False</td>\n      <td>0</td>\n      <td>0</td>\n      <td>0</td>\n      <td>0</td>\n    </tr>\n    <tr>\n      <th>2</th>\n      <td>26991</td>\n      <td>0</td>\n      <td>84(7Сое)</td>\n      <td>Жареные зеленые помидоры в кафе \"Полустанок\" :...</td>\n      <td>2004</td>\n      <td>0</td>\n      <td>Фэнни Флэгг ; [пер. с англ. Д. Крупской]</td>\n      <td></td>\n      <td>5-7516-0310-9</td>\n      <td>Роман американской писательницы Ф.Флэгг расска...</td>\n      <td>...</td>\n      <td>0</td>\n      <td>0</td>\n      <td>0</td>\n      <td>0</td>\n      <td>0</td>\n      <td>False</td>\n      <td>0</td>\n      <td>0</td>\n      <td>0</td>\n      <td>0</td>\n    </tr>\n    <tr>\n      <th>3</th>\n      <td>1781433</td>\n      <td>0</td>\n      <td>84(7Сое)</td>\n      <td>Эмпайр Фоллз : роман</td>\n      <td>2020</td>\n      <td>0</td>\n      <td>Ричард Руссо ; перевод с английского Елены Пол...</td>\n      <td></td>\n      <td>978-5-86471-807-0</td>\n      <td>Майлз Роби двадцать лет готовит бургеры в \"Имп...</td>\n      <td>...</td>\n      <td>0</td>\n      <td>0</td>\n      <td>0</td>\n      <td>0</td>\n      <td>0</td>\n      <td>False</td>\n      <td>0</td>\n      <td>0</td>\n      <td>0</td>\n      <td>0</td>\n    </tr>\n    <tr>\n      <th>4</th>\n      <td>1687060</td>\n      <td>0</td>\n      <td>84(7США)</td>\n      <td>Эмпайр Фоллз : роман</td>\n      <td>2019</td>\n      <td>0</td>\n      <td>Р. Руссо ; пер. Е. Полецкая</td>\n      <td></td>\n      <td>978-5-86471-807-0</td>\n      <td></td>\n      <td>...</td>\n      <td>0</td>\n      <td>0</td>\n      <td>0</td>\n      <td>0</td>\n      <td>0</td>\n      <td>False</td>\n      <td>0</td>\n      <td>0</td>\n      <td>0</td>\n      <td>0</td>\n    </tr>\n    <tr>\n      <th>...</th>\n      <td>...</td>\n      <td>...</td>\n      <td>...</td>\n      <td>...</td>\n      <td>...</td>\n      <td>...</td>\n      <td>...</td>\n      <td>...</td>\n      <td>...</td>\n      <td>...</td>\n      <td>...</td>\n      <td>...</td>\n      <td>...</td>\n      <td>...</td>\n      <td>...</td>\n      <td>...</td>\n      <td>...</td>\n      <td>...</td>\n      <td>...</td>\n      <td>...</td>\n      <td>...</td>\n    </tr>\n    <tr>\n      <th>4677</th>\n      <td>814384</td>\n      <td>0</td>\n      <td>26.89(2-2М)</td>\n      <td>Административные округа Москвы:Культура.Истори...</td>\n      <td>1998</td>\n      <td>0</td>\n      <td>Глушкова В.Г.</td>\n      <td></td>\n      <td>5-691-00168-X</td>\n      <td>В книге дана обобщенная краеведческая и социал...</td>\n      <td>...</td>\n      <td>0</td>\n      <td>0</td>\n      <td>0</td>\n      <td>0</td>\n      <td>0</td>\n      <td>False</td>\n      <td>0</td>\n      <td>0</td>\n      <td>0</td>\n      <td>0</td>\n    </tr>\n    <tr>\n      <th>4678</th>\n      <td>840090</td>\n      <td>0</td>\n      <td>26.89(2-2М)я2</td>\n      <td>Путеводитель Москва 850:События в юбилейные дни</td>\n      <td>1997</td>\n      <td>0</td>\n      <td></td>\n      <td></td>\n      <td></td>\n      <td>Путеводитель по Москве, рассказывающий о ее ис...</td>\n      <td>...</td>\n      <td>0</td>\n      <td>0</td>\n      <td>0</td>\n      <td>0</td>\n      <td>0</td>\n      <td>False</td>\n      <td>0</td>\n      <td>0</td>\n      <td>0</td>\n      <td>0</td>\n    </tr>\n    <tr>\n      <th>4679</th>\n      <td>727406</td>\n      <td>0</td>\n      <td>84</td>\n      <td>Трое в лодке (не считая собаки)</td>\n      <td>1958</td>\n      <td>0</td>\n      <td>Пер. М.Донского,Э.Линецкой</td>\n      <td></td>\n      <td></td>\n      <td></td>\n      <td>...</td>\n      <td>0</td>\n      <td>0</td>\n      <td>0</td>\n      <td>0</td>\n      <td>0</td>\n      <td>False</td>\n      <td>0</td>\n      <td>0</td>\n      <td>0</td>\n      <td>0</td>\n    </tr>\n    <tr>\n      <th>4680</th>\n      <td>305891</td>\n      <td>0</td>\n      <td>85.118(2-2М)</td>\n      <td>Проспекты советской Москвы. История реконструк...</td>\n      <td>2014</td>\n      <td>0</td>\n      <td>Алексей Рогачев</td>\n      <td></td>\n      <td>978-5-227-05721-1</td>\n      <td>Лучами расходятся от центра города радиальные ...</td>\n      <td>...</td>\n      <td>0</td>\n      <td>0</td>\n      <td>0</td>\n      <td>0</td>\n      <td>0</td>\n      <td>False</td>\n      <td>0</td>\n      <td>0</td>\n      <td>0</td>\n      <td>0</td>\n    </tr>\n    <tr>\n      <th>4681</th>\n      <td>583359</td>\n      <td>0</td>\n      <td>63.3(2-2Мос)я2</td>\n      <td>История Москвы</td>\n      <td>1997</td>\n      <td>0</td>\n      <td></td>\n      <td></td>\n      <td>5-270-01645-1</td>\n      <td></td>\n      <td>...</td>\n      <td>0</td>\n      <td>0</td>\n      <td>0</td>\n      <td>0</td>\n      <td>0</td>\n      <td>False</td>\n      <td>0</td>\n      <td>0</td>\n      <td>0</td>\n      <td>0</td>\n    </tr>\n  </tbody>\n</table>\n<p>4682 rows × 98 columns</p>\n</div>"
     },
     "execution_count": 4,
     "metadata": {},
     "output_type": "execute_result"
    }
   ],
   "source": [
    "books_info = pd.read_json(f'{PROJECT_FOLDER}/data/raw_data/books.jsn')\n",
    "books_info"
   ],
   "metadata": {
    "collapsed": false,
    "pycharm": {
     "name": "#%%\n"
    }
   }
  },
  {
   "cell_type": "markdown",
   "source": [
    "#### 1.3.1 data leak???"
   ],
   "metadata": {
    "collapsed": false,
    "pycharm": {
     "name": "#%% md\n"
    }
   }
  },
  {
   "cell_type": "code",
   "execution_count": 7,
   "outputs": [
    {
     "name": "stdout",
     "output_type": "stream",
     "text": [
      "DIFF BETWEEN 'data/dataset_knigi_1.xlsx' AND 'data/books.jsn' unique number of books.\n"
     ]
    },
    {
     "data": {
      "text/plain": "743"
     },
     "execution_count": 7,
     "metadata": {},
     "output_type": "execute_result"
    }
   ],
   "source": [
    "print(\"DIFF BETWEEN 'data/dataset_knigi_1.xlsx' AND 'data/books.jsn' unique number of books.\")\n",
    "all_books_xlsx = np.unique(books_info['id'])\n",
    "len(set(all_books_xlsx) - set(unique_books_ids))"
   ],
   "metadata": {
    "collapsed": false,
    "pycharm": {
     "name": "#%%\n"
    }
   }
  },
  {
   "cell_type": "markdown",
   "source": [
    "#### 1.3.2 Preprocessing"
   ],
   "metadata": {
    "collapsed": false,
    "pycharm": {
     "name": "#%% md\n"
    }
   }
  },
  {
   "cell_type": "code",
   "execution_count": 8,
   "outputs": [
    {
     "data": {
      "text/plain": "        id            bbk                                              title  \\\n0  1272541  84(2Рос=Рус)1                                               Бесы   \n1  1960078       84(4Вел)                              На службе зла : роман   \n2    26991       84(7Сое)  Жареные зеленые помидоры в кафе \"Полустанок\" :...   \n3  1781433       84(7Сое)                               Эмпайр Фоллз : роман   \n4  1687060       84(7США)                               Эмпайр Фоллз : роман   \n\n   year                                       contribution  \\\n0  2013                                  Федор Достоевский   \n1  2017  Роберт Гэлбрейт ; перевод с английского Е. Пет...   \n2  2004           Фэнни Флэгг ; [пер. с англ. Д. Крупской]   \n3  2020  Ричард Руссо ; перевод с английского Елены Пол...   \n4  2019                        Р. Руссо ; пер. Е. Полецкая   \n\n                                          annotation keyword  \\\n0  \"Бесы\"- одно из наиболее трагических, загадочн...   роман   \n1  Робин Эллакотт получает с курьером таинственны...           \n2  Роман американской писательницы Ф.Флэгг расска...           \n3  Майлз Роби двадцать лет готовит бургеры в \"Имп...           \n4                                                              \n\n  titleAdditionalInfo       volume parallelTitle publicationType  \\\n0                      604, [2] с.                          mono   \n1               роман  540, [1] с.                          mono   \n2               роман  428, [1] с.                          mono   \n3               роман  606, [1] с.                          mono   \n4               роман        608с.                          mono   \n\n  language_name material_name ageRestriction_name                rubric_name  \\\n0       Русский         Текст                None  Художественная литература   \n1       Русский         Текст                 16+  Художественная литература   \n2       Русский         Текст                None  Художественная литература   \n3       Русский         Текст                 16+  Художественная литература   \n4       Русский         Текст                None  Художественная литература   \n\n   author_id                                   serial_name  \\\n0    45567.0                              Русская классика   \n1    41515.0  Иностранная литература. Современная классика   \n2   116027.0                                          None   \n3   141830.0                                          None   \n4   141830.0                                          None   \n\n                     collapse_field  \\\n0  8b7355ec9ebf6ae5fdb84f917be6cc54   \n1  0dc0c51c9949ae797a04f1622dffb0f9   \n2  63e4b98dbc52b93a8d52540c1bed7c15   \n3  3333ebc7e54b7aab6b8e65f30cb2b4f4   \n4  0f4b28cf531daa0af4662a85110fb249   \n\n                                     title_orig  available  \n0                                          Бесы          2  \n1                                 На службе зла          1  \n2  Жареные зеленые помидоры в кафе \"Полустанок\"          7  \n3                                  Эмпайр Фоллз         11  \n4                                  Эмпайр Фоллз          1  ",
      "text/html": "<div>\n<style scoped>\n    .dataframe tbody tr th:only-of-type {\n        vertical-align: middle;\n    }\n\n    .dataframe tbody tr th {\n        vertical-align: top;\n    }\n\n    .dataframe thead th {\n        text-align: right;\n    }\n</style>\n<table border=\"1\" class=\"dataframe\">\n  <thead>\n    <tr style=\"text-align: right;\">\n      <th></th>\n      <th>id</th>\n      <th>bbk</th>\n      <th>title</th>\n      <th>year</th>\n      <th>contribution</th>\n      <th>annotation</th>\n      <th>keyword</th>\n      <th>titleAdditionalInfo</th>\n      <th>volume</th>\n      <th>parallelTitle</th>\n      <th>publicationType</th>\n      <th>language_name</th>\n      <th>material_name</th>\n      <th>ageRestriction_name</th>\n      <th>rubric_name</th>\n      <th>author_id</th>\n      <th>serial_name</th>\n      <th>collapse_field</th>\n      <th>title_orig</th>\n      <th>available</th>\n    </tr>\n  </thead>\n  <tbody>\n    <tr>\n      <th>0</th>\n      <td>1272541</td>\n      <td>84(2Рос=Рус)1</td>\n      <td>Бесы</td>\n      <td>2013</td>\n      <td>Федор Достоевский</td>\n      <td>\"Бесы\"- одно из наиболее трагических, загадочн...</td>\n      <td>роман</td>\n      <td></td>\n      <td>604, [2] с.</td>\n      <td></td>\n      <td>mono</td>\n      <td>Русский</td>\n      <td>Текст</td>\n      <td>None</td>\n      <td>Художественная литература</td>\n      <td>45567.0</td>\n      <td>Русская классика</td>\n      <td>8b7355ec9ebf6ae5fdb84f917be6cc54</td>\n      <td>Бесы</td>\n      <td>2</td>\n    </tr>\n    <tr>\n      <th>1</th>\n      <td>1960078</td>\n      <td>84(4Вел)</td>\n      <td>На службе зла : роман</td>\n      <td>2017</td>\n      <td>Роберт Гэлбрейт ; перевод с английского Е. Пет...</td>\n      <td>Робин Эллакотт получает с курьером таинственны...</td>\n      <td></td>\n      <td>роман</td>\n      <td>540, [1] с.</td>\n      <td></td>\n      <td>mono</td>\n      <td>Русский</td>\n      <td>Текст</td>\n      <td>16+</td>\n      <td>Художественная литература</td>\n      <td>41515.0</td>\n      <td>Иностранная литература. Современная классика</td>\n      <td>0dc0c51c9949ae797a04f1622dffb0f9</td>\n      <td>На службе зла</td>\n      <td>1</td>\n    </tr>\n    <tr>\n      <th>2</th>\n      <td>26991</td>\n      <td>84(7Сое)</td>\n      <td>Жареные зеленые помидоры в кафе \"Полустанок\" :...</td>\n      <td>2004</td>\n      <td>Фэнни Флэгг ; [пер. с англ. Д. Крупской]</td>\n      <td>Роман американской писательницы Ф.Флэгг расска...</td>\n      <td></td>\n      <td>роман</td>\n      <td>428, [1] с.</td>\n      <td></td>\n      <td>mono</td>\n      <td>Русский</td>\n      <td>Текст</td>\n      <td>None</td>\n      <td>Художественная литература</td>\n      <td>116027.0</td>\n      <td>None</td>\n      <td>63e4b98dbc52b93a8d52540c1bed7c15</td>\n      <td>Жареные зеленые помидоры в кафе \"Полустанок\"</td>\n      <td>7</td>\n    </tr>\n    <tr>\n      <th>3</th>\n      <td>1781433</td>\n      <td>84(7Сое)</td>\n      <td>Эмпайр Фоллз : роман</td>\n      <td>2020</td>\n      <td>Ричард Руссо ; перевод с английского Елены Пол...</td>\n      <td>Майлз Роби двадцать лет готовит бургеры в \"Имп...</td>\n      <td></td>\n      <td>роман</td>\n      <td>606, [1] с.</td>\n      <td></td>\n      <td>mono</td>\n      <td>Русский</td>\n      <td>Текст</td>\n      <td>16+</td>\n      <td>Художественная литература</td>\n      <td>141830.0</td>\n      <td>None</td>\n      <td>3333ebc7e54b7aab6b8e65f30cb2b4f4</td>\n      <td>Эмпайр Фоллз</td>\n      <td>11</td>\n    </tr>\n    <tr>\n      <th>4</th>\n      <td>1687060</td>\n      <td>84(7США)</td>\n      <td>Эмпайр Фоллз : роман</td>\n      <td>2019</td>\n      <td>Р. Руссо ; пер. Е. Полецкая</td>\n      <td></td>\n      <td></td>\n      <td>роман</td>\n      <td>608с.</td>\n      <td></td>\n      <td>mono</td>\n      <td>Русский</td>\n      <td>Текст</td>\n      <td>None</td>\n      <td>Художественная литература</td>\n      <td>141830.0</td>\n      <td>None</td>\n      <td>0f4b28cf531daa0af4662a85110fb249</td>\n      <td>Эмпайр Фоллз</td>\n      <td>1</td>\n    </tr>\n  </tbody>\n</table>\n</div>"
     },
     "execution_count": 8,
     "metadata": {},
     "output_type": "execute_result"
    }
   ],
   "source": [
    "columns_delete = ['parentNumberOfPart', 'parentId', 'parentAuthor', 'isbn', 'issn', 'deleted', 'titleOfPart', 'nextAuthor',\n",
    "                  'edition', 'bibliographyLevel', 'numberOfPart', 'parentTitle', 'parentAdditionalInfo', 'parentPlace', 'parentPublisher',\n",
    "                  'parentYear', 'changed', 'person', 'parentEdition', 'udk', 'cover', 'node', 'language_id', 'material_id', 'ageRestriction_id',\n",
    "                  'rubric_id', 'rubric_parentId', 'author_info', 'author_dates', 'author_surname', 'author_names', 'author_initials',\n",
    "                  'author_fullName', 'author_fullNameAlt', 'publisher_id', 'publisher_name', 'place_id', 'place_name', 'serial_id',\n",
    "                  'year_value', 'common_search_field', 'totalOutCount', 'totalInplaceCount', 'freeCount', 'freeHands', 'freeOnline',\n",
    "                  'orderedCount', 'outputCount', 'smart_collapse_field', 'author_surname_for_sort', 'author_surname_language_level',\n",
    "                  'title_for_sort', 'title_language_level', 'publisher_name_for_sort', 'publisher_name_language_level', 'serial_name_for_sort',\n",
    "                  'serial_name_language_level', 'dates', 'info', 'initials', 'eiskId', 'fixed', 'pointEiskId', 'language', 'material', 'ageRestriction',\n",
    "                  'rubric', 'author', 'publisher', 'place', 'serial', 'f_deleted', 'libraryId', 'catalogueId', 'start_timestamp', 'end_timestamp', 'siglaEiskId',\n",
    "                  'libraryAvailability']\n",
    "books_info.drop(axis=1, columns=columns_delete, inplace=True)\n",
    "books_info.head()\n"
   ],
   "metadata": {
    "collapsed": false,
    "pycharm": {
     "name": "#%%\n"
    }
   }
  },
  {
   "cell_type": "markdown",
   "source": [
    "- id: id of book, (there could be the same books, with different id)\n",
    "- bbk: classic RUSSIAN classification of books\n",
    "- year: year of book\n",
    "- contribution: author\n",
    "- annotation: short description\n",
    "- keyword: genre of book\n",
    "- titleAdditionalInfo: additional genre for book\n",
    "- volume: number of pages, disks\n",
    "- parallelTitle (95% missed data): title on English language\n",
    "- publicationType: one of: ['mono', 'volume', 'edition'], commonly 'mono' 99%\n",
    "- language_name: language name of book\n",
    "- material_name: one of: ['text', 'braily text', 'audio', ...]\n",
    "- ageRestriction_name: restriction age [4+, 16+, 18+]\n",
    "- rubric_name: additional genre for book\n",
    "- author_id: author id\n",
    "- serial_name: additional genre for book\n",
    "- collapse_field: hash-sum for book, unique identification. It is plenty without physical duplicates.\n",
    "- title_orig: additional title\n",
    "- available: available to borrow"
   ],
   "metadata": {
    "collapsed": false,
    "pycharm": {
     "name": "#%% md\n"
    }
   }
  },
  {
   "cell_type": "code",
   "execution_count": 9,
   "outputs": [],
   "source": [
    "def check_column(dataset: pd.DataFrame, column: str = None):\n",
    "    if column is None:\n",
    "        series = dataset\n",
    "    else:\n",
    "        series = dataset[column]\n",
    "\n",
    "    number_nan = sum(series.isna())\n",
    "    empty_str = len(series == '')\n",
    "    total_len = len(series)\n",
    "    duplicates = sum(series.duplicated())\n",
    "\n",
    "    _print = [arr / total_len for arr in [number_nan, empty_str, duplicates]]\n",
    "    _text = ['NaN', 'empty_str', 'duplicates']\n",
    "\n",
    "    for n, t in zip(_print, _text):\n",
    "        print(f'{n}% of {t}.', end='\\n')\n",
    "\n",
    "    print(f'\\n{series.describe()}\\n')\n",
    "\n",
    "    return series.value_counts()"
   ],
   "metadata": {
    "collapsed": false,
    "pycharm": {
     "name": "#%%\n"
    }
   }
  },
  {
   "cell_type": "code",
   "execution_count": 10,
   "outputs": [
    {
     "name": "stdout",
     "output_type": "stream",
     "text": [
      "0.0% of NaN.\n",
      "1.0% of empty_str.\n",
      "0.13135412217001283% of duplicates.\n",
      "\n",
      "count     4682\n",
      "unique    4067\n",
      "top           \n",
      "freq        45\n",
      "Name: title_orig, dtype: object\n",
      "\n"
     ]
    },
    {
     "data": {
      "text/plain": "                           45\nЭнциклопедия для детей     19\nИзбранные произведения      9\nСобрание сочинений          7\nДумай                       7\n                           ..\nДом с волшебными окнами     1\nВалентина Терешкова         1\nСтарик-годовик              1\nБелая юрта                  1\nИстория Москвы              1\nName: title_orig, Length: 4067, dtype: int64"
     },
     "execution_count": 10,
     "metadata": {},
     "output_type": "execute_result"
    }
   ],
   "source": [
    "check_column(books_info, 'title_orig')"
   ],
   "metadata": {
    "collapsed": false,
    "pycharm": {
     "name": "#%%\n"
    }
   }
  },
  {
   "cell_type": "code",
   "execution_count": 11,
   "outputs": [
    {
     "name": "stdout",
     "output_type": "stream",
     "text": [
      "<class 'pandas.core.frame.DataFrame'>\n",
      "RangeIndex: 4682 entries, 0 to 4681\n",
      "Data columns (total 20 columns):\n",
      " #   Column               Non-Null Count  Dtype  \n",
      "---  ------               --------------  -----  \n",
      " 0   id                   4682 non-null   int64  \n",
      " 1   bbk                  4682 non-null   object \n",
      " 2   title                4682 non-null   object \n",
      " 3   year                 4678 non-null   object \n",
      " 4   contribution         4682 non-null   object \n",
      " 5   annotation           4682 non-null   object \n",
      " 6   keyword              4682 non-null   object \n",
      " 7   titleAdditionalInfo  4682 non-null   object \n",
      " 8   volume               4682 non-null   object \n",
      " 9   parallelTitle        4682 non-null   object \n",
      " 10  publicationType      4682 non-null   object \n",
      " 11  language_name        4585 non-null   object \n",
      " 12  material_name        4682 non-null   object \n",
      " 13  ageRestriction_name  2537 non-null   object \n",
      " 14  rubric_name          4597 non-null   object \n",
      " 15  author_id            4298 non-null   float64\n",
      " 16  serial_name          2487 non-null   object \n",
      " 17  collapse_field       4682 non-null   object \n",
      " 18  title_orig           4682 non-null   object \n",
      " 19  available            4682 non-null   int64  \n",
      "dtypes: float64(1), int64(2), object(17)\n",
      "memory usage: 731.7+ KB\n"
     ]
    }
   ],
   "source": [
    "books_info.info()"
   ],
   "metadata": {
    "collapsed": false,
    "pycharm": {
     "name": "#%%\n"
    }
   }
  },
  {
   "cell_type": "code",
   "execution_count": 12,
   "outputs": [],
   "source": [
    "def year_preprocessing(x):\n",
    "    if x is None:\n",
    "        return 999999\n",
    "    number = re.search(r'\\d+', x)\n",
    "    if number is None:\n",
    "        return 999999\n",
    "    number = int(number.group())\n",
    "    if len(str(number)) < 4:\n",
    "        return 999999\n",
    "    return number\n",
    "\n",
    "def volume_preprocessing(x):\n",
    "    number = re.search(r'\\d+', x)\n",
    "    if number is None:\n",
    "        return 999999\n",
    "    number = int(number.group())\n",
    "    if number < 3:\n",
    "        return 999999\n",
    "    return number\n",
    "\n",
    "def age_restriction_preprocessing(x):\n",
    "    if x is None:\n",
    "        return None\n",
    "    number = re.search(r'\\d+', x)\n",
    "    if number is None:\n",
    "        return None\n",
    "    return int(number.group())\n",
    "\n",
    "def available_preprocessing(x):\n",
    "    if x is None:\n",
    "        return 0\n",
    "    if isinstance(x, numbers.Integral):\n",
    "        return x\n",
    "    number = re.search(r'\\d+', x)\n",
    "    if number is None:\n",
    "        return 0\n",
    "    return int(number.group())"
   ],
   "metadata": {
    "collapsed": false,
    "pycharm": {
     "name": "#%%\n"
    }
   }
  },
  {
   "cell_type": "code",
   "execution_count": 13,
   "outputs": [],
   "source": [
    "books_info['year'] = pd.to_numeric(books_info['year'].apply(year_preprocessing))\n",
    "books_info['volume'] = pd.to_numeric(books_info['volume'].apply(volume_preprocessing))\n",
    "books_info['ageRestriction_name'] = pd.to_numeric(books_info['ageRestriction_name'].apply(age_restriction_preprocessing))\n",
    "books_info['available'] = pd.to_numeric(books_info['available'].apply(available_preprocessing))"
   ],
   "metadata": {
    "collapsed": false,
    "pycharm": {
     "name": "#%%\n"
    }
   }
  },
  {
   "cell_type": "code",
   "execution_count": 14,
   "outputs": [
    {
     "name": "stdout",
     "output_type": "stream",
     "text": [
      "<class 'pandas.core.frame.DataFrame'>\n",
      "RangeIndex: 4682 entries, 0 to 4681\n",
      "Data columns (total 20 columns):\n",
      " #   Column               Non-Null Count  Dtype  \n",
      "---  ------               --------------  -----  \n",
      " 0   id                   4682 non-null   int64  \n",
      " 1   bbk                  4682 non-null   object \n",
      " 2   title                4682 non-null   object \n",
      " 3   year                 4682 non-null   int64  \n",
      " 4   contribution         4682 non-null   object \n",
      " 5   annotation           4682 non-null   object \n",
      " 6   keyword              4682 non-null   object \n",
      " 7   titleAdditionalInfo  4682 non-null   object \n",
      " 8   volume               4682 non-null   int64  \n",
      " 9   parallelTitle        4682 non-null   object \n",
      " 10  publicationType      4682 non-null   object \n",
      " 11  language_name        4585 non-null   object \n",
      " 12  material_name        4682 non-null   object \n",
      " 13  ageRestriction_name  2537 non-null   float64\n",
      " 14  rubric_name          4597 non-null   object \n",
      " 15  author_id            4298 non-null   float64\n",
      " 16  serial_name          2487 non-null   object \n",
      " 17  collapse_field       4682 non-null   object \n",
      " 18  title_orig           4682 non-null   object \n",
      " 19  available            4682 non-null   int64  \n",
      "dtypes: float64(2), int64(4), object(14)\n",
      "memory usage: 731.7+ KB\n"
     ]
    }
   ],
   "source": [
    "books_info.info()"
   ],
   "metadata": {
    "collapsed": false,
    "pycharm": {
     "name": "#%%\n"
    }
   }
  },
  {
   "cell_type": "code",
   "execution_count": 15,
   "outputs": [],
   "source": [
    "def remove_duplicate_on_hash(dataset: pd.DataFrame) -> pd.DataFrame:\n",
    "    unique_fields = np.unique(dataset['collapse_field'])\n",
    "\n",
    "    for u_f in unique_fields:\n",
    "        slice = dataset[dataset['collapse_field'] == u_f]\n",
    "        total_available = sum(slice['available'])\n",
    "        dataset.loc[dataset['collapse_field'] == u_f, 'available'] = total_available\n",
    "\n",
    "    dataset.drop_duplicates(['collapse_field'], inplace=True)\n",
    "\n",
    "    return dataset\n"
   ],
   "metadata": {
    "collapsed": false,
    "pycharm": {
     "name": "#%%\n"
    }
   }
  },
  {
   "cell_type": "code",
   "execution_count": 16,
   "outputs": [
    {
     "data": {
      "text/plain": "        id            bbk                                              title  \\\n0  1272541  84(2Рос=Рус)1                                               Бесы   \n1  1960078       84(4Вел)                              На службе зла : роман   \n2    26991       84(7Сое)  Жареные зеленые помидоры в кафе \"Полустанок\" :...   \n3  1781433       84(7Сое)                               Эмпайр Фоллз : роман   \n4  1687060       84(7США)                               Эмпайр Фоллз : роман   \n\n   year                                       contribution  \\\n0  2013                                  Федор Достоевский   \n1  2017  Роберт Гэлбрейт ; перевод с английского Е. Пет...   \n2  2004           Фэнни Флэгг ; [пер. с англ. Д. Крупской]   \n3  2020  Ричард Руссо ; перевод с английского Елены Пол...   \n4  2019                        Р. Руссо ; пер. Е. Полецкая   \n\n                                          annotation keyword  \\\n0  \"Бесы\"- одно из наиболее трагических, загадочн...   роман   \n1  Робин Эллакотт получает с курьером таинственны...           \n2  Роман американской писательницы Ф.Флэгг расска...           \n3  Майлз Роби двадцать лет готовит бургеры в \"Имп...           \n4                                                              \n\n  titleAdditionalInfo  volume parallelTitle publicationType language_name  \\\n0                         604                          mono       Русский   \n1               роман     540                          mono       Русский   \n2               роман     428                          mono       Русский   \n3               роман     606                          mono       Русский   \n4               роман     608                          mono       Русский   \n\n  material_name  ageRestriction_name                rubric_name  author_id  \\\n0         Текст                  NaN  Художественная литература    45567.0   \n1         Текст                 16.0  Художественная литература    41515.0   \n2         Текст                  NaN  Художественная литература   116027.0   \n3         Текст                 16.0  Художественная литература   141830.0   \n4         Текст                  NaN  Художественная литература   141830.0   \n\n                                    serial_name  \\\n0                              Русская классика   \n1  Иностранная литература. Современная классика   \n2                                          None   \n3                                          None   \n4                                          None   \n\n                     collapse_field  \\\n0  8b7355ec9ebf6ae5fdb84f917be6cc54   \n1  0dc0c51c9949ae797a04f1622dffb0f9   \n2  63e4b98dbc52b93a8d52540c1bed7c15   \n3  3333ebc7e54b7aab6b8e65f30cb2b4f4   \n4  0f4b28cf531daa0af4662a85110fb249   \n\n                                     title_orig  available  \n0                                          Бесы          2  \n1                                 На службе зла          1  \n2  Жареные зеленые помидоры в кафе \"Полустанок\"          7  \n3                                  Эмпайр Фоллз         11  \n4                                  Эмпайр Фоллз          1  ",
      "text/html": "<div>\n<style scoped>\n    .dataframe tbody tr th:only-of-type {\n        vertical-align: middle;\n    }\n\n    .dataframe tbody tr th {\n        vertical-align: top;\n    }\n\n    .dataframe thead th {\n        text-align: right;\n    }\n</style>\n<table border=\"1\" class=\"dataframe\">\n  <thead>\n    <tr style=\"text-align: right;\">\n      <th></th>\n      <th>id</th>\n      <th>bbk</th>\n      <th>title</th>\n      <th>year</th>\n      <th>contribution</th>\n      <th>annotation</th>\n      <th>keyword</th>\n      <th>titleAdditionalInfo</th>\n      <th>volume</th>\n      <th>parallelTitle</th>\n      <th>publicationType</th>\n      <th>language_name</th>\n      <th>material_name</th>\n      <th>ageRestriction_name</th>\n      <th>rubric_name</th>\n      <th>author_id</th>\n      <th>serial_name</th>\n      <th>collapse_field</th>\n      <th>title_orig</th>\n      <th>available</th>\n    </tr>\n  </thead>\n  <tbody>\n    <tr>\n      <th>0</th>\n      <td>1272541</td>\n      <td>84(2Рос=Рус)1</td>\n      <td>Бесы</td>\n      <td>2013</td>\n      <td>Федор Достоевский</td>\n      <td>\"Бесы\"- одно из наиболее трагических, загадочн...</td>\n      <td>роман</td>\n      <td></td>\n      <td>604</td>\n      <td></td>\n      <td>mono</td>\n      <td>Русский</td>\n      <td>Текст</td>\n      <td>NaN</td>\n      <td>Художественная литература</td>\n      <td>45567.0</td>\n      <td>Русская классика</td>\n      <td>8b7355ec9ebf6ae5fdb84f917be6cc54</td>\n      <td>Бесы</td>\n      <td>2</td>\n    </tr>\n    <tr>\n      <th>1</th>\n      <td>1960078</td>\n      <td>84(4Вел)</td>\n      <td>На службе зла : роман</td>\n      <td>2017</td>\n      <td>Роберт Гэлбрейт ; перевод с английского Е. Пет...</td>\n      <td>Робин Эллакотт получает с курьером таинственны...</td>\n      <td></td>\n      <td>роман</td>\n      <td>540</td>\n      <td></td>\n      <td>mono</td>\n      <td>Русский</td>\n      <td>Текст</td>\n      <td>16.0</td>\n      <td>Художественная литература</td>\n      <td>41515.0</td>\n      <td>Иностранная литература. Современная классика</td>\n      <td>0dc0c51c9949ae797a04f1622dffb0f9</td>\n      <td>На службе зла</td>\n      <td>1</td>\n    </tr>\n    <tr>\n      <th>2</th>\n      <td>26991</td>\n      <td>84(7Сое)</td>\n      <td>Жареные зеленые помидоры в кафе \"Полустанок\" :...</td>\n      <td>2004</td>\n      <td>Фэнни Флэгг ; [пер. с англ. Д. Крупской]</td>\n      <td>Роман американской писательницы Ф.Флэгг расска...</td>\n      <td></td>\n      <td>роман</td>\n      <td>428</td>\n      <td></td>\n      <td>mono</td>\n      <td>Русский</td>\n      <td>Текст</td>\n      <td>NaN</td>\n      <td>Художественная литература</td>\n      <td>116027.0</td>\n      <td>None</td>\n      <td>63e4b98dbc52b93a8d52540c1bed7c15</td>\n      <td>Жареные зеленые помидоры в кафе \"Полустанок\"</td>\n      <td>7</td>\n    </tr>\n    <tr>\n      <th>3</th>\n      <td>1781433</td>\n      <td>84(7Сое)</td>\n      <td>Эмпайр Фоллз : роман</td>\n      <td>2020</td>\n      <td>Ричард Руссо ; перевод с английского Елены Пол...</td>\n      <td>Майлз Роби двадцать лет готовит бургеры в \"Имп...</td>\n      <td></td>\n      <td>роман</td>\n      <td>606</td>\n      <td></td>\n      <td>mono</td>\n      <td>Русский</td>\n      <td>Текст</td>\n      <td>16.0</td>\n      <td>Художественная литература</td>\n      <td>141830.0</td>\n      <td>None</td>\n      <td>3333ebc7e54b7aab6b8e65f30cb2b4f4</td>\n      <td>Эмпайр Фоллз</td>\n      <td>11</td>\n    </tr>\n    <tr>\n      <th>4</th>\n      <td>1687060</td>\n      <td>84(7США)</td>\n      <td>Эмпайр Фоллз : роман</td>\n      <td>2019</td>\n      <td>Р. Руссо ; пер. Е. Полецкая</td>\n      <td></td>\n      <td></td>\n      <td>роман</td>\n      <td>608</td>\n      <td></td>\n      <td>mono</td>\n      <td>Русский</td>\n      <td>Текст</td>\n      <td>NaN</td>\n      <td>Художественная литература</td>\n      <td>141830.0</td>\n      <td>None</td>\n      <td>0f4b28cf531daa0af4662a85110fb249</td>\n      <td>Эмпайр Фоллз</td>\n      <td>1</td>\n    </tr>\n  </tbody>\n</table>\n</div>"
     },
     "execution_count": 16,
     "metadata": {},
     "output_type": "execute_result"
    }
   ],
   "source": [
    "books_info = remove_duplicate_on_hash(books_info)\n",
    "books_info.head()"
   ],
   "metadata": {
    "collapsed": false,
    "pycharm": {
     "name": "#%%\n"
    }
   }
  },
  {
   "cell_type": "code",
   "execution_count": 25,
   "outputs": [],
   "source": [
    "books_info.to_csv(f'{PROJECT_FOLDER}/data/books.csv', index=False)"
   ],
   "metadata": {
    "collapsed": false,
    "pycharm": {
     "name": "#%%\n"
    }
   }
  },
  {
   "cell_type": "code",
   "execution_count": 14,
   "outputs": [
    {
     "data": {
      "text/plain": "        id            bbk                                              title  \\\n0  1272541  84(2Рос=Рус)1                                               Бесы   \n1  1960078       84(4Вел)                              На службе зла : роман   \n2    26991       84(7Сое)  Жареные зеленые помидоры в кафе \"Полустанок\" :...   \n3  1781433       84(7Сое)                               Эмпайр Фоллз : роман   \n4  1687060       84(7США)                               Эмпайр Фоллз : роман   \n\n   year                                       contribution  \\\n0  2013                                  Федор Достоевский   \n1  2017  Роберт Гэлбрейт ; перевод с английского Е. Пет...   \n2  2004           Фэнни Флэгг ; [пер. с англ. Д. Крупской]   \n3  2020  Ричард Руссо ; перевод с английского Елены Пол...   \n4  2019                        Р. Руссо ; пер. Е. Полецкая   \n\n                                          annotation keyword  \\\n0  \"Бесы\"- одно из наиболее трагических, загадочн...   роман   \n1  Робин Эллакотт получает с курьером таинственны...     NaN   \n2  Роман американской писательницы Ф.Флэгг расска...     NaN   \n3  Майлз Роби двадцать лет готовит бургеры в \"Имп...     NaN   \n4                                                NaN     NaN   \n\n  titleAdditionalInfo  volume parallelTitle publicationType language_name  \\\n0                 NaN     604           NaN            mono       Русский   \n1               роман     540           NaN            mono       Русский   \n2               роман     428           NaN            mono       Русский   \n3               роман     606           NaN            mono       Русский   \n4               роман     608           NaN            mono       Русский   \n\n  material_name  ageRestriction_name                rubric_name  author_id  \\\n0         Текст                  NaN  Художественная литература    45567.0   \n1         Текст                 16.0  Художественная литература    41515.0   \n2         Текст                  NaN  Художественная литература   116027.0   \n3         Текст                 16.0  Художественная литература   141830.0   \n4         Текст                  NaN  Художественная литература   141830.0   \n\n                                    serial_name  \\\n0                              Русская классика   \n1  Иностранная литература. Современная классика   \n2                                           NaN   \n3                                           NaN   \n4                                           NaN   \n\n                     collapse_field  \\\n0  8b7355ec9ebf6ae5fdb84f917be6cc54   \n1  0dc0c51c9949ae797a04f1622dffb0f9   \n2  63e4b98dbc52b93a8d52540c1bed7c15   \n3  3333ebc7e54b7aab6b8e65f30cb2b4f4   \n4  0f4b28cf531daa0af4662a85110fb249   \n\n                                     title_orig  available  \n0                                          Бесы          2  \n1                                 На службе зла          1  \n2  Жареные зеленые помидоры в кафе \"Полустанок\"          7  \n3                                  Эмпайр Фоллз         11  \n4                                  Эмпайр Фоллз          1  ",
      "text/html": "<div>\n<style scoped>\n    .dataframe tbody tr th:only-of-type {\n        vertical-align: middle;\n    }\n\n    .dataframe tbody tr th {\n        vertical-align: top;\n    }\n\n    .dataframe thead th {\n        text-align: right;\n    }\n</style>\n<table border=\"1\" class=\"dataframe\">\n  <thead>\n    <tr style=\"text-align: right;\">\n      <th></th>\n      <th>id</th>\n      <th>bbk</th>\n      <th>title</th>\n      <th>year</th>\n      <th>contribution</th>\n      <th>annotation</th>\n      <th>keyword</th>\n      <th>titleAdditionalInfo</th>\n      <th>volume</th>\n      <th>parallelTitle</th>\n      <th>publicationType</th>\n      <th>language_name</th>\n      <th>material_name</th>\n      <th>ageRestriction_name</th>\n      <th>rubric_name</th>\n      <th>author_id</th>\n      <th>serial_name</th>\n      <th>collapse_field</th>\n      <th>title_orig</th>\n      <th>available</th>\n    </tr>\n  </thead>\n  <tbody>\n    <tr>\n      <th>0</th>\n      <td>1272541</td>\n      <td>84(2Рос=Рус)1</td>\n      <td>Бесы</td>\n      <td>2013</td>\n      <td>Федор Достоевский</td>\n      <td>\"Бесы\"- одно из наиболее трагических, загадочн...</td>\n      <td>роман</td>\n      <td>NaN</td>\n      <td>604</td>\n      <td>NaN</td>\n      <td>mono</td>\n      <td>Русский</td>\n      <td>Текст</td>\n      <td>NaN</td>\n      <td>Художественная литература</td>\n      <td>45567.0</td>\n      <td>Русская классика</td>\n      <td>8b7355ec9ebf6ae5fdb84f917be6cc54</td>\n      <td>Бесы</td>\n      <td>2</td>\n    </tr>\n    <tr>\n      <th>1</th>\n      <td>1960078</td>\n      <td>84(4Вел)</td>\n      <td>На службе зла : роман</td>\n      <td>2017</td>\n      <td>Роберт Гэлбрейт ; перевод с английского Е. Пет...</td>\n      <td>Робин Эллакотт получает с курьером таинственны...</td>\n      <td>NaN</td>\n      <td>роман</td>\n      <td>540</td>\n      <td>NaN</td>\n      <td>mono</td>\n      <td>Русский</td>\n      <td>Текст</td>\n      <td>16.0</td>\n      <td>Художественная литература</td>\n      <td>41515.0</td>\n      <td>Иностранная литература. Современная классика</td>\n      <td>0dc0c51c9949ae797a04f1622dffb0f9</td>\n      <td>На службе зла</td>\n      <td>1</td>\n    </tr>\n    <tr>\n      <th>2</th>\n      <td>26991</td>\n      <td>84(7Сое)</td>\n      <td>Жареные зеленые помидоры в кафе \"Полустанок\" :...</td>\n      <td>2004</td>\n      <td>Фэнни Флэгг ; [пер. с англ. Д. Крупской]</td>\n      <td>Роман американской писательницы Ф.Флэгг расска...</td>\n      <td>NaN</td>\n      <td>роман</td>\n      <td>428</td>\n      <td>NaN</td>\n      <td>mono</td>\n      <td>Русский</td>\n      <td>Текст</td>\n      <td>NaN</td>\n      <td>Художественная литература</td>\n      <td>116027.0</td>\n      <td>NaN</td>\n      <td>63e4b98dbc52b93a8d52540c1bed7c15</td>\n      <td>Жареные зеленые помидоры в кафе \"Полустанок\"</td>\n      <td>7</td>\n    </tr>\n    <tr>\n      <th>3</th>\n      <td>1781433</td>\n      <td>84(7Сое)</td>\n      <td>Эмпайр Фоллз : роман</td>\n      <td>2020</td>\n      <td>Ричард Руссо ; перевод с английского Елены Пол...</td>\n      <td>Майлз Роби двадцать лет готовит бургеры в \"Имп...</td>\n      <td>NaN</td>\n      <td>роман</td>\n      <td>606</td>\n      <td>NaN</td>\n      <td>mono</td>\n      <td>Русский</td>\n      <td>Текст</td>\n      <td>16.0</td>\n      <td>Художественная литература</td>\n      <td>141830.0</td>\n      <td>NaN</td>\n      <td>3333ebc7e54b7aab6b8e65f30cb2b4f4</td>\n      <td>Эмпайр Фоллз</td>\n      <td>11</td>\n    </tr>\n    <tr>\n      <th>4</th>\n      <td>1687060</td>\n      <td>84(7США)</td>\n      <td>Эмпайр Фоллз : роман</td>\n      <td>2019</td>\n      <td>Р. Руссо ; пер. Е. Полецкая</td>\n      <td>NaN</td>\n      <td>NaN</td>\n      <td>роман</td>\n      <td>608</td>\n      <td>NaN</td>\n      <td>mono</td>\n      <td>Русский</td>\n      <td>Текст</td>\n      <td>NaN</td>\n      <td>Художественная литература</td>\n      <td>141830.0</td>\n      <td>NaN</td>\n      <td>0f4b28cf531daa0af4662a85110fb249</td>\n      <td>Эмпайр Фоллз</td>\n      <td>1</td>\n    </tr>\n  </tbody>\n</table>\n</div>"
     },
     "execution_count": 14,
     "metadata": {},
     "output_type": "execute_result"
    }
   ],
   "source": [
    "data = pd.read_csv(f'{PROJECT_FOLDER}/data/books.csv')\n",
    "data.head()\n"
   ],
   "metadata": {
    "collapsed": false,
    "pycharm": {
     "name": "#%%\n"
    }
   }
  },
  {
   "cell_type": "code",
   "execution_count": null,
   "outputs": [],
   "source": [],
   "metadata": {
    "collapsed": false,
    "pycharm": {
     "name": "#%%\n"
    }
   }
  }
 ],
 "metadata": {
  "kernelspec": {
   "display_name": "Python 3",
   "language": "python",
   "name": "python3"
  },
  "language_info": {
   "codemirror_mode": {
    "name": "ipython",
    "version": 2
   },
   "file_extension": ".py",
   "mimetype": "text/x-python",
   "name": "python",
   "nbconvert_exporter": "python",
   "pygments_lexer": "ipython2",
   "version": "2.7.6"
  }
 },
 "nbformat": 4,
 "nbformat_minor": 0
}