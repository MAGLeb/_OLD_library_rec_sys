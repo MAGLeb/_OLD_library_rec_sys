{
 "cells": [
  {
   "cell_type": "code",
   "execution_count": 91,
   "metadata": {
    "collapsed": true
   },
   "outputs": [],
   "source": [
    "import os\n",
    "import re\n",
    "import numbers\n",
    "\n",
    "import pandas as pd\n",
    "import numpy as np"
   ]
  },
  {
   "cell_type": "code",
   "execution_count": 92,
   "outputs": [],
   "source": [
    "PROJECT_FOLDER = os.path.abspath('..')"
   ],
   "metadata": {
    "collapsed": false,
    "pycharm": {
     "name": "#%%\n"
    }
   }
  },
  {
   "cell_type": "markdown",
   "source": [
    "# 1. Watching files:\n",
    "### 1.1 data/result_task3.csv"
   ],
   "metadata": {
    "collapsed": false,
    "pycharm": {
     "name": "#%% md\n"
    }
   }
  },
  {
   "cell_type": "code",
   "execution_count": 93,
   "outputs": [
    {
     "data": {
      "text/plain": "   user_id  book_id_1  book_id_2  book_id_3  book_id_4  book_id_5\n0   111000         12         16      10232       2342        234\n1   777333        123        754        232     234243       2323\n2     8888       1223       2334       2335     234545     111222",
      "text/html": "<div>\n<style scoped>\n    .dataframe tbody tr th:only-of-type {\n        vertical-align: middle;\n    }\n\n    .dataframe tbody tr th {\n        vertical-align: top;\n    }\n\n    .dataframe thead th {\n        text-align: right;\n    }\n</style>\n<table border=\"1\" class=\"dataframe\">\n  <thead>\n    <tr style=\"text-align: right;\">\n      <th></th>\n      <th>user_id</th>\n      <th>book_id_1</th>\n      <th>book_id_2</th>\n      <th>book_id_3</th>\n      <th>book_id_4</th>\n      <th>book_id_5</th>\n    </tr>\n  </thead>\n  <tbody>\n    <tr>\n      <th>0</th>\n      <td>111000</td>\n      <td>12</td>\n      <td>16</td>\n      <td>10232</td>\n      <td>2342</td>\n      <td>234</td>\n    </tr>\n    <tr>\n      <th>1</th>\n      <td>777333</td>\n      <td>123</td>\n      <td>754</td>\n      <td>232</td>\n      <td>234243</td>\n      <td>2323</td>\n    </tr>\n    <tr>\n      <th>2</th>\n      <td>8888</td>\n      <td>1223</td>\n      <td>2334</td>\n      <td>2335</td>\n      <td>234545</td>\n      <td>111222</td>\n    </tr>\n  </tbody>\n</table>\n</div>"
     },
     "execution_count": 93,
     "metadata": {},
     "output_type": "execute_result"
    }
   ],
   "source": [
    "result_example = pd.read_csv(f'{PROJECT_FOLDER}/local/raw_data/result_task3.csv', sep=';')\n",
    "result_example"
   ],
   "metadata": {
    "collapsed": false,
    "pycharm": {
     "name": "#%%\n"
    }
   }
  },
  {
   "cell_type": "markdown",
   "source": [
    "### 1.2 data/dataset_knigi_1.xlsx"
   ],
   "metadata": {
    "collapsed": false,
    "pycharm": {
     "name": "#%% md\n"
    }
   }
  },
  {
   "cell_type": "code",
   "execution_count": 94,
   "outputs": [
    {
     "data": {
      "text/plain": "          dt  user_id  book_id\n0 2021-06-01        1  1163786\n1 2021-06-01        1    66612\n2 2021-06-01        1  1034596\n3 2021-06-01        1  1152760\n4 2021-06-01        1    16168",
      "text/html": "<div>\n<style scoped>\n    .dataframe tbody tr th:only-of-type {\n        vertical-align: middle;\n    }\n\n    .dataframe tbody tr th {\n        vertical-align: top;\n    }\n\n    .dataframe thead th {\n        text-align: right;\n    }\n</style>\n<table border=\"1\" class=\"dataframe\">\n  <thead>\n    <tr style=\"text-align: right;\">\n      <th></th>\n      <th>dt</th>\n      <th>user_id</th>\n      <th>book_id</th>\n    </tr>\n  </thead>\n  <tbody>\n    <tr>\n      <th>0</th>\n      <td>2021-06-01</td>\n      <td>1</td>\n      <td>1163786</td>\n    </tr>\n    <tr>\n      <th>1</th>\n      <td>2021-06-01</td>\n      <td>1</td>\n      <td>66612</td>\n    </tr>\n    <tr>\n      <th>2</th>\n      <td>2021-06-01</td>\n      <td>1</td>\n      <td>1034596</td>\n    </tr>\n    <tr>\n      <th>3</th>\n      <td>2021-06-01</td>\n      <td>1</td>\n      <td>1152760</td>\n    </tr>\n    <tr>\n      <th>4</th>\n      <td>2021-06-01</td>\n      <td>1</td>\n      <td>16168</td>\n    </tr>\n  </tbody>\n</table>\n</div>"
     },
     "execution_count": 94,
     "metadata": {},
     "output_type": "execute_result"
    }
   ],
   "source": [
    "books_data = pd.read_excel(f'{PROJECT_FOLDER}/local/raw_data/dataset_knigi_1.xlsx', sheet_name=None)\n",
    "books_data = books_data['Лист1']\n",
    "books_data['id'] = books_data['source_url'].apply(lambda x: int(x.split('/')[-2]))\n",
    "books_data.drop(columns=['source_url', 'event'], inplace=True, axis=1)\n",
    "books_data.columns = ['dt', 'user_id', 'book_id']\n",
    "books_data.head()"
   ],
   "metadata": {
    "collapsed": false,
    "pycharm": {
     "name": "#%%\n"
    }
   }
  },
  {
   "cell_type": "code",
   "execution_count": 95,
   "outputs": [],
   "source": [
    "books_data.to_csv(f'{PROJECT_FOLDER}/data/user_book_interaction.csv', index=False)"
   ],
   "metadata": {
    "collapsed": false,
    "pycharm": {
     "name": "#%%\n"
    }
   }
  },
  {
   "cell_type": "code",
   "execution_count": 96,
   "outputs": [],
   "source": [
    "unique_books_ids = np.unique(books_data['book_id'])"
   ],
   "metadata": {
    "collapsed": false,
    "pycharm": {
     "name": "#%%\n"
    }
   }
  },
  {
   "cell_type": "markdown",
   "source": [
    "### 1.3 data/books.jsn"
   ],
   "metadata": {
    "collapsed": false,
    "pycharm": {
     "name": "#%% md\n"
    }
   }
  },
  {
   "cell_type": "code",
   "execution_count": 97,
   "outputs": [
    {
     "data": {
      "text/plain": "           id  parentId             bbk  \\\n0     1272541         0   84(2Рос=Рус)1   \n1     1960078         0        84(4Вел)   \n2       26991         0        84(7Сое)   \n3     1781433         0        84(7Сое)   \n4     1687060         0        84(7США)   \n...       ...       ...             ...   \n4677   814384         0     26.89(2-2М)   \n4678   840090         0   26.89(2-2М)я2   \n4679   727406         0              84   \n4680   305891         0    85.118(2-2М)   \n4681   583359         0  63.3(2-2Мос)я2   \n\n                                                  title  year  parentAuthor  \\\n0                                                  Бесы  2013             0   \n1                                 На службе зла : роман  2017             0   \n2     Жареные зеленые помидоры в кафе \"Полустанок\" :...  2004             0   \n3                                  Эмпайр Фоллз : роман  2020             0   \n4                                  Эмпайр Фоллз : роман  2019             0   \n...                                                 ...   ...           ...   \n4677  Административные округа Москвы:Культура.Истори...  1998             0   \n4678    Путеводитель Москва 850:События в юбилейные дни  1997             0   \n4679                    Трое в лодке (не считая собаки)  1958             0   \n4680  Проспекты советской Москвы. История реконструк...  2014             0   \n4681                                     История Москвы  1997             0   \n\n                                           contribution parentNumberOfPart  \\\n0                                     Федор Достоевский                      \n1     Роберт Гэлбрейт ; перевод с английского Е. Пет...                      \n2              Фэнни Флэгг ; [пер. с англ. Д. Крупской]                      \n3     Ричард Руссо ; перевод с английского Елены Пол...                      \n4                           Р. Руссо ; пер. Е. Полецкая                      \n...                                                 ...                ...   \n4677                                      Глушкова В.Г.                      \n4678                                                                         \n4679                         Пер. М.Донского,Э.Линецкой                      \n4680                                    Алексей Рогачев                      \n4681                                                                         \n\n                   isbn                                         annotation  \\\n0     978-5-17-063255-8  \"Бесы\"- одно из наиболее трагических, загадочн...   \n1     978-5-389-12682-4  Робин Эллакотт получает с курьером таинственны...   \n2         5-7516-0310-9  Роман американской писательницы Ф.Флэгг расска...   \n3     978-5-86471-807-0  Майлз Роби двадцать лет готовит бургеры в \"Имп...   \n4     978-5-86471-807-0                                                      \n...                 ...                                                ...   \n4677      5-691-00168-X  В книге дана обобщенная краеведческая и социал...   \n4678                     Путеводитель по Москве, рассказывающий о ее ис...   \n4679                                                                         \n4680  978-5-227-05721-1  Лучами расходятся от центра города радиальные ...   \n4681      5-270-01645-1                                                      \n\n      ... rubric author publisher place  serial f_deleted libraryId  \\\n0     ...      0      0         0     0       0     False         0   \n1     ...      0      0         0     0       0     False         0   \n2     ...      0      0         0     0       0     False         0   \n3     ...      0      0         0     0       0     False         0   \n4     ...      0      0         0     0       0     False         0   \n...   ...    ...    ...       ...   ...     ...       ...       ...   \n4677  ...      0      0         0     0       0     False         0   \n4678  ...      0      0         0     0       0     False         0   \n4679  ...      0      0         0     0       0     False         0   \n4680  ...      0      0         0     0       0     False         0   \n4681  ...      0      0         0     0       0     False         0   \n\n      catalogueId start_timestamp end_timestamp  \n0               0               0             0  \n1               0               0             0  \n2               0               0             0  \n3               0               0             0  \n4               0               0             0  \n...           ...             ...           ...  \n4677            0               0             0  \n4678            0               0             0  \n4679            0               0             0  \n4680            0               0             0  \n4681            0               0             0  \n\n[4682 rows x 98 columns]",
      "text/html": "<div>\n<style scoped>\n    .dataframe tbody tr th:only-of-type {\n        vertical-align: middle;\n    }\n\n    .dataframe tbody tr th {\n        vertical-align: top;\n    }\n\n    .dataframe thead th {\n        text-align: right;\n    }\n</style>\n<table border=\"1\" class=\"dataframe\">\n  <thead>\n    <tr style=\"text-align: right;\">\n      <th></th>\n      <th>id</th>\n      <th>parentId</th>\n      <th>bbk</th>\n      <th>title</th>\n      <th>year</th>\n      <th>parentAuthor</th>\n      <th>contribution</th>\n      <th>parentNumberOfPart</th>\n      <th>isbn</th>\n      <th>annotation</th>\n      <th>...</th>\n      <th>rubric</th>\n      <th>author</th>\n      <th>publisher</th>\n      <th>place</th>\n      <th>serial</th>\n      <th>f_deleted</th>\n      <th>libraryId</th>\n      <th>catalogueId</th>\n      <th>start_timestamp</th>\n      <th>end_timestamp</th>\n    </tr>\n  </thead>\n  <tbody>\n    <tr>\n      <th>0</th>\n      <td>1272541</td>\n      <td>0</td>\n      <td>84(2Рос=Рус)1</td>\n      <td>Бесы</td>\n      <td>2013</td>\n      <td>0</td>\n      <td>Федор Достоевский</td>\n      <td></td>\n      <td>978-5-17-063255-8</td>\n      <td>\"Бесы\"- одно из наиболее трагических, загадочн...</td>\n      <td>...</td>\n      <td>0</td>\n      <td>0</td>\n      <td>0</td>\n      <td>0</td>\n      <td>0</td>\n      <td>False</td>\n      <td>0</td>\n      <td>0</td>\n      <td>0</td>\n      <td>0</td>\n    </tr>\n    <tr>\n      <th>1</th>\n      <td>1960078</td>\n      <td>0</td>\n      <td>84(4Вел)</td>\n      <td>На службе зла : роман</td>\n      <td>2017</td>\n      <td>0</td>\n      <td>Роберт Гэлбрейт ; перевод с английского Е. Пет...</td>\n      <td></td>\n      <td>978-5-389-12682-4</td>\n      <td>Робин Эллакотт получает с курьером таинственны...</td>\n      <td>...</td>\n      <td>0</td>\n      <td>0</td>\n      <td>0</td>\n      <td>0</td>\n      <td>0</td>\n      <td>False</td>\n      <td>0</td>\n      <td>0</td>\n      <td>0</td>\n      <td>0</td>\n    </tr>\n    <tr>\n      <th>2</th>\n      <td>26991</td>\n      <td>0</td>\n      <td>84(7Сое)</td>\n      <td>Жареные зеленые помидоры в кафе \"Полустанок\" :...</td>\n      <td>2004</td>\n      <td>0</td>\n      <td>Фэнни Флэгг ; [пер. с англ. Д. Крупской]</td>\n      <td></td>\n      <td>5-7516-0310-9</td>\n      <td>Роман американской писательницы Ф.Флэгг расска...</td>\n      <td>...</td>\n      <td>0</td>\n      <td>0</td>\n      <td>0</td>\n      <td>0</td>\n      <td>0</td>\n      <td>False</td>\n      <td>0</td>\n      <td>0</td>\n      <td>0</td>\n      <td>0</td>\n    </tr>\n    <tr>\n      <th>3</th>\n      <td>1781433</td>\n      <td>0</td>\n      <td>84(7Сое)</td>\n      <td>Эмпайр Фоллз : роман</td>\n      <td>2020</td>\n      <td>0</td>\n      <td>Ричард Руссо ; перевод с английского Елены Пол...</td>\n      <td></td>\n      <td>978-5-86471-807-0</td>\n      <td>Майлз Роби двадцать лет готовит бургеры в \"Имп...</td>\n      <td>...</td>\n      <td>0</td>\n      <td>0</td>\n      <td>0</td>\n      <td>0</td>\n      <td>0</td>\n      <td>False</td>\n      <td>0</td>\n      <td>0</td>\n      <td>0</td>\n      <td>0</td>\n    </tr>\n    <tr>\n      <th>4</th>\n      <td>1687060</td>\n      <td>0</td>\n      <td>84(7США)</td>\n      <td>Эмпайр Фоллз : роман</td>\n      <td>2019</td>\n      <td>0</td>\n      <td>Р. Руссо ; пер. Е. Полецкая</td>\n      <td></td>\n      <td>978-5-86471-807-0</td>\n      <td></td>\n      <td>...</td>\n      <td>0</td>\n      <td>0</td>\n      <td>0</td>\n      <td>0</td>\n      <td>0</td>\n      <td>False</td>\n      <td>0</td>\n      <td>0</td>\n      <td>0</td>\n      <td>0</td>\n    </tr>\n    <tr>\n      <th>...</th>\n      <td>...</td>\n      <td>...</td>\n      <td>...</td>\n      <td>...</td>\n      <td>...</td>\n      <td>...</td>\n      <td>...</td>\n      <td>...</td>\n      <td>...</td>\n      <td>...</td>\n      <td>...</td>\n      <td>...</td>\n      <td>...</td>\n      <td>...</td>\n      <td>...</td>\n      <td>...</td>\n      <td>...</td>\n      <td>...</td>\n      <td>...</td>\n      <td>...</td>\n      <td>...</td>\n    </tr>\n    <tr>\n      <th>4677</th>\n      <td>814384</td>\n      <td>0</td>\n      <td>26.89(2-2М)</td>\n      <td>Административные округа Москвы:Культура.Истори...</td>\n      <td>1998</td>\n      <td>0</td>\n      <td>Глушкова В.Г.</td>\n      <td></td>\n      <td>5-691-00168-X</td>\n      <td>В книге дана обобщенная краеведческая и социал...</td>\n      <td>...</td>\n      <td>0</td>\n      <td>0</td>\n      <td>0</td>\n      <td>0</td>\n      <td>0</td>\n      <td>False</td>\n      <td>0</td>\n      <td>0</td>\n      <td>0</td>\n      <td>0</td>\n    </tr>\n    <tr>\n      <th>4678</th>\n      <td>840090</td>\n      <td>0</td>\n      <td>26.89(2-2М)я2</td>\n      <td>Путеводитель Москва 850:События в юбилейные дни</td>\n      <td>1997</td>\n      <td>0</td>\n      <td></td>\n      <td></td>\n      <td></td>\n      <td>Путеводитель по Москве, рассказывающий о ее ис...</td>\n      <td>...</td>\n      <td>0</td>\n      <td>0</td>\n      <td>0</td>\n      <td>0</td>\n      <td>0</td>\n      <td>False</td>\n      <td>0</td>\n      <td>0</td>\n      <td>0</td>\n      <td>0</td>\n    </tr>\n    <tr>\n      <th>4679</th>\n      <td>727406</td>\n      <td>0</td>\n      <td>84</td>\n      <td>Трое в лодке (не считая собаки)</td>\n      <td>1958</td>\n      <td>0</td>\n      <td>Пер. М.Донского,Э.Линецкой</td>\n      <td></td>\n      <td></td>\n      <td></td>\n      <td>...</td>\n      <td>0</td>\n      <td>0</td>\n      <td>0</td>\n      <td>0</td>\n      <td>0</td>\n      <td>False</td>\n      <td>0</td>\n      <td>0</td>\n      <td>0</td>\n      <td>0</td>\n    </tr>\n    <tr>\n      <th>4680</th>\n      <td>305891</td>\n      <td>0</td>\n      <td>85.118(2-2М)</td>\n      <td>Проспекты советской Москвы. История реконструк...</td>\n      <td>2014</td>\n      <td>0</td>\n      <td>Алексей Рогачев</td>\n      <td></td>\n      <td>978-5-227-05721-1</td>\n      <td>Лучами расходятся от центра города радиальные ...</td>\n      <td>...</td>\n      <td>0</td>\n      <td>0</td>\n      <td>0</td>\n      <td>0</td>\n      <td>0</td>\n      <td>False</td>\n      <td>0</td>\n      <td>0</td>\n      <td>0</td>\n      <td>0</td>\n    </tr>\n    <tr>\n      <th>4681</th>\n      <td>583359</td>\n      <td>0</td>\n      <td>63.3(2-2Мос)я2</td>\n      <td>История Москвы</td>\n      <td>1997</td>\n      <td>0</td>\n      <td></td>\n      <td></td>\n      <td>5-270-01645-1</td>\n      <td></td>\n      <td>...</td>\n      <td>0</td>\n      <td>0</td>\n      <td>0</td>\n      <td>0</td>\n      <td>0</td>\n      <td>False</td>\n      <td>0</td>\n      <td>0</td>\n      <td>0</td>\n      <td>0</td>\n    </tr>\n  </tbody>\n</table>\n<p>4682 rows × 98 columns</p>\n</div>"
     },
     "execution_count": 97,
     "metadata": {},
     "output_type": "execute_result"
    }
   ],
   "source": [
    "books_info = pd.read_json(f'{PROJECT_FOLDER}/local/raw_data/books.jsn')\n",
    "books_info"
   ],
   "metadata": {
    "collapsed": false,
    "pycharm": {
     "name": "#%%\n"
    }
   }
  },
  {
   "cell_type": "markdown",
   "source": [
    "#### 1.3.1 data leak???"
   ],
   "metadata": {
    "collapsed": false,
    "pycharm": {
     "name": "#%% md\n"
    }
   }
  },
  {
   "cell_type": "code",
   "execution_count": 98,
   "outputs": [
    {
     "name": "stdout",
     "output_type": "stream",
     "text": [
      "DIFF BETWEEN 'data/dataset_knigi_1.xlsx' AND 'data/books.jsn' unique number of books.\n"
     ]
    },
    {
     "data": {
      "text/plain": "743"
     },
     "execution_count": 98,
     "metadata": {},
     "output_type": "execute_result"
    }
   ],
   "source": [
    "print(\"DIFF BETWEEN 'data/dataset_knigi_1.xlsx' AND 'data/books.jsn' unique number of books.\")\n",
    "all_books_xlsx = np.unique(books_info['id'])\n",
    "len(set(all_books_xlsx) - set(unique_books_ids))"
   ],
   "metadata": {
    "collapsed": false,
    "pycharm": {
     "name": "#%%\n"
    }
   }
  },
  {
   "cell_type": "markdown",
   "source": [
    "#### 1.3.2 Preprocessing"
   ],
   "metadata": {
    "collapsed": false,
    "pycharm": {
     "name": "#%% md\n"
    }
   }
  },
  {
   "cell_type": "code",
   "execution_count": 99,
   "outputs": [
    {
     "data": {
      "text/plain": "        id            bbk  year  \\\n0  1272541  84(2Рос=Рус)1  2013   \n1  1960078       84(4Вел)  2017   \n2    26991       84(7Сое)  2004   \n3  1781433       84(7Сое)  2020   \n4  1687060       84(7США)  2019   \n\n                                        contribution  \\\n0                                  Федор Достоевский   \n1  Роберт Гэлбрейт ; перевод с английского Е. Пет...   \n2           Фэнни Флэгг ; [пер. с англ. Д. Крупской]   \n3  Ричард Руссо ; перевод с английского Елены Пол...   \n4                        Р. Руссо ; пер. Е. Полецкая   \n\n                                          annotation       volume  \\\n0  \"Бесы\"- одно из наиболее трагических, загадочн...  604, [2] с.   \n1  Робин Эллакотт получает с курьером таинственны...  540, [1] с.   \n2  Роман американской писательницы Ф.Флэгг расска...  428, [1] с.   \n3  Майлз Роби двадцать лет готовит бургеры в \"Имп...  606, [1] с.   \n4                                                           608с.   \n\n  parallelTitle ageRestriction_name                rubric_name  author_id  \\\n0                              None  Художественная литература    45567.0   \n1                               16+  Художественная литература    41515.0   \n2                              None  Художественная литература   116027.0   \n3                               16+  Художественная литература   141830.0   \n4                              None  Художественная литература   141830.0   \n\n                                     title_orig  available  \n0                                          Бесы          2  \n1                                 На службе зла          1  \n2  Жареные зеленые помидоры в кафе \"Полустанок\"          7  \n3                                  Эмпайр Фоллз         11  \n4                                  Эмпайр Фоллз          1  ",
      "text/html": "<div>\n<style scoped>\n    .dataframe tbody tr th:only-of-type {\n        vertical-align: middle;\n    }\n\n    .dataframe tbody tr th {\n        vertical-align: top;\n    }\n\n    .dataframe thead th {\n        text-align: right;\n    }\n</style>\n<table border=\"1\" class=\"dataframe\">\n  <thead>\n    <tr style=\"text-align: right;\">\n      <th></th>\n      <th>id</th>\n      <th>bbk</th>\n      <th>year</th>\n      <th>contribution</th>\n      <th>annotation</th>\n      <th>volume</th>\n      <th>parallelTitle</th>\n      <th>ageRestriction_name</th>\n      <th>rubric_name</th>\n      <th>author_id</th>\n      <th>title_orig</th>\n      <th>available</th>\n    </tr>\n  </thead>\n  <tbody>\n    <tr>\n      <th>0</th>\n      <td>1272541</td>\n      <td>84(2Рос=Рус)1</td>\n      <td>2013</td>\n      <td>Федор Достоевский</td>\n      <td>\"Бесы\"- одно из наиболее трагических, загадочн...</td>\n      <td>604, [2] с.</td>\n      <td></td>\n      <td>None</td>\n      <td>Художественная литература</td>\n      <td>45567.0</td>\n      <td>Бесы</td>\n      <td>2</td>\n    </tr>\n    <tr>\n      <th>1</th>\n      <td>1960078</td>\n      <td>84(4Вел)</td>\n      <td>2017</td>\n      <td>Роберт Гэлбрейт ; перевод с английского Е. Пет...</td>\n      <td>Робин Эллакотт получает с курьером таинственны...</td>\n      <td>540, [1] с.</td>\n      <td></td>\n      <td>16+</td>\n      <td>Художественная литература</td>\n      <td>41515.0</td>\n      <td>На службе зла</td>\n      <td>1</td>\n    </tr>\n    <tr>\n      <th>2</th>\n      <td>26991</td>\n      <td>84(7Сое)</td>\n      <td>2004</td>\n      <td>Фэнни Флэгг ; [пер. с англ. Д. Крупской]</td>\n      <td>Роман американской писательницы Ф.Флэгг расска...</td>\n      <td>428, [1] с.</td>\n      <td></td>\n      <td>None</td>\n      <td>Художественная литература</td>\n      <td>116027.0</td>\n      <td>Жареные зеленые помидоры в кафе \"Полустанок\"</td>\n      <td>7</td>\n    </tr>\n    <tr>\n      <th>3</th>\n      <td>1781433</td>\n      <td>84(7Сое)</td>\n      <td>2020</td>\n      <td>Ричард Руссо ; перевод с английского Елены Пол...</td>\n      <td>Майлз Роби двадцать лет готовит бургеры в \"Имп...</td>\n      <td>606, [1] с.</td>\n      <td></td>\n      <td>16+</td>\n      <td>Художественная литература</td>\n      <td>141830.0</td>\n      <td>Эмпайр Фоллз</td>\n      <td>11</td>\n    </tr>\n    <tr>\n      <th>4</th>\n      <td>1687060</td>\n      <td>84(7США)</td>\n      <td>2019</td>\n      <td>Р. Руссо ; пер. Е. Полецкая</td>\n      <td></td>\n      <td>608с.</td>\n      <td></td>\n      <td>None</td>\n      <td>Художественная литература</td>\n      <td>141830.0</td>\n      <td>Эмпайр Фоллз</td>\n      <td>1</td>\n    </tr>\n  </tbody>\n</table>\n</div>"
     },
     "execution_count": 99,
     "metadata": {},
     "output_type": "execute_result"
    }
   ],
   "source": [
    "columns_delete = ['parentNumberOfPart', 'parentId', 'parentAuthor', 'isbn', 'issn', 'deleted', 'titleOfPart', 'nextAuthor',\n",
    "                  'edition', 'bibliographyLevel', 'numberOfPart', 'parentTitle', 'parentAdditionalInfo', 'parentPlace', 'parentPublisher',\n",
    "                  'parentYear', 'changed', 'person', 'parentEdition', 'udk', 'cover', 'node', 'language_id', 'material_id', 'ageRestriction_id',\n",
    "                  'rubric_id', 'rubric_parentId', 'author_info', 'author_dates', 'author_surname', 'author_names', 'author_initials',\n",
    "                  'author_fullName', 'author_fullNameAlt', 'publisher_id', 'publisher_name', 'place_id', 'place_name', 'serial_id',\n",
    "                  'year_value', 'common_search_field', 'totalOutCount', 'totalInplaceCount', 'freeCount', 'freeHands', 'freeOnline',\n",
    "                  'orderedCount', 'outputCount', 'smart_collapse_field', 'author_surname_for_sort', 'author_surname_language_level',\n",
    "                  'title_for_sort', 'title_language_level', 'publisher_name_for_sort', 'publisher_name_language_level', 'serial_name_for_sort',\n",
    "                  'serial_name_language_level', 'dates', 'info', 'initials', 'eiskId', 'fixed', 'pointEiskId', 'language', 'material', 'ageRestriction',\n",
    "                  'rubric', 'author', 'publisher', 'place', 'serial', 'f_deleted', 'libraryId', 'catalogueId', 'start_timestamp', 'end_timestamp', 'siglaEiskId',\n",
    "                  'libraryAvailability', 'title', 'serial_name', 'keyword', 'titleAdditionalInfo', 'material_name', 'publicationType', 'language_name',\n",
    "                  'collapse_field']\n",
    "books_info.drop(axis=1, columns=columns_delete, inplace=True)\n",
    "books_info.head()\n"
   ],
   "metadata": {
    "collapsed": false,
    "pycharm": {
     "name": "#%%\n"
    }
   }
  },
  {
   "cell_type": "markdown",
   "source": [
    "- id: id of book, (there could be the same books, with different id)\n",
    "- bbk: classic RUSSIAN classification of books\n",
    "- year: year of book\n",
    "- contribution: author\n",
    "- annotation: short description\n",
    "- volume: number of pages, disks\n",
    "- parallelTitle (95% missed data): title on English language\n",
    "- ageRestriction_name: restriction age [4+, 16+, 18+]\n",
    "- rubric_name: additional genre for book\n",
    "- author_id: author id\n",
    "- title_orig: additional title\n",
    "- available: available to borrow"
   ],
   "metadata": {
    "collapsed": false,
    "pycharm": {
     "name": "#%% md\n"
    }
   }
  },
  {
   "cell_type": "code",
   "execution_count": 100,
   "outputs": [],
   "source": [
    "def check_column(dataset: pd.DataFrame, column: str = None):\n",
    "    if column is None:\n",
    "        series = dataset\n",
    "    else:\n",
    "        series = dataset[column]\n",
    "\n",
    "    number_nan = sum(series.isna())\n",
    "    empty_str = len(series == '')\n",
    "    total_len = len(series)\n",
    "    duplicates = sum(series.duplicated())\n",
    "\n",
    "    _print = [arr / total_len for arr in [number_nan, empty_str, duplicates]]\n",
    "    _text = ['NaN', 'empty_str', 'duplicates']\n",
    "\n",
    "    for n, t in zip(_print, _text):\n",
    "        print(f'{n}% of {t}.', end='\\n')\n",
    "\n",
    "    print(f'\\n{series.describe()}\\n')\n",
    "\n",
    "    return series.value_counts()"
   ],
   "metadata": {
    "collapsed": false,
    "pycharm": {
     "name": "#%%\n"
    }
   }
  },
  {
   "cell_type": "code",
   "execution_count": 101,
   "outputs": [
    {
     "name": "stdout",
     "output_type": "stream",
     "text": [
      "0.0% of NaN.\n",
      "1.0% of empty_str.\n",
      "0.13135412217001283% of duplicates.\n",
      "\n",
      "count     4682\n",
      "unique    4067\n",
      "top           \n",
      "freq        45\n",
      "Name: title_orig, dtype: object\n",
      "\n"
     ]
    },
    {
     "data": {
      "text/plain": "                           45\nЭнциклопедия для детей     19\nИзбранные произведения      9\nСобрание сочинений          7\nДумай                       7\n                           ..\nДом с волшебными окнами     1\nВалентина Терешкова         1\nСтарик-годовик              1\nБелая юрта                  1\nИстория Москвы              1\nName: title_orig, Length: 4067, dtype: int64"
     },
     "execution_count": 101,
     "metadata": {},
     "output_type": "execute_result"
    }
   ],
   "source": [
    "check_column(books_info, 'title_orig')"
   ],
   "metadata": {
    "collapsed": false,
    "pycharm": {
     "name": "#%%\n"
    }
   }
  },
  {
   "cell_type": "code",
   "execution_count": 102,
   "outputs": [
    {
     "name": "stdout",
     "output_type": "stream",
     "text": [
      "<class 'pandas.core.frame.DataFrame'>\n",
      "RangeIndex: 4682 entries, 0 to 4681\n",
      "Data columns (total 12 columns):\n",
      " #   Column               Non-Null Count  Dtype  \n",
      "---  ------               --------------  -----  \n",
      " 0   id                   4682 non-null   int64  \n",
      " 1   bbk                  4682 non-null   object \n",
      " 2   year                 4678 non-null   object \n",
      " 3   contribution         4682 non-null   object \n",
      " 4   annotation           4682 non-null   object \n",
      " 5   volume               4682 non-null   object \n",
      " 6   parallelTitle        4682 non-null   object \n",
      " 7   ageRestriction_name  2537 non-null   object \n",
      " 8   rubric_name          4597 non-null   object \n",
      " 9   author_id            4298 non-null   float64\n",
      " 10  title_orig           4682 non-null   object \n",
      " 11  available            4682 non-null   int64  \n",
      "dtypes: float64(1), int64(2), object(9)\n",
      "memory usage: 439.1+ KB\n"
     ]
    }
   ],
   "source": [
    "books_info.info()"
   ],
   "metadata": {
    "collapsed": false,
    "pycharm": {
     "name": "#%%\n"
    }
   }
  },
  {
   "cell_type": "code",
   "execution_count": 103,
   "outputs": [],
   "source": [
    "def year_preprocessing(x):\n",
    "    if x is None:\n",
    "        return 999999\n",
    "    number = re.search(r'\\d+', x)\n",
    "    if number is None:\n",
    "        return 999999\n",
    "    number = int(number.group())\n",
    "    if len(str(number)) < 4:\n",
    "        return 999999\n",
    "    return number\n",
    "\n",
    "def volume_preprocessing(x):\n",
    "    number = re.search(r'\\d+', x)\n",
    "    if number is None:\n",
    "        return 999999\n",
    "    number = int(number.group())\n",
    "    if number < 3:\n",
    "        return 999999\n",
    "    return number\n",
    "\n",
    "def age_restriction_preprocessing(x):\n",
    "    if x is None:\n",
    "        return None\n",
    "    number = re.search(r'\\d+', x)\n",
    "    if number is None:\n",
    "        return None\n",
    "    return int(number.group())\n",
    "\n",
    "def available_preprocessing(x):\n",
    "    if x is None:\n",
    "        return 0\n",
    "    if isinstance(x, numbers.Integral):\n",
    "        return x\n",
    "    number = re.search(r'\\d+', x)\n",
    "    if number is None:\n",
    "        return 0\n",
    "    return int(number.group())"
   ],
   "metadata": {
    "collapsed": false,
    "pycharm": {
     "name": "#%%\n"
    }
   }
  },
  {
   "cell_type": "code",
   "execution_count": 104,
   "outputs": [],
   "source": [
    "books_info['year'] = pd.to_numeric(books_info['year'].apply(year_preprocessing))\n",
    "books_info['volume'] = pd.to_numeric(books_info['volume'].apply(volume_preprocessing))\n",
    "books_info['ageRestriction_name'] = pd.to_numeric(books_info['ageRestriction_name'].apply(age_restriction_preprocessing))\n",
    "books_info['available'] = pd.to_numeric(books_info['available'].apply(available_preprocessing))"
   ],
   "metadata": {
    "collapsed": false,
    "pycharm": {
     "name": "#%%\n"
    }
   }
  },
  {
   "cell_type": "code",
   "execution_count": 105,
   "outputs": [
    {
     "name": "stdout",
     "output_type": "stream",
     "text": [
      "<class 'pandas.core.frame.DataFrame'>\n",
      "RangeIndex: 4682 entries, 0 to 4681\n",
      "Data columns (total 12 columns):\n",
      " #   Column               Non-Null Count  Dtype  \n",
      "---  ------               --------------  -----  \n",
      " 0   id                   4682 non-null   int64  \n",
      " 1   bbk                  4682 non-null   object \n",
      " 2   year                 4682 non-null   int64  \n",
      " 3   contribution         4682 non-null   object \n",
      " 4   annotation           4682 non-null   object \n",
      " 5   volume               4682 non-null   int64  \n",
      " 6   parallelTitle        4682 non-null   object \n",
      " 7   ageRestriction_name  2537 non-null   float64\n",
      " 8   rubric_name          4597 non-null   object \n",
      " 9   author_id            4298 non-null   float64\n",
      " 10  title_orig           4682 non-null   object \n",
      " 11  available            4682 non-null   int64  \n",
      "dtypes: float64(2), int64(4), object(6)\n",
      "memory usage: 439.1+ KB\n"
     ]
    }
   ],
   "source": [
    "books_info.info()"
   ],
   "metadata": {
    "collapsed": false,
    "pycharm": {
     "name": "#%%\n"
    }
   }
  },
  {
   "cell_type": "code",
   "execution_count": 106,
   "outputs": [],
   "source": [
    "def remove_duplicate_on_hash(dataset: pd.DataFrame) -> pd.DataFrame:\n",
    "    unique_fields = np.unique(dataset['id'])\n",
    "\n",
    "    for u_f in unique_fields:\n",
    "        slice = dataset[dataset['id'] == u_f]\n",
    "        total_available = sum(slice['available'])\n",
    "        dataset.loc[dataset['id'] == u_f, 'total_available'] = total_available\n",
    "\n",
    "    dataset.drop_duplicates(['id'], inplace=True)\n",
    "\n",
    "    return dataset\n"
   ],
   "metadata": {
    "collapsed": false,
    "pycharm": {
     "name": "#%%\n"
    }
   }
  },
  {
   "cell_type": "code",
   "execution_count": 107,
   "outputs": [
    {
     "name": "stdout",
     "output_type": "stream",
     "text": [
      "<class 'pandas.core.frame.DataFrame'>\n",
      "RangeIndex: 4682 entries, 0 to 4681\n",
      "Data columns (total 12 columns):\n",
      " #   Column            Non-Null Count  Dtype  \n",
      "---  ------            --------------  -----  \n",
      " 0   id                4682 non-null   int64  \n",
      " 1   bbk               4682 non-null   object \n",
      " 2   year              4682 non-null   int64  \n",
      " 3   author            4682 non-null   object \n",
      " 4   annotation        4682 non-null   object \n",
      " 5   volume            4682 non-null   int64  \n",
      " 6   title_additional  4682 non-null   object \n",
      " 7   age_restriction   2537 non-null   float64\n",
      " 8   rubrics           4597 non-null   object \n",
      " 9   author_id         4298 non-null   float64\n",
      " 10  title             4682 non-null   object \n",
      " 11  available         4682 non-null   int64  \n",
      "dtypes: float64(2), int64(4), object(6)\n",
      "memory usage: 439.1+ KB\n"
     ]
    }
   ],
   "source": [
    "books_info.columns = ['id', 'bbk', 'year', 'author', 'annotation', 'volume',\n",
    "                      'title_additional', 'age_restriction', 'rubrics', 'author_id',\n",
    "                      'title', 'available']\n",
    "books_info.info()"
   ],
   "metadata": {
    "collapsed": false,
    "pycharm": {
     "name": "#%%\n"
    }
   }
  },
  {
   "cell_type": "code",
   "execution_count": 108,
   "outputs": [],
   "source": [
    "books_info.to_csv(f'{PROJECT_FOLDER}/data/books.csv', index=False)"
   ],
   "metadata": {
    "collapsed": false,
    "pycharm": {
     "name": "#%%\n"
    }
   }
  },
  {
   "cell_type": "markdown",
   "source": [
    "## 2. Preparing data, cleaning, Punctuation Removal, Lowering the text"
   ],
   "metadata": {
    "collapsed": false,
    "pycharm": {
     "name": "#%% md\n"
    }
   }
  },
  {
   "cell_type": "code",
   "execution_count": 109,
   "outputs": [],
   "source": [
    "import string"
   ],
   "metadata": {
    "collapsed": false,
    "pycharm": {
     "name": "#%%\n"
    }
   }
  },
  {
   "cell_type": "code",
   "execution_count": 110,
   "outputs": [
    {
     "data": {
      "text/plain": "        id            bbk  year  \\\n0  1272541  84(2Рос=Рус)1  2013   \n1  1960078       84(4Вел)  2017   \n2    26991       84(7Сое)  2004   \n3  1781433       84(7Сое)  2020   \n4  1687060       84(7США)  2019   \n\n                                              author  \\\n0                                  Федор Достоевский   \n1  Роберт Гэлбрейт ; перевод с английского Е. Пет...   \n2           Фэнни Флэгг ; [пер. с англ. Д. Крупской]   \n3  Ричард Руссо ; перевод с английского Елены Пол...   \n4                        Р. Руссо ; пер. Е. Полецкая   \n\n                                          annotation  volume title_additional  \\\n0  \"Бесы\"- одно из наиболее трагических, загадочн...     604              NaN   \n1  Робин Эллакотт получает с курьером таинственны...     540              NaN   \n2  Роман американской писательницы Ф.Флэгг расска...     428              NaN   \n3  Майлз Роби двадцать лет готовит бургеры в \"Имп...     606              NaN   \n4                                                NaN     608              NaN   \n\n   age_restriction                    rubrics  author_id  \\\n0              NaN  Художественная литература    45567.0   \n1             16.0  Художественная литература    41515.0   \n2              NaN  Художественная литература   116027.0   \n3             16.0  Художественная литература   141830.0   \n4              NaN  Художественная литература   141830.0   \n\n                                          title  available  \n0                                          Бесы          2  \n1                                 На службе зла          1  \n2  Жареные зеленые помидоры в кафе \"Полустанок\"          7  \n3                                  Эмпайр Фоллз         11  \n4                                  Эмпайр Фоллз          1  ",
      "text/html": "<div>\n<style scoped>\n    .dataframe tbody tr th:only-of-type {\n        vertical-align: middle;\n    }\n\n    .dataframe tbody tr th {\n        vertical-align: top;\n    }\n\n    .dataframe thead th {\n        text-align: right;\n    }\n</style>\n<table border=\"1\" class=\"dataframe\">\n  <thead>\n    <tr style=\"text-align: right;\">\n      <th></th>\n      <th>id</th>\n      <th>bbk</th>\n      <th>year</th>\n      <th>author</th>\n      <th>annotation</th>\n      <th>volume</th>\n      <th>title_additional</th>\n      <th>age_restriction</th>\n      <th>rubrics</th>\n      <th>author_id</th>\n      <th>title</th>\n      <th>available</th>\n    </tr>\n  </thead>\n  <tbody>\n    <tr>\n      <th>0</th>\n      <td>1272541</td>\n      <td>84(2Рос=Рус)1</td>\n      <td>2013</td>\n      <td>Федор Достоевский</td>\n      <td>\"Бесы\"- одно из наиболее трагических, загадочн...</td>\n      <td>604</td>\n      <td>NaN</td>\n      <td>NaN</td>\n      <td>Художественная литература</td>\n      <td>45567.0</td>\n      <td>Бесы</td>\n      <td>2</td>\n    </tr>\n    <tr>\n      <th>1</th>\n      <td>1960078</td>\n      <td>84(4Вел)</td>\n      <td>2017</td>\n      <td>Роберт Гэлбрейт ; перевод с английского Е. Пет...</td>\n      <td>Робин Эллакотт получает с курьером таинственны...</td>\n      <td>540</td>\n      <td>NaN</td>\n      <td>16.0</td>\n      <td>Художественная литература</td>\n      <td>41515.0</td>\n      <td>На службе зла</td>\n      <td>1</td>\n    </tr>\n    <tr>\n      <th>2</th>\n      <td>26991</td>\n      <td>84(7Сое)</td>\n      <td>2004</td>\n      <td>Фэнни Флэгг ; [пер. с англ. Д. Крупской]</td>\n      <td>Роман американской писательницы Ф.Флэгг расска...</td>\n      <td>428</td>\n      <td>NaN</td>\n      <td>NaN</td>\n      <td>Художественная литература</td>\n      <td>116027.0</td>\n      <td>Жареные зеленые помидоры в кафе \"Полустанок\"</td>\n      <td>7</td>\n    </tr>\n    <tr>\n      <th>3</th>\n      <td>1781433</td>\n      <td>84(7Сое)</td>\n      <td>2020</td>\n      <td>Ричард Руссо ; перевод с английского Елены Пол...</td>\n      <td>Майлз Роби двадцать лет готовит бургеры в \"Имп...</td>\n      <td>606</td>\n      <td>NaN</td>\n      <td>16.0</td>\n      <td>Художественная литература</td>\n      <td>141830.0</td>\n      <td>Эмпайр Фоллз</td>\n      <td>11</td>\n    </tr>\n    <tr>\n      <th>4</th>\n      <td>1687060</td>\n      <td>84(7США)</td>\n      <td>2019</td>\n      <td>Р. Руссо ; пер. Е. Полецкая</td>\n      <td>NaN</td>\n      <td>608</td>\n      <td>NaN</td>\n      <td>NaN</td>\n      <td>Художественная литература</td>\n      <td>141830.0</td>\n      <td>Эмпайр Фоллз</td>\n      <td>1</td>\n    </tr>\n  </tbody>\n</table>\n</div>"
     },
     "execution_count": 110,
     "metadata": {},
     "output_type": "execute_result"
    }
   ],
   "source": [
    "data = pd.read_csv(f'{PROJECT_FOLDER}/data/books.csv')\n",
    "data.head()"
   ],
   "metadata": {
    "collapsed": false,
    "pycharm": {
     "name": "#%%\n"
    }
   }
  },
  {
   "cell_type": "code",
   "execution_count": 111,
   "outputs": [],
   "source": [
    "def author_preprocessing(x):\n",
    "    if isinstance(x, str):\n",
    "        return x.split(';')[0]\n",
    "    return None\n",
    "\n",
    "def remove_punctuation(text):\n",
    "    if isinstance(text, str):\n",
    "        cleared =\"\".join([i for i in text if i not in string.punctuation.replace('.', '')])\n",
    "        return cleared\n",
    "    return None\n",
    "\n",
    "def remove_several_spaces(text):\n",
    "    if isinstance(text, str):\n",
    "        return ' '.join(text.split())\n",
    "    return None\n",
    "\n",
    "def text_lower(text):\n",
    "    if isinstance(text, str):\n",
    "        return text.lower()\n",
    "    return None\n"
   ],
   "metadata": {
    "collapsed": false,
    "pycharm": {
     "name": "#%%\n"
    }
   }
  },
  {
   "cell_type": "code",
   "execution_count": 113,
   "outputs": [
    {
     "data": {
      "text/plain": "        id            bbk  year             author  \\\n0  1272541  84(2Рос=Рус)1  2013  Федор Достоевский   \n1  1960078       84(4Вел)  2017    Роберт Гэлбрейт   \n2    26991       84(7Сое)  2004        Фэнни Флэгг   \n3  1781433       84(7Сое)  2020       Ричард Руссо   \n4  1687060       84(7США)  2019           Р. Руссо   \n\n                                          annotation  volume title_additional  \\\n0  \"Бесы\"- одно из наиболее трагических, загадочн...     604             None   \n1  Робин Эллакотт получает с курьером таинственны...     540             None   \n2  Роман американской писательницы Ф.Флэгг расска...     428             None   \n3  Майлз Роби двадцать лет готовит бургеры в \"Имп...     606             None   \n4                                               None     608             None   \n\n   age_restriction                    rubrics  author_id  \\\n0              NaN  Художественная литература    45567.0   \n1             16.0  Художественная литература    41515.0   \n2              NaN  Художественная литература   116027.0   \n3             16.0  Художественная литература   141830.0   \n4              NaN  Художественная литература   141830.0   \n\n                                          title  available  \n0                                          Бесы          2  \n1                                 На службе зла          1  \n2  Жареные зеленые помидоры в кафе \"Полустанок\"          7  \n3                                  Эмпайр Фоллз         11  \n4                                  Эмпайр Фоллз          1  ",
      "text/html": "<div>\n<style scoped>\n    .dataframe tbody tr th:only-of-type {\n        vertical-align: middle;\n    }\n\n    .dataframe tbody tr th {\n        vertical-align: top;\n    }\n\n    .dataframe thead th {\n        text-align: right;\n    }\n</style>\n<table border=\"1\" class=\"dataframe\">\n  <thead>\n    <tr style=\"text-align: right;\">\n      <th></th>\n      <th>id</th>\n      <th>bbk</th>\n      <th>year</th>\n      <th>author</th>\n      <th>annotation</th>\n      <th>volume</th>\n      <th>title_additional</th>\n      <th>age_restriction</th>\n      <th>rubrics</th>\n      <th>author_id</th>\n      <th>title</th>\n      <th>available</th>\n    </tr>\n  </thead>\n  <tbody>\n    <tr>\n      <th>0</th>\n      <td>1272541</td>\n      <td>84(2Рос=Рус)1</td>\n      <td>2013</td>\n      <td>Федор Достоевский</td>\n      <td>\"Бесы\"- одно из наиболее трагических, загадочн...</td>\n      <td>604</td>\n      <td>None</td>\n      <td>NaN</td>\n      <td>Художественная литература</td>\n      <td>45567.0</td>\n      <td>Бесы</td>\n      <td>2</td>\n    </tr>\n    <tr>\n      <th>1</th>\n      <td>1960078</td>\n      <td>84(4Вел)</td>\n      <td>2017</td>\n      <td>Роберт Гэлбрейт</td>\n      <td>Робин Эллакотт получает с курьером таинственны...</td>\n      <td>540</td>\n      <td>None</td>\n      <td>16.0</td>\n      <td>Художественная литература</td>\n      <td>41515.0</td>\n      <td>На службе зла</td>\n      <td>1</td>\n    </tr>\n    <tr>\n      <th>2</th>\n      <td>26991</td>\n      <td>84(7Сое)</td>\n      <td>2004</td>\n      <td>Фэнни Флэгг</td>\n      <td>Роман американской писательницы Ф.Флэгг расска...</td>\n      <td>428</td>\n      <td>None</td>\n      <td>NaN</td>\n      <td>Художественная литература</td>\n      <td>116027.0</td>\n      <td>Жареные зеленые помидоры в кафе \"Полустанок\"</td>\n      <td>7</td>\n    </tr>\n    <tr>\n      <th>3</th>\n      <td>1781433</td>\n      <td>84(7Сое)</td>\n      <td>2020</td>\n      <td>Ричард Руссо</td>\n      <td>Майлз Роби двадцать лет готовит бургеры в \"Имп...</td>\n      <td>606</td>\n      <td>None</td>\n      <td>16.0</td>\n      <td>Художественная литература</td>\n      <td>141830.0</td>\n      <td>Эмпайр Фоллз</td>\n      <td>11</td>\n    </tr>\n    <tr>\n      <th>4</th>\n      <td>1687060</td>\n      <td>84(7США)</td>\n      <td>2019</td>\n      <td>Р. Руссо</td>\n      <td>None</td>\n      <td>608</td>\n      <td>None</td>\n      <td>NaN</td>\n      <td>Художественная литература</td>\n      <td>141830.0</td>\n      <td>Эмпайр Фоллз</td>\n      <td>1</td>\n    </tr>\n  </tbody>\n</table>\n</div>"
     },
     "execution_count": 113,
     "metadata": {},
     "output_type": "execute_result"
    }
   ],
   "source": [
    "data['author'] = data['author'].apply(author_preprocessing).apply(remove_punctuation).apply(remove_several_spaces)\n",
    "data['title_additional'] = data['title_additional'].apply(remove_several_spaces)\n",
    "data['title'] = data['title'].apply(remove_several_spaces)\n",
    "data['rubrics'] = data['rubrics'].apply(remove_several_spaces)\n",
    "data['annotation'] = data['annotation'].apply(remove_several_spaces)\n",
    "data.head()"
   ],
   "metadata": {
    "collapsed": false,
    "pycharm": {
     "name": "#%%\n"
    }
   }
  },
  {
   "cell_type": "code",
   "execution_count": 114,
   "outputs": [],
   "source": [
    "data.to_csv(f'{PROJECT_FOLDER}/data/books.csv', index=False)"
   ],
   "metadata": {
    "collapsed": false,
    "pycharm": {
     "name": "#%%\n"
    }
   }
  },
  {
   "cell_type": "code",
   "execution_count": 117,
   "outputs": [
    {
     "data": {
      "text/plain": "           dt  user_id  book_id\n0  2021-06-01        1  1163786\n1  2021-06-01        1    66612\n2  2021-06-01        1  1034596\n3  2021-06-01        1  1152760\n4  2021-06-01        1    16168",
      "text/html": "<div>\n<style scoped>\n    .dataframe tbody tr th:only-of-type {\n        vertical-align: middle;\n    }\n\n    .dataframe tbody tr th {\n        vertical-align: top;\n    }\n\n    .dataframe thead th {\n        text-align: right;\n    }\n</style>\n<table border=\"1\" class=\"dataframe\">\n  <thead>\n    <tr style=\"text-align: right;\">\n      <th></th>\n      <th>dt</th>\n      <th>user_id</th>\n      <th>book_id</th>\n    </tr>\n  </thead>\n  <tbody>\n    <tr>\n      <th>0</th>\n      <td>2021-06-01</td>\n      <td>1</td>\n      <td>1163786</td>\n    </tr>\n    <tr>\n      <th>1</th>\n      <td>2021-06-01</td>\n      <td>1</td>\n      <td>66612</td>\n    </tr>\n    <tr>\n      <th>2</th>\n      <td>2021-06-01</td>\n      <td>1</td>\n      <td>1034596</td>\n    </tr>\n    <tr>\n      <th>3</th>\n      <td>2021-06-01</td>\n      <td>1</td>\n      <td>1152760</td>\n    </tr>\n    <tr>\n      <th>4</th>\n      <td>2021-06-01</td>\n      <td>1</td>\n      <td>16168</td>\n    </tr>\n  </tbody>\n</table>\n</div>"
     },
     "execution_count": 117,
     "metadata": {},
     "output_type": "execute_result"
    }
   ],
   "source": [
    "interactions = pd.read_csv(os.path.join(PROJECT_FOLDER, 'data', 'user_book_interaction_full.csv'))\n",
    "interactions.head()"
   ],
   "metadata": {
    "collapsed": false,
    "pycharm": {
     "name": "#%%\n"
    }
   }
  },
  {
   "cell_type": "code",
   "execution_count": 148,
   "outputs": [
    {
     "data": {
      "text/plain": "           id            bbk  year              author  \\\n6     2001367      84(2Рос)6  2021        Борис Акунин   \n18    2015068       84(7Сое)  2021         Стивен Кинг   \n40    2012111       84(4Вел)  2021       Стюарт Тёртон   \n51    1917880       84(4Ирл)  2021          Салли Руни   \n63    2111674        63.3(0)  2021  Катажина Радзивилл   \n...       ...            ...   ...                 ...   \n4621  2122128       84(4Ита)  2021      Данте Алигьери   \n4627  1917467             65  2021    Ольга Соломатина   \n4647  2121936       84(4Вел)  2021        А. С. Байетт   \n4648  2104928      84(2Рос)6  2021      Алла Горбунова   \n4649  2119696  84(2Рос=Рус)6  2021      Дарья Бобылёва   \n\n                                             annotation  volume  \\\n6     \"Просто Маса\" — это Масахиро Сибата один, без ...     446   \n18    Еще недавно у двенадцатилетнего Люка Эллиса бы...     604   \n40    Впервые на русском — «головоломная, и притом с...     508   \n51    \"Разговоры с друзьями\" - первая книга Салли Ру...     316   \n63    В Древней Греции изобрели демократию и философ...      39   \n...                                                 ...     ...   \n4621  \"Божественная комедия\" - бессмертная поэтическ...     767   \n4627  Илон Маск — предприниматель, инженер и изобрет...      32   \n4647  \"Дева в саду\" - это первый роман \"Квартета Фре...     606   \n4648  Алла Горбунова родилась в 1985 году в Ленингра...     221   \n4649  Кто не слышал в детстве дворовых легенд? Про т...     348   \n\n     title_additional  age_restriction                             rubrics  \\\n6                None             16.0           Художественная литература   \n18               None             16.0           Художественная литература   \n40               None             16.0           Художественная литература   \n51               None             16.0           Художественная литература   \n63               None              6.0  История в целом. Всемирная история   \n...               ...              ...                                 ...   \n4621             None             12.0           Художественная литература   \n4627             None              6.0    Литература для детей и юношества   \n4647             None             16.0           Художественная литература   \n4648             None             18.0           Художественная литература   \n4649             None             16.0           Художественная литература   \n\n      author_id                                title  available  \n6       14240.0                          Просто Маса          9  \n18      58324.0                             Институт          5  \n40     140699.0        Семь смертей Эвелины Хардкасл          5  \n51     156642.0                 Разговоры с друзьями         26  \n63     194317.0                       История женщин         22  \n...         ...                                  ...        ...  \n4621    42282.0                 Божественная комедия          1  \n4627   105691.0  Чему я могу научиться у Илона Маска        153  \n4647    19029.0                          Дева в саду          7  \n4648    38139.0                       Другая материя         22  \n4649   194899.0                             Наш двор          1  \n\n[255 rows x 12 columns]",
      "text/html": "<div>\n<style scoped>\n    .dataframe tbody tr th:only-of-type {\n        vertical-align: middle;\n    }\n\n    .dataframe tbody tr th {\n        vertical-align: top;\n    }\n\n    .dataframe thead th {\n        text-align: right;\n    }\n</style>\n<table border=\"1\" class=\"dataframe\">\n  <thead>\n    <tr style=\"text-align: right;\">\n      <th></th>\n      <th>id</th>\n      <th>bbk</th>\n      <th>year</th>\n      <th>author</th>\n      <th>annotation</th>\n      <th>volume</th>\n      <th>title_additional</th>\n      <th>age_restriction</th>\n      <th>rubrics</th>\n      <th>author_id</th>\n      <th>title</th>\n      <th>available</th>\n    </tr>\n  </thead>\n  <tbody>\n    <tr>\n      <th>6</th>\n      <td>2001367</td>\n      <td>84(2Рос)6</td>\n      <td>2021</td>\n      <td>Борис Акунин</td>\n      <td>\"Просто Маса\" — это Масахиро Сибата один, без ...</td>\n      <td>446</td>\n      <td>None</td>\n      <td>16.0</td>\n      <td>Художественная литература</td>\n      <td>14240.0</td>\n      <td>Просто Маса</td>\n      <td>9</td>\n    </tr>\n    <tr>\n      <th>18</th>\n      <td>2015068</td>\n      <td>84(7Сое)</td>\n      <td>2021</td>\n      <td>Стивен Кинг</td>\n      <td>Еще недавно у двенадцатилетнего Люка Эллиса бы...</td>\n      <td>604</td>\n      <td>None</td>\n      <td>16.0</td>\n      <td>Художественная литература</td>\n      <td>58324.0</td>\n      <td>Институт</td>\n      <td>5</td>\n    </tr>\n    <tr>\n      <th>40</th>\n      <td>2012111</td>\n      <td>84(4Вел)</td>\n      <td>2021</td>\n      <td>Стюарт Тёртон</td>\n      <td>Впервые на русском — «головоломная, и притом с...</td>\n      <td>508</td>\n      <td>None</td>\n      <td>16.0</td>\n      <td>Художественная литература</td>\n      <td>140699.0</td>\n      <td>Семь смертей Эвелины Хардкасл</td>\n      <td>5</td>\n    </tr>\n    <tr>\n      <th>51</th>\n      <td>1917880</td>\n      <td>84(4Ирл)</td>\n      <td>2021</td>\n      <td>Салли Руни</td>\n      <td>\"Разговоры с друзьями\" - первая книга Салли Ру...</td>\n      <td>316</td>\n      <td>None</td>\n      <td>16.0</td>\n      <td>Художественная литература</td>\n      <td>156642.0</td>\n      <td>Разговоры с друзьями</td>\n      <td>26</td>\n    </tr>\n    <tr>\n      <th>63</th>\n      <td>2111674</td>\n      <td>63.3(0)</td>\n      <td>2021</td>\n      <td>Катажина Радзивилл</td>\n      <td>В Древней Греции изобрели демократию и философ...</td>\n      <td>39</td>\n      <td>None</td>\n      <td>6.0</td>\n      <td>История в целом. Всемирная история</td>\n      <td>194317.0</td>\n      <td>История женщин</td>\n      <td>22</td>\n    </tr>\n    <tr>\n      <th>...</th>\n      <td>...</td>\n      <td>...</td>\n      <td>...</td>\n      <td>...</td>\n      <td>...</td>\n      <td>...</td>\n      <td>...</td>\n      <td>...</td>\n      <td>...</td>\n      <td>...</td>\n      <td>...</td>\n      <td>...</td>\n    </tr>\n    <tr>\n      <th>4621</th>\n      <td>2122128</td>\n      <td>84(4Ита)</td>\n      <td>2021</td>\n      <td>Данте Алигьери</td>\n      <td>\"Божественная комедия\" - бессмертная поэтическ...</td>\n      <td>767</td>\n      <td>None</td>\n      <td>12.0</td>\n      <td>Художественная литература</td>\n      <td>42282.0</td>\n      <td>Божественная комедия</td>\n      <td>1</td>\n    </tr>\n    <tr>\n      <th>4627</th>\n      <td>1917467</td>\n      <td>65</td>\n      <td>2021</td>\n      <td>Ольга Соломатина</td>\n      <td>Илон Маск — предприниматель, инженер и изобрет...</td>\n      <td>32</td>\n      <td>None</td>\n      <td>6.0</td>\n      <td>Литература для детей и юношества</td>\n      <td>105691.0</td>\n      <td>Чему я могу научиться у Илона Маска</td>\n      <td>153</td>\n    </tr>\n    <tr>\n      <th>4647</th>\n      <td>2121936</td>\n      <td>84(4Вел)</td>\n      <td>2021</td>\n      <td>А. С. Байетт</td>\n      <td>\"Дева в саду\" - это первый роман \"Квартета Фре...</td>\n      <td>606</td>\n      <td>None</td>\n      <td>16.0</td>\n      <td>Художественная литература</td>\n      <td>19029.0</td>\n      <td>Дева в саду</td>\n      <td>7</td>\n    </tr>\n    <tr>\n      <th>4648</th>\n      <td>2104928</td>\n      <td>84(2Рос)6</td>\n      <td>2021</td>\n      <td>Алла Горбунова</td>\n      <td>Алла Горбунова родилась в 1985 году в Ленингра...</td>\n      <td>221</td>\n      <td>None</td>\n      <td>18.0</td>\n      <td>Художественная литература</td>\n      <td>38139.0</td>\n      <td>Другая материя</td>\n      <td>22</td>\n    </tr>\n    <tr>\n      <th>4649</th>\n      <td>2119696</td>\n      <td>84(2Рос=Рус)6</td>\n      <td>2021</td>\n      <td>Дарья Бобылёва</td>\n      <td>Кто не слышал в детстве дворовых легенд? Про т...</td>\n      <td>348</td>\n      <td>None</td>\n      <td>16.0</td>\n      <td>Художественная литература</td>\n      <td>194899.0</td>\n      <td>Наш двор</td>\n      <td>1</td>\n    </tr>\n  </tbody>\n</table>\n<p>255 rows × 12 columns</p>\n</div>"
     },
     "execution_count": 148,
     "metadata": {},
     "output_type": "execute_result"
    }
   ],
   "source": [
    "data[data['year'] == 2021]"
   ],
   "metadata": {
    "collapsed": false,
    "pycharm": {
     "name": "#%%\n"
    }
   }
  },
  {
   "cell_type": "code",
   "execution_count": 156,
   "outputs": [],
   "source": [
    "        from datetime import datetime\n",
    "import dateutil.relativedelta\n",
    "\n",
    "date_now = datetime.now()\n",
    "date_now_custom = pd.to_datetime(interactions['dt'].describe()['top'])\n",
    "date_now_minus_month = (date_now_custom - dateutil.relativedelta.relativedelta(months=1)).strftime('%Y-%m-%d')"
   ],
   "metadata": {
    "collapsed": false,
    "pycharm": {
     "name": "#%%\n"
    }
   }
  },
  {
   "cell_type": "code",
   "execution_count": 173,
   "outputs": [],
   "source": [
    "_1 = interactions[interactions['dt'] >= date_now_minus_month]['book_id'].value_counts().index.tolist()[:25]\n",
    "_2 = data[data['rubrics'] == 'История России']\n",
    "_3 = data[data['year'] == 2021]"
   ],
   "metadata": {
    "collapsed": false,
    "pycharm": {
     "name": "#%%\n"
    }
   }
  },
  {
   "cell_type": "code",
   "execution_count": 175,
   "outputs": [
    {
     "data": {
      "text/plain": "Художественная литература                                     2675\nЛитература для детей и юношества                               410\nИстория России                                                  85\nЗарубежная художественная литература для детей и юношества      71\nСоциальная психология                                           54\n                                                              ... \nОбщество в целом. Общие характеристики социума                   1\nСоциальная философия                                             1\nМедицинская сексология                                           1\nДерматология. Венерология                                        1\nНемецкий язык                                                    1\nName: rubrics, Length: 244, dtype: int64"
     },
     "execution_count": 175,
     "metadata": {},
     "output_type": "execute_result"
    }
   ],
   "source": [
    "data['rubrics'].value_counts()"
   ],
   "metadata": {
    "collapsed": false,
    "pycharm": {
     "name": "#%%\n"
    }
   }
  },
  {
   "cell_type": "code",
   "execution_count": null,
   "outputs": [],
   "source": [
    "data[data['rubrics'] == 'Зарубежная проза']"
   ],
   "metadata": {
    "collapsed": false,
    "pycharm": {
     "name": "#%%\n"
    }
   }
  },
  {
   "cell_type": "code",
   "execution_count": null,
   "outputs": [],
   "source": [
    "1 - популярное в этом месяце\n",
    "2 - Зарубежная проза\n",
    "3 - новые книги 2021 года"
   ],
   "metadata": {
    "collapsed": false,
    "pycharm": {
     "name": "#%%\n"
    }
   }
  }
 ],
 "metadata": {
  "kernelspec": {
   "display_name": "Python 3",
   "language": "python",
   "name": "python3"
  },
  "language_info": {
   "codemirror_mode": {
    "name": "ipython",
    "version": 2
   },
   "file_extension": ".py",
   "mimetype": "text/x-python",
   "name": "python",
   "nbconvert_exporter": "python",
   "pygments_lexer": "ipython2",
   "version": "2.7.6"
  }
 },
 "nbformat": 4,
 "nbformat_minor": 0
}