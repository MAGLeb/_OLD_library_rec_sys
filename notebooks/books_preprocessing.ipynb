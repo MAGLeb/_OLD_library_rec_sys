{
 "cells": [
  {
   "cell_type": "code",
   "execution_count": 1,
   "metadata": {
    "collapsed": true
   },
   "outputs": [],
   "source": [
    "import os\n",
    "import re\n",
    "import numbers\n",
    "import string\n",
    "\n",
    "import pandas as pd\n",
    "import numpy as np"
   ]
  },
  {
   "cell_type": "code",
   "execution_count": 2,
   "outputs": [],
   "source": [
    "PROJECT_FOLDER = os.path.abspath('..')"
   ],
   "metadata": {
    "collapsed": false,
    "pycharm": {
     "name": "#%%\n"
    }
   }
  },
  {
   "cell_type": "markdown",
   "source": [
    "# 1. Watching files:\n",
    "### 1.1 data/result_task3.csv"
   ],
   "metadata": {
    "collapsed": false,
    "pycharm": {
     "name": "#%% md\n"
    }
   }
  },
  {
   "cell_type": "code",
   "execution_count": 11,
   "outputs": [
    {
     "data": {
      "text/plain": "   user_id  book_id_1  book_id_2  book_id_3  book_id_4  book_id_5\n0   111000         12         16      10232       2342        234\n1   777333        123        754        232     234243       2323\n2     8888       1223       2334       2335     234545     111222",
      "text/html": "<div>\n<style scoped>\n    .dataframe tbody tr th:only-of-type {\n        vertical-align: middle;\n    }\n\n    .dataframe tbody tr th {\n        vertical-align: top;\n    }\n\n    .dataframe thead th {\n        text-align: right;\n    }\n</style>\n<table border=\"1\" class=\"dataframe\">\n  <thead>\n    <tr style=\"text-align: right;\">\n      <th></th>\n      <th>user_id</th>\n      <th>book_id_1</th>\n      <th>book_id_2</th>\n      <th>book_id_3</th>\n      <th>book_id_4</th>\n      <th>book_id_5</th>\n    </tr>\n  </thead>\n  <tbody>\n    <tr>\n      <th>0</th>\n      <td>111000</td>\n      <td>12</td>\n      <td>16</td>\n      <td>10232</td>\n      <td>2342</td>\n      <td>234</td>\n    </tr>\n    <tr>\n      <th>1</th>\n      <td>777333</td>\n      <td>123</td>\n      <td>754</td>\n      <td>232</td>\n      <td>234243</td>\n      <td>2323</td>\n    </tr>\n    <tr>\n      <th>2</th>\n      <td>8888</td>\n      <td>1223</td>\n      <td>2334</td>\n      <td>2335</td>\n      <td>234545</td>\n      <td>111222</td>\n    </tr>\n  </tbody>\n</table>\n</div>"
     },
     "execution_count": 11,
     "metadata": {},
     "output_type": "execute_result"
    }
   ],
   "source": [
    "result_example = pd.read_csv(f'{PROJECT_FOLDER}/local/raw_data/result_task3.csv', sep=';')\n",
    "result_example"
   ],
   "metadata": {
    "collapsed": false,
    "pycharm": {
     "name": "#%%\n"
    }
   }
  },
  {
   "cell_type": "markdown",
   "source": [
    "### 1.2 data/dataset_knigi_1.xlsx"
   ],
   "metadata": {
    "collapsed": false,
    "pycharm": {
     "name": "#%% md\n"
    }
   }
  },
  {
   "cell_type": "code",
   "execution_count": 94,
   "outputs": [
    {
     "data": {
      "text/plain": "          dt  user_id  book_id\n0 2021-06-01        1  1163786\n1 2021-06-01        1    66612\n2 2021-06-01        1  1034596\n3 2021-06-01        1  1152760\n4 2021-06-01        1    16168",
      "text/html": "<div>\n<style scoped>\n    .dataframe tbody tr th:only-of-type {\n        vertical-align: middle;\n    }\n\n    .dataframe tbody tr th {\n        vertical-align: top;\n    }\n\n    .dataframe thead th {\n        text-align: right;\n    }\n</style>\n<table border=\"1\" class=\"dataframe\">\n  <thead>\n    <tr style=\"text-align: right;\">\n      <th></th>\n      <th>dt</th>\n      <th>user_id</th>\n      <th>book_id</th>\n    </tr>\n  </thead>\n  <tbody>\n    <tr>\n      <th>0</th>\n      <td>2021-06-01</td>\n      <td>1</td>\n      <td>1163786</td>\n    </tr>\n    <tr>\n      <th>1</th>\n      <td>2021-06-01</td>\n      <td>1</td>\n      <td>66612</td>\n    </tr>\n    <tr>\n      <th>2</th>\n      <td>2021-06-01</td>\n      <td>1</td>\n      <td>1034596</td>\n    </tr>\n    <tr>\n      <th>3</th>\n      <td>2021-06-01</td>\n      <td>1</td>\n      <td>1152760</td>\n    </tr>\n    <tr>\n      <th>4</th>\n      <td>2021-06-01</td>\n      <td>1</td>\n      <td>16168</td>\n    </tr>\n  </tbody>\n</table>\n</div>"
     },
     "execution_count": 94,
     "metadata": {},
     "output_type": "execute_result"
    }
   ],
   "source": [
    "books_data = pd.read_excel(f'{PROJECT_FOLDER}/local/raw_data/dataset_knigi_1.xlsx', sheet_name=None)\n",
    "books_data = books_data['Лист1']\n",
    "books_data['id'] = books_data['source_url'].apply(lambda x: int(x.split('/')[-2]))\n",
    "books_data.drop(columns=['source_url', 'event'], inplace=True, axis=1)\n",
    "books_data.columns = ['dt', 'user_id', 'book_id']\n",
    "books_data.head()"
   ],
   "metadata": {
    "collapsed": false,
    "pycharm": {
     "name": "#%%\n"
    }
   }
  },
  {
   "cell_type": "code",
   "execution_count": 95,
   "outputs": [],
   "source": [
    "books_data.to_csv(f'{PROJECT_FOLDER}/data/user_book_interaction.csv', index=False)"
   ],
   "metadata": {
    "collapsed": false,
    "pycharm": {
     "name": "#%%\n"
    }
   }
  },
  {
   "cell_type": "code",
   "execution_count": 96,
   "outputs": [],
   "source": [
    "unique_books_ids = np.unique(books_data['book_id'])"
   ],
   "metadata": {
    "collapsed": false,
    "pycharm": {
     "name": "#%%\n"
    }
   }
  },
  {
   "cell_type": "markdown",
   "source": [
    "### 1.3 data/books.jsn"
   ],
   "metadata": {
    "collapsed": false,
    "pycharm": {
     "name": "#%% md\n"
    }
   }
  },
  {
   "cell_type": "code",
   "execution_count": 34,
   "outputs": [],
   "source": [
    "part_of_book_full = pd.read_csv(f'{PROJECT_FOLDER}/local/books/450183-500000.csv')\n",
    "\n",
    "for csv in os.listdir(f'{PROJECT_FOLDER}/local/books'):\n",
    "    path = os.path.join(PROJECT_FOLDER, 'local', 'books', csv)\n",
    "    books_full = pd.read_csv(path)\n",
    "    part_of_book_full = pd.concat([part_of_book_full, books_full])\n"
   ],
   "metadata": {
    "collapsed": false,
    "pycharm": {
     "name": "#%%\n"
    }
   }
  },
  {
   "cell_type": "code",
   "execution_count": 35,
   "outputs": [
    {
     "data": {
      "text/plain": "        id       bbk                                              title  year  \\\n0  1284165  83.3Р7-8           Избранные литературно-критические статьи  1941   \n1   497934     68.64                                Надежный щит Родины  1985   \n2  1284421  84(5Каз)                       Зарок : роман. пер. с казах.  1987   \n3   361448     37.94                 Зеркальный фотоаппарат как система  1986   \n4  1147736    34.632  Руководство для обучения токарей по металлу: [...  1987   \n\n                                  contribution annotation keyword  \\\n0                                   М. Горький        NaN     NaN   \n1  [лит. запись Г. П Полякова] ; Г. П. Поляков        NaN     NaN   \n2                             Худож. Б.Страхов        NaN     NaN   \n3                                          NaN        NaN     NaN   \n4                                          NaN        NaN     NaN   \n\n    titleAdditionalInfo       volume parallelTitle publicationType  \\\n0                   NaN       308 с.           NaN            mono   \n1                   NaN        86 с.           NaN            mono   \n2  роман. пер. с казах.       261 с.           NaN            mono   \n3                   NaN       157 с.           NaN            mono   \n4                   NaN  199, [1] с.           NaN            mono   \n\n  language_name material_name ageRestriction_name  \\\n0       Русский         Текст                 NaN   \n1       Русский         Текст                 NaN   \n2       Русский         Текст                 NaN   \n3       Русский         Текст                 NaN   \n4       Русский         Текст                 NaN   \n\n                                         rubric_name  author_id  \\\n0                    Общие вопросы литературоведения    38684.0   \n1                        Военное дело. Военная наука    25540.0   \n2                          Художественная литература    53715.0   \n3                                    Фотокинотехника   111652.0   \n4  Машиностроительные и металлообрабатывающие про...   104241.0   \n\n                         serial_name                    collapse_field  \\\n0                                NaN  31ebdac33b2123ec1098c6720bd665e0   \n1  Молодежи о Вооруженных Силах СССР  3838f9323a1e4681584e7d59349538b5   \n2                                NaN  144d7a4ee5abf228de847d1ddf34a923   \n3                                NaN  3719a67e41fb905c5c9d86a80b719b3d   \n4                                NaN  ba308a575721ecf27d0ae8a24384a61e   \n\n                                          title_orig  available  \n0           Избранные литературно-критические статьи         10  \n1                                Надежный щит Родины          9  \n2                                              Зарок          0  \n3                 Зеркальный фотоаппарат как система          7  \n4  Руководство для обучения токарей по металлу: [...         11  ",
      "text/html": "<div>\n<style scoped>\n    .dataframe tbody tr th:only-of-type {\n        vertical-align: middle;\n    }\n\n    .dataframe tbody tr th {\n        vertical-align: top;\n    }\n\n    .dataframe thead th {\n        text-align: right;\n    }\n</style>\n<table border=\"1\" class=\"dataframe\">\n  <thead>\n    <tr style=\"text-align: right;\">\n      <th></th>\n      <th>id</th>\n      <th>bbk</th>\n      <th>title</th>\n      <th>year</th>\n      <th>contribution</th>\n      <th>annotation</th>\n      <th>keyword</th>\n      <th>titleAdditionalInfo</th>\n      <th>volume</th>\n      <th>parallelTitle</th>\n      <th>publicationType</th>\n      <th>language_name</th>\n      <th>material_name</th>\n      <th>ageRestriction_name</th>\n      <th>rubric_name</th>\n      <th>author_id</th>\n      <th>serial_name</th>\n      <th>collapse_field</th>\n      <th>title_orig</th>\n      <th>available</th>\n    </tr>\n  </thead>\n  <tbody>\n    <tr>\n      <th>0</th>\n      <td>1284165</td>\n      <td>83.3Р7-8</td>\n      <td>Избранные литературно-критические статьи</td>\n      <td>1941</td>\n      <td>М. Горький</td>\n      <td>NaN</td>\n      <td>NaN</td>\n      <td>NaN</td>\n      <td>308 с.</td>\n      <td>NaN</td>\n      <td>mono</td>\n      <td>Русский</td>\n      <td>Текст</td>\n      <td>NaN</td>\n      <td>Общие вопросы литературоведения</td>\n      <td>38684.0</td>\n      <td>NaN</td>\n      <td>31ebdac33b2123ec1098c6720bd665e0</td>\n      <td>Избранные литературно-критические статьи</td>\n      <td>10</td>\n    </tr>\n    <tr>\n      <th>1</th>\n      <td>497934</td>\n      <td>68.64</td>\n      <td>Надежный щит Родины</td>\n      <td>1985</td>\n      <td>[лит. запись Г. П Полякова] ; Г. П. Поляков</td>\n      <td>NaN</td>\n      <td>NaN</td>\n      <td>NaN</td>\n      <td>86 с.</td>\n      <td>NaN</td>\n      <td>mono</td>\n      <td>Русский</td>\n      <td>Текст</td>\n      <td>NaN</td>\n      <td>Военное дело. Военная наука</td>\n      <td>25540.0</td>\n      <td>Молодежи о Вооруженных Силах СССР</td>\n      <td>3838f9323a1e4681584e7d59349538b5</td>\n      <td>Надежный щит Родины</td>\n      <td>9</td>\n    </tr>\n    <tr>\n      <th>2</th>\n      <td>1284421</td>\n      <td>84(5Каз)</td>\n      <td>Зарок : роман. пер. с казах.</td>\n      <td>1987</td>\n      <td>Худож. Б.Страхов</td>\n      <td>NaN</td>\n      <td>NaN</td>\n      <td>роман. пер. с казах.</td>\n      <td>261 с.</td>\n      <td>NaN</td>\n      <td>mono</td>\n      <td>Русский</td>\n      <td>Текст</td>\n      <td>NaN</td>\n      <td>Художественная литература</td>\n      <td>53715.0</td>\n      <td>NaN</td>\n      <td>144d7a4ee5abf228de847d1ddf34a923</td>\n      <td>Зарок</td>\n      <td>0</td>\n    </tr>\n    <tr>\n      <th>3</th>\n      <td>361448</td>\n      <td>37.94</td>\n      <td>Зеркальный фотоаппарат как система</td>\n      <td>1986</td>\n      <td>NaN</td>\n      <td>NaN</td>\n      <td>NaN</td>\n      <td>NaN</td>\n      <td>157 с.</td>\n      <td>NaN</td>\n      <td>mono</td>\n      <td>Русский</td>\n      <td>Текст</td>\n      <td>NaN</td>\n      <td>Фотокинотехника</td>\n      <td>111652.0</td>\n      <td>NaN</td>\n      <td>3719a67e41fb905c5c9d86a80b719b3d</td>\n      <td>Зеркальный фотоаппарат как система</td>\n      <td>7</td>\n    </tr>\n    <tr>\n      <th>4</th>\n      <td>1147736</td>\n      <td>34.632</td>\n      <td>Руководство для обучения токарей по металлу: [...</td>\n      <td>1987</td>\n      <td>NaN</td>\n      <td>NaN</td>\n      <td>NaN</td>\n      <td>NaN</td>\n      <td>199, [1] с.</td>\n      <td>NaN</td>\n      <td>mono</td>\n      <td>Русский</td>\n      <td>Текст</td>\n      <td>NaN</td>\n      <td>Машиностроительные и металлообрабатывающие про...</td>\n      <td>104241.0</td>\n      <td>NaN</td>\n      <td>ba308a575721ecf27d0ae8a24384a61e</td>\n      <td>Руководство для обучения токарей по металлу: [...</td>\n      <td>11</td>\n    </tr>\n  </tbody>\n</table>\n</div>"
     },
     "execution_count": 35,
     "metadata": {},
     "output_type": "execute_result"
    }
   ],
   "source": [
    "part_of_book_full.drop_duplicates(inplace=True)\n",
    "part_of_book_full.head()"
   ],
   "metadata": {
    "collapsed": false,
    "pycharm": {
     "name": "#%%\n"
    }
   }
  },
  {
   "cell_type": "code",
   "execution_count": 38,
   "outputs": [],
   "source": [
    "books_info = part_of_book_full.copy()"
   ],
   "metadata": {
    "collapsed": false,
    "pycharm": {
     "name": "#%%\n"
    }
   }
  },
  {
   "cell_type": "code",
   "execution_count": 12,
   "outputs": [
    {
     "data": {
      "text/plain": "           id  parentId             bbk  \\\n0     1272541         0   84(2Рос=Рус)1   \n1     1960078         0        84(4Вел)   \n2       26991         0        84(7Сое)   \n3     1781433         0        84(7Сое)   \n4     1687060         0        84(7США)   \n...       ...       ...             ...   \n4677   814384         0     26.89(2-2М)   \n4678   840090         0   26.89(2-2М)я2   \n4679   727406         0              84   \n4680   305891         0    85.118(2-2М)   \n4681   583359         0  63.3(2-2Мос)я2   \n\n                                                  title  year  parentAuthor  \\\n0                                                  Бесы  2013             0   \n1                                 На службе зла : роман  2017             0   \n2     Жареные зеленые помидоры в кафе \"Полустанок\" :...  2004             0   \n3                                  Эмпайр Фоллз : роман  2020             0   \n4                                  Эмпайр Фоллз : роман  2019             0   \n...                                                 ...   ...           ...   \n4677  Административные округа Москвы:Культура.Истори...  1998             0   \n4678    Путеводитель Москва 850:События в юбилейные дни  1997             0   \n4679                    Трое в лодке (не считая собаки)  1958             0   \n4680  Проспекты советской Москвы. История реконструк...  2014             0   \n4681                                     История Москвы  1997             0   \n\n                                           contribution parentNumberOfPart  \\\n0                                     Федор Достоевский                      \n1     Роберт Гэлбрейт ; перевод с английского Е. Пет...                      \n2              Фэнни Флэгг ; [пер. с англ. Д. Крупской]                      \n3     Ричард Руссо ; перевод с английского Елены Пол...                      \n4                           Р. Руссо ; пер. Е. Полецкая                      \n...                                                 ...                ...   \n4677                                      Глушкова В.Г.                      \n4678                                                                         \n4679                         Пер. М.Донского,Э.Линецкой                      \n4680                                    Алексей Рогачев                      \n4681                                                                         \n\n                   isbn                                         annotation  \\\n0     978-5-17-063255-8  \"Бесы\"- одно из наиболее трагических, загадочн...   \n1     978-5-389-12682-4  Робин Эллакотт получает с курьером таинственны...   \n2         5-7516-0310-9  Роман американской писательницы Ф.Флэгг расска...   \n3     978-5-86471-807-0  Майлз Роби двадцать лет готовит бургеры в \"Имп...   \n4     978-5-86471-807-0                                                      \n...                 ...                                                ...   \n4677      5-691-00168-X  В книге дана обобщенная краеведческая и социал...   \n4678                     Путеводитель по Москве, рассказывающий о ее ис...   \n4679                                                                         \n4680  978-5-227-05721-1  Лучами расходятся от центра города радиальные ...   \n4681      5-270-01645-1                                                      \n\n      ... rubric author publisher place  serial f_deleted libraryId  \\\n0     ...      0      0         0     0       0     False         0   \n1     ...      0      0         0     0       0     False         0   \n2     ...      0      0         0     0       0     False         0   \n3     ...      0      0         0     0       0     False         0   \n4     ...      0      0         0     0       0     False         0   \n...   ...    ...    ...       ...   ...     ...       ...       ...   \n4677  ...      0      0         0     0       0     False         0   \n4678  ...      0      0         0     0       0     False         0   \n4679  ...      0      0         0     0       0     False         0   \n4680  ...      0      0         0     0       0     False         0   \n4681  ...      0      0         0     0       0     False         0   \n\n      catalogueId start_timestamp end_timestamp  \n0               0               0             0  \n1               0               0             0  \n2               0               0             0  \n3               0               0             0  \n4               0               0             0  \n...           ...             ...           ...  \n4677            0               0             0  \n4678            0               0             0  \n4679            0               0             0  \n4680            0               0             0  \n4681            0               0             0  \n\n[4682 rows x 98 columns]",
      "text/html": "<div>\n<style scoped>\n    .dataframe tbody tr th:only-of-type {\n        vertical-align: middle;\n    }\n\n    .dataframe tbody tr th {\n        vertical-align: top;\n    }\n\n    .dataframe thead th {\n        text-align: right;\n    }\n</style>\n<table border=\"1\" class=\"dataframe\">\n  <thead>\n    <tr style=\"text-align: right;\">\n      <th></th>\n      <th>id</th>\n      <th>parentId</th>\n      <th>bbk</th>\n      <th>title</th>\n      <th>year</th>\n      <th>parentAuthor</th>\n      <th>contribution</th>\n      <th>parentNumberOfPart</th>\n      <th>isbn</th>\n      <th>annotation</th>\n      <th>...</th>\n      <th>rubric</th>\n      <th>author</th>\n      <th>publisher</th>\n      <th>place</th>\n      <th>serial</th>\n      <th>f_deleted</th>\n      <th>libraryId</th>\n      <th>catalogueId</th>\n      <th>start_timestamp</th>\n      <th>end_timestamp</th>\n    </tr>\n  </thead>\n  <tbody>\n    <tr>\n      <th>0</th>\n      <td>1272541</td>\n      <td>0</td>\n      <td>84(2Рос=Рус)1</td>\n      <td>Бесы</td>\n      <td>2013</td>\n      <td>0</td>\n      <td>Федор Достоевский</td>\n      <td></td>\n      <td>978-5-17-063255-8</td>\n      <td>\"Бесы\"- одно из наиболее трагических, загадочн...</td>\n      <td>...</td>\n      <td>0</td>\n      <td>0</td>\n      <td>0</td>\n      <td>0</td>\n      <td>0</td>\n      <td>False</td>\n      <td>0</td>\n      <td>0</td>\n      <td>0</td>\n      <td>0</td>\n    </tr>\n    <tr>\n      <th>1</th>\n      <td>1960078</td>\n      <td>0</td>\n      <td>84(4Вел)</td>\n      <td>На службе зла : роман</td>\n      <td>2017</td>\n      <td>0</td>\n      <td>Роберт Гэлбрейт ; перевод с английского Е. Пет...</td>\n      <td></td>\n      <td>978-5-389-12682-4</td>\n      <td>Робин Эллакотт получает с курьером таинственны...</td>\n      <td>...</td>\n      <td>0</td>\n      <td>0</td>\n      <td>0</td>\n      <td>0</td>\n      <td>0</td>\n      <td>False</td>\n      <td>0</td>\n      <td>0</td>\n      <td>0</td>\n      <td>0</td>\n    </tr>\n    <tr>\n      <th>2</th>\n      <td>26991</td>\n      <td>0</td>\n      <td>84(7Сое)</td>\n      <td>Жареные зеленые помидоры в кафе \"Полустанок\" :...</td>\n      <td>2004</td>\n      <td>0</td>\n      <td>Фэнни Флэгг ; [пер. с англ. Д. Крупской]</td>\n      <td></td>\n      <td>5-7516-0310-9</td>\n      <td>Роман американской писательницы Ф.Флэгг расска...</td>\n      <td>...</td>\n      <td>0</td>\n      <td>0</td>\n      <td>0</td>\n      <td>0</td>\n      <td>0</td>\n      <td>False</td>\n      <td>0</td>\n      <td>0</td>\n      <td>0</td>\n      <td>0</td>\n    </tr>\n    <tr>\n      <th>3</th>\n      <td>1781433</td>\n      <td>0</td>\n      <td>84(7Сое)</td>\n      <td>Эмпайр Фоллз : роман</td>\n      <td>2020</td>\n      <td>0</td>\n      <td>Ричард Руссо ; перевод с английского Елены Пол...</td>\n      <td></td>\n      <td>978-5-86471-807-0</td>\n      <td>Майлз Роби двадцать лет готовит бургеры в \"Имп...</td>\n      <td>...</td>\n      <td>0</td>\n      <td>0</td>\n      <td>0</td>\n      <td>0</td>\n      <td>0</td>\n      <td>False</td>\n      <td>0</td>\n      <td>0</td>\n      <td>0</td>\n      <td>0</td>\n    </tr>\n    <tr>\n      <th>4</th>\n      <td>1687060</td>\n      <td>0</td>\n      <td>84(7США)</td>\n      <td>Эмпайр Фоллз : роман</td>\n      <td>2019</td>\n      <td>0</td>\n      <td>Р. Руссо ; пер. Е. Полецкая</td>\n      <td></td>\n      <td>978-5-86471-807-0</td>\n      <td></td>\n      <td>...</td>\n      <td>0</td>\n      <td>0</td>\n      <td>0</td>\n      <td>0</td>\n      <td>0</td>\n      <td>False</td>\n      <td>0</td>\n      <td>0</td>\n      <td>0</td>\n      <td>0</td>\n    </tr>\n    <tr>\n      <th>...</th>\n      <td>...</td>\n      <td>...</td>\n      <td>...</td>\n      <td>...</td>\n      <td>...</td>\n      <td>...</td>\n      <td>...</td>\n      <td>...</td>\n      <td>...</td>\n      <td>...</td>\n      <td>...</td>\n      <td>...</td>\n      <td>...</td>\n      <td>...</td>\n      <td>...</td>\n      <td>...</td>\n      <td>...</td>\n      <td>...</td>\n      <td>...</td>\n      <td>...</td>\n      <td>...</td>\n    </tr>\n    <tr>\n      <th>4677</th>\n      <td>814384</td>\n      <td>0</td>\n      <td>26.89(2-2М)</td>\n      <td>Административные округа Москвы:Культура.Истори...</td>\n      <td>1998</td>\n      <td>0</td>\n      <td>Глушкова В.Г.</td>\n      <td></td>\n      <td>5-691-00168-X</td>\n      <td>В книге дана обобщенная краеведческая и социал...</td>\n      <td>...</td>\n      <td>0</td>\n      <td>0</td>\n      <td>0</td>\n      <td>0</td>\n      <td>0</td>\n      <td>False</td>\n      <td>0</td>\n      <td>0</td>\n      <td>0</td>\n      <td>0</td>\n    </tr>\n    <tr>\n      <th>4678</th>\n      <td>840090</td>\n      <td>0</td>\n      <td>26.89(2-2М)я2</td>\n      <td>Путеводитель Москва 850:События в юбилейные дни</td>\n      <td>1997</td>\n      <td>0</td>\n      <td></td>\n      <td></td>\n      <td></td>\n      <td>Путеводитель по Москве, рассказывающий о ее ис...</td>\n      <td>...</td>\n      <td>0</td>\n      <td>0</td>\n      <td>0</td>\n      <td>0</td>\n      <td>0</td>\n      <td>False</td>\n      <td>0</td>\n      <td>0</td>\n      <td>0</td>\n      <td>0</td>\n    </tr>\n    <tr>\n      <th>4679</th>\n      <td>727406</td>\n      <td>0</td>\n      <td>84</td>\n      <td>Трое в лодке (не считая собаки)</td>\n      <td>1958</td>\n      <td>0</td>\n      <td>Пер. М.Донского,Э.Линецкой</td>\n      <td></td>\n      <td></td>\n      <td></td>\n      <td>...</td>\n      <td>0</td>\n      <td>0</td>\n      <td>0</td>\n      <td>0</td>\n      <td>0</td>\n      <td>False</td>\n      <td>0</td>\n      <td>0</td>\n      <td>0</td>\n      <td>0</td>\n    </tr>\n    <tr>\n      <th>4680</th>\n      <td>305891</td>\n      <td>0</td>\n      <td>85.118(2-2М)</td>\n      <td>Проспекты советской Москвы. История реконструк...</td>\n      <td>2014</td>\n      <td>0</td>\n      <td>Алексей Рогачев</td>\n      <td></td>\n      <td>978-5-227-05721-1</td>\n      <td>Лучами расходятся от центра города радиальные ...</td>\n      <td>...</td>\n      <td>0</td>\n      <td>0</td>\n      <td>0</td>\n      <td>0</td>\n      <td>0</td>\n      <td>False</td>\n      <td>0</td>\n      <td>0</td>\n      <td>0</td>\n      <td>0</td>\n    </tr>\n    <tr>\n      <th>4681</th>\n      <td>583359</td>\n      <td>0</td>\n      <td>63.3(2-2Мос)я2</td>\n      <td>История Москвы</td>\n      <td>1997</td>\n      <td>0</td>\n      <td></td>\n      <td></td>\n      <td>5-270-01645-1</td>\n      <td></td>\n      <td>...</td>\n      <td>0</td>\n      <td>0</td>\n      <td>0</td>\n      <td>0</td>\n      <td>0</td>\n      <td>False</td>\n      <td>0</td>\n      <td>0</td>\n      <td>0</td>\n      <td>0</td>\n    </tr>\n  </tbody>\n</table>\n<p>4682 rows × 98 columns</p>\n</div>"
     },
     "execution_count": 12,
     "metadata": {},
     "output_type": "execute_result"
    }
   ],
   "source": [
    "books_info = pd.read_json(f'{PROJECT_FOLDER}/local/raw_data/books.jsn')\n",
    "books_info"
   ],
   "metadata": {
    "collapsed": false,
    "pycharm": {
     "name": "#%%\n"
    }
   }
  },
  {
   "cell_type": "markdown",
   "source": [
    "#### 1.3.1 data leak???"
   ],
   "metadata": {
    "collapsed": false,
    "pycharm": {
     "name": "#%% md\n"
    }
   }
  },
  {
   "cell_type": "code",
   "execution_count": 98,
   "outputs": [
    {
     "name": "stdout",
     "output_type": "stream",
     "text": [
      "DIFF BETWEEN 'data/dataset_knigi_1.xlsx' AND 'data/books.jsn' unique number of books.\n"
     ]
    },
    {
     "data": {
      "text/plain": "743"
     },
     "execution_count": 98,
     "metadata": {},
     "output_type": "execute_result"
    }
   ],
   "source": [
    "print(\"DIFF BETWEEN 'data/dataset_knigi_1.xlsx' AND 'data/books.jsn' unique number of books.\")\n",
    "all_books_xlsx = np.unique(books_info['id'])\n",
    "len(set(all_books_xlsx) - set(unique_books_ids))"
   ],
   "metadata": {
    "collapsed": false,
    "pycharm": {
     "name": "#%%\n"
    }
   }
  },
  {
   "cell_type": "markdown",
   "source": [
    "## 2 Preprocessing"
   ],
   "metadata": {
    "collapsed": false,
    "pycharm": {
     "name": "#%% md\n"
    }
   }
  },
  {
   "cell_type": "markdown",
   "source": [
    "### 2.1 Books descriptions, investigation data. Delete columns. Watching for missing, types, etc."
   ],
   "metadata": {
    "collapsed": false,
    "pycharm": {
     "name": "#%% md\n"
    }
   }
  },
  {
   "cell_type": "code",
   "execution_count": 32,
   "outputs": [
    {
     "data": {
      "text/plain": "       id       bbk    year  \\\n0  397430      83.3  1975.0   \n1  397714      88.4  2001.0   \n2  398711  85.954.2     NaN   \n3  398787  85.954.2     NaN   \n4  398871  26.89(0)  1964.0   \n\n                                              author annotation volume  \\\n0  Сост. Моисей Горациевич Зельдович лев Яковлеви...        NaN  456.0   \n1  И. Матюгин Е. Чакаберия И. Рыбникова В. Рыбникова        NaN  412.0   \n2                                         J. S. Bach        NaN  140.0   \n3                                         J. S. Bach        NaN  132.0   \n4                                        Ю. Гаврилов        NaN  144.0   \n\n  title_additional  age_restriction  \\\n0              NaN              NaN   \n1              NaN              NaN   \n2              NaN              NaN   \n3              NaN              NaN   \n4              NaN              NaN   \n\n                                             rubrics  author_id  ...  \\\n0                    Общие вопросы литературоведения        NaN  ...   \n1        Психология развития и возрастная психология    77292.0  ...   \n2                      Инструментальные произведения      559.0  ...   \n3                      Инструментальные произведения      559.0  ...   \n4  Краеведение. Страноведение. Путешествия. Путев...    33739.0  ...   \n\n  titleAdditionalInfo  parallelTitle publicationType language_name  \\\n0                 NaN            NaN             NaN           NaN   \n1                 NaN            NaN             NaN           NaN   \n2                 NaN            NaN             NaN           NaN   \n3                 NaN            NaN             NaN           NaN   \n4                 NaN            NaN             NaN           NaN   \n\n  material_name ageRestriction_name rubric_name serial_name collapse_field  \\\n0           NaN                 NaN         NaN         NaN            NaN   \n1           NaN                 NaN         NaN         NaN            NaN   \n2           NaN                 NaN         NaN         NaN            NaN   \n3           NaN                 NaN         NaN         NaN            NaN   \n4           NaN                 NaN         NaN         NaN            NaN   \n\n  title_orig  \n0        NaN  \n1        NaN  \n2        NaN  \n3        NaN  \n4        NaN  \n\n[5 rows x 24 columns]",
      "text/html": "<div>\n<style scoped>\n    .dataframe tbody tr th:only-of-type {\n        vertical-align: middle;\n    }\n\n    .dataframe tbody tr th {\n        vertical-align: top;\n    }\n\n    .dataframe thead th {\n        text-align: right;\n    }\n</style>\n<table border=\"1\" class=\"dataframe\">\n  <thead>\n    <tr style=\"text-align: right;\">\n      <th></th>\n      <th>id</th>\n      <th>bbk</th>\n      <th>year</th>\n      <th>author</th>\n      <th>annotation</th>\n      <th>volume</th>\n      <th>title_additional</th>\n      <th>age_restriction</th>\n      <th>rubrics</th>\n      <th>author_id</th>\n      <th>...</th>\n      <th>titleAdditionalInfo</th>\n      <th>parallelTitle</th>\n      <th>publicationType</th>\n      <th>language_name</th>\n      <th>material_name</th>\n      <th>ageRestriction_name</th>\n      <th>rubric_name</th>\n      <th>serial_name</th>\n      <th>collapse_field</th>\n      <th>title_orig</th>\n    </tr>\n  </thead>\n  <tbody>\n    <tr>\n      <th>0</th>\n      <td>397430</td>\n      <td>83.3</td>\n      <td>1975.0</td>\n      <td>Сост. Моисей Горациевич Зельдович лев Яковлеви...</td>\n      <td>NaN</td>\n      <td>456.0</td>\n      <td>NaN</td>\n      <td>NaN</td>\n      <td>Общие вопросы литературоведения</td>\n      <td>NaN</td>\n      <td>...</td>\n      <td>NaN</td>\n      <td>NaN</td>\n      <td>NaN</td>\n      <td>NaN</td>\n      <td>NaN</td>\n      <td>NaN</td>\n      <td>NaN</td>\n      <td>NaN</td>\n      <td>NaN</td>\n      <td>NaN</td>\n    </tr>\n    <tr>\n      <th>1</th>\n      <td>397714</td>\n      <td>88.4</td>\n      <td>2001.0</td>\n      <td>И. Матюгин Е. Чакаберия И. Рыбникова В. Рыбникова</td>\n      <td>NaN</td>\n      <td>412.0</td>\n      <td>NaN</td>\n      <td>NaN</td>\n      <td>Психология развития и возрастная психология</td>\n      <td>77292.0</td>\n      <td>...</td>\n      <td>NaN</td>\n      <td>NaN</td>\n      <td>NaN</td>\n      <td>NaN</td>\n      <td>NaN</td>\n      <td>NaN</td>\n      <td>NaN</td>\n      <td>NaN</td>\n      <td>NaN</td>\n      <td>NaN</td>\n    </tr>\n    <tr>\n      <th>2</th>\n      <td>398711</td>\n      <td>85.954.2</td>\n      <td>NaN</td>\n      <td>J. S. Bach</td>\n      <td>NaN</td>\n      <td>140.0</td>\n      <td>NaN</td>\n      <td>NaN</td>\n      <td>Инструментальные произведения</td>\n      <td>559.0</td>\n      <td>...</td>\n      <td>NaN</td>\n      <td>NaN</td>\n      <td>NaN</td>\n      <td>NaN</td>\n      <td>NaN</td>\n      <td>NaN</td>\n      <td>NaN</td>\n      <td>NaN</td>\n      <td>NaN</td>\n      <td>NaN</td>\n    </tr>\n    <tr>\n      <th>3</th>\n      <td>398787</td>\n      <td>85.954.2</td>\n      <td>NaN</td>\n      <td>J. S. Bach</td>\n      <td>NaN</td>\n      <td>132.0</td>\n      <td>NaN</td>\n      <td>NaN</td>\n      <td>Инструментальные произведения</td>\n      <td>559.0</td>\n      <td>...</td>\n      <td>NaN</td>\n      <td>NaN</td>\n      <td>NaN</td>\n      <td>NaN</td>\n      <td>NaN</td>\n      <td>NaN</td>\n      <td>NaN</td>\n      <td>NaN</td>\n      <td>NaN</td>\n      <td>NaN</td>\n    </tr>\n    <tr>\n      <th>4</th>\n      <td>398871</td>\n      <td>26.89(0)</td>\n      <td>1964.0</td>\n      <td>Ю. Гаврилов</td>\n      <td>NaN</td>\n      <td>144.0</td>\n      <td>NaN</td>\n      <td>NaN</td>\n      <td>Краеведение. Страноведение. Путешествия. Путев...</td>\n      <td>33739.0</td>\n      <td>...</td>\n      <td>NaN</td>\n      <td>NaN</td>\n      <td>NaN</td>\n      <td>NaN</td>\n      <td>NaN</td>\n      <td>NaN</td>\n      <td>NaN</td>\n      <td>NaN</td>\n      <td>NaN</td>\n      <td>NaN</td>\n    </tr>\n  </tbody>\n</table>\n<p>5 rows × 24 columns</p>\n</div>"
     },
     "execution_count": 32,
     "metadata": {},
     "output_type": "execute_result"
    }
   ],
   "source": [
    "books_info.head()"
   ],
   "metadata": {
    "collapsed": false,
    "pycharm": {
     "name": "#%%\n"
    }
   }
  },
  {
   "cell_type": "code",
<<<<<<< HEAD
   "execution_count": 39,
   "outputs": [
    {
     "data": {
      "text/plain": "        id       bbk  year                                 contribution  \\\n0  1284165  83.3Р7-8  1941                                   М. Горький   \n1   497934     68.64  1985  [лит. запись Г. П Полякова] ; Г. П. Поляков   \n2  1284421  84(5Каз)  1987                             Худож. Б.Страхов   \n3   361448     37.94  1986                                          NaN   \n4  1147736    34.632  1987                                          NaN   \n\n  annotation       volume parallelTitle ageRestriction_name  \\\n0        NaN       308 с.           NaN                 NaN   \n1        NaN        86 с.           NaN                 NaN   \n2        NaN       261 с.           NaN                 NaN   \n3        NaN       157 с.           NaN                 NaN   \n4        NaN  199, [1] с.           NaN                 NaN   \n\n                                         rubric_name  author_id  \\\n0                    Общие вопросы литературоведения    38684.0   \n1                        Военное дело. Военная наука    25540.0   \n2                          Художественная литература    53715.0   \n3                                    Фотокинотехника   111652.0   \n4  Машиностроительные и металлообрабатывающие про...   104241.0   \n\n                                          title_orig  available  \n0           Избранные литературно-критические статьи         10  \n1                                Надежный щит Родины          9  \n2                                              Зарок          0  \n3                 Зеркальный фотоаппарат как система          7  \n4  Руководство для обучения токарей по металлу: [...         11  ",
      "text/html": "<div>\n<style scoped>\n    .dataframe tbody tr th:only-of-type {\n        vertical-align: middle;\n    }\n\n    .dataframe tbody tr th {\n        vertical-align: top;\n    }\n\n    .dataframe thead th {\n        text-align: right;\n    }\n</style>\n<table border=\"1\" class=\"dataframe\">\n  <thead>\n    <tr style=\"text-align: right;\">\n      <th></th>\n      <th>id</th>\n      <th>bbk</th>\n      <th>year</th>\n      <th>contribution</th>\n      <th>annotation</th>\n      <th>volume</th>\n      <th>parallelTitle</th>\n      <th>ageRestriction_name</th>\n      <th>rubric_name</th>\n      <th>author_id</th>\n      <th>title_orig</th>\n      <th>available</th>\n    </tr>\n  </thead>\n  <tbody>\n    <tr>\n      <th>0</th>\n      <td>1284165</td>\n      <td>83.3Р7-8</td>\n      <td>1941</td>\n      <td>М. Горький</td>\n      <td>NaN</td>\n      <td>308 с.</td>\n      <td>NaN</td>\n      <td>NaN</td>\n      <td>Общие вопросы литературоведения</td>\n      <td>38684.0</td>\n      <td>Избранные литературно-критические статьи</td>\n      <td>10</td>\n    </tr>\n    <tr>\n      <th>1</th>\n      <td>497934</td>\n      <td>68.64</td>\n      <td>1985</td>\n      <td>[лит. запись Г. П Полякова] ; Г. П. Поляков</td>\n      <td>NaN</td>\n      <td>86 с.</td>\n      <td>NaN</td>\n      <td>NaN</td>\n      <td>Военное дело. Военная наука</td>\n      <td>25540.0</td>\n      <td>Надежный щит Родины</td>\n      <td>9</td>\n    </tr>\n    <tr>\n      <th>2</th>\n      <td>1284421</td>\n      <td>84(5Каз)</td>\n      <td>1987</td>\n      <td>Худож. Б.Страхов</td>\n      <td>NaN</td>\n      <td>261 с.</td>\n      <td>NaN</td>\n      <td>NaN</td>\n      <td>Художественная литература</td>\n      <td>53715.0</td>\n      <td>Зарок</td>\n      <td>0</td>\n    </tr>\n    <tr>\n      <th>3</th>\n      <td>361448</td>\n      <td>37.94</td>\n      <td>1986</td>\n      <td>NaN</td>\n      <td>NaN</td>\n      <td>157 с.</td>\n      <td>NaN</td>\n      <td>NaN</td>\n      <td>Фотокинотехника</td>\n      <td>111652.0</td>\n      <td>Зеркальный фотоаппарат как система</td>\n      <td>7</td>\n    </tr>\n    <tr>\n      <th>4</th>\n      <td>1147736</td>\n      <td>34.632</td>\n      <td>1987</td>\n      <td>NaN</td>\n      <td>NaN</td>\n      <td>199, [1] с.</td>\n      <td>NaN</td>\n      <td>NaN</td>\n      <td>Машиностроительные и металлообрабатывающие про...</td>\n      <td>104241.0</td>\n      <td>Руководство для обучения токарей по металлу: [...</td>\n      <td>11</td>\n    </tr>\n  </tbody>\n</table>\n</div>"
     },
=======
   "execution_count": 32,
   "outputs": [
    {
     "data": {
      "text/plain": "       id       bbk    year  \\\n0  397430      83.3  1975.0   \n1  397714      88.4  2001.0   \n2  398711  85.954.2     NaN   \n3  398787  85.954.2     NaN   \n4  398871  26.89(0)  1964.0   \n\n                                              author annotation volume  \\\n0  Сост. Моисей Горациевич Зельдович лев Яковлеви...        NaN  456.0   \n1  И. Матюгин Е. Чакаберия И. Рыбникова В. Рыбникова        NaN  412.0   \n2                                         J. S. Bach        NaN  140.0   \n3                                         J. S. Bach        NaN  132.0   \n4                                        Ю. Гаврилов        NaN  144.0   \n\n  title_additional  age_restriction  \\\n0              NaN              NaN   \n1              NaN              NaN   \n2              NaN              NaN   \n3              NaN              NaN   \n4              NaN              NaN   \n\n                                             rubrics  author_id  ...  \\\n0                    Общие вопросы литературоведения        NaN  ...   \n1        Психология развития и возрастная психология    77292.0  ...   \n2                      Инструментальные произведения      559.0  ...   \n3                      Инструментальные произведения      559.0  ...   \n4  Краеведение. Страноведение. Путешествия. Путев...    33739.0  ...   \n\n  titleAdditionalInfo  parallelTitle publicationType language_name  \\\n0                 NaN            NaN             NaN           NaN   \n1                 NaN            NaN             NaN           NaN   \n2                 NaN            NaN             NaN           NaN   \n3                 NaN            NaN             NaN           NaN   \n4                 NaN            NaN             NaN           NaN   \n\n  material_name ageRestriction_name rubric_name serial_name collapse_field  \\\n0           NaN                 NaN         NaN         NaN            NaN   \n1           NaN                 NaN         NaN         NaN            NaN   \n2           NaN                 NaN         NaN         NaN            NaN   \n3           NaN                 NaN         NaN         NaN            NaN   \n4           NaN                 NaN         NaN         NaN            NaN   \n\n  title_orig  \n0        NaN  \n1        NaN  \n2        NaN  \n3        NaN  \n4        NaN  \n\n[5 rows x 24 columns]",
      "text/html": "<div>\n<style scoped>\n    .dataframe tbody tr th:only-of-type {\n        vertical-align: middle;\n    }\n\n    .dataframe tbody tr th {\n        vertical-align: top;\n    }\n\n    .dataframe thead th {\n        text-align: right;\n    }\n</style>\n<table border=\"1\" class=\"dataframe\">\n  <thead>\n    <tr style=\"text-align: right;\">\n      <th></th>\n      <th>id</th>\n      <th>bbk</th>\n      <th>year</th>\n      <th>author</th>\n      <th>annotation</th>\n      <th>volume</th>\n      <th>title_additional</th>\n      <th>age_restriction</th>\n      <th>rubrics</th>\n      <th>author_id</th>\n      <th>...</th>\n      <th>titleAdditionalInfo</th>\n      <th>parallelTitle</th>\n      <th>publicationType</th>\n      <th>language_name</th>\n      <th>material_name</th>\n      <th>ageRestriction_name</th>\n      <th>rubric_name</th>\n      <th>serial_name</th>\n      <th>collapse_field</th>\n      <th>title_orig</th>\n    </tr>\n  </thead>\n  <tbody>\n    <tr>\n      <th>0</th>\n      <td>397430</td>\n      <td>83.3</td>\n      <td>1975.0</td>\n      <td>Сост. Моисей Горациевич Зельдович лев Яковлеви...</td>\n      <td>NaN</td>\n      <td>456.0</td>\n      <td>NaN</td>\n      <td>NaN</td>\n      <td>Общие вопросы литературоведения</td>\n      <td>NaN</td>\n      <td>...</td>\n      <td>NaN</td>\n      <td>NaN</td>\n      <td>NaN</td>\n      <td>NaN</td>\n      <td>NaN</td>\n      <td>NaN</td>\n      <td>NaN</td>\n      <td>NaN</td>\n      <td>NaN</td>\n      <td>NaN</td>\n    </tr>\n    <tr>\n      <th>1</th>\n      <td>397714</td>\n      <td>88.4</td>\n      <td>2001.0</td>\n      <td>И. Матюгин Е. Чакаберия И. Рыбникова В. Рыбникова</td>\n      <td>NaN</td>\n      <td>412.0</td>\n      <td>NaN</td>\n      <td>NaN</td>\n      <td>Психология развития и возрастная психология</td>\n      <td>77292.0</td>\n      <td>...</td>\n      <td>NaN</td>\n      <td>NaN</td>\n      <td>NaN</td>\n      <td>NaN</td>\n      <td>NaN</td>\n      <td>NaN</td>\n      <td>NaN</td>\n      <td>NaN</td>\n      <td>NaN</td>\n      <td>NaN</td>\n    </tr>\n    <tr>\n      <th>2</th>\n      <td>398711</td>\n      <td>85.954.2</td>\n      <td>NaN</td>\n      <td>J. S. Bach</td>\n      <td>NaN</td>\n      <td>140.0</td>\n      <td>NaN</td>\n      <td>NaN</td>\n      <td>Инструментальные произведения</td>\n      <td>559.0</td>\n      <td>...</td>\n      <td>NaN</td>\n      <td>NaN</td>\n      <td>NaN</td>\n      <td>NaN</td>\n      <td>NaN</td>\n      <td>NaN</td>\n      <td>NaN</td>\n      <td>NaN</td>\n      <td>NaN</td>\n      <td>NaN</td>\n    </tr>\n    <tr>\n      <th>3</th>\n      <td>398787</td>\n      <td>85.954.2</td>\n      <td>NaN</td>\n      <td>J. S. Bach</td>\n      <td>NaN</td>\n      <td>132.0</td>\n      <td>NaN</td>\n      <td>NaN</td>\n      <td>Инструментальные произведения</td>\n      <td>559.0</td>\n      <td>...</td>\n      <td>NaN</td>\n      <td>NaN</td>\n      <td>NaN</td>\n      <td>NaN</td>\n      <td>NaN</td>\n      <td>NaN</td>\n      <td>NaN</td>\n      <td>NaN</td>\n      <td>NaN</td>\n      <td>NaN</td>\n    </tr>\n    <tr>\n      <th>4</th>\n      <td>398871</td>\n      <td>26.89(0)</td>\n      <td>1964.0</td>\n      <td>Ю. Гаврилов</td>\n      <td>NaN</td>\n      <td>144.0</td>\n      <td>NaN</td>\n      <td>NaN</td>\n      <td>Краеведение. Страноведение. Путешествия. Путев...</td>\n      <td>33739.0</td>\n      <td>...</td>\n      <td>NaN</td>\n      <td>NaN</td>\n      <td>NaN</td>\n      <td>NaN</td>\n      <td>NaN</td>\n      <td>NaN</td>\n      <td>NaN</td>\n      <td>NaN</td>\n      <td>NaN</td>\n      <td>NaN</td>\n    </tr>\n  </tbody>\n</table>\n<p>5 rows × 24 columns</p>\n</div>"
     },
     "execution_count": 32,
     "metadata": {},
     "output_type": "execute_result"
    }
   ],
   "source": [
    "books_info.head()"
   ],
   "metadata": {
    "collapsed": false,
    "pycharm": {
     "name": "#%%\n"
    }
   }
  },
  {
   "cell_type": "code",
   "execution_count": null,
   "outputs": [],
   "source": [
    "['id', 'bbk', 'year', 'author', 'annotation', 'volume',\n",
    " 'title_additional', 'age_restriction', 'rubrics', 'author_id',\n",
    " 'title', 'available']"
   ],
   "metadata": {
    "collapsed": false,
    "pycharm": {
     "name": "#%%\n"
    }
   }
  },
  {
   "cell_type": "code",
   "execution_count": 39,
   "outputs": [
    {
     "data": {
      "text/plain": "        id       bbk  year                                 contribution  \\\n0  1284165  83.3Р7-8  1941                                   М. Горький   \n1   497934     68.64  1985  [лит. запись Г. П Полякова] ; Г. П. Поляков   \n2  1284421  84(5Каз)  1987                             Худож. Б.Страхов   \n3   361448     37.94  1986                                          NaN   \n4  1147736    34.632  1987                                          NaN   \n\n  annotation       volume parallelTitle ageRestriction_name  \\\n0        NaN       308 с.           NaN                 NaN   \n1        NaN        86 с.           NaN                 NaN   \n2        NaN       261 с.           NaN                 NaN   \n3        NaN       157 с.           NaN                 NaN   \n4        NaN  199, [1] с.           NaN                 NaN   \n\n                                         rubric_name  author_id  \\\n0                    Общие вопросы литературоведения    38684.0   \n1                        Военное дело. Военная наука    25540.0   \n2                          Художественная литература    53715.0   \n3                                    Фотокинотехника   111652.0   \n4  Машиностроительные и металлообрабатывающие про...   104241.0   \n\n                                          title_orig  available  \n0           Избранные литературно-критические статьи         10  \n1                                Надежный щит Родины          9  \n2                                              Зарок          0  \n3                 Зеркальный фотоаппарат как система          7  \n4  Руководство для обучения токарей по металлу: [...         11  ",
      "text/html": "<div>\n<style scoped>\n    .dataframe tbody tr th:only-of-type {\n        vertical-align: middle;\n    }\n\n    .dataframe tbody tr th {\n        vertical-align: top;\n    }\n\n    .dataframe thead th {\n        text-align: right;\n    }\n</style>\n<table border=\"1\" class=\"dataframe\">\n  <thead>\n    <tr style=\"text-align: right;\">\n      <th></th>\n      <th>id</th>\n      <th>bbk</th>\n      <th>year</th>\n      <th>contribution</th>\n      <th>annotation</th>\n      <th>volume</th>\n      <th>parallelTitle</th>\n      <th>ageRestriction_name</th>\n      <th>rubric_name</th>\n      <th>author_id</th>\n      <th>title_orig</th>\n      <th>available</th>\n    </tr>\n  </thead>\n  <tbody>\n    <tr>\n      <th>0</th>\n      <td>1284165</td>\n      <td>83.3Р7-8</td>\n      <td>1941</td>\n      <td>М. Горький</td>\n      <td>NaN</td>\n      <td>308 с.</td>\n      <td>NaN</td>\n      <td>NaN</td>\n      <td>Общие вопросы литературоведения</td>\n      <td>38684.0</td>\n      <td>Избранные литературно-критические статьи</td>\n      <td>10</td>\n    </tr>\n    <tr>\n      <th>1</th>\n      <td>497934</td>\n      <td>68.64</td>\n      <td>1985</td>\n      <td>[лит. запись Г. П Полякова] ; Г. П. Поляков</td>\n      <td>NaN</td>\n      <td>86 с.</td>\n      <td>NaN</td>\n      <td>NaN</td>\n      <td>Военное дело. Военная наука</td>\n      <td>25540.0</td>\n      <td>Надежный щит Родины</td>\n      <td>9</td>\n    </tr>\n    <tr>\n      <th>2</th>\n      <td>1284421</td>\n      <td>84(5Каз)</td>\n      <td>1987</td>\n      <td>Худож. Б.Страхов</td>\n      <td>NaN</td>\n      <td>261 с.</td>\n      <td>NaN</td>\n      <td>NaN</td>\n      <td>Художественная литература</td>\n      <td>53715.0</td>\n      <td>Зарок</td>\n      <td>0</td>\n    </tr>\n    <tr>\n      <th>3</th>\n      <td>361448</td>\n      <td>37.94</td>\n      <td>1986</td>\n      <td>NaN</td>\n      <td>NaN</td>\n      <td>157 с.</td>\n      <td>NaN</td>\n      <td>NaN</td>\n      <td>Фотокинотехника</td>\n      <td>111652.0</td>\n      <td>Зеркальный фотоаппарат как система</td>\n      <td>7</td>\n    </tr>\n    <tr>\n      <th>4</th>\n      <td>1147736</td>\n      <td>34.632</td>\n      <td>1987</td>\n      <td>NaN</td>\n      <td>NaN</td>\n      <td>199, [1] с.</td>\n      <td>NaN</td>\n      <td>NaN</td>\n      <td>Машиностроительные и металлообрабатывающие про...</td>\n      <td>104241.0</td>\n      <td>Руководство для обучения токарей по металлу: [...</td>\n      <td>11</td>\n    </tr>\n  </tbody>\n</table>\n</div>"
     },
>>>>>>> de6a0aa90058fdefc39ed90e2d875f94817b9e43
     "execution_count": 39,
     "metadata": {},
     "output_type": "execute_result"
    }
   ],
   "source": [
    "columns_delete = ['parentNumberOfPart', 'parentId', 'parentAuthor', 'isbn', 'issn', 'deleted', 'titleOfPart', 'nextAuthor',\n",
    "                  'edition', 'bibliographyLevel', 'numberOfPart', 'parentTitle', 'parentAdditionalInfo', 'parentPlace', 'parentPublisher',\n",
    "                  'parentYear', 'changed', 'person', 'parentEdition', 'udk', 'cover', 'node', 'language_id', 'material_id', 'ageRestriction_id',\n",
    "                  'rubric_id', 'rubric_parentId', 'author_info', 'author_dates', 'author_surname', 'author_names', 'author_initials',\n",
    "                  'author_fullName', 'author_fullNameAlt', 'publisher_id', 'publisher_name', 'place_id', 'place_name', 'serial_id',\n",
    "                  'year_value', 'common_search_field', 'totalOutCount', 'totalInplaceCount', 'freeCount', 'freeHands', 'freeOnline',\n",
    "                  'orderedCount', 'outputCount', 'smart_collapse_field', 'author_surname_for_sort', 'author_surname_language_level',\n",
    "                  'title_for_sort', 'title_language_level', 'publisher_name_for_sort', 'publisher_name_language_level', 'serial_name_for_sort',\n",
    "                  'serial_name_language_level', 'dates', 'info', 'initials', 'eiskId', 'fixed', 'pointEiskId', 'language', 'material', 'ageRestriction',\n",
    "                  'rubric', 'author', 'publisher', 'place', 'serial', 'f_deleted', 'libraryId', 'catalogueId', 'start_timestamp', 'end_timestamp', 'siglaEiskId',\n",
    "                  'libraryAvailability', 'title', 'serial_name', 'keyword', 'titleAdditionalInfo', 'material_name', 'publicationType', 'language_name',\n",
    "                  'collapse_field']\n",
    "books_info.drop(axis=1, columns=columns_delete, inplace=True, errors='ignore')\n",
    "books_info.head()\n"
   ],
   "metadata": {
    "collapsed": false,
    "pycharm": {
     "name": "#%%\n"
    }
   }
  },
  {
   "cell_type": "markdown",
   "source": [
    "###### Left only useful data about books for training:\n",
    "\n",
    "- id: id of book, (there could be the same books, with different id)\n",
    "- bbk: classic RUSSIAN classification of books\n",
    "- year: year of book\n",
    "- contribution: author\n",
    "- annotation: short description\n",
    "- volume: number of pages, disks\n",
    "- parallelTitle (95% missed data): title on English language\n",
    "- ageRestriction_name: restriction age [4+, 16+, 18+]\n",
    "- rubric_name: additional genre for book\n",
    "- author_id: author id\n",
    "- title_orig: additional title\n",
    "- available: available to borrow"
   ],
   "metadata": {
    "collapsed": false,
    "pycharm": {
     "name": "#%% md\n"
    }
   }
  },
  {
   "cell_type": "code",
   "execution_count": 38,
   "outputs": [],
   "source": [
    "def check_column(dataset: pd.DataFrame, column: str = None):\n",
    "    if column is None:\n",
    "        series = dataset\n",
    "    else:\n",
    "        series = dataset[column]\n",
    "\n",
    "    number_nan = sum(series.isna())\n",
    "    empty_str = len(series == '')\n",
    "    total_len = len(series)\n",
    "    duplicates = sum(series.duplicated())\n",
    "\n",
    "    _print = [arr / total_len for arr in [number_nan, empty_str, duplicates]]\n",
    "    _text = ['NaN', 'empty_str', 'duplicates']\n",
    "\n",
    "    for n, t in zip(_print, _text):\n",
    "        print(f'{n}% of {t}.', end='\\n')\n",
    "\n",
    "    print(f'\\n{series.describe()}\\n')\n",
    "\n",
    "    return series.value_counts()"
   ],
   "metadata": {
    "collapsed": false,
    "pycharm": {
     "name": "#%%\n"
    }
   }
  },
  {
   "cell_type": "code",
   "execution_count": 101,
   "outputs": [
    {
     "name": "stdout",
     "output_type": "stream",
     "text": [
      "0.0% of NaN.\n",
      "1.0% of empty_str.\n",
      "0.13135412217001283% of duplicates.\n",
      "\n",
      "count     4682\n",
      "unique    4067\n",
      "top           \n",
      "freq        45\n",
      "Name: title_orig, dtype: object\n",
      "\n"
     ]
    },
    {
     "data": {
      "text/plain": "                           45\nЭнциклопедия для детей     19\nИзбранные произведения      9\nСобрание сочинений          7\nДумай                       7\n                           ..\nДом с волшебными окнами     1\nВалентина Терешкова         1\nСтарик-годовик              1\nБелая юрта                  1\nИстория Москвы              1\nName: title_orig, Length: 4067, dtype: int64"
     },
     "execution_count": 101,
     "metadata": {},
     "output_type": "execute_result"
    }
   ],
   "source": [
    "check_column(books_info, 'title_orig')"
   ],
   "metadata": {
    "collapsed": false,
    "pycharm": {
     "name": "#%%\n"
    }
   }
  },
  {
   "cell_type": "code",
   "execution_count": 39,
   "outputs": [
    {
     "name": "stdout",
     "output_type": "stream",
     "text": [
      "<class 'pandas.core.frame.DataFrame'>\n",
      "Int64Index: 238525 entries, 0 to 238525\n",
      "Data columns (total 12 columns):\n",
      " #   Column               Non-Null Count   Dtype  \n",
      "---  ------               --------------   -----  \n",
      " 0   id                   238525 non-null  int64  \n",
      " 1   bbk                  191678 non-null  object \n",
      " 2   year                 199911 non-null  object \n",
      " 3   contribution         151147 non-null  object \n",
      " 4   annotation           67457 non-null   object \n",
      " 5   volume               185475 non-null  object \n",
      " 6   parallelTitle        10490 non-null   object \n",
      " 7   ageRestriction_name  14599 non-null   object \n",
      " 8   rubric_name          188771 non-null  object \n",
      " 9   author_id            130088 non-null  float64\n",
      " 10  title_orig           236417 non-null  object \n",
      " 11  available            238525 non-null  int64  \n",
      "dtypes: float64(1), int64(2), object(9)\n",
      "memory usage: 23.7+ MB\n"
     ]
    }
   ],
   "source": [
    "books_info.info()"
   ],
   "metadata": {
    "collapsed": false,
    "pycharm": {
     "name": "#%%\n"
    }
   }
  },
  {
   "cell_type": "markdown",
   "source": [
    "### 2.2 Features numeric preprocessing"
   ],
   "metadata": {
    "collapsed": false,
    "pycharm": {
     "name": "#%% md\n"
    }
   }
  },
  {
   "cell_type": "code",
   "execution_count": 18,
   "outputs": [],
   "source": [
    "def year_preprocessing(x):\n",
    "    if isinstance(x, str):\n",
    "        number = re.search(r'\\d+', x)\n",
    "        if number is None:\n",
    "            return None\n",
    "        number = int(number.group())\n",
    "        if len(str(number)) < 4:\n",
    "            return None\n",
    "        return number\n",
    "    if x == np.nan:\n",
    "        return None\n",
    "    if x is None:\n",
    "        return None\n",
    "\n",
    "\n",
    "def volume_preprocessing(x):\n",
    "    if isinstance(x, str):\n",
    "        number = re.search(r'\\d+', x)\n",
    "        if number is None:\n",
    "            return None\n",
    "        number = int(number.group())\n",
    "        if number < 3:\n",
    "            return None\n",
    "        return number\n",
    "    if x == np.nan:\n",
    "        return None\n",
    "    if x is None:\n",
    "        return None\n",
    "\n",
    "\n",
    "def age_restriction_preprocessing(x):\n",
    "    if isinstance(x, str):\n",
    "        number = re.search(r'\\d+', x)\n",
    "        if number is None:\n",
    "            return None\n",
    "        return int(number.group())\n",
    "    if x == np.nan:\n",
    "        return None\n",
    "    if x is None:\n",
    "        return None\n",
    "\n",
    "\n",
    "def available_preprocessing(x):\n",
    "    if x is None:\n",
    "        return 0\n",
    "    if isinstance(x, numbers.Integral):\n",
    "        return x\n",
    "    number = re.search(r'\\d+', x)\n",
    "    if number is None:\n",
    "        return 0\n",
    "    return int(number.group())"
   ],
   "metadata": {
    "collapsed": false,
    "pycharm": {
     "name": "#%%\n"
    }
   }
  },
  {
   "cell_type": "code",
   "execution_count": 40,
   "outputs": [],
   "source": [
    "books_info['year'] = pd.to_numeric(books_info['year'].apply(year_preprocessing))\n",
    "books_info['volume'] = pd.to_numeric(books_info['volume'].apply(volume_preprocessing))\n",
    "books_info['ageRestriction_name'] = pd.to_numeric(books_info['ageRestriction_name'].apply(age_restriction_preprocessing))\n",
    "books_info['available'] = pd.to_numeric(books_info['available'].apply(available_preprocessing))"
   ],
   "metadata": {
    "collapsed": false,
    "pycharm": {
     "name": "#%%\n"
    }
   }
  },
  {
   "cell_type": "code",
   "execution_count": 41,
   "outputs": [
    {
     "name": "stdout",
     "output_type": "stream",
     "text": [
      "<class 'pandas.core.frame.DataFrame'>\n",
      "Int64Index: 749816 entries, 0 to 49999\n",
      "Data columns (total 12 columns):\n",
      " #   Column               Non-Null Count   Dtype  \n",
      "---  ------               --------------   -----  \n",
      " 0   id                   749816 non-null  int64  \n",
      " 1   bbk                  637293 non-null  object \n",
      " 2   year                 659483 non-null  float64\n",
      " 3   contribution         505365 non-null  object \n",
      " 4   annotation           228920 non-null  object \n",
      " 5   volume               603463 non-null  float64\n",
      " 6   parallelTitle        31371 non-null   object \n",
      " 7   ageRestriction_name  60962 non-null   float64\n",
      " 8   rubric_name          630269 non-null  object \n",
      " 9   author_id            446008 non-null  float64\n",
      " 10  title_orig           741623 non-null  object \n",
      " 11  available            749816 non-null  int64  \n",
      "dtypes: float64(4), int64(2), object(6)\n",
      "memory usage: 74.4+ MB\n"
     ]
    }
   ],
   "source": [
    "books_info.info()"
   ],
   "metadata": {
    "collapsed": false,
    "pycharm": {
     "name": "#%%\n"
    }
   }
  },
  {
   "cell_type": "markdown",
   "source": [
    "### 2.3 Remove duplicates"
   ],
   "metadata": {
    "collapsed": false,
    "pycharm": {
     "name": "#%% md\n"
    }
   }
  },
  {
   "cell_type": "code",
   "execution_count": 106,
   "outputs": [],
   "source": [
    "def remove_duplicate_on_hash(dataset: pd.DataFrame) -> pd.DataFrame:\n",
    "    unique_fields = np.unique(dataset['id'])\n",
    "\n",
    "    for u_f in unique_fields:\n",
    "        slice = dataset[dataset['id'] == u_f]\n",
    "        total_available = sum(slice['available'])\n",
    "        dataset.loc[dataset['id'] == u_f, 'total_available'] = total_available\n",
    "\n",
    "    dataset.drop_duplicates(['id'], inplace=True)\n",
    "\n",
    "    return dataset\n"
   ],
   "metadata": {
    "collapsed": false,
    "pycharm": {
     "name": "#%%\n"
    }
   }
  },
  {
   "cell_type": "code",
<<<<<<< HEAD
=======
   "execution_count": 42,
   "outputs": [
    {
     "data": {
      "text/plain": "            id                bbk    year  \\\n0      1284165           83.3Р7-8  1941.0   \n1       497934              68.64  1985.0   \n2      1284421           84(5Каз)  1987.0   \n3       361448              37.94  1986.0   \n4      1147736             34.632  1987.0   \n...        ...                ...     ...   \n49995  1319780  74.102.414; 74.92  2000.0   \n49996  1319805              28.53  1989.0   \n49997  1319838              88.53  2006.0   \n49998  1319893           74.200.5  2000.0   \n49999  1319935                 84  1984.0   \n\n                                      contribution  \\\n0                                       М. Горький   \n1      [лит. запись Г. П Полякова] ; Г. П. Поляков   \n2                                 Худож. Б.Страхов   \n3                                              NaN   \n4                                              NaN   \n...                                            ...   \n49995                                          NaN   \n49996                                          NaN   \n49997      Аллан Пиз ; [пер. с англ. Т. Новиковой]   \n49998                             П.М.  Семенченко   \n49999                                  А. Е. Русов   \n\n                                              annotation  volume  \\\n0                                                    NaN   308.0   \n1                                                    NaN    86.0   \n2                                                    NaN   261.0   \n3                                                    NaN   157.0   \n4                                                    NaN   199.0   \n...                                                  ...     ...   \n49995                                                NaN   320.0   \n49996                                                NaN   168.0   \n49997  Аллан Пиз, признанный специалист в области ком...   127.0   \n49998  Сборник задач, упражнений, головоломок, объеди...   203.0   \n49999                                                NaN   428.0   \n\n      parallelTitle  ageRestriction_name  \\\n0               NaN                  NaN   \n1               NaN                  NaN   \n2               NaN                  NaN   \n3               NaN                  NaN   \n4               NaN                  NaN   \n...             ...                  ...   \n49995           NaN                  NaN   \n49996           NaN                  NaN   \n49997           NaN                  NaN   \n49998           NaN                  NaN   \n49999           NaN                  NaN   \n\n                                             rubric_name  author_id  \\\n0                        Общие вопросы литературоведения    38684.0   \n1                            Военное дело. Военная наука    25540.0   \n2                              Художественная литература    53715.0   \n3                                        Фотокинотехника   111652.0   \n4      Машиностроительные и металлообрабатывающие про...   104241.0   \n...                                                  ...        ...   \n49995  Дошкольное образование и воспитание. Дошкольна...    45197.0   \n49996                                           Ботаника    17136.0   \n49997                              Социальная психология    90581.0   \n49998  Общеобразовательная школа. Педагогика общего о...        NaN   \n49999                          Художественная литература    98564.0   \n\n                                              title_orig  available  \n0               Избранные литературно-критические статьи         10  \n1                                    Надежный щит Родины          9  \n2                                                  Зарок          0  \n3                     Зеркальный фотоаппарат как система          7  \n4      Руководство для обучения токарей по металлу: [...         11  \n...                                                  ...        ...  \n49995                     Как обучить ребёнка математике          1  \n49996                                  Зеленые оракулы :          0  \n49997        Искусство коммуникации в сетевом маркетинге          1  \n49998                     399 задач для развития ребёнка          2  \n49999          Суд над судом: Повесть о Богдане Кнунянце          1  \n\n[749816 rows x 12 columns]",
      "text/html": "<div>\n<style scoped>\n    .dataframe tbody tr th:only-of-type {\n        vertical-align: middle;\n    }\n\n    .dataframe tbody tr th {\n        vertical-align: top;\n    }\n\n    .dataframe thead th {\n        text-align: right;\n    }\n</style>\n<table border=\"1\" class=\"dataframe\">\n  <thead>\n    <tr style=\"text-align: right;\">\n      <th></th>\n      <th>id</th>\n      <th>bbk</th>\n      <th>year</th>\n      <th>contribution</th>\n      <th>annotation</th>\n      <th>volume</th>\n      <th>parallelTitle</th>\n      <th>ageRestriction_name</th>\n      <th>rubric_name</th>\n      <th>author_id</th>\n      <th>title_orig</th>\n      <th>available</th>\n    </tr>\n  </thead>\n  <tbody>\n    <tr>\n      <th>0</th>\n      <td>1284165</td>\n      <td>83.3Р7-8</td>\n      <td>1941.0</td>\n      <td>М. Горький</td>\n      <td>NaN</td>\n      <td>308.0</td>\n      <td>NaN</td>\n      <td>NaN</td>\n      <td>Общие вопросы литературоведения</td>\n      <td>38684.0</td>\n      <td>Избранные литературно-критические статьи</td>\n      <td>10</td>\n    </tr>\n    <tr>\n      <th>1</th>\n      <td>497934</td>\n      <td>68.64</td>\n      <td>1985.0</td>\n      <td>[лит. запись Г. П Полякова] ; Г. П. Поляков</td>\n      <td>NaN</td>\n      <td>86.0</td>\n      <td>NaN</td>\n      <td>NaN</td>\n      <td>Военное дело. Военная наука</td>\n      <td>25540.0</td>\n      <td>Надежный щит Родины</td>\n      <td>9</td>\n    </tr>\n    <tr>\n      <th>2</th>\n      <td>1284421</td>\n      <td>84(5Каз)</td>\n      <td>1987.0</td>\n      <td>Худож. Б.Страхов</td>\n      <td>NaN</td>\n      <td>261.0</td>\n      <td>NaN</td>\n      <td>NaN</td>\n      <td>Художественная литература</td>\n      <td>53715.0</td>\n      <td>Зарок</td>\n      <td>0</td>\n    </tr>\n    <tr>\n      <th>3</th>\n      <td>361448</td>\n      <td>37.94</td>\n      <td>1986.0</td>\n      <td>NaN</td>\n      <td>NaN</td>\n      <td>157.0</td>\n      <td>NaN</td>\n      <td>NaN</td>\n      <td>Фотокинотехника</td>\n      <td>111652.0</td>\n      <td>Зеркальный фотоаппарат как система</td>\n      <td>7</td>\n    </tr>\n    <tr>\n      <th>4</th>\n      <td>1147736</td>\n      <td>34.632</td>\n      <td>1987.0</td>\n      <td>NaN</td>\n      <td>NaN</td>\n      <td>199.0</td>\n      <td>NaN</td>\n      <td>NaN</td>\n      <td>Машиностроительные и металлообрабатывающие про...</td>\n      <td>104241.0</td>\n      <td>Руководство для обучения токарей по металлу: [...</td>\n      <td>11</td>\n    </tr>\n    <tr>\n      <th>...</th>\n      <td>...</td>\n      <td>...</td>\n      <td>...</td>\n      <td>...</td>\n      <td>...</td>\n      <td>...</td>\n      <td>...</td>\n      <td>...</td>\n      <td>...</td>\n      <td>...</td>\n      <td>...</td>\n      <td>...</td>\n    </tr>\n    <tr>\n      <th>49995</th>\n      <td>1319780</td>\n      <td>74.102.414; 74.92</td>\n      <td>2000.0</td>\n      <td>NaN</td>\n      <td>NaN</td>\n      <td>320.0</td>\n      <td>NaN</td>\n      <td>NaN</td>\n      <td>Дошкольное образование и воспитание. Дошкольна...</td>\n      <td>45197.0</td>\n      <td>Как обучить ребёнка математике</td>\n      <td>1</td>\n    </tr>\n    <tr>\n      <th>49996</th>\n      <td>1319805</td>\n      <td>28.53</td>\n      <td>1989.0</td>\n      <td>NaN</td>\n      <td>NaN</td>\n      <td>168.0</td>\n      <td>NaN</td>\n      <td>NaN</td>\n      <td>Ботаника</td>\n      <td>17136.0</td>\n      <td>Зеленые оракулы :</td>\n      <td>0</td>\n    </tr>\n    <tr>\n      <th>49997</th>\n      <td>1319838</td>\n      <td>88.53</td>\n      <td>2006.0</td>\n      <td>Аллан Пиз ; [пер. с англ. Т. Новиковой]</td>\n      <td>Аллан Пиз, признанный специалист в области ком...</td>\n      <td>127.0</td>\n      <td>NaN</td>\n      <td>NaN</td>\n      <td>Социальная психология</td>\n      <td>90581.0</td>\n      <td>Искусство коммуникации в сетевом маркетинге</td>\n      <td>1</td>\n    </tr>\n    <tr>\n      <th>49998</th>\n      <td>1319893</td>\n      <td>74.200.5</td>\n      <td>2000.0</td>\n      <td>П.М.  Семенченко</td>\n      <td>Сборник задач, упражнений, головоломок, объеди...</td>\n      <td>203.0</td>\n      <td>NaN</td>\n      <td>NaN</td>\n      <td>Общеобразовательная школа. Педагогика общего о...</td>\n      <td>NaN</td>\n      <td>399 задач для развития ребёнка</td>\n      <td>2</td>\n    </tr>\n    <tr>\n      <th>49999</th>\n      <td>1319935</td>\n      <td>84</td>\n      <td>1984.0</td>\n      <td>А. Е. Русов</td>\n      <td>NaN</td>\n      <td>428.0</td>\n      <td>NaN</td>\n      <td>NaN</td>\n      <td>Художественная литература</td>\n      <td>98564.0</td>\n      <td>Суд над судом: Повесть о Богдане Кнунянце</td>\n      <td>1</td>\n    </tr>\n  </tbody>\n</table>\n<p>749816 rows × 12 columns</p>\n</div>"
     },
     "execution_count": 42,
     "metadata": {},
     "output_type": "execute_result"
    }
   ],
   "source": [
    "books_info"
   ],
   "metadata": {
    "collapsed": false,
    "pycharm": {
     "name": "#%%\n"
    }
   }
  },
  {
   "cell_type": "code",
>>>>>>> de6a0aa90058fdefc39ed90e2d875f94817b9e43
   "execution_count": 43,
   "outputs": [
    {
     "name": "stdout",
     "output_type": "stream",
     "text": [
      "<class 'pandas.core.frame.DataFrame'>\n",
      "Int64Index: 749816 entries, 0 to 49999\n",
      "Data columns (total 12 columns):\n",
      " #   Column            Non-Null Count   Dtype  \n",
      "---  ------            --------------   -----  \n",
      " 0   id                749816 non-null  int64  \n",
      " 1   bbk               637293 non-null  object \n",
      " 2   year              659483 non-null  float64\n",
      " 3   author            505365 non-null  object \n",
      " 4   annotation        228920 non-null  object \n",
      " 5   volume            603463 non-null  float64\n",
      " 6   title_additional  31371 non-null   object \n",
      " 7   age_restriction   60962 non-null   float64\n",
      " 8   rubrics           630269 non-null  object \n",
      " 9   author_id         446008 non-null  float64\n",
      " 10  title             741623 non-null  object \n",
      " 11  available         749816 non-null  int64  \n",
      "dtypes: float64(4), int64(2), object(6)\n",
      "memory usage: 74.4+ MB\n"
     ]
    }
   ],
   "source": [
    "books_info.columns = ['id', 'bbk', 'year', 'author', 'annotation', 'volume',\n",
    "                      'title_additional', 'age_restriction', 'rubrics', 'author_id',\n",
    "                      'title', 'available']\n",
    "books_info.info()"
   ],
   "metadata": {
    "collapsed": false,
    "pycharm": {
     "name": "#%%\n"
    }
   }
  },
  {
   "cell_type": "markdown",
   "source": [
    "### 2.4 Preparing data, cleaning, Punctuation Removal, Lowering the text"
   ],
   "metadata": {
    "collapsed": false,
    "pycharm": {
     "name": "#%% md\n"
    }
   }
  },
  {
   "cell_type": "code",
   "execution_count": null,
   "outputs": [],
   "source": [
    "def author_preprocessing(x):\n",
    "    if isinstance(x, str):\n",
    "        return x.split(';')[0]\n",
    "    return None\n",
    "\n",
    "def remove_punctuation(text):\n",
    "    if isinstance(text, str):\n",
    "        cleared =\"\".join([i for i in text if i not in string.punctuation.replace('.', '')])\n",
    "        return cleared\n",
    "    return None\n",
    "\n",
    "def remove_several_spaces(text):\n",
    "    if isinstance(text, str):\n",
    "        return ' '.join(text.split())\n",
    "    return None\n",
    "\n",
    "def text_lower(text):\n",
    "    if isinstance(text, str):\n",
    "        return text.lower()\n",
    "    return None\n"
   ],
   "metadata": {
    "collapsed": false,
    "pycharm": {
     "name": "#%%\n"
    }
   }
  },
  {
   "cell_type": "code",
   "execution_count": null,
   "outputs": [],
   "source": [
    "books_info['author'] = books_info['author'].apply(author_preprocessing).apply(remove_punctuation).apply(remove_several_spaces)\n",
    "books_info['title_additional'] = books_info['title_additional'].apply(remove_several_spaces)\n",
    "books_info['title'] = books_info['title'].apply(remove_several_spaces)\n",
    "books_info['rubrics'] = books_info['rubrics'].apply(remove_several_spaces)\n",
    "books_info['annotation'] = books_info['annotation'].apply(remove_several_spaces)\n",
    "books_info.head()"
   ],
   "metadata": {
    "collapsed": false,
    "pycharm": {
     "name": "#%%\n"
    }
   }
  },
  {
   "cell_type": "code",
   "execution_count": 108,
   "outputs": [],
   "source": [
    "books_info.to_csv(f'{PROJECT_FOLDER}/data/books_.csv', index=False)"
   ],
   "metadata": {
    "collapsed": false,
    "pycharm": {
     "name": "#%%\n"
    }
   }
  },
  {
   "cell_type": "markdown",
   "source": [],
   "metadata": {
    "collapsed": false,
    "pycharm": {
     "name": "#%% md\n"
    }
   }
  },
  {
   "cell_type": "code",
<<<<<<< HEAD
   "execution_count": null,
=======
   "execution_count": 47,
>>>>>>> de6a0aa90058fdefc39ed90e2d875f94817b9e43
   "outputs": [],
   "source": [],
   "metadata": {
    "collapsed": false,
    "pycharm": {
     "name": "#%%\n"
    }
   }
  },
  {
   "cell_type": "markdown",
   "source": [
    "### MERGIN SEVERAL DATASETS INTO ONE"
   ],
   "metadata": {
    "collapsed": false,
    "pycharm": {
     "name": "#%% md\n"
    }
   }
  },
  {
   "cell_type": "code",
   "execution_count": 44,
   "outputs": [],
   "source": [
    "data = books_info.copy()"
   ],
   "metadata": {
    "collapsed": false,
    "pycharm": {
     "name": "#%%\n"
    }
   }
  },
  {
   "cell_type": "code",
   "execution_count": 110,
   "outputs": [
    {
     "data": {
      "text/plain": "        id            bbk  year  \\\n0  1272541  84(2Рос=Рус)1  2013   \n1  1960078       84(4Вел)  2017   \n2    26991       84(7Сое)  2004   \n3  1781433       84(7Сое)  2020   \n4  1687060       84(7США)  2019   \n\n                                              author  \\\n0                                  Федор Достоевский   \n1  Роберт Гэлбрейт ; перевод с английского Е. Пет...   \n2           Фэнни Флэгг ; [пер. с англ. Д. Крупской]   \n3  Ричард Руссо ; перевод с английского Елены Пол...   \n4                        Р. Руссо ; пер. Е. Полецкая   \n\n                                          annotation  volume title_additional  \\\n0  \"Бесы\"- одно из наиболее трагических, загадочн...     604              NaN   \n1  Робин Эллакотт получает с курьером таинственны...     540              NaN   \n2  Роман американской писательницы Ф.Флэгг расска...     428              NaN   \n3  Майлз Роби двадцать лет готовит бургеры в \"Имп...     606              NaN   \n4                                                NaN     608              NaN   \n\n   age_restriction                    rubrics  author_id  \\\n0              NaN  Художественная литература    45567.0   \n1             16.0  Художественная литература    41515.0   \n2              NaN  Художественная литература   116027.0   \n3             16.0  Художественная литература   141830.0   \n4              NaN  Художественная литература   141830.0   \n\n                                          title  available  \n0                                          Бесы          2  \n1                                 На службе зла          1  \n2  Жареные зеленые помидоры в кафе \"Полустанок\"          7  \n3                                  Эмпайр Фоллз         11  \n4                                  Эмпайр Фоллз          1  ",
      "text/html": "<div>\n<style scoped>\n    .dataframe tbody tr th:only-of-type {\n        vertical-align: middle;\n    }\n\n    .dataframe tbody tr th {\n        vertical-align: top;\n    }\n\n    .dataframe thead th {\n        text-align: right;\n    }\n</style>\n<table border=\"1\" class=\"dataframe\">\n  <thead>\n    <tr style=\"text-align: right;\">\n      <th></th>\n      <th>id</th>\n      <th>bbk</th>\n      <th>year</th>\n      <th>author</th>\n      <th>annotation</th>\n      <th>volume</th>\n      <th>title_additional</th>\n      <th>age_restriction</th>\n      <th>rubrics</th>\n      <th>author_id</th>\n      <th>title</th>\n      <th>available</th>\n    </tr>\n  </thead>\n  <tbody>\n    <tr>\n      <th>0</th>\n      <td>1272541</td>\n      <td>84(2Рос=Рус)1</td>\n      <td>2013</td>\n      <td>Федор Достоевский</td>\n      <td>\"Бесы\"- одно из наиболее трагических, загадочн...</td>\n      <td>604</td>\n      <td>NaN</td>\n      <td>NaN</td>\n      <td>Художественная литература</td>\n      <td>45567.0</td>\n      <td>Бесы</td>\n      <td>2</td>\n    </tr>\n    <tr>\n      <th>1</th>\n      <td>1960078</td>\n      <td>84(4Вел)</td>\n      <td>2017</td>\n      <td>Роберт Гэлбрейт ; перевод с английского Е. Пет...</td>\n      <td>Робин Эллакотт получает с курьером таинственны...</td>\n      <td>540</td>\n      <td>NaN</td>\n      <td>16.0</td>\n      <td>Художественная литература</td>\n      <td>41515.0</td>\n      <td>На службе зла</td>\n      <td>1</td>\n    </tr>\n    <tr>\n      <th>2</th>\n      <td>26991</td>\n      <td>84(7Сое)</td>\n      <td>2004</td>\n      <td>Фэнни Флэгг ; [пер. с англ. Д. Крупской]</td>\n      <td>Роман американской писательницы Ф.Флэгг расска...</td>\n      <td>428</td>\n      <td>NaN</td>\n      <td>NaN</td>\n      <td>Художественная литература</td>\n      <td>116027.0</td>\n      <td>Жареные зеленые помидоры в кафе \"Полустанок\"</td>\n      <td>7</td>\n    </tr>\n    <tr>\n      <th>3</th>\n      <td>1781433</td>\n      <td>84(7Сое)</td>\n      <td>2020</td>\n      <td>Ричард Руссо ; перевод с английского Елены Пол...</td>\n      <td>Майлз Роби двадцать лет готовит бургеры в \"Имп...</td>\n      <td>606</td>\n      <td>NaN</td>\n      <td>16.0</td>\n      <td>Художественная литература</td>\n      <td>141830.0</td>\n      <td>Эмпайр Фоллз</td>\n      <td>11</td>\n    </tr>\n    <tr>\n      <th>4</th>\n      <td>1687060</td>\n      <td>84(7США)</td>\n      <td>2019</td>\n      <td>Р. Руссо ; пер. Е. Полецкая</td>\n      <td>NaN</td>\n      <td>608</td>\n      <td>NaN</td>\n      <td>NaN</td>\n      <td>Художественная литература</td>\n      <td>141830.0</td>\n      <td>Эмпайр Фоллз</td>\n      <td>1</td>\n    </tr>\n  </tbody>\n</table>\n</div>"
     },
     "execution_count": 110,
     "metadata": {},
     "output_type": "execute_result"
    }
   ],
   "source": [
    "data = pd.read_csv(f'{PROJECT_FOLDER}/data/books_NEW.csv')\n",
    "data.head()"
   ],
   "metadata": {
    "collapsed": false,
    "pycharm": {
     "name": "#%%\n"
    }
   }
  },
  {
   "cell_type": "code",
<<<<<<< HEAD
   "execution_count": 50,
=======
   "execution_count": 45,
>>>>>>> de6a0aa90058fdefc39ed90e2d875f94817b9e43
   "outputs": [],
   "source": [
    "data_small = pd.read_csv(f'{PROJECT_FOLDER}/data/books.csv')\n",
    "data_small.head()"
   ],
   "metadata": {
    "collapsed": false,
    "pycharm": {
     "name": "#%%\n"
    }
   }
  },
  {
   "cell_type": "code",
<<<<<<< HEAD
   "execution_count": 51,
   "outputs": [],
=======
   "execution_count": 48,
   "outputs": [
    {
     "data": {
      "text/plain": "        id       bbk    year                     author annotation  volume  \\\n0  1284165  83.3Р7-8  1941.0                 М. Горький       None   308.0   \n1   497934     68.64  1985.0  лит. запись Г. П Полякова       None    86.0   \n2  1284421  84(5Каз)  1987.0           Худож. Б.Страхов       None   261.0   \n3   361448     37.94  1986.0                       None       None   157.0   \n4  1147736    34.632  1987.0                       None       None   199.0   \n\n  title_additional  age_restriction  \\\n0             None              NaN   \n1             None              NaN   \n2             None              NaN   \n3             None              NaN   \n4             None              NaN   \n\n                                             rubrics  author_id  \\\n0                    Общие вопросы литературоведения    38684.0   \n1                        Военное дело. Военная наука    25540.0   \n2                          Художественная литература    53715.0   \n3                                    Фотокинотехника   111652.0   \n4  Машиностроительные и металлообрабатывающие про...   104241.0   \n\n                                               title  available  \n0           Избранные литературно-критические статьи         10  \n1                                Надежный щит Родины          9  \n2                                              Зарок          0  \n3                 Зеркальный фотоаппарат как система          7  \n4  Руководство для обучения токарей по металлу: [...         11  ",
      "text/html": "<div>\n<style scoped>\n    .dataframe tbody tr th:only-of-type {\n        vertical-align: middle;\n    }\n\n    .dataframe tbody tr th {\n        vertical-align: top;\n    }\n\n    .dataframe thead th {\n        text-align: right;\n    }\n</style>\n<table border=\"1\" class=\"dataframe\">\n  <thead>\n    <tr style=\"text-align: right;\">\n      <th></th>\n      <th>id</th>\n      <th>bbk</th>\n      <th>year</th>\n      <th>author</th>\n      <th>annotation</th>\n      <th>volume</th>\n      <th>title_additional</th>\n      <th>age_restriction</th>\n      <th>rubrics</th>\n      <th>author_id</th>\n      <th>title</th>\n      <th>available</th>\n    </tr>\n  </thead>\n  <tbody>\n    <tr>\n      <th>0</th>\n      <td>1284165</td>\n      <td>83.3Р7-8</td>\n      <td>1941.0</td>\n      <td>М. Горький</td>\n      <td>None</td>\n      <td>308.0</td>\n      <td>None</td>\n      <td>NaN</td>\n      <td>Общие вопросы литературоведения</td>\n      <td>38684.0</td>\n      <td>Избранные литературно-критические статьи</td>\n      <td>10</td>\n    </tr>\n    <tr>\n      <th>1</th>\n      <td>497934</td>\n      <td>68.64</td>\n      <td>1985.0</td>\n      <td>лит. запись Г. П Полякова</td>\n      <td>None</td>\n      <td>86.0</td>\n      <td>None</td>\n      <td>NaN</td>\n      <td>Военное дело. Военная наука</td>\n      <td>25540.0</td>\n      <td>Надежный щит Родины</td>\n      <td>9</td>\n    </tr>\n    <tr>\n      <th>2</th>\n      <td>1284421</td>\n      <td>84(5Каз)</td>\n      <td>1987.0</td>\n      <td>Худож. Б.Страхов</td>\n      <td>None</td>\n      <td>261.0</td>\n      <td>None</td>\n      <td>NaN</td>\n      <td>Художественная литература</td>\n      <td>53715.0</td>\n      <td>Зарок</td>\n      <td>0</td>\n    </tr>\n    <tr>\n      <th>3</th>\n      <td>361448</td>\n      <td>37.94</td>\n      <td>1986.0</td>\n      <td>None</td>\n      <td>None</td>\n      <td>157.0</td>\n      <td>None</td>\n      <td>NaN</td>\n      <td>Фотокинотехника</td>\n      <td>111652.0</td>\n      <td>Зеркальный фотоаппарат как система</td>\n      <td>7</td>\n    </tr>\n    <tr>\n      <th>4</th>\n      <td>1147736</td>\n      <td>34.632</td>\n      <td>1987.0</td>\n      <td>None</td>\n      <td>None</td>\n      <td>199.0</td>\n      <td>None</td>\n      <td>NaN</td>\n      <td>Машиностроительные и металлообрабатывающие про...</td>\n      <td>104241.0</td>\n      <td>Руководство для обучения токарей по металлу: [...</td>\n      <td>11</td>\n    </tr>\n  </tbody>\n</table>\n</div>"
     },
     "execution_count": 48,
     "metadata": {},
     "output_type": "execute_result"
    }
   ],
>>>>>>> de6a0aa90058fdefc39ed90e2d875f94817b9e43
   "source": [
    "data_full = pd.concat([data, data_small])\n",
    "data_full.to_csv('books.csv', index=False)"
   ],
   "metadata": {
    "collapsed": false,
    "pycharm": {
     "name": "#%%\n"
    }
   }
  },
  {
   "cell_type": "code",
<<<<<<< HEAD
   "execution_count": null,
=======
   "execution_count": 49,
>>>>>>> de6a0aa90058fdefc39ed90e2d875f94817b9e43
   "outputs": [],
   "source": [],
   "metadata": {
    "collapsed": false,
    "pycharm": {
     "name": "#%%\n"
    }
   }
  },
  {
   "cell_type": "markdown",
   "source": [
<<<<<<< HEAD
    "#### interactions"
=======
    "data.to_csv(f'{PROJECT_FOLDER}/data/books_450183_1450000.csv', index=False)"
>>>>>>> de6a0aa90058fdefc39ed90e2d875f94817b9e43
   ],
   "metadata": {
    "collapsed": false,
    "pycharm": {
     "name": "#%% md\n"
    }
   }
  },
  {
   "cell_type": "code",
   "execution_count": 50,
   "outputs": [],
   "source": [
    "data_small = pd.read_csv(f'{PROJECT_FOLDER}/data/books.csv')"
   ],
   "metadata": {
    "collapsed": false,
    "pycharm": {
     "name": "#%%\n"
    }
   }
  },
  {
   "cell_type": "code",
   "execution_count": 51,
   "outputs": [],
   "source": [
<<<<<<< HEAD
    "full_interactions = pd.concat([interactions, circulations])\n",
    "full_interactions.to_csv(f'{PROJECT_FOLDER}/local/raw_data/train_interactions_full.csv', index=False)"
=======
    "data_full = pd.concat([data, data_small])\n",
    "data_full.to_csv('books.csv', index=False)"
>>>>>>> de6a0aa90058fdefc39ed90e2d875f94817b9e43
   ],
   "metadata": {
    "collapsed": false,
    "pycharm": {
     "name": "#%%\n"
    }
   }
  },
  {
   "cell_type": "code",
<<<<<<< HEAD
   "execution_count": null,
   "outputs": [],
   "source": [],
   "metadata": {
    "collapsed": false,
    "pycharm": {
     "name": "#%%\n"
    }
   }
  },
  {
   "cell_type": "markdown",
   "source": [
    "#### several datasets"
=======
   "execution_count": 18,
   "outputs": [],
   "source": [
    "interactions = pd.read_csv(os.path.join(PROJECT_FOLDER, 'local', 'raw_data', 'user_book_interaction_full.csv'))\n",
    "circulations = pd.read_csv(os.path.join(PROJECT_FOLDER, 'local', 'raw_data', 'circulations.csv'))"
>>>>>>> de6a0aa90058fdefc39ed90e2d875f94817b9e43
   ],
   "metadata": {
    "collapsed": false,
    "pycharm": {
     "name": "#%% md\n"
    }
   }
  },
  {
   "cell_type": "code",
<<<<<<< HEAD
   "execution_count": null,
   "outputs": [],
   "source": [
    "part_of_book_full = pd.read_csv(f'{PROJECT_FOLDER}/local/books/450183-500000.csv')\n",
    "\n",
    "for csv in os.listdir(f'{PROJECT_FOLDER}/local/books'):\n",
    "    path = os.path.join(PROJECT_FOLDER, 'local', 'books', csv)\n",
    "    books_full = pd.read_csv(path)\n",
    "    part_of_book_full = pd.concat([part_of_book_full, books_full])\n",
    "\n",
    "part_of_book_full.drop_duplicates(inplace=True)\n",
    "part_of_book_full.head()\n",
    "\n",
    "books_info = part_of_book_full.copy()"
=======
   "execution_count": 19,
   "outputs": [],
   "source": [
    "full = pd.concat([interactions, circulations])\n",
    "# full.to_csv(f'{PROJECT_FOLDER}/local/raw_data/train_interactions_full.csv', index=False)\n"
>>>>>>> de6a0aa90058fdefc39ed90e2d875f94817b9e43
   ],
   "metadata": {
    "collapsed": false,
    "pycharm": {
     "name": "#%%\n"
    }
   }
  },
  {
   "cell_type": "code",
   "execution_count": null,
   "outputs": [],
   "source": [],
   "metadata": {
    "collapsed": false,
    "pycharm": {
     "name": "#%%\n"
    }
   }
  }
 ],
 "metadata": {
  "kernelspec": {
   "display_name": "Python 3",
   "language": "python",
   "name": "python3"
  },
  "language_info": {
   "codemirror_mode": {
    "name": "ipython",
    "version": 2
   },
   "file_extension": ".py",
   "mimetype": "text/x-python",
   "name": "python",
   "nbconvert_exporter": "python",
   "pygments_lexer": "ipython2",
   "version": "2.7.6"
  }
 },
 "nbformat": 4,
 "nbformat_minor": 0
}