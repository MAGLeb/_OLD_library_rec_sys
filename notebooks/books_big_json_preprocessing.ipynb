{
 "cells": [
  {
   "cell_type": "code",
   "execution_count": 1,
   "metadata": {
    "collapsed": true
   },
   "outputs": [],
   "source": [
    "import os\n",
    "from operator import itemgetter\n",
    "import json\n",
    "from tqdm import tqdm\n",
    "\n",
    "import pandas as pd"
   ]
  },
  {
   "cell_type": "code",
   "execution_count": 2,
   "outputs": [],
   "source": [
    "PROJECT_FOLDER = os.path.abspath('..')"
   ],
   "metadata": {
    "collapsed": false,
    "pycharm": {
     "name": "#%%\n"
    }
   }
  },
  {
   "cell_type": "code",
   "execution_count": 15,
   "outputs": [],
   "source": [
    "columns_save = ['id', 'bbk', 'title', 'year', 'contribution', 'annotation', 'keyword', 'titleAdditionalInfo', 'volume', 'parallelTitle', 'publicationType',\n",
    "                'language_name', 'material_name', 'ageRestriction_name', 'rubric_name', 'author_id', 'serial_name', 'collapse_field', 'title_orig', 'available']\n",
    "\n",
    "books_info_full = pd.DataFrame(columns=columns_save)"
   ],
   "metadata": {
    "collapsed": false,
    "pycharm": {
     "name": "#%%\n"
    }
   }
  },
  {
   "cell_type": "code",
   "execution_count": 12,
   "outputs": [
    {
     "name": "stderr",
     "output_type": "stream",
     "text": [
      "91145it [46:03, 32.98it/s]\n"
     ]
    },
    {
     "ename": "KeyboardInterrupt",
     "evalue": "",
     "output_type": "error",
     "traceback": [
      "\u001B[0;31m---------------------------------------------------------------------------\u001B[0m",
      "\u001B[0;31mKeyboardInterrupt\u001B[0m                         Traceback (most recent call last)",
      "\u001B[0;32m/tmp/ipykernel_2856/2069679200.py\u001B[0m in \u001B[0;36m<module>\u001B[0;34m\u001B[0m\n\u001B[1;32m      5\u001B[0m         \u001B[0mline\u001B[0m \u001B[0;34m=\u001B[0m \u001B[0mf\u001B[0m\u001B[0;34m.\u001B[0m\u001B[0mreadline\u001B[0m\u001B[0;34m(\u001B[0m\u001B[0;34m)\u001B[0m\u001B[0;34m\u001B[0m\u001B[0;34m\u001B[0m\u001B[0m\n\u001B[1;32m      6\u001B[0m         \u001B[0md\u001B[0m \u001B[0;34m=\u001B[0m \u001B[0mjson\u001B[0m\u001B[0;34m.\u001B[0m\u001B[0mloads\u001B[0m\u001B[0;34m(\u001B[0m\u001B[0mline\u001B[0m\u001B[0;34m[\u001B[0m\u001B[0;34m:\u001B[0m\u001B[0;34m-\u001B[0m\u001B[0;36m2\u001B[0m\u001B[0;34m]\u001B[0m\u001B[0;34m)\u001B[0m\u001B[0;34m\u001B[0m\u001B[0;34m\u001B[0m\u001B[0m\n\u001B[0;32m----> 7\u001B[0;31m         \u001B[0mbooks_info_full\u001B[0m \u001B[0;34m=\u001B[0m \u001B[0mbooks_info_full\u001B[0m\u001B[0;34m.\u001B[0m\u001B[0mappend\u001B[0m\u001B[0;34m(\u001B[0m\u001B[0mpd\u001B[0m\u001B[0;34m.\u001B[0m\u001B[0mDataFrame\u001B[0m\u001B[0;34m(\u001B[0m\u001B[0mdata\u001B[0m\u001B[0;34m=\u001B[0m\u001B[0;34m[\u001B[0m\u001B[0mlist\u001B[0m\u001B[0;34m(\u001B[0m\u001B[0mitemgetter\u001B[0m\u001B[0;34m(\u001B[0m\u001B[0;34m*\u001B[0m\u001B[0mcolumns_save\u001B[0m\u001B[0;34m)\u001B[0m\u001B[0;34m(\u001B[0m\u001B[0md\u001B[0m\u001B[0;34m)\u001B[0m\u001B[0;34m)\u001B[0m\u001B[0;34m]\u001B[0m\u001B[0;34m,\u001B[0m \u001B[0mcolumns\u001B[0m\u001B[0;34m=\u001B[0m\u001B[0mcolumns_save\u001B[0m\u001B[0;34m)\u001B[0m\u001B[0;34m)\u001B[0m\u001B[0;34m\u001B[0m\u001B[0;34m\u001B[0m\u001B[0m\n\u001B[0m\u001B[1;32m      8\u001B[0m     \u001B[0mf\u001B[0m\u001B[0;34m.\u001B[0m\u001B[0mclose\u001B[0m\u001B[0;34m(\u001B[0m\u001B[0;34m)\u001B[0m\u001B[0;34m\u001B[0m\u001B[0;34m\u001B[0m\u001B[0m\n",
      "\u001B[0;32m~/rec_sys_book/local/venv/lib/python3.8/site-packages/pandas/core/frame.py\u001B[0m in \u001B[0;36mappend\u001B[0;34m(self, other, ignore_index, verify_integrity, sort)\u001B[0m\n\u001B[1;32m   8964\u001B[0m             \u001B[0mto_concat\u001B[0m \u001B[0;34m=\u001B[0m \u001B[0;34m[\u001B[0m\u001B[0mself\u001B[0m\u001B[0;34m,\u001B[0m \u001B[0mother\u001B[0m\u001B[0;34m]\u001B[0m\u001B[0;34m\u001B[0m\u001B[0;34m\u001B[0m\u001B[0m\n\u001B[1;32m   8965\u001B[0m         return (\n\u001B[0;32m-> 8966\u001B[0;31m             concat(\n\u001B[0m\u001B[1;32m   8967\u001B[0m                 \u001B[0mto_concat\u001B[0m\u001B[0;34m,\u001B[0m\u001B[0;34m\u001B[0m\u001B[0;34m\u001B[0m\u001B[0m\n\u001B[1;32m   8968\u001B[0m                 \u001B[0mignore_index\u001B[0m\u001B[0;34m=\u001B[0m\u001B[0mignore_index\u001B[0m\u001B[0;34m,\u001B[0m\u001B[0;34m\u001B[0m\u001B[0;34m\u001B[0m\u001B[0m\n",
      "\u001B[0;32m~/rec_sys_book/local/venv/lib/python3.8/site-packages/pandas/util/_decorators.py\u001B[0m in \u001B[0;36mwrapper\u001B[0;34m(*args, **kwargs)\u001B[0m\n\u001B[1;32m    309\u001B[0m                     \u001B[0mstacklevel\u001B[0m\u001B[0;34m=\u001B[0m\u001B[0mstacklevel\u001B[0m\u001B[0;34m,\u001B[0m\u001B[0;34m\u001B[0m\u001B[0;34m\u001B[0m\u001B[0m\n\u001B[1;32m    310\u001B[0m                 )\n\u001B[0;32m--> 311\u001B[0;31m             \u001B[0;32mreturn\u001B[0m \u001B[0mfunc\u001B[0m\u001B[0;34m(\u001B[0m\u001B[0;34m*\u001B[0m\u001B[0margs\u001B[0m\u001B[0;34m,\u001B[0m \u001B[0;34m**\u001B[0m\u001B[0mkwargs\u001B[0m\u001B[0;34m)\u001B[0m\u001B[0;34m\u001B[0m\u001B[0;34m\u001B[0m\u001B[0m\n\u001B[0m\u001B[1;32m    312\u001B[0m \u001B[0;34m\u001B[0m\u001B[0m\n\u001B[1;32m    313\u001B[0m         \u001B[0;32mreturn\u001B[0m \u001B[0mwrapper\u001B[0m\u001B[0;34m\u001B[0m\u001B[0;34m\u001B[0m\u001B[0m\n",
      "\u001B[0;32m~/rec_sys_book/local/venv/lib/python3.8/site-packages/pandas/core/reshape/concat.py\u001B[0m in \u001B[0;36mconcat\u001B[0;34m(objs, axis, join, ignore_index, keys, levels, names, verify_integrity, sort, copy)\u001B[0m\n\u001B[1;32m    305\u001B[0m     )\n\u001B[1;32m    306\u001B[0m \u001B[0;34m\u001B[0m\u001B[0m\n\u001B[0;32m--> 307\u001B[0;31m     \u001B[0;32mreturn\u001B[0m \u001B[0mop\u001B[0m\u001B[0;34m.\u001B[0m\u001B[0mget_result\u001B[0m\u001B[0;34m(\u001B[0m\u001B[0;34m)\u001B[0m\u001B[0;34m\u001B[0m\u001B[0;34m\u001B[0m\u001B[0m\n\u001B[0m\u001B[1;32m    308\u001B[0m \u001B[0;34m\u001B[0m\u001B[0m\n\u001B[1;32m    309\u001B[0m \u001B[0;34m\u001B[0m\u001B[0m\n",
      "\u001B[0;32m~/rec_sys_book/local/venv/lib/python3.8/site-packages/pandas/core/reshape/concat.py\u001B[0m in \u001B[0;36mget_result\u001B[0;34m(self)\u001B[0m\n\u001B[1;32m    530\u001B[0m                 \u001B[0mmgrs_indexers\u001B[0m\u001B[0;34m.\u001B[0m\u001B[0mappend\u001B[0m\u001B[0;34m(\u001B[0m\u001B[0;34m(\u001B[0m\u001B[0mobj\u001B[0m\u001B[0;34m.\u001B[0m\u001B[0m_mgr\u001B[0m\u001B[0;34m,\u001B[0m \u001B[0mindexers\u001B[0m\u001B[0;34m)\u001B[0m\u001B[0;34m)\u001B[0m\u001B[0;34m\u001B[0m\u001B[0;34m\u001B[0m\u001B[0m\n\u001B[1;32m    531\u001B[0m \u001B[0;34m\u001B[0m\u001B[0m\n\u001B[0;32m--> 532\u001B[0;31m             new_data = concatenate_managers(\n\u001B[0m\u001B[1;32m    533\u001B[0m                 \u001B[0mmgrs_indexers\u001B[0m\u001B[0;34m,\u001B[0m \u001B[0mself\u001B[0m\u001B[0;34m.\u001B[0m\u001B[0mnew_axes\u001B[0m\u001B[0;34m,\u001B[0m \u001B[0mconcat_axis\u001B[0m\u001B[0;34m=\u001B[0m\u001B[0mself\u001B[0m\u001B[0;34m.\u001B[0m\u001B[0mbm_axis\u001B[0m\u001B[0;34m,\u001B[0m \u001B[0mcopy\u001B[0m\u001B[0;34m=\u001B[0m\u001B[0mself\u001B[0m\u001B[0;34m.\u001B[0m\u001B[0mcopy\u001B[0m\u001B[0;34m\u001B[0m\u001B[0;34m\u001B[0m\u001B[0m\n\u001B[1;32m    534\u001B[0m             )\n",
      "\u001B[0;32m~/rec_sys_book/local/venv/lib/python3.8/site-packages/pandas/core/internals/concat.py\u001B[0m in \u001B[0;36mconcatenate_managers\u001B[0;34m(mgrs_indexers, axes, concat_axis, copy)\u001B[0m\n\u001B[1;32m    207\u001B[0m                 \u001B[0mvalues\u001B[0m \u001B[0;34m=\u001B[0m \u001B[0mvalues\u001B[0m\u001B[0;34m.\u001B[0m\u001B[0mview\u001B[0m\u001B[0;34m(\u001B[0m\u001B[0;34m)\u001B[0m\u001B[0;34m\u001B[0m\u001B[0;34m\u001B[0m\u001B[0m\n\u001B[1;32m    208\u001B[0m             \u001B[0mfastpath\u001B[0m \u001B[0;34m=\u001B[0m \u001B[0;32mTrue\u001B[0m\u001B[0;34m\u001B[0m\u001B[0;34m\u001B[0m\u001B[0m\n\u001B[0;32m--> 209\u001B[0;31m         \u001B[0;32melif\u001B[0m \u001B[0m_is_uniform_join_units\u001B[0m\u001B[0;34m(\u001B[0m\u001B[0mjoin_units\u001B[0m\u001B[0;34m)\u001B[0m\u001B[0;34m:\u001B[0m\u001B[0;34m\u001B[0m\u001B[0;34m\u001B[0m\u001B[0m\n\u001B[0m\u001B[1;32m    210\u001B[0m             \u001B[0mvals\u001B[0m \u001B[0;34m=\u001B[0m \u001B[0;34m[\u001B[0m\u001B[0mju\u001B[0m\u001B[0;34m.\u001B[0m\u001B[0mblock\u001B[0m\u001B[0;34m.\u001B[0m\u001B[0mvalues\u001B[0m \u001B[0;32mfor\u001B[0m \u001B[0mju\u001B[0m \u001B[0;32min\u001B[0m \u001B[0mjoin_units\u001B[0m\u001B[0;34m]\u001B[0m\u001B[0;34m\u001B[0m\u001B[0;34m\u001B[0m\u001B[0m\n\u001B[1;32m    211\u001B[0m \u001B[0;34m\u001B[0m\u001B[0m\n",
      "\u001B[0;32m~/rec_sys_book/local/venv/lib/python3.8/site-packages/pandas/core/internals/concat.py\u001B[0m in \u001B[0;36m_is_uniform_join_units\u001B[0;34m(join_units)\u001B[0m\n\u001B[1;32m    605\u001B[0m         \u001B[0;31m# no blocks that would get missing values (can lead to type upcasts)\u001B[0m\u001B[0;34m\u001B[0m\u001B[0;34m\u001B[0m\u001B[0;34m\u001B[0m\u001B[0m\n\u001B[1;32m    606\u001B[0m         \u001B[0;31m# unless we're an extension dtype.\u001B[0m\u001B[0;34m\u001B[0m\u001B[0;34m\u001B[0m\u001B[0;34m\u001B[0m\u001B[0m\n\u001B[0;32m--> 607\u001B[0;31m         \u001B[0mall\u001B[0m\u001B[0;34m(\u001B[0m\u001B[0;32mnot\u001B[0m \u001B[0mju\u001B[0m\u001B[0;34m.\u001B[0m\u001B[0mis_na\u001B[0m \u001B[0;32mor\u001B[0m \u001B[0mju\u001B[0m\u001B[0;34m.\u001B[0m\u001B[0mblock\u001B[0m\u001B[0;34m.\u001B[0m\u001B[0mis_extension\u001B[0m \u001B[0;32mfor\u001B[0m \u001B[0mju\u001B[0m \u001B[0;32min\u001B[0m \u001B[0mjoin_units\u001B[0m\u001B[0;34m)\u001B[0m\u001B[0;34m\u001B[0m\u001B[0;34m\u001B[0m\u001B[0m\n\u001B[0m\u001B[1;32m    608\u001B[0m         \u001B[0;32mand\u001B[0m\u001B[0;34m\u001B[0m\u001B[0;34m\u001B[0m\u001B[0m\n\u001B[1;32m    609\u001B[0m         \u001B[0;31m# no blocks with indexers (as then the dimensions do not fit)\u001B[0m\u001B[0;34m\u001B[0m\u001B[0;34m\u001B[0m\u001B[0;34m\u001B[0m\u001B[0m\n",
      "\u001B[0;32m~/rec_sys_book/local/venv/lib/python3.8/site-packages/pandas/core/internals/concat.py\u001B[0m in \u001B[0;36m<genexpr>\u001B[0;34m(.0)\u001B[0m\n\u001B[1;32m    605\u001B[0m         \u001B[0;31m# no blocks that would get missing values (can lead to type upcasts)\u001B[0m\u001B[0;34m\u001B[0m\u001B[0;34m\u001B[0m\u001B[0;34m\u001B[0m\u001B[0m\n\u001B[1;32m    606\u001B[0m         \u001B[0;31m# unless we're an extension dtype.\u001B[0m\u001B[0;34m\u001B[0m\u001B[0;34m\u001B[0m\u001B[0;34m\u001B[0m\u001B[0m\n\u001B[0;32m--> 607\u001B[0;31m         \u001B[0mall\u001B[0m\u001B[0;34m(\u001B[0m\u001B[0;32mnot\u001B[0m \u001B[0mju\u001B[0m\u001B[0;34m.\u001B[0m\u001B[0mis_na\u001B[0m \u001B[0;32mor\u001B[0m \u001B[0mju\u001B[0m\u001B[0;34m.\u001B[0m\u001B[0mblock\u001B[0m\u001B[0;34m.\u001B[0m\u001B[0mis_extension\u001B[0m \u001B[0;32mfor\u001B[0m \u001B[0mju\u001B[0m \u001B[0;32min\u001B[0m \u001B[0mjoin_units\u001B[0m\u001B[0;34m)\u001B[0m\u001B[0;34m\u001B[0m\u001B[0;34m\u001B[0m\u001B[0m\n\u001B[0m\u001B[1;32m    608\u001B[0m         \u001B[0;32mand\u001B[0m\u001B[0;34m\u001B[0m\u001B[0;34m\u001B[0m\u001B[0m\n\u001B[1;32m    609\u001B[0m         \u001B[0;31m# no blocks with indexers (as then the dimensions do not fit)\u001B[0m\u001B[0;34m\u001B[0m\u001B[0;34m\u001B[0m\u001B[0;34m\u001B[0m\u001B[0m\n",
      "\u001B[0;32m~/rec_sys_book/local/venv/lib/python3.8/site-packages/pandas/_libs/properties.pyx\u001B[0m in \u001B[0;36mpandas._libs.properties.CachedProperty.__get__\u001B[0;34m()\u001B[0m\n",
      "\u001B[0;32m~/rec_sys_book/local/venv/lib/python3.8/site-packages/pandas/core/internals/concat.py\u001B[0m in \u001B[0;36mis_na\u001B[0;34m(self)\u001B[0m\n\u001B[1;32m    399\u001B[0m             \u001B[0mvalues_flat\u001B[0m \u001B[0;34m=\u001B[0m \u001B[0mvalues\u001B[0m\u001B[0;34m.\u001B[0m\u001B[0mravel\u001B[0m\u001B[0;34m(\u001B[0m\u001B[0morder\u001B[0m\u001B[0;34m=\u001B[0m\u001B[0;34m\"K\"\u001B[0m\u001B[0;34m)\u001B[0m\u001B[0;34m\u001B[0m\u001B[0;34m\u001B[0m\u001B[0m\n\u001B[1;32m    400\u001B[0m \u001B[0;34m\u001B[0m\u001B[0m\n\u001B[0;32m--> 401\u001B[0;31m         \u001B[0;32mreturn\u001B[0m \u001B[0misna_all\u001B[0m\u001B[0;34m(\u001B[0m\u001B[0mvalues_flat\u001B[0m\u001B[0;34m)\u001B[0m\u001B[0;34m\u001B[0m\u001B[0;34m\u001B[0m\u001B[0m\n\u001B[0m\u001B[1;32m    402\u001B[0m \u001B[0;34m\u001B[0m\u001B[0m\n\u001B[1;32m    403\u001B[0m     \u001B[0;32mdef\u001B[0m \u001B[0mget_reindexed_values\u001B[0m\u001B[0;34m(\u001B[0m\u001B[0mself\u001B[0m\u001B[0;34m,\u001B[0m \u001B[0mempty_dtype\u001B[0m\u001B[0;34m:\u001B[0m \u001B[0mDtypeObj\u001B[0m\u001B[0;34m,\u001B[0m \u001B[0mupcasted_na\u001B[0m\u001B[0;34m)\u001B[0m \u001B[0;34m->\u001B[0m \u001B[0mArrayLike\u001B[0m\u001B[0;34m:\u001B[0m\u001B[0;34m\u001B[0m\u001B[0;34m\u001B[0m\u001B[0m\n",
      "\u001B[0;32m~/rec_sys_book/local/venv/lib/python3.8/site-packages/pandas/core/dtypes/missing.py\u001B[0m in \u001B[0;36misna_all\u001B[0;34m(arr)\u001B[0m\n\u001B[1;32m    672\u001B[0m         )\n\u001B[1;32m    673\u001B[0m \u001B[0;34m\u001B[0m\u001B[0m\n\u001B[0;32m--> 674\u001B[0;31m     return all(\n\u001B[0m\u001B[1;32m    675\u001B[0m         \u001B[0;31m# error: Argument 1 to \"__call__\" of \"ufunc\" has incompatible type\u001B[0m\u001B[0;34m\u001B[0m\u001B[0;34m\u001B[0m\u001B[0;34m\u001B[0m\u001B[0m\n\u001B[1;32m    676\u001B[0m         \u001B[0;31m# \"Union[ExtensionArray, Any]\"; expected \"Union[Union[int, float, complex, str,\u001B[0m\u001B[0;34m\u001B[0m\u001B[0;34m\u001B[0m\u001B[0;34m\u001B[0m\u001B[0m\n",
      "\u001B[0;32m~/rec_sys_book/local/venv/lib/python3.8/site-packages/pandas/core/dtypes/missing.py\u001B[0m in \u001B[0;36m<genexpr>\u001B[0;34m(.0)\u001B[0m\n\u001B[1;32m    677\u001B[0m         \u001B[0;31m# bytes, generic], Sequence[Union[int, float, complex, str, bytes, generic]],\u001B[0m\u001B[0;34m\u001B[0m\u001B[0;34m\u001B[0m\u001B[0;34m\u001B[0m\u001B[0m\n\u001B[1;32m    678\u001B[0m         \u001B[0;31m# Sequence[Sequence[Any]], _SupportsArray]\"\u001B[0m\u001B[0;34m\u001B[0m\u001B[0;34m\u001B[0m\u001B[0;34m\u001B[0m\u001B[0m\n\u001B[0;32m--> 679\u001B[0;31m         \u001B[0mchecker\u001B[0m\u001B[0;34m(\u001B[0m\u001B[0marr\u001B[0m\u001B[0;34m[\u001B[0m\u001B[0mi\u001B[0m \u001B[0;34m:\u001B[0m \u001B[0mi\u001B[0m \u001B[0;34m+\u001B[0m \u001B[0mchunk_len\u001B[0m\u001B[0;34m]\u001B[0m\u001B[0;34m)\u001B[0m\u001B[0;34m.\u001B[0m\u001B[0mall\u001B[0m\u001B[0;34m(\u001B[0m\u001B[0;34m)\u001B[0m  \u001B[0;31m# type: ignore[arg-type]\u001B[0m\u001B[0;34m\u001B[0m\u001B[0;34m\u001B[0m\u001B[0m\n\u001B[0m\u001B[1;32m    680\u001B[0m         \u001B[0;32mfor\u001B[0m \u001B[0mi\u001B[0m \u001B[0;32min\u001B[0m \u001B[0mrange\u001B[0m\u001B[0;34m(\u001B[0m\u001B[0;36m0\u001B[0m\u001B[0;34m,\u001B[0m \u001B[0mtotal_len\u001B[0m\u001B[0;34m,\u001B[0m \u001B[0mchunk_len\u001B[0m\u001B[0;34m)\u001B[0m\u001B[0;34m\u001B[0m\u001B[0;34m\u001B[0m\u001B[0m\n\u001B[1;32m    681\u001B[0m     )\n",
      "\u001B[0;32m~/rec_sys_book/local/venv/lib/python3.8/site-packages/pandas/core/dtypes/missing.py\u001B[0m in \u001B[0;36m<lambda>\u001B[0;34m(x)\u001B[0m\n\u001B[1;32m    668\u001B[0m         \u001B[0;31m# error: Incompatible types in assignment (expression has type \"Callable[[Any],\u001B[0m\u001B[0;34m\u001B[0m\u001B[0;34m\u001B[0m\u001B[0;34m\u001B[0m\u001B[0m\n\u001B[1;32m    669\u001B[0m         \u001B[0;31m# Any]\", variable has type \"ufunc\")\u001B[0m\u001B[0;34m\u001B[0m\u001B[0;34m\u001B[0m\u001B[0;34m\u001B[0m\u001B[0m\n\u001B[0;32m--> 670\u001B[0;31m         checker = lambda x: _isna_array(  # type: ignore[assignment]\n\u001B[0m\u001B[1;32m    671\u001B[0m             \u001B[0mx\u001B[0m\u001B[0;34m,\u001B[0m \u001B[0minf_as_na\u001B[0m\u001B[0;34m=\u001B[0m\u001B[0mINF_AS_NA\u001B[0m\u001B[0;34m\u001B[0m\u001B[0;34m\u001B[0m\u001B[0m\n\u001B[1;32m    672\u001B[0m         )\n",
      "\u001B[0;32m~/rec_sys_book/local/venv/lib/python3.8/site-packages/pandas/core/dtypes/missing.py\u001B[0m in \u001B[0;36m_isna_array\u001B[0;34m(values, inf_as_na)\u001B[0m\n\u001B[1;32m    244\u001B[0m             \u001B[0mresult\u001B[0m \u001B[0;34m=\u001B[0m \u001B[0mvalues\u001B[0m\u001B[0;34m.\u001B[0m\u001B[0misna\u001B[0m\u001B[0;34m(\u001B[0m\u001B[0;34m)\u001B[0m\u001B[0;34m\u001B[0m\u001B[0;34m\u001B[0m\u001B[0m\n\u001B[1;32m    245\u001B[0m     \u001B[0;32melif\u001B[0m \u001B[0mis_string_dtype\u001B[0m\u001B[0;34m(\u001B[0m\u001B[0mdtype\u001B[0m\u001B[0;34m)\u001B[0m\u001B[0;34m:\u001B[0m\u001B[0;34m\u001B[0m\u001B[0;34m\u001B[0m\u001B[0m\n\u001B[0;32m--> 246\u001B[0;31m         \u001B[0mresult\u001B[0m \u001B[0;34m=\u001B[0m \u001B[0m_isna_string_dtype\u001B[0m\u001B[0;34m(\u001B[0m\u001B[0mvalues\u001B[0m\u001B[0;34m,\u001B[0m \u001B[0minf_as_na\u001B[0m\u001B[0;34m=\u001B[0m\u001B[0minf_as_na\u001B[0m\u001B[0;34m)\u001B[0m\u001B[0;34m\u001B[0m\u001B[0;34m\u001B[0m\u001B[0m\n\u001B[0m\u001B[1;32m    247\u001B[0m     \u001B[0;32melif\u001B[0m \u001B[0mneeds_i8_conversion\u001B[0m\u001B[0;34m(\u001B[0m\u001B[0mdtype\u001B[0m\u001B[0;34m)\u001B[0m\u001B[0;34m:\u001B[0m\u001B[0;34m\u001B[0m\u001B[0;34m\u001B[0m\u001B[0m\n\u001B[1;32m    248\u001B[0m         \u001B[0;31m# this is the NaT pattern\u001B[0m\u001B[0;34m\u001B[0m\u001B[0;34m\u001B[0m\u001B[0;34m\u001B[0m\u001B[0m\n",
      "\u001B[0;32m~/rec_sys_book/local/venv/lib/python3.8/site-packages/pandas/core/dtypes/missing.py\u001B[0m in \u001B[0;36m_isna_string_dtype\u001B[0;34m(values, inf_as_na)\u001B[0m\n\u001B[1;32m    269\u001B[0m             \u001B[0mvec\u001B[0m \u001B[0;34m=\u001B[0m \u001B[0mlibmissing\u001B[0m\u001B[0;34m.\u001B[0m\u001B[0misnaobj_old\u001B[0m\u001B[0;34m(\u001B[0m\u001B[0mvalues\u001B[0m\u001B[0;34m.\u001B[0m\u001B[0mravel\u001B[0m\u001B[0;34m(\u001B[0m\u001B[0;34m)\u001B[0m\u001B[0;34m)\u001B[0m\u001B[0;34m\u001B[0m\u001B[0;34m\u001B[0m\u001B[0m\n\u001B[1;32m    270\u001B[0m         \u001B[0;32melse\u001B[0m\u001B[0;34m:\u001B[0m\u001B[0;34m\u001B[0m\u001B[0;34m\u001B[0m\u001B[0m\n\u001B[0;32m--> 271\u001B[0;31m             \u001B[0mvec\u001B[0m \u001B[0;34m=\u001B[0m \u001B[0mlibmissing\u001B[0m\u001B[0;34m.\u001B[0m\u001B[0misnaobj\u001B[0m\u001B[0;34m(\u001B[0m\u001B[0mvalues\u001B[0m\u001B[0;34m.\u001B[0m\u001B[0mravel\u001B[0m\u001B[0;34m(\u001B[0m\u001B[0;34m)\u001B[0m\u001B[0;34m)\u001B[0m\u001B[0;34m\u001B[0m\u001B[0;34m\u001B[0m\u001B[0m\n\u001B[0m\u001B[1;32m    272\u001B[0m \u001B[0;34m\u001B[0m\u001B[0m\n\u001B[1;32m    273\u001B[0m         \u001B[0mresult\u001B[0m\u001B[0;34m[\u001B[0m\u001B[0;34m...\u001B[0m\u001B[0;34m]\u001B[0m \u001B[0;34m=\u001B[0m \u001B[0mvec\u001B[0m\u001B[0;34m.\u001B[0m\u001B[0mreshape\u001B[0m\u001B[0;34m(\u001B[0m\u001B[0mshape\u001B[0m\u001B[0;34m)\u001B[0m\u001B[0;34m\u001B[0m\u001B[0;34m\u001B[0m\u001B[0m\n",
      "\u001B[0;31mKeyboardInterrupt\u001B[0m: "
     ]
    }
   ],
   "source": [
    "past_i = 91145\n",
    "\n",
    "with open(f'{PROJECT_FOLDER}/local/books_full/books_full.jsn', 'r') as f:\n",
    "    for i, line in tqdm(enumerate(f)):\n",
    "        if i <= past_i:\n",
    "            continue\n",
    "        line = f.readline()\n",
    "        d = json.loads(line[:-2])\n",
    "        books_info_full = books_info_full.append(pd.DataFrame(data=[list(itemgetter(*columns_save)(d))], columns=columns_save))\n",
    "    f.close()"
   ],
   "metadata": {
    "collapsed": false,
    "pycharm": {
     "name": "#%%\n"
    }
   }
  },
  {
   "cell_type": "code",
   "execution_count": 14,
   "outputs": [],
   "source": [
    "books_info_full.to_csv(\"books_part_1.csv\", index=False)"
   ],
   "metadata": {
    "collapsed": false,
    "pycharm": {
     "name": "#%%\n"
    }
   }
  },
  {
   "cell_type": "code",
   "execution_count": null,
   "outputs": [],
   "source": [],
   "metadata": {
    "collapsed": false,
    "pycharm": {
     "name": "#%%\n"
    }
   }
  },
  {
   "cell_type": "code",
   "execution_count": null,
   "outputs": [],
   "source": [],
   "metadata": {
    "collapsed": false,
    "pycharm": {
     "name": "#%%\n"
    }
   }
  },
  {
   "cell_type": "code",
   "execution_count": null,
   "outputs": [],
   "source": [],
   "metadata": {
    "collapsed": false,
    "pycharm": {
     "name": "#%%\n"
    }
   }
  },
  {
   "cell_type": "code",
   "execution_count": null,
   "outputs": [],
   "source": [],
   "metadata": {
    "collapsed": false,
    "pycharm": {
     "name": "#%%\n"
    }
   }
  },
  {
   "cell_type": "code",
   "execution_count": 85,
   "outputs": [],
   "source": [
    "# [{\"id\": 397171, \"parentId\": 0, \"bbk\": \"84(5Кит)\", \"title\": \"Избранная лирика : пер. с кит.\", \"year\": \"1981\", \"parentAuthor\": 0, \"contribution\": \"Ц. Ай ; Пер. Ю. А. Сорокин\", \"parentNumberOfPart\": \"\", \"isbn\": \"\", \"annotation\": \"\", \"edition\": \"\", \"nextAuthor\": \"Сорокин Ю. А.\", \"keyword\": \"\", \"issn\": \"\", \"deleted\": false, \"titleOfPart\": \"\", \"titleAdditionalInfo\": \"пер. с кит.\", \"bibliographyLevel\": 26, \"numberOfPart\": \"\", \"volume\": \"62 с.\", \"parentTitle\": \"\", \"parentAdditionalInfo\": \"\", \"parentPlace\": 0, \"parentPublisher\": 0, \"parentYear\": \"\", \"changed\": \"2019-12-24T00:22:02\", \"parallelTitle\": \"\", \"person\": 0, \"parentEdition\": \"\", \"udk\": \"\", \"cover\": \"\", \"node\": false, \"publicationType\": \"mono\", \"language_id\": 1, \"language_name\": \"Русский\", \"material_id\": 6583, \"material_name\": \"Текст\", \"ageRestriction_id\": null, \"ageRestriction_name\": null, \"rubric_id\": 479, \"rubric_name\": \"Художественная литература\", \"rubric_parentId\": null, \"author_id\": 140428, \"author_dates\": \"1910-1996\", \"author_info\": null, \"author_surname\": \"Ай Цин\", \"author_names\": null, \"author_initials\": null, \"author_fullName\": \"Ай Цин\", \"author_fullNameAlt\": \"Ай Цин\", \"publisher_id\": 232, \"publisher_name\": \"Молодая гвардия\", \"place_id\": 135, \"place_name\": \"Москва\", \"serial_id\": 6379, \"serial_name\": \"Избранная зарубежная лирика\", \"year_value\": 1981, \"common_search_field\": \"Избранная лирика, Ай Цин, Молодая гвардия\", \"collapse_field\": \"10312ab9eff5fb180fd46587f2b20117\", \"title_orig\": \"Избранная лирика\", \"totalOutCount\": 2, \"totalInplaceCount\": 0, \"freeCount\": 2, \"freeHands\": 2, \"freeOnline\": 2, \"orderedCount\": 0, \"outputCount\": 0, \"available\": 2, \"libraryAvailability\": [{\"libraryId\": 284497239001, \"totalOutCount\": 1, \"totalInplaceCount\": 0, \"freeCount\": 1, \"orderedCount\": 0, \"outputCount\": 0, \"available\": true, \"freeHands\": 1, \"freeOnline\": 1, \"shortLibraryId\": 284497239, \"filter_library\": {\"freeHands_gt_0\": \"284497239.True\", \"freeOnline_gt_0\": \"284497239.True\", \"available_true\": \"284497239.True\"}}, {\"libraryId\": 284385862001, \"totalOutCount\": 1, \"totalInplaceCount\": 0, \"freeCount\": 1, \"orderedCount\": 0, \"outputCount\": 0, \"available\": true, \"freeHands\": 1, \"freeOnline\": 1, \"shortLibraryId\": 284385862, \"filter_library\": {\"freeHands_gt_0\": \"284385862.True\", \"freeOnline_gt_0\": \"284385862.True\", \"available_true\": \"284385862.True\"}}], \"dates\": \"\", \"info\": \"\", \"initials\": \"\", \"eiskId\": 0, \"fixed\": false, \"siglaEiskId\": 0, \"pointEiskId\": 0, \"language\": 0, \"material\": 0, \"ageRestriction\": 0, \"rubric\": 0, \"author\": 0, \"publisher\": 0, \"place\": 0, \"serial\": 0, \"f_deleted\": false, \"libraryId\": 0, \"catalogueId\": 0, \"start_timestamp\": 0, \"end_timestamp\": 0, \"smart_collapse_field\": \"4e41c250d921aae66d2bde76152ec437\", \"author_surname_for_sort\": \"айцин\", \"author_surname_language_level\": 1, \"title_for_sort\": \"избраннаялирикаперскит\", \"title_language_level\": 1, \"publisher_name_for_sort\": \"молодаягвардия\", \"publisher_name_language_level\": 1, \"serial_name_for_sort\": \"избраннаязарубежнаялирика\", \"serial_name_language_level\": 1},"
   ],
   "metadata": {
    "collapsed": false,
    "pycharm": {
     "name": "#%%\n"
    }
   }
  },
  {
   "cell_type": "code",
   "execution_count": null,
   "outputs": [],
   "source": [],
   "metadata": {
    "collapsed": false,
    "pycharm": {
     "name": "#%%\n"
    }
   }
  }
 ],
 "metadata": {
  "kernelspec": {
   "display_name": "Python 3",
   "language": "python",
   "name": "python3"
  },
  "language_info": {
   "codemirror_mode": {
    "name": "ipython",
    "version": 2
   },
   "file_extension": ".py",
   "mimetype": "text/x-python",
   "name": "python",
   "nbconvert_exporter": "python",
   "pygments_lexer": "ipython2",
   "version": "2.7.6"
  }
 },
 "nbformat": 4,
 "nbformat_minor": 0
}